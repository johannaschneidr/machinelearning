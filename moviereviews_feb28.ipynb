{
 "cells": [
  {
   "cell_type": "markdown",
   "metadata": {},
   "source": [
    "# Movie reviews\n",
    "\n",
    "This notebook takes you though a complete iteration of Machine Learning Assignment 1 - Movie reviews. The assignment details (including links to download the data) can be found [here](https://docs.google.com/document/d/1WGYw99e5q6j5V0Zrf2HveagU6URt_kVvdR8B9HYQ99E/edit?usp=sharing). "
   ]
  },
  {
   "cell_type": "code",
   "execution_count": 52,
   "metadata": {},
   "outputs": [],
   "source": [
    "# all imports and magic commands\n",
    "import numpy as np\n",
    "import pandas as pd\n",
    "import matplotlib.pyplot as plt\n",
    "from my_measures import BinaryClassificationPerformance\n",
    "from sklearn.feature_extraction.text import HashingVectorizer\n",
    "from sklearn.feature_extraction.text import TfidfTransformer\n",
    "from scipy.sparse import csr_matrix, hstack\n",
    "from sklearn.preprocessing import StandardScaler\n",
    "from sklearn.model_selection import train_test_split\n",
    "%matplotlib inline"
   ]
  },
  {
   "cell_type": "markdown",
   "metadata": {},
   "source": [
    "### IMPORTANT!!! Make sure you are using `BinaryClassificationPerformance` v1.02"
   ]
  },
  {
   "cell_type": "code",
   "execution_count": 53,
   "metadata": {},
   "outputs": [
    {
     "name": "stdout",
     "output_type": "stream",
     "text": [
      "Help on class BinaryClassificationPerformance in module my_measures:\n",
      "\n",
      "class BinaryClassificationPerformance(builtins.object)\n",
      " |  BinaryClassificationPerformance(predictions, labels, desc, probabilities=None)\n",
      " |  \n",
      " |  Performance measures to evaluate the fit of a binary classification model, v1.02\n",
      " |  \n",
      " |  Methods defined here:\n",
      " |  \n",
      " |  __init__(self, predictions, labels, desc, probabilities=None)\n",
      " |      Initialize attributes: predictions-vector of predicted values for Y, labels-vector of labels for Y\n",
      " |  \n",
      " |  compute_measures(self)\n",
      " |      Compute performance measures defined by Flach p. 57\n",
      " |  \n",
      " |  img_indices(self)\n",
      " |      Get the indices of true and false positives to be able to locate the corresponding images in a list of image names\n",
      " |  \n",
      " |  ----------------------------------------------------------------------\n",
      " |  Data descriptors defined here:\n",
      " |  \n",
      " |  __dict__\n",
      " |      dictionary for instance variables (if defined)\n",
      " |  \n",
      " |  __weakref__\n",
      " |      list of weak references to the object (if defined)\n",
      "\n"
     ]
    }
   ],
   "source": [
    "help(BinaryClassificationPerformance)"
   ]
  },
  {
   "cell_type": "markdown",
   "metadata": {},
   "source": [
    "# Function for feature building and extraction on natural language data"
   ]
  },
  {
   "cell_type": "code",
   "execution_count": 60,
   "metadata": {},
   "outputs": [],
   "source": [
    "# function that takes raw data and completes all preprocessing required before model fits\n",
    "def process_raw_data(fn, my_random_seed, test=False):\n",
    "    # read and summarize data\n",
    "    movie_data = pd.read_csv(fn, sep='\\t')\n",
    "    print(\"movie_data is:\", type(movie_data))\n",
    "    print(\"movie_data has\", movie_data.shape[0], \"rows and\", movie_data.shape[1], \"columns\", \"\\n\")\n",
    "    print(\"the data types for each of the columns in movie_data:\")\n",
    "    print(movie_data.dtypes, \"\\n\")\n",
    "    print(\"the first 10 rows in movie_data:\")\n",
    "    print(movie_data.head(5))\n",
    "    if (not test):\n",
    "        print(\"The rate of 'good' movie reviews in the dataset: \")\n",
    "        print(movie_data['sentiment'].mean())\n",
    "\n",
    "    # vectorize Bag of Words from review text; as sparse matrix\n",
    "    if (not test): # fit_transform()\n",
    "        hv = HashingVectorizer(n_features=2 ** 19, alternate_sign=False) #changed from n_features=2**17\n",
    "        X_hv = hv.fit_transform(movie_data.review)\n",
    "        fitted_transformations.append(hv)\n",
    "        print(\"Shape of HashingVectorizer X:\")\n",
    "        print(X_hv.shape)\n",
    "    else: # transform() \n",
    "        X_hv = fitted_transformations[0].transform(movie_data.review)\n",
    "        print(\"Shape of HashingVectorizer X:\")\n",
    "        print(X_hv.shape)\n",
    "    \n",
    "    # http://scikit-learn.org/stable/modules/generated/sklearn.feature_extraction.text.TfidfTransformer.html\n",
    "    #if (not test):\n",
    "     #   transformer = TfidfTransformer()\n",
    "      #  X_tfidf = transformer.fit_transform(X_hv)\n",
    "       # fitted_transformations.append(transformer)\n",
    "    #else:\n",
    "     #   X_tfidf = fitted_transformations[1].transform(X_hv)\n",
    "    \n",
    "    # create additional quantitative features\n",
    "    # features from Amazon.csv to add to feature set\n",
    "    movie_data['word_count'] = movie_data['review'].str.split(' ').str.len()\n",
    "    movie_data['punc_count'] = movie_data['review'].str.count(\"\\.\")\n",
    "\n",
    "    X_quant_features = movie_data[[\"word_count\", \"punc_count\"]]\n",
    "    print(\"Look at a few rows of the new quantitative features: \")\n",
    "    print(X_quant_features.head(10))\n",
    "    \n",
    "    # Combine all quantitative features into a single sparse matrix\n",
    "    X_quant_features_csr = csr_matrix(X_quant_features)\n",
    "    X_combined = hstack([X_quant_features_csr])\n",
    "    #X_combined = hstack([X_tfidf, X_quant_features_csr])\n",
    "    X_matrix = csr_matrix(X_combined) # convert to sparse matrix\n",
    "    print(\"Size of combined bag of words and new quantitative variables matrix:\")\n",
    "    print(X_matrix.shape)\n",
    "    \n",
    "    # Create `X`, scaled matrix of features\n",
    "    # feature scaling\n",
    "    if (not test):\n",
    "        sc = StandardScaler(with_mean=False)\n",
    "        X = sc.fit_transform(X_matrix)\n",
    "        fitted_transformations.append(sc)\n",
    "        print(X.shape)\n",
    "        y = movie_data['sentiment']\n",
    "    else:\n",
    "        X = fitted_transformations[2].transform(X_matrix)\n",
    "        print(X.shape)\n",
    "    \n",
    "    # Create Training and Test Sets\n",
    "    # enter an integer for the random_state parameter; any integer will work\n",
    "    if (test):\n",
    "        X_submission_test = X\n",
    "        print(\"Shape of X_test for submission:\")\n",
    "        print(X_submission_test.shape)\n",
    "        print('SUCCESS!')\n",
    "        return(movie_data, X_submission_test)\n",
    "    else: \n",
    "        X_train, X_test, y_train, y_test, X_raw_train, X_raw_test = train_test_split(X, y, movie_data, test_size=0.2, random_state=my_random_seed)\n",
    "        print(\"Shape of X_train and X_test:\")\n",
    "        print(X_train.shape)\n",
    "        print(X_test.shape)\n",
    "        print(\"Shape of y_train and y_test:\")\n",
    "        print(y_train.shape)\n",
    "        print(y_test.shape)\n",
    "        print(\"Shape of X_raw_train and X_raw_test:\")\n",
    "        print(X_raw_train.shape)\n",
    "        print(X_raw_test.shape)\n",
    "        print('SUCCESS!')\n",
    "        return(X_train, X_test, y_train, y_test, X_raw_train, X_raw_test)"
   ]
  },
  {
   "cell_type": "markdown",
   "metadata": {},
   "source": [
    "# Create training and test sets from function"
   ]
  },
  {
   "cell_type": "code",
   "execution_count": 61,
   "metadata": {},
   "outputs": [
    {
     "name": "stdout",
     "output_type": "stream",
     "text": [
      "movie_data is: <class 'pandas.core.frame.DataFrame'>\n",
      "movie_data has 25000 rows and 3 columns \n",
      "\n",
      "the data types for each of the columns in movie_data:\n",
      "id           object\n",
      "sentiment     int64\n",
      "review       object\n",
      "dtype: object \n",
      "\n",
      "the first 10 rows in movie_data:\n",
      "       id  sentiment                                             review\n",
      "0  5814_8          1  With all this stuff going down at the moment w...\n",
      "1  2381_9          1  \\The Classic War of the Worlds\\\" by Timothy Hi...\n",
      "2  7759_3          0  The film starts with a manager (Nicholas Bell)...\n",
      "3  3630_4          0  It must be assumed that those who praised this...\n",
      "4  9495_8          1  Superbly trashy and wondrously unpretentious 8...\n",
      "The rate of 'good' movie reviews in the dataset: \n",
      "0.5\n",
      "Shape of HashingVectorizer X:\n",
      "(25000, 524288)\n",
      "Look at a few rows of the new quantitative features: \n",
      "   word_count  punc_count\n",
      "0         433          20\n",
      "1         158          16\n",
      "2         378          20\n",
      "3         379           8\n",
      "4         367           9\n",
      "5          89           5\n",
      "6         112           9\n",
      "7         132           9\n",
      "8         163           7\n",
      "9          43           5\n",
      "Size of combined bag of words and new quantitative variables matrix:\n",
      "(25000, 2)\n",
      "(25000, 2)\n",
      "Shape of X_train and X_test:\n",
      "(20000, 2)\n",
      "(5000, 2)\n",
      "Shape of y_train and y_test:\n",
      "(20000,)\n",
      "(5000,)\n",
      "Shape of X_raw_train and X_raw_test:\n",
      "(20000, 5)\n",
      "(5000, 5)\n",
      "SUCCESS!\n",
      "Number of fits stored in `fitted_transformations` list: \n",
      "2\n"
     ]
    }
   ],
   "source": [
    "# create an empty list to store any use of fit_transform() to transform() later\n",
    "# it is a global list to store model and feature extraction fits\n",
    "fitted_transformations = []\n",
    "\n",
    "# CHANGE FILE PATH and my_random_seed number (any integer other than 74 will do): \n",
    "X_train, X_test, y_train, y_test, X_raw_train, X_raw_test = process_raw_data(fn='/Users/johanna/Documents/Parsons/ML/ml-master/moviereviews_train.tsv', my_random_seed=19)\n",
    "\n",
    "print(\"Number of fits stored in `fitted_transformations` list: \")\n",
    "print(len(fitted_transformations))"
   ]
  },
  {
   "cell_type": "markdown",
   "metadata": {},
   "source": [
    "# Fit (and tune) Various Models"
   ]
  },
  {
   "cell_type": "markdown",
   "metadata": {},
   "source": [
    "### MODEL: ordinary least squares"
   ]
  },
  {
   "cell_type": "code",
   "execution_count": 62,
   "metadata": {
    "scrolled": true
   },
   "outputs": [
    {
     "name": "stdout",
     "output_type": "stream",
     "text": [
      "{'Pos': 9964, 'Neg': 10036, 'TP': 2928, 'TN': 7550, 'FP': 2486, 'FN': 7036, 'Accuracy': 0.5239, 'Precision': 0.5408200960472849, 'Recall': 0.2938578883982336, 'desc': 'ols_train'}\n"
     ]
    },
    {
     "name": "stderr",
     "output_type": "stream",
     "text": [
      "/Users/johanna/opt/anaconda3/lib/python3.9/site-packages/sklearn/linear_model/_stochastic_gradient.py:165: FutureWarning: The loss 'squared_loss' was deprecated in v1.0 and will be removed in version 1.2. Use `loss='squared_error'` which is equivalent.\n",
      "  warnings.warn(\n"
     ]
    }
   ],
   "source": [
    "from sklearn import linear_model\n",
    "ols = linear_model.SGDClassifier(loss=\"squared_loss\")\n",
    "ols.fit(X_train, y_train)\n",
    "\n",
    "ols_performance_train = BinaryClassificationPerformance(ols.predict(X_train), y_train, 'ols_train')\n",
    "ols_performance_train.compute_measures()\n",
    "print(ols_performance_train.performance_measures)"
   ]
  },
  {
   "cell_type": "markdown",
   "metadata": {},
   "source": [
    "### MODEL: SVM, linear"
   ]
  },
  {
   "cell_type": "code",
   "execution_count": 63,
   "metadata": {},
   "outputs": [
    {
     "name": "stdout",
     "output_type": "stream",
     "text": [
      "{'Pos': 9964, 'Neg': 10036, 'TP': 7707, 'TN': 2897, 'FP': 7139, 'FN': 2257, 'Accuracy': 0.5302, 'Precision': 0.5191297319143203, 'Recall': 0.7734845443596949, 'desc': 'svm_train'}\n"
     ]
    }
   ],
   "source": [
    "from sklearn import linear_model\n",
    "svm = linear_model.SGDClassifier()\n",
    "svm.fit(X_train, y_train)\n",
    "\n",
    "svm_performance_train = BinaryClassificationPerformance(svm.predict(X_train), y_train, 'svm_train')\n",
    "svm_performance_train.compute_measures()\n",
    "print(svm_performance_train.performance_measures)"
   ]
  },
  {
   "cell_type": "markdown",
   "metadata": {},
   "source": [
    "### MODEL: logistic regression"
   ]
  },
  {
   "cell_type": "code",
   "execution_count": 64,
   "metadata": {},
   "outputs": [
    {
     "name": "stdout",
     "output_type": "stream",
     "text": [
      "{'Pos': 9964, 'Neg': 10036, 'TP': 7074, 'TN': 3491, 'FP': 6545, 'FN': 2890, 'Accuracy': 0.52825, 'Precision': 0.5194213965783098, 'Recall': 0.7099558410276997, 'desc': 'lgs_train'}\n"
     ]
    }
   ],
   "source": [
    "from sklearn import linear_model\n",
    "lgs = linear_model.SGDClassifier(loss='log')\n",
    "lgs.fit(X_train, y_train)\n",
    "\n",
    "lgs_performance_train = BinaryClassificationPerformance(lgs.predict(X_train), y_train, 'lgs_train')\n",
    "lgs_performance_train.compute_measures()\n",
    "print(lgs_performance_train.performance_measures)"
   ]
  },
  {
   "cell_type": "markdown",
   "metadata": {},
   "source": [
    "### MODEL: Naive Bayes"
   ]
  },
  {
   "cell_type": "code",
   "execution_count": 65,
   "metadata": {},
   "outputs": [
    {
     "name": "stdout",
     "output_type": "stream",
     "text": [
      "{'Pos': 9964, 'Neg': 10036, 'TP': 3430, 'TN': 7098, 'FP': 2938, 'FN': 6534, 'Accuracy': 0.5264, 'Precision': 0.5386306532663316, 'Recall': 0.344239261340827, 'desc': 'nbs_train'}\n"
     ]
    }
   ],
   "source": [
    "from sklearn.naive_bayes import MultinomialNB\n",
    "nbs = MultinomialNB()\n",
    "nbs.fit(X_train, y_train)\n",
    "\n",
    "nbs_performance_train = BinaryClassificationPerformance(nbs.predict(X_train), y_train, 'nbs_train')\n",
    "nbs_performance_train.compute_measures()\n",
    "print(nbs_performance_train.performance_measures)"
   ]
  },
  {
   "cell_type": "markdown",
   "metadata": {},
   "source": [
    "### MODEL: Perceptron"
   ]
  },
  {
   "cell_type": "code",
   "execution_count": 66,
   "metadata": {},
   "outputs": [
    {
     "name": "stdout",
     "output_type": "stream",
     "text": [
      "{'Pos': 9964, 'Neg': 10036, 'TP': 9964, 'TN': 3, 'FP': 10033, 'FN': 0, 'Accuracy': 0.49835, 'Precision': 0.4982747412111817, 'Recall': 1.0, 'desc': 'prc_train'}\n"
     ]
    }
   ],
   "source": [
    "from sklearn import linear_model\n",
    "prc = linear_model.SGDClassifier(loss='perceptron')\n",
    "prc.fit(X_train, y_train)\n",
    "\n",
    "prc_performance_train = BinaryClassificationPerformance(prc.predict(X_train), y_train, 'prc_train')\n",
    "prc_performance_train.compute_measures()\n",
    "print(prc_performance_train.performance_measures)"
   ]
  },
  {
   "cell_type": "markdown",
   "metadata": {},
   "source": [
    "### MODEL: Ridge Regression Classifier"
   ]
  },
  {
   "cell_type": "code",
   "execution_count": 67,
   "metadata": {},
   "outputs": [
    {
     "name": "stdout",
     "output_type": "stream",
     "text": [
      "{'Pos': 9964, 'Neg': 10036, 'TP': 5482, 'TN': 5177, 'FP': 4859, 'FN': 4482, 'Accuracy': 0.53295, 'Precision': 0.5301228121071463, 'Recall': 0.5501806503412284, 'desc': 'rdg_train'}\n"
     ]
    }
   ],
   "source": [
    "from sklearn import linear_model\n",
    "rdg = linear_model.RidgeClassifier()\n",
    "rdg.fit(X_train, y_train)\n",
    "\n",
    "rdg_performance_train = BinaryClassificationPerformance(rdg.predict(X_train), y_train, 'rdg_train')\n",
    "rdg_performance_train.compute_measures()\n",
    "print(rdg_performance_train.performance_measures)"
   ]
  },
  {
   "cell_type": "markdown",
   "metadata": {},
   "source": [
    "### MODEL: Random Forest Classifier"
   ]
  },
  {
   "cell_type": "code",
   "execution_count": 68,
   "metadata": {},
   "outputs": [
    {
     "name": "stdout",
     "output_type": "stream",
     "text": [
      "{'Pos': 9964, 'Neg': 10036, 'TP': 4164, 'TN': 6522, 'FP': 3514, 'FN': 5800, 'Accuracy': 0.5343, 'Precision': 0.5423287314404793, 'Recall': 0.4179044560417503, 'desc': 'rdf_train'}\n"
     ]
    }
   ],
   "source": [
    "from sklearn.ensemble import RandomForestClassifier\n",
    "rdf = RandomForestClassifier(max_depth=2, random_state=0)\n",
    "rdf.fit(X_train, y_train)\n",
    "\n",
    "rdf_performance_train = BinaryClassificationPerformance(rdf.predict(X_train), y_train, 'rdf_train')\n",
    "rdf_performance_train.compute_measures()\n",
    "print(rdf_performance_train.performance_measures)"
   ]
  },
  {
   "cell_type": "markdown",
   "metadata": {},
   "source": [
    "### ROC plot to compare performance of various models and fits"
   ]
  },
  {
   "cell_type": "code",
   "execution_count": 69,
   "metadata": {
    "scrolled": false
   },
   "outputs": [
    {
     "data": {
      "image/png": "[encoded data removed]",
      "text/plain": [
       "<Figure size 640x480 with 1 Axes>"
      ]
     },
     "metadata": {},
     "output_type": "display_data"
    }
   ],
   "source": [
    "fits = [ols_performance_train, svm_performance_train, lgs_performance_train, nbs_performance_train, prc_performance_train, rdg_performance_train, rdf_performance_train]\n",
    "\n",
    "for fit in fits:\n",
    "    plt.plot(fit.performance_measures['FP'] / fit.performance_measures['Neg'], \n",
    "             fit.performance_measures['TP'] / fit.performance_measures['Pos'], 'bo')\n",
    "    plt.text(fit.performance_measures['FP'] / fit.performance_measures['Neg'], \n",
    "             fit.performance_measures['TP'] / fit.performance_measures['Pos'], fit.desc)\n",
    "plt.axis([0, 1, 0, 1])\n",
    "plt.title('ROC plot: train set')\n",
    "plt.xlabel('False positive rate')\n",
    "plt.ylabel('True positive rate')\n",
    "plt.show()"
   ]
  },
  {
   "cell_type": "markdown",
   "metadata": {},
   "source": [
    "### looking at reviews based on their classification\n",
    "\n",
    "Let's say we decide that Ordinary Least Squares (OLS) Regression is the best model for generalization. Let's take a look at some of the reviews and try to make a (subjective) determination of whether it's generalizing well. "
   ]
  },
  {
   "cell_type": "code",
   "execution_count": 70,
   "metadata": {},
   "outputs": [],
   "source": [
    "ols_predictions = ols.predict(X_train)"
   ]
  },
  {
   "cell_type": "markdown",
   "metadata": {},
   "source": [
    "### let's look at some false positives:"
   ]
  },
  {
   "cell_type": "code",
   "execution_count": 71,
   "metadata": {},
   "outputs": [
    {
     "name": "stdout",
     "output_type": "stream",
     "text": [
      "Examples of false positives:\n",
      "86\n",
      "Michael Jackson would have claimed a spot for the top-billed character in THE GOLDEN CHILD, and because he loves kids. That didn't work (and why should it?), so instead we have Eddie Murphy out to save the world by rescuing \\Kid Midas\\\". I would strongly suggest all future scriptwriters to please thoroughly study the actor's inane dialogue in this quirky fantasy - adventure - comedy that's a step closer to ISHTAR. Whatever Murphy says or does can be best liked, but don't get me wrong about his exquisite comical talent; he doesn't belong in this movie, and the same went for DR. DOLITTLE! The violence and visuals combined are reasons to stamp it as a cult camp classic, and that wouldn't have made any sense as Hollywood and movie fanatics kept cashing in on the guy. Speaking of visuals, they were pulled off amazingly well at the time of Ronald Reagan's presidential fame. Murphy is far better at COMING TO AMERICA and 48 HRS, but this stale movie isn't my touch of golden honey for a sweet crunchy taste.\"\n",
      "* * * * * * * * * \n",
      "95\n",
      "for a lot of time I was looking forward to see this movie, here in Latinamerica japanese or any oriental movies have no distribution in theaters, we can find some of those movies in some underground stores, and I just found Avalon, I was expecting something good, but the only good thing in this movie is the first scene, the rest of the movie is boring and senseless, just plain stupid, with a lot of useless scenes, and a boring story. I am wasting my time even writing about this film. Sorry but is the truth.\n",
      "* * * * * * * * * \n",
      "348\n",
      "Hello Mary Lou: Prom Night II starts at the Hamilton High School prom of 1957 where Mary Lou Maloney (Lisa Schrage) is cheating on her date Bill Nordham (Steve Atkinson) with Bud Cooper (Robert Lewis). Bill finds out & is devastated, meanwhile Mary Lou is announced prom queen 1957 & takes to the stage to accept her award. Bill, still hurting, decides to play a practical joke on Mary Lou so he throws a firecracker on stage but the still lit fuse catches Mary Lou's dress setting it & her on fire, within seconds Mary Lou is toast. 30 years later & Hamilton High is soon to hold it's annual prom night. Bill (Micheal Ironside) is now the principal & has a teenage son named Craig (Justin Louis) who is dating Vicki Carpenter (Wendy Lyon) & are both planning on going to the prom together. Bud (Richard Monette) is now a priest, that terrible night 30 years ago still haunt both Bill & Bud. One day Vicki is looking around the schools basement when she discovers a large trunk which she opens, this turns out to be a bad move as the vengeful spirit of Mary Lou is set free & is intent on claiming her crown as prom queen & in her spare time sets out to avenge her untimely death. First up is Jess Browning (Beth Gondek) whose death is put down to a suicide, Mary Lou begins to posses Vicki's body as the night of the prom draws nearer. After disposing of some competition in the shape of Kelly Hennenlotter (Terri Hawkes) who tries to fix the prom so she wins. Mary Lou in Vicki's body is crowned Hamilton High prom queen which allows Mary Lou herself to come back from the dead to make an unexpected appearance & really liven the party up...<br /><br />With absolutely no connection to the original Prom Night (1980) & directed by Bruce Pittman I thought Hello Mary Lou: Prom Night II wasn't a particularly good film. The script by Ron Oliver concentrates more on supernatural elements rather than cheap teen slasher themes, whether this was a good or bad decision will depend on your expectations I suppose. Personally I found these different elements didn't really gel or work that well together at all. The whole film was far to slow to be really enjoyable, after the opening sequence where Mary Lou dies no one else is killed until the half hour mark & then the film plods along for another half an hour until Vicki is finally possessed & the film finally picks up momentum for the climax where an evil Mary Lou kills a whole one person at the prom before she is supposedly defeated, come on horror film fans you did expect that clichéd 'killer not dead & ready for a sequel' ending didn't you? Don't expect a hight body count, just five throughout the entire film & none particularly graphic although I did like the way Monica (Beverley Hendry as Beverly Hendry) tried to hide in a shower room locker which Mary Lou crushed & resulting in poor Monica's blood oozing out. The supernatural side of Hello Mary Lou: Prom Night II is depicted by Vicki having lots of hallucinations for the first hour & Mary Lou controlling objects during the latter stages including a couple of creepy shots of a rocking horse which comes to life, the blackboard scene is quite good as well as it turns into water & zombie hands drag Vicki into it. The slasher side of Hello Mary Lou: Prom Night II isn't outstanding, I did like Mary Lou herself as she churns out the obligatory one-liners & she made for a good villain even if she didn't get to kill enough people. Oh, & yes I did get the running homages to various other horror film director's with almost all of the character's sharing last names with one, this obviously adds nothing to the film but is a nice little touch I suppose. The acting is OK but the normally dependable Micheal Ironside looks lost & uninterested almost as if he's asking himself what he's doing in this & if he'll ever work again. Forget about any gore, someone is hanged, there is a stabbing with a crucifix that happens off screen, someone is impaled with a neon light, a computer goes crazy & electrocutes someones face(!?) & Mary Lou bursts out of Vicki's body at first as a rotting zombie which was quite a cool scene. There are some full frontal nudity shots in the girls shower as well, if that's your thing. To give it some credit Hello Mary Lou: Prom Night II is OK to watch, has reasonable production values throughout & is generally well made. Overall I was disappointed by Hello Mary Lou: Prom Night II, it was just too slow & ultimately uneventful to maintain my interest for nearly 100 minutes. I'm not sure whether it deserves a 3 or 4 star rating, I'll give it a 4 as there's nothing specifically wrong with it I suppose & I've sat through much worse films but it just didn't really do anything for me I'm afraid.\n",
      "* * * * * * * * * \n",
      "514\n",
      "Although Robert \\Knox\\\" Benfer has his fans, I'm not one of them. His films are asinine and amateurish, and and just not very funny, unless you're a 14 year old with an underdeveloped sense of humor. <br /><br />He's certainly not famous, as him immature fans would like you to believe, by harassing people at Wikipedia, or stuffing the ratings votes here at the IMDb. He's certainly not been profiled by any major media outlets, which speaks volumes about his and his creation's \\\"fame\\\".<br /><br />Benfer does have some slight skill at limited animation, but he needs to get away from his young sycophants and learn to write some actual funny material before he'll be taken seriously as a real entertainer. As of this moment, though, he's just a kid with a camera, and it shows.\"\n",
      "* * * * * * * * * \n",
      "544\n",
      "One has to wonder if at any point in the production of this film a<br /><br />script existed that made any sense. Was the rough cut 3 hours<br /><br />long and was it trimmed into the incoherent mess that survives? <br /><br />Why would anyone finance this mess? I will say that Tom<br /><br />Wlaschiha is a good looking young man and he does what he can<br /><br />with the dialogue and dramatic (?) situations he is given. But<br /><br />characters come and go for no apparent reason, continuity is<br /><br />non-existent, and the acting, cinematography, and direction are (to<br /><br />put it politely) amateurish. Not One Sleeps is an unfortunate<br /><br />choice of title as it will probably prove untrue should anyone<br /><br />actually attempt to actually watch this film.\n",
      "* * * * * * * * * \n",
      "553\n",
      "A comparison between this movie and 'The Last Detail' is made by some, but 'Chasers' is flatter than a stretch of Interstate highway in west Texas. And like the scenery in the desert, there's nothing much to distinguish it, not even the fact that a female prisoner is being transported by two navy escorts this time around. No one in the cast comes off too well; with this lame script that's not surprising. Dennis Hopper, the director, won't give much space to this one if he ever writes a memoir, I don't think.\n",
      "* * * * * * * * * \n",
      "642\n",
      "For years Madonna has tried to prove not only herself, but the public eye, that she can act. Unfortunately, trying too hard while failing to shed her own persona doesn't mix well.<br /><br />She seems to fare better when she's NOT the star of any movie: if you watch her in supporting performances in DESPERATELY SEEKING SUSAN (1985) or A LEAGUE OF THEIR OWN (1992), she actually comes off looking good. Since the story revolves on other actors, the weight of the expectation is taken off her shoulders by default.<br /><br />The trouble starts when she is asked to be the star of a movie, regardless the genre. Being the focus of a plot that needs to be told in a visual way, whether it be good, mediocre or plain awful, she has to emote in ways that are akin to an actual movie performance as opposed to a video performance. This is the crucial difference between Madonna and, let's say, Bette Davis, or Meryl Streep. The latter two, even if the movie were to fail (because the visual storytelling lacked some effectiveness in having us relate to it, or because the script fell short, or because the actress per se was just not at her moment), there would be an extra something in their performances that would elevate the movie from being a complete bomb. Both Davis and Streep have had their share: Bette, having a longer career than Streep, in such fare as BUNNY O'HARE (1971) and WICKED STEPMOTHER (1989); Streep in SHE-DEVIL (1989). But at least there's been that naturalism in the way both attacked their roles that made us forget the banality of the movie and watch the performance.<br /><br />Madonna, on the other hand, not being an especially gifted actress capable of really letting us in on her ability to convey a persona other than herself, fares much worse, and even in the hands of someone as Woody Allen in SHADOWS AND FOG (1992), an inferior classic, she in her pat screen time seems stilted and a little stiff, maybe even nervous, as if she were aware of the cameras and crew and just couldn't let go.<br /><br />So here she tries yet once again to prove she can act in what is essentially a two-character movie. Guy Ritchie, more known for action movies filled in masculine energy, seems as adrift telling a story closer to someone of the likes of Michaelangelo Antonioni or Ingmar Bergman, who could tell a tale of two people with incredible ease. And at 89 minutes, the events which take place happen in such an unconvincing way that when the final half hour comes along and the story takes a dramatic turn, it doesn't feel sincere. From being an absolute witch with no redeeming values to suddenly being in love, this has to be the most unconvincing 180 degree turn since Fay Dunaway's Laura suddenly discovered her passion for Tommy Lee Jones in THE EYES OF LAURA MARS (1978). Equally unconvincing is Adriano Giannini's nasty turn around the middle of the movie -- it lacks any humor and feels genuinely psychopathic -- and when he gives in to Madonna's love, it's too quick to be believed. Filming this in slow music and a visual montage of lovemaking and beautiful scenery doesn't enhance or add upon this \\transformation\\\" from what would have been a story of survival between to unlikeable characters to a love story where both discover each other.<br /><br />Trying to have an unsatisfying ending works against the movie as well -- it only makes it drag, bog it down, and when Madonna has to be filmed going from hope to devastation in a tight close-up, it feels she's trying too hard. Many an actress have done better in conveying so much doing so little. Hers is a performance more suited to acting styles of the late 20s, early 30s where posturing compensated as acting a part or an emotion.<br /><br />Could the movie have been better? Of course. There are a myriad of ways to have filmed it in a way that would leave the viewer feeling that these people could at least hope to see each other again -- it's been done before, in OVERBOARD (1987), for example. It could have had an existential undertone in which two very different people have to rely on each other but not necessarily change (to ensure a moral tone). Much dialog and unnecessary erotic scenes could have been spared for a more \\\"silent\\\" film look -- as in PERSONA (1966). It could have even been something of a thriller, providing that the Giannini character have a mean streak as Billy Zane had in DEAD CALM (1989). Even if it would have been done as a sex farce it would have worked better for Madonna as the over the top, uber-control freak getting her comeuppance. But with its mean streaked humor, without at least a glimpse of her character having a softer side that hides behind a mask of bitchdom, and without really defining Giannini's own character, this becomes another misfire trying to look like a battle of the sexes.\"\n",
      "* * * * * * * * * \n",
      "648\n",
      "As a fan of the Sookie Stackhouse books, I find this series to be a totally crass representation of them. Vampire Bill is not very good looking and looks much older than described in the book. I found that they have made already wonderfully colourful characters seem very course and vulgar. One of the things I loved about the books is that despite all the crap that she is going through Sookie is always a lady, and yet in the TV series she doesn't seem like that at all. Not only that but the prejudices displayed in the TV series are not nearly as wide spread in the books. I didn't expect an exact replica of the books but I at least expected the feel of them to be used for the series.\n",
      "* * * * * * * * * \n",
      "800\n",
      "It's a pretty good cast, but the film has nowhere near the grace of the original Italian comedy \\Big Deal on Madonna Street\\\" Anyone looking for an entertaining caper film should visit the original. William Macy may be one of our greatest living actors, but here he's put to little use. And his role in the original was played by Marcello Mastroianni, so I sort of feel sorry for him trying to fill those shoes. Might as well try to imitate Bogart or a young De Niro. The art direction is rich and textured but brings nothing to the story, the extra bits they add to the story feel completely unnecessary and the things they take away are missed. Even starting the way they do seems bizarrely gratuitous and takes away from the surprise of the original. Sam Rockwell has his odd and genial charm and Luis Guzman has that odd charisma, but the love story part of the movie just seems clunky and flat. It's too bad nobody has figured out how to make this movie as well as it was first made, but then again it's too bad we live in a culture where we feel like we need to remake amazing things instead of simply learning to savor the originals.\"\n",
      "* * * * * * * * * \n",
      "801\n",
      "Though Frank Loesser's songs are some of the finest that Broadway has to offer, they're bollixed by Joseph L. Mankiewicz' lethargic staging and uninspired presentation--when it's over it barely feels like you've watched a musical. Mankiewicz doesn't seem to know how to present Loesser's challenging but tuneful melodies for maximum effect: for example, one of the best numbers, the showstopping `Adelaide's Lament', concludes by having Adelaide (Vivian Blaine) belt out the finale while sitting on a chaise lounge; and Stubby Kaye's faux-spiritual `Sit Down, You're Rockin' The Boat' has his backing choir sitting in folding chairs while he simply stands there. Mankiewicz zaps all the fun out of everything by letting static scenes go on too long and his dialogue (adapted from Abe Burrows' stage book) has none of the wit that his films like `All About Eve' have. Part of the blame has to go to the leads, just about all of whom are miscast: Marlon Brando looks bewildered as to why he's in a musical, Frank Sinatra plays way too nice a guy and has none of the edge which makes him so essential (the songs are not tailored to his style) and Jean Simmons barely registers the way a Shirley Jones might. Only Blaine, as the lovelorn showgirl Adelaide, commands our attention like a Broadway pro should. The colorful art direction is by Joseph Wright and Howard Bristol created the flashy sets.\n",
      "* * * * * * * * * \n",
      "916\n",
      "I picked up this movie for $5 dollars at a discount book store, Adam Sandler is a awesome actor and i figured it would be a good movie, well, it wasn't. There was absolutely no story line at all, bad jokes, and the other comedian said \\The F-Word\\\" every other word he said,cursing usually dosen't bother me but this was over the top. And even worse than the lack of story line was the parts when Sandler would just begin talking into the camera at random parts in the movie, it reminded me of Dora the Explorer when they turn and look at the screen and ask you questions. And last of all is when they would randomly put in Bikini shots of girls at random times in the movie. In my opinion, Don't buy this movie, its a waste of money\"\n",
      "* * * * * * * * * \n",
      "1001\n",
      "This was the worst MTV Movie Awards EVER!!! I barely laughed, none of the presenters were funny, the hosts really sucked, and the parodies weren't so great either. Why can't we go back to the good olden days when the show was a riot?\n",
      "* * * * * * * * * \n",
      "1188\n",
      "What has Ireland ever done to film distributers that they seek to represent the country in such a pejorative way? This movie begins like a primer for film students on Irish cinematic cliches: unctuous priests, spitting before handshakes, town square cattle marts, cycling by country meadows to the backdrop of anodyne folk music. Quickly, however, it becomes apparent that the main theme of the film is the big Daddy-O of Irish Cliches - religous strife. It concerns a protestant woman who wants to decide where her Catholic-fathered child is educated, which would seem like a reasonable enough wish, though not to the '50's County Wexford villagers she has to live with. Rather than send them to a Catholic school, she decides to up and leave for Belfast, then Scotland, where a few more cliches are reguritated. While she's there, her father (who looks eerily like George Lucas) and family back home are subjected to a boycott, which turns very nasty. I'm not going to give away the ending, not because I think people should go see this movie, but because it's not very interesting. One of the problems with the film is the central character: we're supposed to sympathise with her but end up instead urging her to get a life. The villagers are presented as bigots whose prejudices should be stood up to, but traumatising your kids seems an innappropriate way to go about it. In addition, it takes on burdens which it staggers igniminiously under when it tries to draw analogies with the current Northern Ireland peace process: the woman is told by her lawyer that she \\must lay down preconditions\\\" for her return. The film is allegedly based on a true story but it's themes have been dealt with much more imaginatively, and with less recourse to hackneyed cliches, in the past.\"\n",
      "* * * * * * * * * \n",
      "1321\n",
      "Essentially a story of man versus nature, this film has beautiful cinematography, the lush jungles of Ceylon and the presence of Elizabeth Taylor but the film really never gets going. Newlwed Taylor is ignored and neglected by her husband and later is drawn to the plantation's foreman, played by Dana Andrews. The plantation is under the spell of owner Peter Finch's late father whose ghost casts a pall over Elephant Walk that becomes a major point of contention between Taylor and Finch. The elephants are determined to reclaim their traditional path to water that was blocked when the mansion was built across their right-of-way. The beasts go on a rampage and provides the best moments of action in the picture. Taylor and Andrews have some good moments as she struggles to remain a faithful wife in spite of he marital difficulties with Finch.\n",
      "* * * * * * * * * \n",
      "1425\n",
      "I'm sorry but this is just awful. I have told people about this film and some of the bad acting that is in it and they almost don't believe me. There is nothing wrong with the idea, modern day Japanese troops get pulled back in time to the days of Busido warriors and with their modern weapons are a match for almost everything. When the troops first realise something strange is happening does every single person in the back of the transport need to say \\Hey my watch has stopped\\\"? Imagine lines like that being repeated 15+ times before they say anything else and you have the movie's lack of greatness in a nutshell.\"\n",
      "* * * * * * * * * \n",
      "1477\n",
      "Heavenly Days commits a serious comedy faux pas: it's desperate to teach us a civics lesson, and it won't stop until we've passed the final exam. Fibber McGee and Molly take a trip to Washington, where they see the senate in action (or inaction, if you prefer), have a spat with their Senator (Eugene Palette in one of the worst roles of his career), get acquainted with a gaggle of annoying stereotypical refugee children, and meet a man on a train reading a book by Henry Wallace. Henry Wallace!! A year later, he was considered a near communist dupe, but in 1944, he was A-OK. Add in some truly awful musical moments, a whole lot of flagwaving hooey, and a boring subplot about newspaper reporters, and you've got a film that must have had Philip Wylie ready to pen Generation of Vipers 2: D.C. Boogaloo. Drastically unfun, Heavenly Days is another reminder that the Devil has all the best tunes.\n",
      "* * * * * * * * * \n",
      "1527\n",
      "I had high hopes for Troy and I am so bitterly disappointed. The film was directed so badly it made my stomach ache. The pacing was so slow, the dialogue laughable and the film - well apart from a nice fight scene between Achilles (Pitt) and Hector (Bana) - the rest was shallow.<br /><br />And why, oh why does Hollywood always insist on rewriting stories to fit 'consumer approval'. Agamemnon didn't die in Troy, the war lasted 10 years and Achilles was killed by Paris OUTSIDE the walls of Troy with an arrow to the ankle! It annoys me that such a classic story as this is turned into a soap.<br /><br />And don't even start me on the 'lack' of chemistry between Helen and Paris. She was the woman the war was fought over and it didn't even look as if the two of them cared a great deal about the other. No sparks, no emotion, no hope.<br /><br />I have to say in the films defence Brad Pitt, Eric Bana and Peter O' Toole acted very well with a bad script but that isn't enough to save this awful movie. <br /><br />Can anybody tell me where the £200 million budget went? Maybe in all the trees they used for the funeral pyres - where did they get all those trees?<br /><br />I am so disappointed it hurts.\n",
      "* * * * * * * * * \n",
      "1541\n",
      "Somewhere, out there, there must be a list of the all time worst gay films every made. One's that have overlong camera shots of the stars sitting and staring pensively into space, or one's where they focus unbearably long on kitty kats eating spaghetti. This motion sickness picture is a story of a boy and a boy and they live and love and swim and get stuck in grottos and one of them has a depressed mother and another has no mother and they talk and walk and swim and have sex and get drunk and then break up and someone goes to the hospital for eight days and then gets out and there is a lot of fast forward and rewind and there are long pensive shots of one of them looking into space or just sitting and doing nothing. I think it's some sort of gimmicky film making technique or maybe it's that the film is so bad they have to fill it up with long, wasted shots because otherwise if they had to rely on plot or story the film would be about 14 minutes. Don't get me wrong, this is about the 30th gay film I\\ve watched in the past 6 months and some of them (most of them) have been very formulmatic, predictable and boring but this is one is really a terrible waste of time. The best one so far was \\\"Beautiful Thing\\\". So, I watched this and after the very first opening shot which lingered and lingered I thought \\\"Oh, no, its going to be creative sinny mah\\\" But I gave it a chance and watched it and then when it ended I tossed the DVD in the trash. Sorry I didn't like it and if you did, sorry if I offend.\"\n",
      "* * * * * * * * * \n",
      "1652\n",
      "This show is just annoying!!! I feel sorry for the actors for having to attempt to be funny (especially Bob Saget), the laugh track tries to cover up the sad jokes and the \\Awwww\\\" track comes up at the most unnecessary times. The over-dramatic kids are no exception, especially the Olsen twins. Also, this show is cliché city. If you were to look up the word cliché, it would read \\\"Full House\\\" Every story line has a \\\"life lesson\\\" to be learned at the end. A sappy speech makes everything better and even has the ability to make the most bratty child have a sudden realization of goodness GASP too bad this couldn't be possible in real life. I don't know how someone could watch this show without bad mouthing the behavior of the characters or the laugh track. i find myself yelling at the TV saying, \\\"THAT Isn't FUNNY/SAD/CUTE\\\" If life were really like this, the world would fall apart.\"\n",
      "* * * * * * * * * \n",
      "1751\n",
      "TV movie about an ancient Egyptian curse brought to the US in the 20's during the filming of DeMille's first version of the 10 Commandments and which is reawakened when DeMille's sets are unearthed in the desert.<br /><br />One of the worst films I've seen in a long time.<br /><br />The question is were the filmmakers serious or kidding when they made this film? If this is serious its a laughably bad movie and a great film to pick on for its badness. If its a comedy its less good but funny for all of the wrong reasons.You will laugh long and hard AT this film, probably more than many other Hollywood \\comedies\\\".\"\n",
      "* * * * * * * * * \n",
      "2051\n",
      "I'm so confused. I've been a huge Seagal fan for 25 years. I've seen all of his films, and many of those dozens of times. I can only describe this film as \\bizarre.\\\" Steven Seagal shares screenplay writing and producing credits on this film, but I have a really tough time believing he would choose to dub over his own voice for so many of his lines, with a thin, whiny imposter's voice no less. What I also don't get is, if they had to dub SOME of his lines, why does his own voice appear on the rest of them? I expect Seagal to age like the rest of us. But the Seagal in this movie barely exudes a fraction of the same swagger, confidence, bravado, charm, and sex-appeal he so easily showed us in ALL of his previous movies. What I found myself missing most of all was his cocky, self-assured attitude and his bad-ass sneer that so easily shifts into that adorable grin. Where is that in-your-face attitude and charm that made him such a huge star??? I hope that this film is not an indication of what Seagal has left to offer us - if so, his lifelong fans will have to concede that the Seagal we all knew and loved is gone.\"\n",
      "* * * * * * * * * \n",
      "2363\n",
      "With all due disrespect for this George Stevens Sr. \\epic\\\" of miscastings and misreadings, I can only wonder that the James Dean \\\"legend\\\" could survive this outing, I submit that then-studio obeisances to bankable box office \\\"giants\\\" came a cropper of its own 'gigantismoses'. Nor were Rock and Liz that much better off. Let us just say that the televised \\\"Dallas\\\" was the authentic \\\"heir,\\\" even if contemp(tuous) latterday \\\"Texans\\\" like Lay and DELay, not to mention our putative \\\"president\\\" of these here Yewbenighted States of Amurrika, perform a one-upsmanship of dastardly global dimensions. I never read Edna Ferber's original, but will lay odds it is head and shoulders superior to what got on screen herein. And all those well-paid, I would imagine, \\\"supporting\\\" actors of note and celebrity notwithstanding, \\\"Giant\\\" is, to me at least, a midget of scant merit, never mind the promo campaigns.\"\n",
      "* * * * * * * * * \n",
      "2515\n",
      "Unreal \\movie\\\", what were these people on?? A mix of French Upstairs Downstairs, mating horses,porn (not suggested, its pretty full on for a film) & bestiality with a bit of Benny Hill music & chase scenes thrown in, its sounds crazy & its even more so to watch. **spoiler** It plods along in a tedious fashion for quite a while,.... then a Lamb does a runner, prompting woman in period dress to run off after it, she goes into the woods where she is set upon by an erect \\\"penis\\\" attached to a man in a bear/rat manky suit, I put it like that as its obvious the \\\"penis\\\" is in charge & gets way too much screen time, ejaculating for the most of it, anyway, in a nutshell, it turns out she liked a bit of bear/rat tadger & thats about it, the rest is just padding. **end spoiler** A film made to shock & offend, thus getting talked about, any publicity is good publicity I suppose,a waste of time really, but the \\\"main event\\\" has to be seen to be believed, its hard to imagine that anyone thought it was a good idea as they filmed it.\"\n",
      "* * * * * * * * * \n",
      "2576\n",
      "A huge hit upon release with Australian audiences, it can still be funny today, but its over-the-top political incorrectness and blunt, unsubtle humour can make it a bit of a cringer. It goes on far too long; some of<br /><br /> the content could have been saved for the sequel, Barry McKenzie Holds His Own, which desperately needed some new stuff anyway. Granted, his ocker Aussie attitude is funny, but also becomes annoying as the film drags on. Some say Crocker's songs are the best bits, and they are certainly original, but \\hilarious\\\"? The Adventures of Barry McKenzie will go down as a landmark in Australian cinema, but we should do everything in our power to make sure that overseas audiences do not see the majority of Australians as Barry McKenzies (or, for that matter, Mick Dundees!). Rating: 5/10\"\n",
      "* * * * * * * * * \n",
      "2684\n",
      "It's interesting that a novel with no plot has become the basis for two films. While The Heiress was a good, if not entirely accurate, adaptation, Washington Square is a heavy-handed and poorly acted, except for the part of Dr Sloper, film that could have been so much better.<br /><br />The director's attempts at making 'beautiful' scenes were so obvious that I actually cringed. It has none of the understated and simple beauty that a movie with no plot can have, such as Onegin. I agree with other comments about Leigh's portrayal of Catherine as an idiot, instead of naive and shy; she made me despise her not feel for her.<br /><br />Catherine's transition from childlike trusting to adult cynicism, the whole point of the story, was internalised, just as it was in the novel. But we don't have the benefit of a narrative voice to tell us that in a film! I think someone skipped adaptation class at filmschool.<br /><br />I appreciate the director's attempts to make a moving and beautiful film out of a difficult text but it just didn't work.\n",
      "* * * * * * * * * \n",
      "2896\n",
      "When the film began, I was shocked to see it was filmed using a cheap video camera! In fact, the camera shakes and looks worse than the average home movie. Even direct to DVD films should have production values better than this! Heck, a large percentage of the home videos uploaded to YouTube have better production values! All too often, the film seriously appears to be made by sticking the camera on a tripod and turning it on--with no camera person! Closeups and anything resembling camera-work are absent in some scenes where they might have worked and in others there are too many or poorly framed closeups. Yecch! <br /><br />The film is about two gay men who want to become married. As if was made almost a decade ago, their only option was marrying in Vermont--times have definitely changed. However, the recent acceptance of gay marriage cannot in any way be attributed to this film--if anything, it set the gay marriage supporters back instead of helping as the movie stinks and never really tries to seriously address the issue. According to the film, religious people are one-dimensional idiots who carry Bibles EVERYWHERE and shoot people as well as wives who have gay husbands are narrow-minded when they learn their spouses have been living a lie--go figure. I'm sure glad it gives an honest chance to both sides on the issue! <br /><br />The bottom line--nothing about the film shows any professionalism at all and I even hesitate to call this a film. It's more like a home movie and doesn't even merit a listing on IMDb or even inclusion on IMDb's Bottom 100 list of the worst rated films of all time. The acting is horrible, the writing is horrible, the direction (if there even is any) is horrible, the camera-work is horrible and the plot is horrible. It's a home movie!! There is nothing positive I can say about this in any way except that it makes the films of Ed Wood seem like Oscar contenders in comparison and I am sure the ghost of Mr. Wood is smiling every time someone watches this mess! <br /><br />I don't care if you are gay or straight--this film is not worth your time and I don't know how they managed to create DVDs of it. I assume one of the actors burns them on his home computer during his free time! Seriously, this gives new meaning to the word 'bad'!<br /><br />By the way, if the one lady in the film WAS a real lawyer, wouldn't the ability to read be an important prerequisite?! I'm just sayin'.<br /><br />Finally, with gay marriage being such a serious and important topic, can't we have a film that's BETTER than THIS that addresses the issue?! This one, sadly, only invites laughter.\n",
      "* * * * * * * * * \n",
      "2958\n",
      "Muscular man-ape in the jungles of Africa is hunted by an opportunistic expedition team; the comely daughter of the team's leader finds him first. Much-ballyhooed version of the Tarzan tale has an OK production, but is crippled by the single-handedly worst direction of a film I have ever seen. John Derek is bereft of inspiration beyond cheesy slow-motion action shots and peek-a-boo glimpses of wife Bo Derek's unclothed body; he has about as much talent behind the camera as Ed Wood. Trying for tongue-in-cheek sexuality, the Dereks lack finesse, snappy timing, and taste. They have a sense of self-parody and bravura abandonment (they do throw caution to the winds), but after a promising opening it all goes to hell. Miles O'Keeffe (who possibly had marbles in his mouth the entire time) has the title role, but plays third fiddle to John Derek's ego and Bo Derek's sense of self-importance. * from ****\n",
      "* * * * * * * * * \n",
      "2967\n",
      "Buford's Beach Bunnies gives B-grade T&A films a bad name. As a fan of the genre, I was appalled to find little attempt being made to exploit the young actresses talents. I refer specifically to the distinct lack of nudity and simulated sex scenes. What are the next generation of sad teenage boys watching this on late night TV supposed to think?\n",
      "* * * * * * * * * \n",
      "3714\n",
      "I watched Peter Jackson version of Lord of the Rings when I was half way through reading the Two Towers and I thought it was absolutely brilliant.<br /><br />At this time the animated version of the Lord of the Rings was released on DvD but I told myself that I will finish reading the Two Towers and Return of Kings before watching it (as I thought it showed the whole of the trilogy).<br /><br />So when I did finish the trilogy I went and brought the DvD, which was a stupid idea because it was absolutely rubbish.<br /><br />I was acturly bored 20 minutes in to it which was really strange because I love the book and I am shooked that the maker of this film could of even thought of fitting at least 1 and a half of the books in to a 2 hour 8 minute film.<br /><br />None of the characters had any emotions when they were talking and they seemed to be reading it of a page, even my favourite character who is Gandalf did not seem interesting at all. <br /><br />The animation was the only okay in parts of the film except for the orks (they looked awful) and Aragorn and Sam face.<br /><br />I don't know way this film was released because there was not even a proper ending, but maybe it was good that the maker ran out of money because the film couldn't of got any better. <br /><br />I just hope that nobody judges the books by this film.<br /><br />3/10\n",
      "* * * * * * * * * \n",
      "3869\n",
      "It's a real challenge to make a movie about a baby being devoured by wild canines and the mother being wrongly accused of murder funny but against all odds this one succeeds. Meryl Streep gives the performance of her life, melodramatic, overwrought but with that comic genius that keeps you laughing even as a mother struggles with the ultimate horror.<br /><br />If comedies about the infants being eaten by dogs are not your cup of tea you might be uncomfortable watching this and, yes, it is an odd choice of topic for a farce but really very little of the movie has anything to do with that as it focuses on giving Streep a showcase for her Aussie accent and facial contortions. <br /><br />Throwing in a slam at media bias and sensationalism and disregard for either the truth or ethics gives the movie the chance to make the daring point that those things are bad.\n",
      "* * * * * * * * * \n",
      "3872\n",
      "\\Triumph of Love\\\" is proof that not every Comédie-Française author who uses cross-dressing disguised courtship like Shakespeare is worth seeing. <br /><br />Or maybe something was lost in the translation of this adaptation of Marivaux, a Commedia Dell Arte-inspired playwright of whom Brittannica says: \\\"His nuanced feeling and clever wordplay became known as marivaudage.\\\" <br /><br />While Mira Sorvino has fun dangling three mixed-up romances, her pants role wasn't even up to Cherubino in \\\"Marriage of Figaro.\\\"<br /><br />The herky-jerky editing is annoying and just seems to indicate that a lot of takes were needed for each long speech.<br /><br />Best was Fiona Shaw as the fooled spinster, as well as the costumes.<br /><br />The glimpses of audience we see and the closing curtain call to wink that this is all artifice doesn't really help.<br /><br />(originally written 5/29/2002)\"\n",
      "* * * * * * * * * \n",
      "4259\n",
      "Seemingly intended to be a thriller of a movie winds up being almost laughable. It prompted me to exclaim \\Oh my God!\\\" more than once at the convoluted contrivances of plot that were just plain silly.<br /><br />Fanciful or absurd locations just for the sheer novelty or dramatic situation and improbable, near impossible, human reactions and circumstances are too much to be comprehended as to why they exist.<br /><br />If you have the time and wish to discover just how bad a picture can be then you will want to see this one. Otherwise dedicate some time into watching some paint dry for a more productive investment of time!<br /><br />(That a film released in 2003 is already being shown on TV in July 2003 might give an indication of the film's quality)\"\n",
      "* * * * * * * * * \n",
      "4358\n",
      "Jean-Claude Van Damme plays twin brothers Alex and Chad, both whom are martial arts expert who team up to take down the mobsters responsible for the murder of the parents in this empty headed martial arts actioner which doesn't have a plot that would make better use of the gimmick of having two Jean-Claude Van Dammes. Some okay actionscenes, but this is not one of Van Damme's best.\n",
      "* * * * * * * * * \n",
      "5096\n",
      "Previous commentator Steve Richmond stated that A Walk On The Moon is, in his words \\not worth your $7\\\". I ended up paying a bit more than that to import what is one of the worst-quality DVDs I have yet seen, of this film or any film in existence. Even when you ignore the fact that the DVD is clearly sourced from an interlaced master and just plain nasty to watch in motion, the film has no redeeming qualities (save Anna's presence) to make watching a top quality Blu-Ray transfer worthwhile. Not that this is any fault of the other actors. Liev Schreiber, Diane Lane, Tovah Feldshuh, and Viggo Mortensen all score high on the relative to Anna Paquin acting ability chart. Far more so than Holly Hunter or Sam Neill did in spite of an equally lousy script, anyway. Director Tony Goldwyn's resume is nothing to crow about, but Pamela Gray's resume includes Wes Craven's most dramatic excursions outside of the horror or slasher genre, so one could be forgiven for thinking this is a case of bad direction.<br /><br />As I have indicated already, the sole reason I watched this film is Anna Paquin. In her acting debut, she literally acted veterans of the industry with a minimum of twelve years' experience above hers under the table. While she is not as far ahead of her castmates here, her performance as a girl that starts the piece as a brat and grows into a woman whose world is crashing down around her proves her Oscar was no fluke. For some time I have been stating to friends that she would be the best choice to portray the heroine of my second complete novel, and a dialogue seventy-three minutes into this film is yet another demonstration of why. This woman could literally act the paint off walls. Anna aside, only Liev Schreiber comes close to eliciting any sympathy from an audience. Sure, his character spends the vast majority of the film neglecting a wife with an existential crisis, but he plays the angered reaction of a man who feels cheated brilliantly. I should know, even if it is not from the same circumstances here.<br /><br />Viggo Mortensen also deserves credit for his portrayal of a travelling salesman, although perhaps not to the same extent. In a manner of speaking, he is the villain of the piece, but he successfully gives the character a third dimension. Yes, his actions even after the whole thing explodes are underhanded, but not many men would act any differently in his situation. Nobody wants to be the other man in this kind of messed-up situation, so Viggo deserves a lot of credit for giving it a try here. Unfortunately, these are all participants in a story about a woman who feels trapped in a stagnant marriage where Tovah Feldshuh tells us that the Mills And Boon archetype of women being the only ones who feel life is passing by simply does not exist. Either writer Pamela Gray or director Tony Goldwyn thought they could just put this line into the film without thinking of how the audience might receive it. Anna even gets to speak the mind of the audience when she asks Diane who she is to be lecturing anyone about responsibility.<br /><br />That said, the film does have a couple of things besides Anna going for it. Mason Daring's original music, while not standing out in any way, gives the film a certain feeling of being keyed into the time depicted that helps where the other elements do not. Roger Ebert is right when he points out that while Liev is a great actor, putting him alongside Viggo in the story of a woman forced to choose between her marriage and her fantasy is a big mistake. He is also very correct in that when the film lingers over scenes of Lane and Mortensen skinny-dipping or mounting one another under a waterfall, it loses focus from being a story of a transgression and becomes soft porn. The film seems terminally confused about the position of its story. No matter how many times I rewatch Liev's scenes, I cannot help but feel he has been shortchanged in the direction or editing. One does not have to make their leads particularly handsome or beautiful, but taking steps to make them the most interesting or developed characters in the piece would have gone a long way.<br /><br />Ebert also hits the nail right on the head when he says that every time he saw Anna on the screen, he thought her character was where the real story lay. Stories about the wife feeling neglected and running into the arms of a man who seems interesting or even dangerous are a dime a dozen, to such an extent now that even setting the story in parallel with an event as Earth-shattering as the moon landing will not help. In spite of feeling revulsion at the manner in which her character's story is presented, Anna might as well be walking around with a neon sign above her head asking the audience if they would not prefer to see the whole thing through her eyes. While I am all too aware that it is difficult to control exactly which character your audience will find the most interesting from your cast, it is very much as if they did not bother to try with Lane and Schreiber. Fans of these two would be well advised to look elsewhere. Hopefully by now my ramblings about the respective performances will give some idea of where the whole thing went wrong.<br /><br />I gave A Walk On The Moon a three out of ten. Anna Paquin earns it a bonus point with one of her best performances (and that is saying something).\"\n",
      "* * * * * * * * * \n",
      "5383\n",
      "Times are tough for Angel Town, gangs rule with an iron fist and for reasons mostly unknown (Mainly due to embarrassing writing) the gangs want a street kid, Martine to join the gangs, so they beat him up everyday. However due to the presence of an Olympic kick-boxer (Olivier \\World's lamest actor\\\" Gruner) named Jacques, hope is on the way. Angel Town is seriously one of the most inept message movies ever made (And I've seen my share) it seems to consist of the idea that all gang infested neighborhoods need, are French kick-boxers who can't act. Worst of all there are so many awkward moments it's just truly hilarious. Best of all comes from the exchange between Gruner and Aragon which basically sums up how ridiculous this thing is. To Wit: \\\"You like the fighting? (Olivier grabs his Asian best friend in a headlock) I could kill him right? When I want him dead he dies! The reason why I don't want him dead is because i'm afraid of him, and I know that if I kill him his son and wife will kill me, that's why he doesn't die!\\\" <br /><br />Of course the fact that it's wrong to kill someone, let alone your best friend is of course left out of the equation. Odd.<br /><br />However don't let me make this sound that I hated this movie, far from it, it's so terrible it's priceless. The biggest laughs come at the end in the disastrous finale which sees Grunner going one on one with gang-members who (the film's biggest logic gap)decline the use of pistols. Also a handicapped Vietnam vet helps out by shooting his machine gun at the gangs, while Gruner kick-boxes the rest. All of this set to the sound of horrible \\\"Mexican\\\" accents and surreal energy that make this one memorable for fans of cinematic trash such as this.<br /><br />The other treat about this movie, is that for some reason Olivier Gruner never attends college despite that's the main reason he's here in the states and not in France getting it on with his girlfriend (In a graveyard in the film's awkward beginning) Angel Town is without a doubt a failure on all conceivable levels but if you laugh at moronic martial arts movies with insane levels of action that make no sense on any level, this is the perfect movie for you. On the other hand make sure to down tequila, like the laughable opening song details \\\"Ain't no mercy in Angel Town\\\" <br /><br />* out of 4-(Bad)\"\n",
      "* * * * * * * * * \n",
      "5559\n",
      "This star-studded British/Spanish co-production looks great, what you can see of it. I have three versions, two VHS, one DVD, and all are terribly cropped, so badly that it looks as if buildings are having conversations with each other. Few films suffer as badly from pan and scan as this one, as director Robert Parrish seems to have been so enamored with the widescreen process that he tended to use both sides of the screen at once, neglecting the middle. Another user comments that we see the entire inhabitants of a church massacred at the beginning; not in any of the copies I have. There are some abrupt cuts of peasants firing their rifles, one Mexican officer is shot, Shaw and Landau celebrating, and that's it. We never find out why Shaw has become a priest (if he really is), we never find out what happens to Don Carlos (Savalas) although I suspect he was called home to star in Kojak, as his departure seems arbitrary. And there is a strange flashback sequence where Michael Craig (Mysterious Island) is dancing around in a bowler hat and bad suit in the great old English music hall tradition to the 1960 hit BATTLE OF NEW ORLEANS, not sung by Johnny Horton here but with some lyrics I've never heard before. On the plus side, the location is great, a huge old ruined fortress with Escher-style stairs leading nowhere, some nice scenery-chewing by Robert Shaw, and good performances by Stevens, Landau, Lettieri, and Telly Savalas as Telly Savalas. I didn't really like this film, but I haven't exactly seen it. I will seek the widescreen version and make my decision then.\n",
      "* * * * * * * * * \n",
      "5569\n",
      "This extremely weak Australian excuse for a motion picture is sort of like the Pavlov Dog Experiment amongst horror movies. You remember this famous \\Conditioned Reflex\\\" experiment from your school books, right? The Russian scientist Pavlov proved that dogs tended to salivate before the food actually came into their mouths and this through repetitive routines stimulating the animal's reflexes. Pavlov rung a bell a couple of instants before the food was delivered to the dog and, after a while, he became anxious and excited and already started salivating from hearing the sound of the bell. What the hell has this whole boring explanation in common with a sleazy and low-budgeted Aussie slasher flick, I hear you think? Well, the modus operandi of the maniacal killer in \\\"Nightmares\\\" is an exact variant on Pavlov's experiment. Each and every single murder sequence is preceded by the raw sound and image of the killer breaking a window, because he/she insists on using a sharp piece of glass to slice up the victims. So this means that, after a short while, inattentive and bored viewers can afford to doze off and simply look up again when they hear the sound of shattering glass. That way they still don't miss anything special! <br /><br />Regarding the quality of \\\"Nightmares\\\" as a film I can be very brief. This is a cheap, uninspired and largely imbecilic Aussie cash-in on the contemporary popular trend of American slasher movies. In the early 60's, a four-year-old witnesses the cruel death of her mother as her throat gets slit open in a nasty car accident. Twenty years later the same girl  Helen Selleck  is a successful stage actress, but she still has severe mental issues and regularly suffers from horrible flashbacks and traumatic nightmares. She auditions for a role in a black comedy play revolving on death and gets the part. Shortly after the big premiere, everyone who's even remotely involved with the production gets slaughtered. It is truly retarded how this movie attempts to uphold the mystery regarding the killer's identity and motivations even though even the most infantile viewer can figure it out after the first murder already. I don't think I've ever seen a more obvious whodunit than \\\"Nightmares\\\" and the creators should have just showed his/her face straight away and save themselves from embarrassment. The murders are explicit and very bloody and there's also an unhealthy large amount of gratuitous nudity to \\\"enjoy\\\". However, the production values are poor and thus the movie is never at one point shocking or provocative. The few clips we get to see of the actual play make it appear that it quite possible could be the worst thing ever performed on stage. The only positive elements in the film are the characters of the director and the gay newspaper critic, whom are both delightfully sarcastic and insult the rest of the cast members as much as we do. \\\"Nightmares\\\" is a dreadful piece of exploitative horror cinema, but hey, at least I gave you a golden tip to make it more digestible.\"\n",
      "* * * * * * * * * \n",
      "5698\n",
      "New York, I Love You, or rather should-be-titled Manhattan, I Love Looking At Your People In Sometimes Love, is a precise example of the difference between telling a story and telling a situation. Case in point, look at two of the segments in the film, one where Ethan Hawke lights a cigarette for a woman on a street and proceeds to chat her up with obnoxious sexy-talk, and another with Orlando Bloom trying to score a movie with an incredulous demand from his director to read two Dostoyevsky books. While the latter isn't a great story by any stretch, it's at least something that has a beginning, middle and end, as the composer tries to score, gets Dostoyevky dumped in his lap, and in the end gets some help (and maybe something more) from a girl he's been talking to as a liaison between him and the director. The Ethan Hawke scene, however, is like nothing, and feels like it, like a fluke added in or directed by a filmmaker phoning it in (or, for that matter, Hawke with a combo of Before Sunrise and Reality Bites).<br /><br />What's irksome about the film overall is seeing the few stories that do work really well go up against the one or two possible 'stories' and then the rest of the situations that unfold that are made to connect or overlap with one another (i.e. bits involving Bradley Cooper, Drea DeMatteo, Hayden Christensen, Andy Garcia, James Caan, Natalie Portman, etc). It's not even so much that the film- set practically always in *Manhattan* and not the New York of Queens or Staten Island or the Bronx (not even, say, Harlem or Washington Heights)- lacks a good deal of diversity, since there is some. It's the lack of imagination that one found in spades, for better or worse, in Paris J'taime. It's mostly got little to do with New York, except for passing references, and at its worst (the Julie Christie/Shia LaBeouf segment) it's incomprehensible on a level that is appalling.<br /><br />So, basically, wait for TV, and do your best to dip in and out of the film - in, that is, for three scenes: the aforementioned Bloom/Christina Ricci segment which is charming; the Brett Ratner directed segment (yes, X-Men 3 Brett Ratner) with a very funny story of a teen taking a girl in a wheelchair to the prom only to come upon a great big twist; and Eli Wallach and Cloris Leachman as an adorable quite old couple walking along in Brooklyn on their 67th wedding anniversary. Everything else can be missed, even Natalie Portman's directorial debut, and the return of a Hughes brother (only one, Allan) to the screen. A mixed bag is putting it lightly: it's like having to search through a bag of mixed nuts full of crappy peanuts to find the few almonds left.\n",
      "* * * * * * * * * \n",
      "5905\n",
      "Identical twin sisters Mary-Kate and Ashley Olsen climbed to fame in sitcoms like \\Two of a Kind\\\", I had never seen them in anything before, but I had an idea of what to expect, but it was much worse. Basically the Hunter sisters Charli (Mary-Kate) and Leila (Ashley) are in Rome for a Summer Intern Program, but not long after starting their jobs they are immediately fired for a series of mishaps. But the man who owns the company they are working in, Derek Hammond (Julian Stone), gives them their jobs back, and they they do slowly prove themselves useful assets, and talented (fashion) artists, and help stop a mean man taking over the company. Also starring Leslie Danon as Jami, Derek Lee Nixon as Ryan, Ilenia Lazzarin as Dari, Archie Kao as Nobu, Valentina Mattolini as Heidi, Michelangelo Tommaso as Paolo and Matt Patresi as Enrico Tortoni. You can tell that this film was made to go straight to video, the camera-work is completely mismatched, and it doesn't help when you want to admire the sights of Rome. In fact the background is the only good thing to watch, the twin sisters are two of the most annoying celebrities around, I knew before watching that they weren't going to interest me in any way (their not even that pretty), this is awful gush of rubbish film. Pretty poor!\"\n",
      "* * * * * * * * * \n",
      "5915\n",
      "Gee, what a crappy movie this was! I cannot understand what people find so scary about \\The Grudge\\\". The director plays one trick (I'd have to admit a very good one, that is brought to life very stylized) and then he repeats it for the rest of the movie over and over again. As a consequence I startled a few times in the first quarter of the movie, but once I knew the drill I practically fell asleep as The Grudge grew more and more predictable by the minute. To conclude, I can say that there are a lot better movies in the genre to begin with, that the so-called predecessor \\\"The Ring\\\" was way scarier and that buying a ticket for \\\"The Grudge\\\" is a waste of money.\"\n",
      "* * * * * * * * * \n",
      "6104\n",
      "If the only sex you've ever had is with a farm animal, then the tag line for this movie is probably still misleading.<br /><br />This is by far one of the most boring movies I've had the pleasure to try and watch lately. I found the DVD lying around at my friend's house, and I made the sad mistake of not burning it.<br /><br />I am unable to tell any details without spoiling the movie because there are only about 5 details to this movie. Just try to imagine someone making a movie about things on c-span only the fictional movie is 10 times less interesting than the most boring debate on c-span.<br /><br />I think there is a conspiracy somewhere in this movie, but I was unable to tell exactly what it was after I gouched my eyeballs out and threw them at Richard Gere.\n",
      "* * * * * * * * * \n",
      "6601\n",
      "I've seen other Guinea Pig films, like Mermaid in a Manhole & He Never Dies, and while they're pretty sick, they at least have a bit of a sense of humor to them (however dark). Devil's Experiment though, is nothing more than filming a bunch of punks submitting a young girl to many methods of torture and violence and there's no plot and no redeeming values to it whatsoever. It isn't remotely scary, except for perhaps the mind-set, but it's definitely disgusting and I certainly would not call it entertainment. Now, I'm not the paragon of good taste in films and I like my trash and sleaze, but this was too much for me, really. I'm all for disturbing, in fact, I seek out things that are disturbing whenever possible, but this was a bit much. The young woman is kicked, beaten, submitted to continuous noise via headphones until she drools, and then pelted with raw meat and innards and left hanging in a hammock out in the woods somewhere. If you think that sounds great, go for it, but it certainly put me off viewing any more Guinea Pig stuff. 1 out of 10, absolutely nauseating.\n",
      "* * * * * * * * * \n",
      "6648\n",
      "After finally viewing this movie in its entirety, I am completely mystified by the adoration it has received by critics and online users alike. Is it the worst Western ever? No, I wouldn't say that. But \\the last great American Western\\\", a phrase I saw applied to it more than once? Not even close.<br /><br />A movie that tries to tell a story like this needs believable characters that speak believable dialogue, and the dialogue in this film is among the most hackneyed and clichéd that I've ever seen. The movie can be measured in groaners per minute; as in, how many times is an actor or actress forced by the script to say something that no human being would say in real life? There's so many instances of this that it's distracting. Cheesy lines come at you in waves; predictable, unoriginal, and often. <br /><br />If bad dialogue doesn't bother you, then how about bad gunfights? Few Westerns can show you gunfighting that's completely unbelievable while desperately trying to make you take the action seriously. It's okay if there's a comic edge to such gunfighting, such as in Silverado, but in Tombstone the very staged and very stiff choreography of the early gunplay is just another reason to leave this movie off the list of good Westerns. The final showdown somewhat redeems the director on this score, but by then, I was so disinterested in the movie that it was beyond saving.<br /><br />Other than those flaws, I can say the visuals are stunning - the movie's well shot and the settings all look great. The acting is passable, especially considering what the actors were given to work with. However, if you're looking for the last great American Western, do yourself a favor - go rent Unforgiven instead.<br /><br />3 out of 10\"\n",
      "* * * * * * * * * \n",
      "6761\n",
      "This has to be the worst, and I mean worst biker movie ever made! And that's saying a lot because the line of stinkers is long and smelly!<br /><br />Now at least we know what happened to Ginger after she was rescued from Gilligan's Island! A frightened looking Tina Louise(she was probably afraid someone would see this mess!)is a stranded motorist who is tormented by the most repulsive motorcycle gang in film history. But, don't worry fans! Batman, I mean Adam West as a hick-town doctor comes to the rescue! Pow! Crush! Boom! Holy Toledo Batman! <br /><br />The only good points of this \\bomb\\\" are some cute women, some laughable fight scenes, and the still \\\"sexy\\\" Tina Louise!\"\n",
      "* * * * * * * * * \n",
      "6885\n",
      "seriously what the hell was this movie about,,simply stupid,,i'd give it 0 but,,,1\\awful\\\" is the lowest you can go,,seriously this movie is not worth watching,,waste of time, i don't know what the hell is wrong with you guys voting this movie 7 out of 10,,i seriously can make a better movie than this , hire some other unemployed people,,'n i promise i'll make a movie better than this,,this movie was so bad,,that i'll never watch a movie starring Steve Carrel again,bottom line don't waste your time to download it off the net or rent it,,i'd nominate this movie for the worst movie of the century i mean the worst is Something Gotta give but after that this is the second\"\n",
      "* * * * * * * * * \n",
      "6945\n",
      "I think that my favorite part of this movie, the one that exemplifies the sheer pointless, stupidity and inanity of the proceedings, comes at the climax of the film. DOCTOR TED NELSON and his unmarried friend the Sheriff have finally cornered the Melting Man on a landing on some stairs in an electrical generating plant. Keep in mind that Nelson has been looking for the MM for nearly the entire film, and that the MM has killed and eaten several people at this point (including his boss), and Nelson is very aware that MM is violently insane and hungry for human flesh and blood.<br /><br />So the Sheriff has his gun pointed at MM, who is, and I give the movie and Rick Baker props for this, the most disgusting and terrifying object in human form that we have ever seen. And he yells a very important question to DOCTOR TED NELSON: \\WHAT DO WE DO NOW?!?!?\\\" <br /><br />The camera cuts over to DOCTOR TED NELSON, and it's obvious that Ted has no idea what to do next. Apparently Ted was so intent on the problem of FINDING the Melting Man, he never thought to bring along some restraining devices, a lasso, or straitjacket, or a net, or some tranquilizer darts, or maybe a New Age tape by Vangelis to soothe the savage beast.<br /><br />So the sheriff panics and shoots, the Melting Man goes berserk, and hilarity ensues. <br /><br />Maybe this explains why NASA has been screwing around with the Space Shuttle program in sub-lunar space for the last 30 years instead of going back to the Moon or out to Mars like everyone knows they OUGHT to be doing. I dunno.<br /><br />Anyway, that's the kind of lousy, lazy writing and direction that undercuts every aspect of this movie. It's hard to say how good the actors actually are, because the movie has complete contempt for their characters.<br /><br />Two other incredibly painful sequences also ramp up the stupidity of the proceedings: There is a scene featuring the lumpiest old couple in the world trying to steal lemons from a grove, only to be torn apart by the Melting Man. This scene is a nadir in 70s cinema. I can guarantee you've never watched a more pointless and irritating setup with odder looking people in your entire life. And the Melting Man's assault on the lady who lives in the house where they keep a horse who pees on the walls defies every attempt to process it.(BTW, I think famous film director Jonathon Demme has a walk-on in this scene as the redneck husband who goes in first to check on the house and never comes out again). The only thing that keeps the actress from literally chewing the scenery is that, as I said, their horse has apparently been peeing on it. And we are forced to watch her hysterics for at least two minutes longer than any SANE film director would hold the shot. <br /><br />Burr DeBenning ought to beat the crap out of IMM's director and photographer. I remember him from an old Columbo episode where he looked MUCH better than he does here - no one's idea of a leading man, but solid and unobtrusive. But no one could possibly be as unappealing in real life as his director makes him look here. <br /><br />Everyone else comes off a little better except for the old couple (and shut up, I know they were being played for laughs, but I ain't laughing!) but not much. <br /><br />This definitely falls into the 'So Bad You Can't Look Away' category of cinema disasters. Still, I'd watch it again before I'd watch a lot of other 70's and 80's abortions ( \\\"Track of The Moonbeast\\\" and \\\"It Lives By Night\\\" come to mind), and MST's coverage of it is great fun, so if you get a chance, watch the MST version.\"\n",
      "* * * * * * * * * \n",
      "7452\n",
      "Nick Millard aka Nick Phillips should have left well-enough alone when he made \\Criminally Insane\\\" 10 years before the release of this god-awful waste of time and effort. The fact that the original \\\"Criminally Insane\\\" was less than an hour in length should have clued him into the fact that he had probably milked this storyline for all he was going to get out of it...but instead he opts to use TONS of footage from the original in this one as well, even to the point of recycling the original opening credit sequence! Unfortunately, bringing back the rapidly aging Priscilla Alden did not save this one. What little bit of original footage there was in this flick looks as if it were filmed with a rented hand-held camcorder! If this film cost more than $100 to make I would be very surprised and I would be equally surprised if it made anything close to that amount! Avoid this one and watch the original instead!\"\n",
      "* * * * * * * * * \n",
      "7550\n",
      "The American Humane Association, which is the source of the familiar disclaimer \\No animals were harmed...\\\" (the registered trademark of the AHA), began to monitor the use of animals in film production more than 60 years ago, after a blindfolded horse was forced to leap to its death from the top of a cliff for a shot in the film Jesse James (1939). Needless to say, the atrocious act kills the whole entertainment aspect of this film for me. I suppose one could say that at least the horse didn't die in vain, since it was the beginning of the public waking up to the callous and horrendous pain caused animals for the glory of movie making, but I can't help but feel that if the poor animal had a choice, this sure wouldn't have been the path he would have taken!\"\n",
      "* * * * * * * * * \n",
      "7708\n",
      "The main problem with the documentary \\Czech Dream\\\" is that isn't really saying what it thinks it's saying.<br /><br />In an audacious - I hesitate to use the word \\\"inspired\\\" - act of street theater, Vit Klusak and Filip Remunda, two student filmmakers from the Czech Republic, pulled off a major corporate hoax to serve as the basis for their movie: they deliberately fabricated a phony \\\"hypermarket\\\" (the Eastern European equivalent of Costco or Wal Mart Super Store), built an entire ad campaign around it - replete with billboards, radio and TV spots, an official logo, a catchy theme song and photos of fake merchandise - and then waited around to see just how many \\\"dopes\\\" would show up to their creation on opening day. They even built a makeshift façade to convince people that the store itself actually existed.<br /><br />One might well ask, \\\"Why do such a thing?\\\" Well, that's a very good question, but the answer the filmmakers provide isn't all that satisfying a one. Essentially, we're told that the purpose of the stunt was to show how easily people can be manipulated into believing something - even something that's not true - simply through the power of advertising. And the movie makers run for moral cover by claiming that the \\\"real\\\" (i.e. higher) purpose for the charade is to convince the Czech people not to fall for all the advertisements encouraging them to join the European Union. Fair enough - especially when one considers that the actual advertisers who agree to go along with the stunt declaim against the unethical nature of lying to customers, all the while justifying their collaboration in the deception by claiming it to be a form of \\\"research\\\" into what does and does not work in advertising. In a way, by allowing themselves to be caught on camera making these comments, these ad men and women are as much dupes of the filmmakers as the poor unsuspecting people who are the primary target of the ruse.<br /><br />But, in many ways, the satirical arrow not only does not hit its intended target, it ironically zeroes right back around on the very filmmakers who launched it. For it is THEY THEMSELVES and NOT the good-hearted and naturally trusting people who ultimately come off as the unethical and classless ones here, as they proceed to make fools out of perfectly decent people, some of them old and handicapped and forced to travel long distances on foot to get to the spot. And what is all this supposed to prove anyway? That people are \\\"greedy\\\" because they go to the opening of a new supermarket looking for bargains? Or that they're stupid and gullible because they don't suspect that there might not be an actual market even though one has been advertised? Such vigilance would require a level of cynicism that would make it virtually impossible to function in the real world.<br /><br />No, I'm afraid this smart-alecky, nasty little \\\"stunt\\\" only proves what complete and utter jerks the filmmakers are for making some really nice people feel like idiots. And, indeed many of them, when they finally discover the trick that's been played on them, react with a graciousness and good humor I'm not sure I would be able to muster were I to find myself in their position.<br /><br />I'm not saying that the movie isn't gripping - something akin to witnessing a massive traffic accident in action - but, when the dust has finally settled and all the disappointed customers return red-faced and empty-handed to their homes, we can safely declare that they are not the ones who should be feeling ashamed.\"\n",
      "* * * * * * * * * \n",
      "7843\n",
      "I've seen many of Guy Maddin's films, and liked most of them, but this one literally gave me a headache. John Gurdebeke's editing is way too frenetic, and, apart from a tour-de-force sequence showing a line of heads snapping to look at one object, does nothing but interfere with the actors' ability to communicate with the audience.<br /><br />Another thing I disliked about this film was that it seemed more brutal than Maddin's earlier works--though his films have always had dark elements, his sympathy for the characters gave the movies an overriding feeling of humanity. This one seemed more like harshness for harshness' sake.<br /><br />As I'm required to add more lines of text before IMDb will accept my review, I will mention that the actor playing \\Guy Maddin\\\" does manage to ape his facial expressions pretty well.\"\n",
      "* * * * * * * * * \n",
      "7943\n",
      "I saw this movie a few years back on the BBC i sat thru it. How? i don't know,this is way up there in the \\so bad it'Good \\\" charts Kidman ,Baldwin,and Pullman must cringe when they see it now.I think Woody Allen would have worked wonders with the outlandish plot, and Baldwin's part could have been played with gusto by Leslie Nelson.it was on again tonight i tried to watch it again but life's too short. the few minutes i watched was for the lovely Nicole she was so hot around 93, has Baldwin ever made a good movie? Pullman played his stock in trade \\\"nice but dim\\\" character the F-word coming out of his mouth when the lady from \\\"frasier\\\" miscast ed as a detective accuses him of murder sounds so wrong. stay well away.\"\n",
      "* * * * * * * * * \n",
      "8182\n",
      "When his in-laws are viciously murdered by a gang of thugs, a young deputy is ordered to escort his mute friend, forced to take the rap by the gang, to Tucson for trial and ending up having to face the real killers along the way.<br /><br />The Decoy is a real-life decoy sent to video stores to lure you away from better films! It's talky, illogical, slow, and ultimately very boring.<br /><br />There's some good costumes, sets, and photography but nothing else is good about this vanity project from writer/director/producer/star Justin Kreinbrink, who apparently had too much money on his hands.<br /><br />They used to make westerns like this, that were under an hour long. Trim this of about half it's length and you might have something watchable.\n",
      "* * * * * * * * * \n",
      "8235\n",
      "I decided to watch this serial after seeing the endless adverts for it on the BBC in the weeks prior to it starting. I watched it despite the fact that I don't like the pretentious kind of stuff that Alan Hollinghurst writes (sorry to his fans but I think we have a case of the emperor's new clothes with this author's work). I admit that the acting is excellent, it is beautifully shot and I was reasonably entertained by it - however- I found that the storyline was extremely thin and after watching all three episodes feel very unsatisfied with this rather empty production. The 'explicit' gay sex that the media droned on about has all been done before on TV - several times - so it was nothing very shocking I'm afraid. Full marks for production values but low ones for storyline/content I'm afraid.\n",
      "* * * * * * * * * \n",
      "8237\n",
      "I was very disappointed by this film for a few reasons. For the first half hour it's actually pretty decent. Although the acting isn't any better then that which you would find in a rap video, its kinda funny and the production value doesn't seem half bad. In fact I almost thought this would be almost as good as Perico Ripiao (another recent Dominican film) which turned out to be MUCH MUCH better than I expected. The plot for the movie revolves around not just cheating husbands but how women are viewed and treated in Dominican society as a whole, which makes for a good premise especially in The Dominican Republic. Unfortunately I don't think the makers of this film relies that a good movie is all about how you treat your subject matter, and they f'ing butchered the veal cutlet they had before them. About 30 minutes into the movie the roles of men and women are reversed after the main characters wife puts a kind of spell on him as a result of his cheating habits. Not only does this transition happen via what look to be cutting edge, space age, CGI effects dating to what I'm guessing would be the 70's, but the whole plot just goes down the drain. The rest of the movie is nothing but cheesy predictable situations, and clever one liners. To top it all off (and I guess I should warn you now **SPOILER ALERT**) it all turns out to be a dream. Oh my who didn't see that coming? Oh man I almost forgot the most ridiculous thing about the movie. Well after about an hour into it I start thinking \\",
      "hmmmm something just doesn't seem right about the sound track but what can it be??\\\" ",
      "and then it hits me HALF OF THE MUSIC IN THE MOVIE WAS TAKEN FROM A VIDEO GAME CALLED KING OF FIGHTER 95.<br /><br />When oh when DR will you give us a film we can call a work of art?!?! Perhaps a comedy to match France's Amelie, or an action flick to match Thailand's Ong-Bak, an animation as Akira was to Japan, a witty crime thriller as Layer Cake was to England, or a socio-awakening journey as Waking Life had here in the states.<br /><br />...i would give it a 1 but i've seen much worse come out of DR, search Los Jodedores and you'll know what I'm talking about.\"\n",
      "* * * * * * * * * \n",
      "8362\n",
      "If you want to learn the basics of quantum mechanics, spend your $9 on a used textbook, not this movie. I'm a little worried that the money I spent is being used to buy Kool-Aid for shipment to Guyana. <br /><br />I don't think the directors really got any point across, but it looks like maybe they were trying to make several: 1) Science can explain everything we do, meaning that our lives are deterministic; 2) Science can't be used to explain everything we do, meaning that we have free will; 3) Science is, like, really cool, brother; 4) We are God; 5) The world exists only in our minds; 6) Sarah Norman is a tough role to follow and 7) here, put this tiny paper square in your mouth and you'll see some really groovy stuff.\n",
      "* * * * * * * * * \n",
      "8449\n",
      "Oh, how we have a misfire here; a film so bad that your mind will wonder and drift away onto other things as it wastes your time with brain numbingly poor production values; character stereotypes of the worst and racist kind since D.W. Griffith referred to the Chinese character in Broken Blossoms as 'the yellow man'; characters so unimaginative and un-engaging that it's difficult to watch as well as a narrative that plods along at such a slow, stupid and pointless pace that you will question the very people who say they like this film.<br /><br />Prizzi's Honor is a film that ends up being an absolute post-modern disaster in every which way possible. The film is a messy and senseless disaster that has John Huston directing; Kathleen Turner and Jack Nicholson staring and everybody else filling in the gaps as either dumb stereotypes or supporting characters that weep on a phone now and again or bicker with a main character. Prizzi's Honor is a film that falls into a genre of neo-noir, comedy, romance, action, gangster and overall crime  this twinned with its director and cast should be enough to propel it through some sort of a story; some sort of a sequence of good scenes; some sort of intelligence in the form of a screenplay or something else but no  what we get is a nasty and ugly film revolving around nothing at all.<br /><br />I'll give a couple of examples of how shoddy this horror show of a film actually is. Firstly, the film thinks it's a love story and it thinks this for about an hour of its time: of MY time. Charley Partanna (Nicholson) is an assassin who kills people for a family that he works for in New York and yet he resembles his character out of One Flew Over the Cuckoo's Nest more than an international hit-man. He meets and falls in love with Irene Walker (Turner) who is another assassin and they hit it off but as the poor excuse for a plot plays out, it appears all is not right. I read that the plot for this film is: \\A professional hit man and hit woman fall in love, only to discover that they have each been hired to kill the other.\\\" Well, yes that's true but that actual revelation doesn't happen until about twenty minutes to the end! Nicholson plays Partanna like someone with an IQ of 60: he walks around; seemingly making observations and talking out loud about things he sees; he talks like he is either drunk or has a more serious problem from within and worse of all we never get the feeling he is an assassin  one really poorly shot assassination early on (that actually happens off screen) is not enough to suggest this guy is a hard-bodied, best of the best, international hit-man.<br /><br />So with a main character who is un-likable and un-realistic, we move to the script. The first hour and a half is just a cinematic dead zone with what ever there is to suggest traces of life merely poor conventions: Partanna slouches around on the phone or in person asking the same things over and over again: \\\"Do I marry her?; Do I love her? What is love? What do I do?\\\" and it gets so repetitive, it's not even able to act as good humour. This twinned with the way he always seemed to be on the phone to someone: a girl called Maerose Prizzi (Huston) played by director John's daughter; which served absolutely no purpose to the plot whatsoever and seemed to be there for laughs as was the scene in which she tells her father about how she slept with Partanna and loved it  that got me thinking, was this supposed to be funny? Should I be laughing? The film felt like a smart mafia picture what with its opening scene of a wedding (alá The Godfather) and consequential scenes with a touch of noir as gangsters, police men and assassins were introduced into the film. But what we get is something very, very different.<br /><br />The second hour revolves around some sort of a kidnap plot; right, the love and romance is dealt with  maybe the film will kick-start. I was so very wrong: with more characters continuously talking very slowly and very deliberately in a monotone way, we have a kidnap scene involving some guy coming out of his office: this scene sums the film up. Everything is briefly planned and then executed in a heavy handed and dumb way that just makes it look cheesy. We do not get to see them arrive to some dramatic music; perhaps they have to get through security to get to the elevators; maybe they have to be careful of civilians when they hide in their chosen places and when that random woman steps out of the elevator and the gunshot occurs  the scene isn't even edited correctly. Some suspense, some drama: \\\"Do I shoot or don't I?\\\"; maybe some slow motion as the character has to quick draw before it's too late  anything but how it was actually executed. Prizzi's Honor continues its monotonous and uninteresting decent into filmic oblivion as it nears its climax. It's a film where cameras reflect in windows; lights reflect in sides of cars and 'dead' chauffeurs blink when nudged. Prizzi's Honor is a jumbled and messy film that will try the patients of any film-goer and don't say it was a comedy because I didn't laugh with it  AT it is another matter. The film is repetitive, drawn out and colourless in its vision and scope for originality - there is no Honour here.\"\n",
      "* * * * * * * * * \n",
      "8905\n",
      "Hello, can anybody hear me? I don't know why you came to this page, but if you're a fellow viewer of this movie: join the fanclub! This movie was so unbelievably bad I couldn't stop laughing when I saw it. I think it's a must see, it's bad in a nice way. Every cliche ever invented for a horror movie can be seen here. I'm afraid it's very hard to get a copy of this movie, but it should be in the top 10 of worst movies ever made.\n",
      "* * * * * * * * * \n",
      "8924\n",
      "CARRY ON MATRON was released in 1972 and it's becoming clear that the series has reached a natural end with the best entries like CLEO , UP THE KYBER and SCREAMING being from the mid to late 60s <br /><br />In itself MATRON is by no means bad it's just that we've seen it all before with a thin plot ( A bunch of spivs trying to break into a hospital to steal a supply of contraceptive pills which they plan to sell to third world countries ) surrounded by gags of a slightly amusing though unsophisticated nature . I think that's where the problem lies - The gags aren't all that amusing with the unsophisticated nature starting to show its age . Did we need another movie that uses a man dressed up as a woman in order to drive the plot ? Perhaps the worst criticism I can make is that I saw CARRY ON MATRON this afternoon , less that twelve hours ago and I have a problem in trying to remember a very funny line . That's a serious problem for a comedy\n",
      "* * * * * * * * * \n",
      "8943\n",
      "Like too many recent British films, this one takes a great cast and gives them a flimsy, cliched script to work with. The performances save it from total disgrace, and it has some charm but it certainly didn't make me laugh. Where are all the great British writers hiding?\n",
      "* * * * * * * * * \n",
      "8986\n",
      "Seriously, Why do American and Frech actors pretending to be Czechs need to speak perfect English with a fake Russian accent? I am a man, so i enjoyed the gratuitous nudity--but a soft porn flick would have more of that, and at least wouldn't pretend it's artistic.<br /><br />All the political statements where painfully didactic- has the director heard of subtlety? The acting was also woody and melodramatic, and the comic relief was never funny. The characters were very shallow, and I just couldn't identify with them at all.<br /><br />The bit where I did laugh was when they cut the actors into archival footage of the demonstrations in Prague - and they were black and white and then sepia to match the footage-just ludicrous.<br /><br />I read many of Kundera's short stories (not The Unbearable Lightness of Being), and there are good things about his style of writing (although his themes are one big male fantasy)-and I have to say, the film did NOT convey any of the goodness of Kunderas style.\n",
      "* * * * * * * * * \n",
      "9083\n",
      "The pakage implies that Warren Beatty and Goldie Hawn are pulling off a huge bank robbery, but that's not what I got out of it! I didn't get anything! In the first half there's a new character (without introduction) in every other scene. The first half-hour is completely incomprehensible, the rest is just one long, annoying, underlit chase scene. There's always an irritating sound in the background whether it's a loud watch ticking, a blaring siren, a train whistling, or even the horrible score by Quincy Jones. There are a lot of parts that are laughably bad, too. Like, the bad guys chasing Beatty on thin ice with a CAR! Or, the police arriving at the scene roughly fifteen times. I really hated this movie!\n",
      "* * * * * * * * * \n",
      "9140\n",
      "Are we talking about the same movie? This movie is totally ridiculous, the plot is disgusting and completely without logic. Its a typical straight to DVD/TV-movie including all the necessary ingredients for a horrible movie experience: Over-acting by has been actors, side steps from the plot that are left unexplained, THE GIRL SHOWS HER T*ts(why, god, why??), people do not react to things as they would in real life. I'm not even gonna bother you with details, it would take all night. Well, OK, just one: If two people were murdered in front of you as you were walking down the street, one of the victims practically dies in your arms, his blood spurts from his head-wound all over you, would your first concern be; \\Oh, he left the world and the last thing he saw was my angry face!\\\"? My thoughts goes to Harvey and his lost career.\"\n",
      "* * * * * * * * * \n",
      "9517\n",
      "I can't say this is the worst movie ever made, but personally I think of it that way because when it was originally released in theaters, (1) the initial buzz was positive enough that my girlfriend insisted we go see it, and we actually STOOD IN LINE to get tickets, and (2) it's still the only \\serious\\\" film I recall where the audience started snickering at a certain point and basically laughed at the movie the rest of the way through. Once we reached the infamous (and interminable) snake fight scene, I think everyone gave up.<br /><br />The only positive I can concede is the lush location shooting. Oh, and there's also Bo's breasts, although her acting is so wooden that the nudity is unerotic and doesn't rate much more than a Playboy pictorial.<br /><br />The \\\"dramatic tension\\\" in this film is between Bo's terrible acting and her husband's horrible direction. The snake fight has to be one of the most incompetent \\\"action\\\" sequences ever filmed. However, this is one of those films that's bad enough, it may be worth watching on the level of unintentional humor. Definitely the worst film I ever paid to see.\"\n",
      "* * * * * * * * * \n",
      "9914\n",
      "3lbs is obviously just a self indulgent programme for Stanley Tucci to be a producer/moody deep doctor. Unlike House he has absolutely no personality and unlike Grey's Anatomy the brain surgery cases are't even interesting. This programme is supposed to be set in a leading centre for Neurlogical cases - yet there's nothing interesting or exciting going on! Not even the so called pathetic 'feud' between him and a rival adds anything to the show and neither do those hallucinations. In the pilot there was a brief glimpse into the leads's social life as a father - snooze! boring and pointless.<br /><br />This show is pants,there's a glut of medical dramas around at the moment and this does nothing to make it stand out as special.\n",
      "* * * * * * * * * \n",
      "10647\n",
      "First off, the movie was not true to facts at all. I just saw the documentary a few days earlier and the movie wasn't anything like it. First of all Nash was a genius at mathematics and this is what the movie should have been about not a story about a man who was cured and who found love at the end and so on. Also there are a lot of scenes that were just plain wrong - the scene where he rode around with a bike at the campus happened in his early university years not after it. In my opinion Russell Crowe didn't fit to this part at all since he doesn't look the intelligent/individualist type, therefore he really couldn't play one. It would have been great if it would have focused more on the mathematics (similar to Pi) and not the over-dramatized lovelife. At this level ABM was too hollywood-ish and too superficial to be great. Personally I think he wasn't mad nor paranoid and he was onto something since people of that caliber tend to know more than we \\lesser mortals\\\". 5/10\"\n",
      "* * * * * * * * * \n",
      "10694\n",
      "This movie fails to offer anything new to a genre that has traditionally shown the cross cultural love story underpinned by the politics mid 20th century / pre-WWII India, where the British and their modern ways are bad and the primitive but honest and true Indians are good. Surely such clichéd depictions of the British are rather passé now.<br /><br />Apart from the drama that fuels the second part of the movie the narrative is predictable, the acting is pedestrian and two-dimensional, and the directing obvious and unimaginative.<br /><br />The story really needed to be fleshed out and would certainly have benefited from another half an hour of screen time to give the characters and narrative more depth and give the viewer something to feel some investment in.<br /><br />All in all, rather uninspiring. Oh and Linus Roache just cannot do tragedy - going cross-eyed with emotional pain just doesn't work for me!\n",
      "* * * * * * * * * \n"
     ]
    },
    {
     "name": "stdout",
     "output_type": "stream",
     "text": [
      "11021\n",
      "Watching CBS's \\Surrender, Dorothy\\\", I kept wondering why Diane Keaton would want to be in it (not because it's a television movie--with the dearth of enticing roles for slightly older actresses, it isn't any wonder why Academy Award winning performers such as Keaton turn to TV--but because it offers no opportunities for Keaton to shine). A single mother, grieving the sudden death of her twenty-something daughter, imposes upon--and gradually becomes friends with--the group of young people her daughter was close to at the time of her accident. Adapted from the novel, this teleplay gives us a group of self-absorbed characters one would cross the street to avoid. Aside from being coarse and dim, these phony people are incredibly unconvincing, as is the tidy scenario and the bungalow near the beach where the kids reside (one young man, who wears muscle shirts to tell us he's gay, hears Diane Keaton say, \\\"Surrender, Dorothy\\\" and actually asks, \\\"That's from \\\"The Wizard of Oz\\\", right?\\\"...no, genius, it's from \\\"Citizen Kane\\\"!). Keaton may have wanted to do this material based on the subject matter of confronting death. She tries turning this distinctly unlikable woman into a shadow of her own personage (lots of kooky outfits), but it doesn't sit well with the viewer since Keaton has always been warmly likable and flexible in a flaky way. Here, she's a crazed harpy who doesn't learn many lessons on her journey of self-discovery (the movie quickly forgets it's about a dead young woman and becomes an odyssey for the nervous wreck of a mom, who appears to be an overage hippie who has never lost anyone close to her). This is the kind of film actors promote on talk shows with the caveat, \\\"It should help a lot of grieving mothers out there\\\". I can't imagine it helping anyone since it is intrinsically a downer, muddled and baffling. It's deranged.\"\n",
      "* * * * * * * * * \n",
      "11098\n",
      "So why does this show suck? Unfortunately, that really is the only question, because there is no doubt that it does.<br /><br />For those unfamiliar with the premise of the show, the doomed-to-be-shortlived series Cavemen focuses on a number of Neanderthals and their struggle to exist in modern day America and is based on the characters featured in a series of television ads for Geico Insurance. The concept is solid and there is every reason to think it could be executed successfully.<br /><br />I had to think about it for awhile, but then the tagline from the commercials -- something to the effect of \\We're not that much different from you\\\" provided me with the key to the show's suckiness. Even though cavemen/Neanderthals are actually a different species than humanity, the title characters of this show, it turns out, are exactly the same as those of us who are boring jerks.<br /><br />Maybe its my background as a game writer -- rather than a soulless, hack, committee-based writer from California -- but this show had so much potential, and none of it has been realized. To start with, the producers should have focused on the fun things that would make cavemen different from us.<br /><br />What could conceivably be funny, for example, about giving them occupations like perpetual grad student and furniture store clerk, when they would have more compellingly been drawn to things like subterranean utility workers and guides at cave parks? Why would they play prosaic games like squash, when a whole episode could be devoted to them trying get hunting licenses to go after game with spears? A show like this could write itself, and it takes some willfully bad writing to make it quite so crappy and boring.<br /><br />Another tiresome aspect of this show is an attempt to portray the cavemen as being subjected to a number of stereotypes associated with various human minorities. Yawn! This has been done so many times before, and never more drearily than this. And, as noted previously, Neanderthals really are a different species, so using them as a metaphor for racial stereotyping is both uncompelling and off the mark.<br /><br />Responses are welcome, including those from anyone who wants to tell me why I'm wrong. I'd like to enjoy this show and am just sorry that I have thus far been unable to.<br /><br />Michael J. Varhola, Skirmisher Online Gaming Magazine\"\n",
      "* * * * * * * * * \n",
      "11177\n",
      "I read the reviews of this movie, and they were generally pretty good so I thought I should see it. I'm a big Francophile and art film lover, but I believe this is yet another case in which the critics make something \\arty\\\" or \\\"intellectual\\\" into something it is not. I will be blunt: it contains scenes of sexual perverseness that I never, ever wanted to actually see. Obviously, the piano teacher has some major psychological issues, but I really did not want to see them displayed so graphically. The film is, in essence, disgusting. I mean, when I saw Requiem for a Dream, I was repulsed by the last sort of scene with Jennifer Connelly, but that was not anywhere near the sort of disgust and repulsion I felt during this film.\"\n",
      "* * * * * * * * * \n",
      "11211\n",
      "This 1997 film-blanc classic tale of smoldering passion has achieved its well-deserved legendary status as one of the screen's greatest sagas of a doomed and hopeless love. The pervasive, ongoing and progressive magnetism between Judge Reinhold and what's-her-name is sure to set many a viewer's heart a-flutter with memories of one's own first crush. The brilliant screenplay dangles this embryonic affair-to-be in front of the enraptured audience, sitting transfixed as the abstract, almost-expressionist cinematography deep-focuses on the just-under-the-surface desires that ebb and flow between the principals. You can cut the sexual tension with a dull tire iron. <br /><br />A tiny drop of perspiration on the end of a nose catches the bright sunshine, and leaves no doubt as to its significance. Scenes like this abound and bear watching again and again. As with \\Jane Eyre\\\" and \\\"Rebecca\\\" (to which this masterpiece is so often compared), the closeups of the actors' faces as they experience the slow dawning of the great love-that-is-not-to-be will haunt you forever. <br /><br />The now-classic RC soundtrack score, with its creative and unique use of solo synthesizer, emphasizes the emotion that drips throughout like a leaky crankcase.<br /><br />If I had any criticisms at all by mentioning what I consider a minor flaw (and dared to risk the wrath of the millions of fans who hold this classic so dear to their hearts), I would say that the hallmark of \\\"Runaway Car\\\" - its sense of mounting sexual tension - is briefly broken by the highway scene, which now after repeated viewings seems just a bit overlong (and probably even unnecessary?) to the eternal, bittersweet tale of Love Interrupted.<br /><br />Dare I advance what I perceive as the tiniest of flaws in this critically-acclaimed triumph of modern cinema? 'Citizen Kane' had its 'Rosebud' . . . 'Runaway Car' should have its catchword as well. Perhaps the film could have opened with an extreme closeup of Judge Reinhold saying something such as \\\"A car is an extension of its owner!\\\", and the rest of the storyline could then be dedicated to parsing every syllable, subtlety and nuance of that phrase. Had that plot line been done, this film could have topped \\\"Titanic\\\" at the Golden Globes that year, I'm convinced.<br /><br />My one regret? That I didn't read the novel first.\"\n",
      "* * * * * * * * * \n",
      "11220\n",
      "'SherryBaby' is quite a painful and sordid melodrama set in Jersey, the story of a young mother who is out of jail on probe after a drugs-related conviction and fights to stay clean, to find a place for herself in life and especially to win back the love of her kid daughter who is being taken care by her brother's family. The only reason the film is to be watched is Maggie Gyllenhaal, an actress at the top of her career, who fits very well in the role and carries the whole film on her shoulders. This is not enough however, as the story line is too simplistic and expected, and the emotional emphasis is put on the wrong place - I kept asking myself all over the picture whether I am supposed to be sorry about the ex and maybe future drug addicted mother as the director and script-writer wanted, or about the innocent kid who is in the middle. Even Maggie Gyllenhaal's acting could not convince me that I should not care more about the kid.\n",
      "* * * * * * * * * \n",
      "11665\n",
      "I rented this movie yesterday and can hardly express my disappointment in little Laura Ingalls for getting involved in something so poorly produced. I am not sure if it was horrible writing or bad directing or both but it leaves a viewer very disappointed in having wasted the time to watch this swill. It consisted of a weak naive story line, very poor lines, and relied solely on pretty scenery, and pretty people to sell it. Unfortunately this was not enough. You would be better off to rent a tape full of static than to waste your time on this crap. Lindsey Wagner also played a pretty pathetic part as a ranch owner who apparently works very hard doing nothing, anybody who has ever been near a ranch knows that this was obviously written by a young person from los Angeles and not someone with much knowledge of the world.\n",
      "* * * * * * * * * \n",
      "11690\n",
      "Nobody, but nobody, could chew the scenery like the Divine One, Ruth Elizabeth Davis, and \\Elizabeth and Essex\\\" is a great example why. Although she overplays the part at times, watch her when she gawfs about Raliegh writing the lyrics to a song her ladies-in-waiting are about to play: in that one moment, she makes us understand how Elizabeth was able to rule and rule absolutely! At other times, she is done in by the script's sappiness. When Elizabeth has to be vulnerable, she comes off as weak and shrewish. This has the added effect of undermining her authority: when she blows her stack and threatens to dispense justice, it's hard to take her seriously.<br /><br />Flynn exudes charm, making us see how Essex was able to worm his way into Elizabeth's heart, but he is totally inept at conveying the complexity and sheer evil of the man. It also doesn't help that Essex is badly underwritten. Why is he this hothead who wants to overthrow his Queen - even as he swears fidelity to her - except only that he is more blue-blooded, thus, more \\\"worthy\\\" of rule? And why does Raliegh betray Elizabeth by intercepting her and Essex's letters? He's in no risk of falling out of favor, and we know where Essex (and his head) is headed. So why does he risk his own head by speeding up the inevitable?<br /><br />What did Curtiz do with all the $$$ he was given? He doesn't even bother to try to hide the fact that his battle scenes are shot on a sound stage. He should've ended it with Elizabeth the first time alone at The Tower; everything else that follows (especially the final scene between her and Essex) is unnecessary. The costumes are fantastic. And is it me, or does Bette look exactly like Susan Sarandon?\"\n",
      "* * * * * * * * * \n",
      "11755\n",
      "I can't believe it, IMDb really does have every TV show known to man! I have not seen this show in over 20 years. I only remember two episodes, and I barely remember those. I remember that Tony may not been on from the start, because one of the episodes I remember is the one in which everybody trying to get Tony to join, but he rejects them, but typically at the end of the show he becomes a member of Power House, with everybody cheering.<br /><br />The other one I remember is the one where Lolo for some reason pretends to be dead,(complete with funeral and mourners). I don't remember why he plays dead, or how the show ends.<br /><br />This is one of those shows that I convinced myself that I must have dreamed up since no one else had ever heard of it.\n",
      "* * * * * * * * * \n",
      "11927\n",
      "The film began with Wheeler sneaking into the apartment of his girlfriend. Her aunt (Edna May Oliver--a person too talented for this film) didn't like Wheeler--a sentiment I can easily relate to. The aunt decided to take this bland young lady abroad to get her away from Wheeler. They left and Wheeler invested in a revolution in a small mythical kingdom because they promised to make him their king. At about the same time, Woolsey was in the same small mythical kingdom and he was made king. So when Wheeler arrived, it was up to the boys to fight it out, but they refused because they are already friends--which greatly disappointed the people, as killing and replacing kings is a national pastime.<br /><br />I am a huge fan of comedy from the Golden Age of Hollywood--the silent era through the 1940s. I have seen and reviewed hundreds, if not thousands of these films and yet despite my love and appreciation for these films I have never been able to understand the appeal of Wheeler and Woolsey--the only comedy team that might be as bad as the Ritz Brothers! Despite being very successful in their short careers in Hollywood (cut short due to the early death of Robert Woolsey), I can't help but notice that practically every other successful team did the same basic ideas but much better. For example, there were many elements of this film reminiscent of the Marx Brother's film, DUCK SOUP, yet CRACKED NUTS never made me laugh and DUCK SOUP was a silly and highly enjoyable romp. At times, Woolsey talked a bit like Groucho, but his jokes never have punchlines that even remotely are funny! In fact, he just seemed to prattle pointlessly. His only funny quality was that he looked goofy--surely not enough reason to put him on film. Additionally, Wheeler had the comedic appeal of a piece of cheese--a piece of cheese that sang very poorly! A missed opportunity was the old Vaudeville routine later popularized by Abbott and Costello as \\who's on first\\\" which was done in this film but it lacked any spark of wit or timing. In fact, soon after they started their spiel, they just ended the routine--so prematurely that you are left frustrated. I knew that \\\"who's on first\\\" had been around for many years and used by many teams, but I really wanted to see Wheeler and Woolsey give it a fair shot and give it their own twist.<br /><br />Once again, I have found yet another sub-par film by this duo. While I must admit that I liked a few of their films mildly (such as SILLY BILLIES and THE RAINMAKERS--which I actually gave 6's to on IMDb), this one was a major endurance test to complete--something that I find happens all too often when I view the films of Wheeler and Woolsey. Where was all the humor?!\"\n",
      "* * * * * * * * * \n",
      "12092\n",
      "<br /><br />As with the other episodes in this made-for-TV series expanding on the many adventures of the sea legend, Horatio Hornblower's super human infallibility ruins all chance for suspense.<br /><br />As little Wesley Crusher ruined many seasons of THE NEXT GENERATION, Horatio Hornblower invincibly saves every situation. Each and every clever solution inevitably comes only from the lips of Horatio Hornblower. Immeasurably superior, Hornblower's main trouble in this movie series seems to be tolerating the many error ridden characters above and below him in the chain of command. A perfect being makes for dull story telling. So superior is our hero, that even those who attempt to help him are powerless to do something correctly unless Hornblower is there to direct and control their every move.<br /><br />What is the sense in telling a story about any person who cannot do wrong and will repeatedly win at everything every single time? What is the point of watching such a story?\n",
      "* * * * * * * * * \n",
      "12326\n",
      "I'm starting to think that there's a conspiracy, all right: one that involves a wallop of money paid to those who have access to published columns in newspapers and film and art magazines to ensure that this or that film, despite its obscurity, will reach a higher status via a ratings point which will tag it with a \\universal acclaim\\\" or something within that range, thus ensuring unsuspecting folk (like me) will wander into theatres or rent the bloody thing, expecting a surprise, only to find myself racing to the bathroom to upchuck.<br /><br />This movie is one of them. It has definitely make me bypass any and every posted article I come across because it's rather clear that two things might have happened: either I didn't get the message that is so hidden beneath this film's inner realms as to be impossible to access, or they and I watched two entirely different movies that happen to share the same name. 4 is a dirty trick on the audience. It's no wonder that it appeared and disappeared faster than you can say \\\"smorsgabord\\\" and that despite the rating it got on Metacritic, no one had heard of it. It's terrible with sugar on top.<br /><br />Firstly, there is the ever-present number four from start to finish. While having a little symbolism here and there is okay, and it's been done with various degrees of success in many well-known movies, this movie is panting with it. Four dogs at the start of the movie, looking at the camera in a heretofore empty street when suddenly, machinery drops onto the foreground and proceeds to rip open the asphalt. Four people in a bar, although one of them is a non-entity. Three of them go their separate ways but are linked nevertheless, not only to each other but to what their lives are not. While this concept may work, the movie meanders so much -- particularly with the story of the would-be model played by Marina Vovchenko which goes into the territory of the extremely bizarre, and not in a good way -- that the initial theme gets lost in translation. Or maybe, like I said before, I just \\\"didn't get it.\\\" The problem also lies in that so much time is spent on Marina's story (which revolves on the death of her sister, from bread-chewing, no less, and the subsequent, shrill mourning which follows) that any interest in the inherent Surrealism dissipates without a trace. So what if the same horrifying tales that the three strangers interchanged in a bar seem to have a truth of their own? The director doesn't invest much time in truly tying them together, or weaving a tighter story that could, in a David Lynchian way, intersect either with the past-present, or within alternate dimensions, or even as a straightforward, mundane science-fiction story. This is an uphill battle against an insurmountable wall that only a saint (or someone into the weird for weird's sake) could endure.\"\n",
      "* * * * * * * * * \n",
      "12503\n",
      "The story is similar to ET: an extraterrestrial run around on earth and tries to come back home. While its stay on our planet, it will create friendly ties with humans.<br /><br />But, unlike ET which exudes drama, comedy, poetry, this movie is only fun. It is indeed a pure Dysney production: its core audience are children & the movie is more more in the visual than in the message.<br /><br />Thus, you will find some funny scenes (the first sighting of the town, a \\cosmic\\\" stray toaster) and the casting is experimented, with special mentions to \\\"Doc\\\", who rejuvenates in a \\\"Mac Fly\\\" character, and to Hurley, who seems open to auto-derision.<br /><br />Ice on the cake: the main title is scored by Danny Elfman, and like every other great composer, you recognize his \\\"voice\\\" before he is even credited.\"\n",
      "* * * * * * * * * \n",
      "12530\n",
      "When I read MOST of the other comments, I felt they were way too glowing for this movie. I found it had completely lost the spark found in the earlier Zatoichi movies and just goes to prove that after a long absence from the screen, it's often best to just let things be. I completely agreed with the Star Trek analogy from another reviewer who compared the FIRST Star Trek movie to the original series---millions of excited fans were waiting and waiting and waiting for the return of the show and were forced to watch a bland and sterile approximation of the original.<br /><br />The plot is at times incomprehensible, it is terribly gory (though the recent NEW Zatoichi by Beat Takeshi is much bloodier) and lacks the heart of the originals. I didn't mind the blood at all, but some may be turned off by it (particularly the scenes with the severed nose and the severed heads). In addition, time has not been good to Ichi--he seems a broken and sad man in this film (much, much more than usual)--and that's something fans of the series may not really want to see.<br /><br />This was a very sorry return for Zatoichi. Unless you are like me and want to see EVERY Zatoichi film, this one is very skipable. See one of the earlier versions or the 2003 ALL-NEW version.\n",
      "* * * * * * * * * \n",
      "12562\n",
      "David Mamet's film debut has been hailed by many as a real thinking-man's movie, a movie that makes you question everybody and everything. I saw it for the first time recently and couldn't understand what was supposed to be so great about it.<br /><br />The movie is about a female psychologist named Margaret who is also a best-selling author. Margaret has become disillusioned by her profession and her inability to really help anyone. She tries to rectify this by helping settle her patient's gambling debt to a shark named Mike (played by Joe Mantegna, who is the only reason to watch this film). She discovers that Mike is actually a professional confidence man when she nearly falls victim to a scam he pulls immediately after meeting her. Intrigued, she returns to see him and asks him to show her how con artists operate (she plans on using this as the subject of a new psychology book). She then falls for him and accompanies him on a long con that he and his associates have set up.<br /><br />I don't feel like going into details, but at the end of the film it is revealed that the events of the whole movie were an elaborate con by Mike and his cronies to swindle Margaret out of $80,000.<br /><br />First of all, the big twist towards the end was VERY predictable. Any scene where the con men were operating was made very obvious by the stagey acting and weird line reads. Not only that, but the audience (and the main character) knows that they're dealing with con men, so is it really such a big surprise when we find out that Margaret has herself been conned? Besides, Margaret is supposedly an intelligent psychologist who is an expert at reading people, yet she allows herself to be duped far too easily -- and keep in mind, she knows full well that Mike is a con artist.<br /><br />Secondly, we are led to believe that Margaret was conned from the very beginning, yet in order for the con to ultimately work, she had to do several things that the con men couldn't possibly have predicted that she would do. First, she had to decide to help settle her patient's debt, allowing her to meet the con men in the first place. If she hadn't done this, the entire con would have failed. I just have to say that it's pretty unreasonable to assume that a psychologist is going to take it upon herself to settle a patient's gambling debt. Not only that, but what are the odds that the con men would be at the right spot on the very night she decided to show up? Did they simply show up at that bar every night, hoping she would come and see them? Another thing that had to happen that couldn't have been predicted is that Margaret had to return to see Mike again and ask him to teach her the tricks of his trade. What are the odds of this happening? And yet the whole con is based on this premise.<br /><br />Another problem I had is with the ending. Margaret finds out she's been conned and decides to get revenge on Mike. At first, Mamet leads us to believe that she's going to con the con, but that falls through, so the ultimate ending is her gunning Mike down in an airport baggage area. Somehow that just felt like a clumsy and inept way to end a movie about con artists plying their trade. Not only that, but she didn't even take back the money he stole from her.<br /><br />Ultimately, the movie leaves you feeling empty and unfulfilled. And if you, like me, predicted ahead of time that Margaret was going to be conned, you will find this revelation just as unsatisfying.\n",
      "* * * * * * * * * \n",
      "13054\n",
      "The second in the Vacation series is easily the least enjoyable one, as Clark Griswold wins a trip for the whole family to Europe.<br /><br />The tasteless, below the belt humor that worked so well the first time around is practically nonexistent here. That fault surely lies with director Hackerling, who's obviously nowhere near as good a director as Harold Ramis and a very uninspiring script that has only a handful of decent lines scattered around.<br /><br />The cast does what they can; Chevy Chase injects some form of life into the proceedings but it's simply not enough and the very funny Eric Idle is completely wasted in a small role as a very unlucky Englishman. Some potentially hilarious moments aren't played out to their full potential and leave the viewer mostly aggravated. All depictions of Europeans are one-dimensional and almost universally not funny at all (like how the English are SOOO polite).<br /><br />Apart from a few scenes, there's hardly a laugh in sight and the ending turn this one into complete slapstick. But if you're a Chevy Chase fan (like myself) the film is watchable, but no more than that.\n",
      "* * * * * * * * * \n",
      "13088\n",
      "This movie was on the Romance channel, and I thought it might be a goofy 80's movie that would be enjoyable on some level, so my brother and I watched it. Boy did it suck. Boy gets crush on girl--correction, his *dream*-girl (apparently there is a difference; and I'm surprised he realized she was his dream girl--he was smitten with her from over 30 feet away. I guess that just goes to show the power of dream-girls), boy ends up masquerading as a female to be near dream-girl (creative in the sense that it's a far-out plan, but un-creative in the sense that there are probably better solutions one might think up), awkward situations ensue, a match is made (all of which takes seems to take place around late afternoon--either the location was somehow responsible for this odd lighting, or the actors had to wait until they got off of their day-jobs to come to the set; I suspect the latter). Very clumsily done, very pathetic. It's almost never even amusing *accidentally*, so there really is nothing to redeem it. Unless you're interested in seeing Chad Lowe's early days, before he finally got his piece of the pie with his role as the HIV-positive gay guy on the series \\Life Goes On\\\", or Gail O'Grady who was on NYPD Blue and probably got to stare at Dennis Franz's buttocks). But those are unlikely motives--I'd say \\\"systematic derangement of the senses\\\" would be a more justified purpose. I'm surprised I watched it all. I guess it's the kind of thing where, halfway through, you find yourself *still* watching due to some morbid, self-flagellistic inner-issue, and think you might as well finish it so you can tell your friends and family that you actually sat through such a horrible movie, on the off-chance that it'll garner you some sympathy for the questionable state of your mental health. Can *You* Take the Challenge?\"\n",
      "* * * * * * * * * \n",
      "13115\n",
      "I vaguely remember Ben from my Sci-Fi fandom days of the '60s, I was doing several interviews & bios of obscure actors/actresses, most notably Ben, actress Fay Spain, and Jody Fair, who played Angela in 1961's The Young Savages. Ben was one of the people at a low-key Sci-Fi con in Chicago, about 1970, when I had a nice chat with him and his \\career\\\" and life. All these were published in some now-long-forgotten fanzine of the day. Wish I still had copies of those interviews, but time marches on, and any of those people surely wouldn't' remember me at all so many years later. Ben was a really nice fellow, ekeing out a living (The cons of those days didn't even pay their guest, unless, of course they were big-name stars, and even then the pay was a couple hundred dollars, at most! Good to know Ben's still alive & kicking! How 'bout a remake of Creature, but 50 years older! Ugly then, uglier now!\"\n",
      "* * * * * * * * * \n",
      "13306\n",
      "Hey if you have a little over an hour to kill and find paint to be too exciting I'd suggest it. If thou you happen to like cheap b-movies like me it's good for a giggle! Other than that I wouldn't suggest that you rent it, I'd wait till it comes on the tube say round 4 am on the free access channel of your cable/satellite supplier. The band that did this sound track by the way was on the road after for about two years after this flick, and no they sounded just as bad live according to the two small town reviews I could find on them. So once again good if you find grass growing to much fun but good to watch if you like to see how NOT to shoot a low budget movie.\n",
      "* * * * * * * * * \n",
      "13404\n",
      "Ostensibly this is a Z-grade DTV horror film.<br /><br />But with lines like :<br /><br />\\It's easy to die, I have, many times\\\"<br /><br />and<br /><br />\\\"Why are you reading that book ?\\\" \\\"Because it makes the plot more interesting\\\"<br /><br />and<br /><br />\\\"You made your way in here, now you can make your way out again !\\\" (after he leads a man into the basement)<br /><br />(and take a listen to what they chant)<br /><br />- it's not that clear what this film, made in the era known for post-structuralism, is actually about, or whether its just bad film-making. The acting is atrocious, but some actors I know, so are they hamming it up ?<br /><br />An old house, cut obviously with a contemporary dwelling, is the site of murders. A (bad) film is made in the grounds and the story replays again.\"\n",
      "* * * * * * * * * \n",
      "13528\n",
      "Saw this late one night on cable. At the time I didn't know that the girl billed as \\Shannon Wilsey\\\" was actually porn star Savannah, but she was so beautiful (and got naked so often, thank God) that I actually sat through this brain-rotting drivel. I like cheesy flicks as much as the next guy--more than the next guy, actually--but this was way beyond cheesy and more into rancid. The truly annoying overacting by the mad scientist and the director's, writers' and special effects people's virtually total incompetence detracts from the gratuitous nudity that is the movie's only saving grace. Savannah, before she turned into the plasticized Barbie Doll she became as a porn queen, is really interesting to watch--she's drop-dead gorgeous, bursts into uncontrollable giggling at times, glances off-camera and laughs and just generally seems to be having a really good time, which is more than can be said for the audience. For even though Savannah and her colleagues spend a fair amount of this picture naked, it still can't hide the fact that this is an incredibly stupid, badly made and annoying movie. If you know someone who has it on video, or if it comes on cable some night, check it out, but don't waste your money on a rental.\"\n",
      "* * * * * * * * * \n",
      "13921\n",
      "Come on, what is the deal with this show, Power Rangers anyways? I always felt that the show, which was originally brought over from Japan in a better form, took what was great in Japan, and turned into one of the most ridiculous and pointless excuses in toy merchandising history! There is absolutely no point with this show whatsoever.<br /><br />The bad haircuts, bad costumes, earrings, etc, all show what was ridiculous back in the 1990s From the two idiots, Bulk and Skull, to the \\duhs\\\", of the main cast, Jason, Trini, Tommy, Kimberly, Billy and Zack, I just want to say one thing: GIVE ME A BREAK!<br /><br />Saban brought this from Japan, and then Disney bought the rights to this show around five years ago.<br /><br />Now the public has to endure reruns of this show on the Disney channel and such.<br /><br />All I can say once again is give me a break!\"\n",
      "* * * * * * * * * \n",
      "14035\n",
      "By rights, there should never have been a \\First Blood Part II\\\". The original script for \\\"First Blood\\\" had John Rambo committing suicide at the end of the film, but this was changed to allow him to live, not because the producers wanted to make a sequel but because test audiences found the original ending too depressing. Nevertheless, someone obviously thought that the character was too good to waste, because he ended up as the hero of two more films in the eighties, plus the recently released fourth instalment.<br /><br />The official title of this film was \\\"Rambo: First Blood Part II\\\", but it is more commonly known simply as \\\"Rambo\\\". It starts with the title character in jail, where he is presumably expiating the crimes he committed in \\\"First Blood\\\", although this is never made too explicit. He is removed from prison by his former commanding officer, Colonel Trautman, for a secret mission. Rambo is to return to Vietnam to investigate reports that American POWs are still being held captive by the Communist regime. He is under strict instructions not to attempt to rescue any prisoners or to engage the enemy; his is to be simply a fact-finding mission.<br /><br />What Rambo does not realise is that he is being set up, not by Trautman, who is portrayed as brave, honourable and incorruptible, but by the organiser of the mission, a military bureaucrat named Murdock. Murdock intends that the mission will prove that there are no American prisoners in Vietnam, partly because that will improve relationships between the American and Vietnamese governments, partly because it will make his own life easier. Unfortunately for Murdock, Rambo discovers that not only are Americans still being held prisoner, they are also being kept in hellish conditions. Of course, he is far too much of a hero to leave them to their fate, and tries to rescue them. The rest of the film is more or less one long battle between Rambo and a few allies (including a beautiful Vietnamese girl) and the evil commie soldiers and their Russian allies. Most of the evil commies, of course, end up dead, although I was surprised to learn from your \\\"trivia\\\" section that the total death toll was as low as 67. At times it seemed as though Rambo was trying to wipe out the entire Vietnamese army.<br /><br />The tone of this film is very different from the first. In \\\"First Blood\\\" Rambo was unquestionably a criminal, even though his responsibility for his crimes was lessened by severe provocation and by his mental instability. In \\\"Rambo\\\" he is a bona fide all-American hero. A few years earlier the director, George Pan Cosmatos, had made \\\"The Cassandra Crossing\\\", a biased piece of left-wing anti-American propaganda. Cosmatos, however, was nothing if not versatile, and \\\"Rambo\\\" proves that he could also turn his hand to biased right-wing pro-American propaganda. The one thing the two films have in common is that both are laughably bad.<br /><br />\\\"First Blood\\\" had its faults, but it also had its virtues. Its stance, that the anti-war movement was partly to blame for the problems faced by Vietnam vets in readjusting to civilian life, was a controversial one, but at least the film was trying to make a statement about war, social attitudes to war, and the roots of violence in society. \\\"Rambo\\\", by contrast, has very few virtues, except that the action sequences are well enough done to please those who like that sort of thing. It is essentially a sort of jingoistic revenge fantasy for those Americans who were still sore about the Vietnam war. Rambo re-fights the war single-handed, and this time the right side wins. Take that, Charlie Cong! <br /><br />By this point, no doubt, the film's admirers (and there seem to be plenty- more than 2,000 voters have already given it ten stars) will have concluded that I am a liberal commie-loving pinko. Far from it- in fact, I have always despised Communism as a pernicious ideology. What I dislike about the film is not its politics but its lack of subtlety and its suggestion that the solution to all problems, including ideological disputes, is to go in with all guns blazing and to try and kill as many people as possible. It makes no attempt to understand the political complexities of South-East Asia or why not everyone in the region was pro-American. For all its anti-Communism, the film is the sort of moronic sledgehammer propaganda that the Communists were very good at churning out themselves- except that they attributed all the world's problems to Capitalism, or Imperialism, or Revisionism, or whatever other ism they had taken a dislike to. Compared to \\\"Rambo\\\", \\\"The Green Berets\\\" was a masterly piece of political analysis. 3/10\"\n",
      "* * * * * * * * * \n",
      "14345\n",
      "I bought this movie from Gamestop's discount used movie bin and the cover caused me to laugh uncontrollably so I bought it for 99cents. The movie itself is retarded and they use like ten different monkeys throughout the whole film that hardly look alike. Not to mention they use a stunt double who is just a short guy in costume making a desperate attempt to impersonate a monkey.<br /><br />The director more than likely committed a murder-suicide with the chimpanzees after the movie debuted in a preview for some other low rent Warner Bros. film and he ended up owing money to the studio. It also doesn't help that he wasn't even infamous for the terrible job he did, he wasn't even known for producing a poop-chute film.<br /><br />Why was this movie ever made?\n",
      "* * * * * * * * * \n",
      "14519\n",
      "I usually don't walk out of a movie, but halfway thru I did. This movie promised something different, but I kept thinking haven't I seen that before? Spoiler Alert! Back in 1, the spaceship crashes and lands on earth, well, all these years later, with a super adult on board no less, this thing still manages to burn up and crash! What, this advanced civilization can't seem to develop landing gear? For an industry that's so liberal, we get to see another Woody Allen movie, no blacks please! Superman runs around saving people, making sure he sticks to Europe and the US, don't go into darkie areas please. Maybe I could stomach this about 30 years ago, but now now.\n",
      "* * * * * * * * * \n",
      "14644\n",
      "After a series of power-outages on a remote island zoo, genetically engineered sabertooth tigers are on the loose and mauling residents of the island. Man, the sci-fi channel has made some bad \\original\\\" movies, but I think this might possibly be their worst so far! This badly written and directed \\\"Jurassic Park\\\" rip-off offers all the usual clichés (mad scientists who thinks people killed by the monsters are \\\"expendable losses\\\", characters walking down long dark hallways alone, brain-dead teen characters who's only function in the film is to die a horrible death, etc.), and, unsurprisingly, no suspense whatsoever. The special effects are atrociousthe puppet heads in close-ups of the title beasties are bad enough, looking like stiff plush dolls, but the CGIwhich makes the computer-generated dinosaurs in \\\"Walking with Dinosaurs\\\" look life-like by comparisonare just downright awful. There's some gore, but most of it looks pretty unconvincing. Oh, and the death scene of the scientist at the end is truly one of the worst things I've seen in years. I couldn't even laugh it was so bad!<br /><br />Don't waste your time, this one is just downright bad.<br /><br />2/10. <br /><br />Oh, and here's some interesting trivia for youthis film borrowed music cues from the 2003 sci-fi film \\\"Alien Hunter\\\", which was far superior to this piece of crap.\"\n",
      "* * * * * * * * * \n",
      "14705\n",
      "The original Thunderbirds earned a place in TV history. It was, and still is, much beloved - indeed, the entire first 10 minutes of the Wallace and Gromit movie (the Wererabbit) is a direct lift of Thunderbirds, down to a direct replay of the original Thunderbird 2 launching sequence (if you don't believe me, get the movie, and then get a copy of the original episode where Thunderbird 2 is launched).<br /><br />This movie was a crass attempt at making a kids' movie - when the original was loved and enjoyed by kids and adults alike! In the original, the Thunderbirds spent all of their time rescuing people who were often trapped when Mother Nature or Technology went horrible wrong (yes, there was also the occasional criminal act). The Thunderbirds put their own lives and resources at risk for no reward - the very essence of heroism and selflessness. There was little physical violence. The Thunderbirds challenged the imagination to a degree - how many of us would dream of someday building a Thunderbird 2? And don't underestimate the power of entertainment to do this - many Japanese attribute their fascination with humanoid robots to the old Astroboy cartoon.<br /><br />But this movie was a poor re-image of the original. This movie came across as a meld between Thunderbirds and Loony Tunes - I mean, we have Anthony Edwards as Brain imitating Porky Pig's stuttering????? Much of the action consists of Kung Fu/Power Rangers type fighting. Indeed, there were funny sound effects when someone got nailed on the head with a frying pan. The tech that fired our imagination was absent - instead we have these kids running around, using a plot device that was NEVER in the original series (having the entire team take off at once, leaving the base occupied by the kids and Brain). Then there was a dose of \\Use the Force Luke\\\" mysticism thrown in when TinTin would levitate something or another, coupled with the The Hood using aerodynamics that looked like they were lifted from \\\"Crouching Tiger, Hidden Dragon\\\". About the only thing missing was for The Hood to go \\\"TinTin, I am your Uncle\\\" with a breath mask voice. The heart that made Thunderbirds unique was GONE.<br /><br />The only bright point was Ron Cook's portrayal of Parker - he caught it perfectly. But the actress playing Lady Penelope came across as a child - HUH???? <br /><br />And this is why we hate this movie. When someone puts out something that was popular to a fan base, and expects the fans to shell out money to watch, and then delivers something than wasn't even close to what the fans expect - well, I am sorry, that is just plain WRONG! OK, so if they were making a kids' movie - fine - next time distribute it straight to video, where many of these belong. But don't package something up in a familiar wrapper and change the innards.\"\n",
      "* * * * * * * * * \n",
      "14741\n",
      "this was the most pointless film i have ever seen as there was no plot and the actors did not seem to care. 90% of the film had absolutely no plot whatsoever, i laughed so much my ribs began to ache. the bit where the old men when to capture Robert Duvall was ludicrous. on a directorial level making a noir film does not involve lots of raining sequences and pointless closeups on the main character. this is a failed attempt to create a noir thriller and instead alienates the viewer with incoherent scenes. seeing as this was based on a 'manuscript' by john Grisham i do not count this as one of his book to film adaptations as it displays none of the suspense and engaging storyline as films such as 'the firm' or 'the rainmaker'.\n",
      "* * * * * * * * * \n",
      "14998\n",
      "I can see why Laurel and Hardy purists might be offended by this rather gentle 're-enactment', but this film would be an excellent way to introduce children to the pleasures of classic L & H. Bronson Pinchot and Gailard Sartain acquit themselves reasonably as the comedy duo and there's a reasonably good supporting cast. I enjoyed it.\n",
      "* * * * * * * * * \n",
      "15275\n",
      "ALL FOR LOVE ( as it titled when it was broadcast at the weekend ) is a romantic period drama featuring Captain Saint Ives a French officer in Napoleon`s army who is captured by the British and imprisoned in Scotland where he meets and falls in love with a young maiden who visits the prison . There`s also a storyline involving a murder .<br /><br />I will be honest and confess that I wasn`t too taken by the movie since I`m not much of a fan of period dramas and the screenplay feels somewhat episodic but I will say that this is well acted by everyone involved and it`s got a good cast that features Miranda Richardson , Anna Friel , Richard E Grant , Michael Gough and Jason Isaacs . The costume design as you can expect is also excellent <br /><br />I`ll be very surprised if this movie doesn`t get any complaints after being broadcast on BBC2 at teatime . Captain Saint Ives lies in bed with a prostitute where a nipple is fully exposed and there`s a scene of French prisoners bathing that includes full frontal male nudity not to mention a murder scene where blood is clearly seen . You really do have to worry if BBC schedulers have any type of clue as to what they`re doing\n",
      "* * * * * * * * * \n",
      "15357\n",
      "Hollywood now has officially gone too far and I really hope that this travesty of a motion picture creates a genuine backlash against their crap machines, in spite of the good box office returns. If you are an industry person reading our comments looking for hints on what to do next, STOP. Stop making our TV shows into these repellent, stupid, money grubbing waste of time movies that suck. By doing so you are proving one thing: Hollywood is out of ideas, and going to see the movies they churn out only perpetuates the cycle of disgust. What's next -- You guys gonna go & ruin The Bionic Man??<br /><br />The film is just plain wrong, and manages to get the most stupid, simple fact of the show totally incorrect by forgetting (or ignoring) that Tom Wopat & John Schneider's Bo & Luke Duke were *REFORMED* moonshiners. They had been busted, learned their lesson, gone straight, and were there to help people and be good neighbors who just happened to shoot dynamite tipped arrows from hunting bows & drive like Steve McQueen. Denver Pyle's Uncle Jessie was also the moral center of the family, always insisting that the Boys do good, even at their own expense or embarrassment while he made sandwiches and coffee for when the chores were done. They always did the right thing and had a sort of earnest naiveté about them that was quite appealing. We wanted to be more like them than we were, sorta. My favorite gimmick from the show was how they always buckled their seat belts before roaring off, which was apparently too moral for this film.<br /><br />By transforming the Duke family into a pack of leering, wisecracking, criminally minded, redneck baiting, misogynistic losers the movie has no moral standpoint, where the show was all about how honest or incorruptible the Dukes were -- Are the Duke boys in this movie supposed to come off as good guys? I wanted to punch them both in the nose. They seem to have a lot of free time on their hands that could be spent doing chores back at the farm and end up pursuing less than noble ends, if not acting like a pair of 14 year old boys who haven't grown up. There should be no marijuana use, no gawking at buxom, nubile coeds & their breasts, no shenanigans involving the Brothers in da Hood. All of it looks like the work of a marketing consultant who took a poll at the mall of what 14 year old boys like to see in movies. The problem being that 14 year old boys cannot possibly remember the show, IMHO shouldn't be seeing this movie either, and the parents who might feel nostalgia for the show will be disgusted by what the writers, director & producers did to our collective memories just to part us from our money, which is exactly how I feel. What were they thinking???<br /><br />And boy did they *EVER* get Daisy wrong. Jessica Simpson all dolled up like a Pamela Anderson mall slut may be the only reason for anyone to see this disgrace, but you can service your needs just fine downloading some promotional stills of her, printing them up & pinning them to the wall in a restroom. She is hardly in the film at all (which is the movie's only saving grace), and the ten minutes or so they used her was STILL excessive. Catherine Bach's Daisy may have had the same kind of shorts, and long legs that make people feel funny just looking at her, but the Daisy she played was a *PERSON*. The pratfalls she elicited by simply being who she was had an almost natural ring to it. She remains one of the most outrageously sexy pop culture icons ever created but there was somebody at home. And most importantly she was a sweet, caring person who couldn't help it if the guys went Ga Ga over her.<br /><br />By contrast, Jessica Simpson appears phony, contrived, made up, costumed, posed, aloof, bored, out of place, and I don't think she even looks that great in the outfit. She doesn't look like a person but a plot device, conjured up during a deal with someone representing her agent. Ms. Simpson would be well advised to fire that person immediately and pretend like the whole thing never even happened. Whatever the joke was, she isn't in on it and is disgracefully exploited for T&A. If that's all she wants from her career, executive produce the sequel if only to ensure yourself enough screen time at least, because this effort was just pathetic.<br /><br />The bottom line is SKIP IT. For the cost of two tickets and a Slurpee to go you can pick up one of Warner Bros. excellent box set collections of the original shows on DVD and the entire family can watch them together. That was why it worked. The only real purpose I can see in the film might be it's future use as an interrogation tool at Guantanamo Bay. Twenty minutes of this & they'll be singing a choir.<br /><br />1/10, and I mean it. And STAY THE HELL AWAY FROM THE BIONIC MAN, you schnooks.\n",
      "* * * * * * * * * \n",
      "15402\n",
      "I honestly can't believe what passes for entertainment now. Death (and making fun of death), violence, sexual innuendo, adults threatening children, crudeness, alcohol abuse by minors, drug theft, dysfunctional parents, babysitter from hell, stereotypical jokes about African Americans, police and fat people, and kids sneaking out of the house in the middle of the night - yup, sure sounds like a kids movie to me - NOT!!! Add to that the dark and scary elements - a dead woman possessing and turning into a house and keeping her loving husband a prisoner inside for over 20 years, and also terrorizing an entire neighborhood - how sweet for kids. PARENTS - is this really what you want your kids to be watching - is this what you want to teach them about life?!<br /><br />This movie is too scary for young kids, and i'm afraid that teens today may be living some of this movie scenario - so why rub it in their faces? As for an adult audience - you won't find it scary or amusing - just boring, contrived and predictable. And the characters are just wrong - clueless parents, ignorant police, stupid and annoying friends, nasty and manipulative babysitters, and beer drinking/womanizing boyfriends. What great material for kids - does this really sound like a children's movie to anyone? Even the computer animation and good voice work aren't enough to redeem this terrible flick. Save your money, save your time, and save your children's minds - go rent Ice Age, Monsters Inc., the Incredibles, Shrek, A Bug's Life - ANY of them are way better than this horrid film. Spielberg and Zemeckis - shame on both of you for making such a disaster and then billing it as a children's/family movie!!\n",
      "* * * * * * * * * \n",
      "15518\n",
      "This is listed as a documentary, it's not, it's filmed sort of like a documentary but that I suspect was just because then they get away with a shaky camera and dodgy filming. This has just been released in the UK on DVD as an \\American Pie style comedy\\\" it's not that either.<br /><br />Basically it follows around a group of teens on spring break as they go to Mexico for cheap booze and with the quest being to get there virgin friend finally laid. Throw is a couple of dwarfs, also on the same sort of quest and you have a non-hilarious tale of drunk teens trying to get some girls.<br /><br />Considering the 18 Rating this has very little nudity, and practically zero sex scenes, mainly I guess the rating is for swearing of which there is plenty.<br /><br />If you like crude Jackass behaviour without the humour, then this may be your thing, if you have any brain cells left then I would probably avoid this!\"\n",
      "* * * * * * * * * \n",
      "15732\n",
      "A Nightmare on Elm Street: The Dream Child, the fifth installment in the Nightmare on Elm Street series and the worst sequel ever in the series, even worse than A Nightmare on Elm Street 2. I was lucky enough to get the Nightmare on Elm Street DVD box set for my birthday and I watched all the sequels. The dream child was the worst without a doubt, I was surprised too since they were doing so well with the last two sequels. But I guess they just lost the charm, the story was just ridicules and I wasn't happy with where it went. Alice just became more annoying, she's not Nancy or Kirsten, so her carrying this film on her own didn't work for me. Freddy is also loosing his scare, this was just getting a bit silly.<br /><br />Alice is back and she's carrying a child, she couldn't be happier with her life. But Freddy is also back and he's not going to be too light on her since she defeated him so easily in the fourth movie. But anyways, he wants her child and to be born into the world again. Did you ever wonder if Freddy had parents too? Well that's what A Nightmare on Elm Street: The Dream Child investigates and Alice soon finds out what Freddy's childhood was like and that maybe that's the one thing that can defeat him.<br /><br />A Nightmare on Elm Street: The Dream Child is just all in all a bad movie and an insult to the series. I don't think anyone could be happy with this sequel. Just the story was really silly, I mean it could have possibly worked, but once again, it was just executed the wrong way. I know that if you're looking to see the sequels for the Nightmare on Elm Street series, you should watch it, but I really wouldn't recommend it, it's not worth it, at least in my opinion.<br /><br />3/10\n",
      "* * * * * * * * * \n",
      "15748\n",
      "An uninteresting addition to the stalk 'n slash cycle which dominated the horror genre in the 1980's. This was filmed as Pranks but released as The Dorm That Dripped Blood which is an obvious steal from the 1970 horror anthology The House That Dripped Blood. Daphne Zuniga is the only recognisable face in the cast and this was her first horror movie (she has also appeared in The Initiation and The Fly II).\n",
      "* * * * * * * * * \n",
      "16287\n",
      "While some performances were good-Victoria Rowell, Adrienne Barbeau, and the two Italian girlfriends come to mind-the story was lame and derivative, the emphasis on the girlfriend's racial background was handled clumsily at best, and the relatives were mostly portrayed as stereotypes, not as real people. I found myself wincing uncomfortably at many moments that were supposed to be funny. I can hardly comprehend why the local paper here in SF said this was a good movie, and wonder WHO posted the glowing review here on IMDb. Very disappointed in this movie, and mad I actually went to a theatre to see it, based on the faulty connection to Garden State, which is a far funnier, more inventive, and touching movie than this one. I must especially mention the emotional climax in the church, which was so wooden and by-the-numbers that I nearly left, and some in the audience actually DID. THAT was followed by a silly climax at the graveyard, which I saw coming 10 minutes before it happened. I really don't like being misled to spend my money so uselessly.\n",
      "* * * * * * * * * \n",
      "16326\n",
      "Soldier Blue is a movie with pretensions: pretensions to be some sort of profound statement on man's inhumanity to man, on the white man's exploitation of and brutality towards indigenous peoples; a biting, unflinching and sardonic commentary on the horrors of Vietnam. Well, sorry, but it fails miserably to be any of those things. What Soldier Blue actually is is pernicious, trite, badly made, dishonest rubbish.<br /><br />Another reviewer here hit the nail on the head in saying that it appears to be a hybrid of two entirely different movies. What it is basically is a lame, clichéd, poorly acted \\odd couple\\\" romance - Strauss and Bergen overcoming their prejudices about the other's lifestyle and falling in love (ah, bless) - bookended by two sickening massacres which wouldn't have been out of place in a Lucio Fulci splatter flick.<br /><br />There is no excuse for the repulsive, prurient, gore-drenched climax, in which cute little native American children are variously shot, sliced, dismembered and impaled in loving and graphic close-up, and large-breasted native American women are molested, raped and strung up - no excuse, that is, except box office. (The massacre itself, whilst repulsive in its misplaced intention, is very badly staged and shot; a bunch of actors lying around with bright red paint smeared on them, intercut with a few special-effects sequences of beheading/dismemberment - dismemberments, incidentally, which utilised real amputees in their filming. Now that's what I call exploitation.)<br /><br />Forget all the pap you've heard (including the ludicrous commentaries that begin and end the movie) about this being a \\\"protest\\\", an indictment of American brutality towards the native peoples. This film doesn't give a stuff about the plight of the Cheyenne; had it done so it would have featured some involving native American characters, would have led us to get to know and to care about the nameless, faceless innocents who get slaughtered at the climax. Instead what we get is the silly white bread romance of Bergen and Strauss (lousy actors both, in this at least), with plenty of blood, guts and severed heads thrown in to attract the curious.<br /><br />Which is a terrible shame, because there is a movie to be made about the Sand Creek massacre, about all of the real life massacres the US (and Britain, and all so-called \\\"civilised\\\" nations) have participated in over the centuries (Iraq?). this just isn't that movie.\"\n",
      "* * * * * * * * * \n",
      "16434\n",
      "Judging from this film and THE STRONG MAN, made the same year, I would not place Harry Langdon at the top of the list of great silent screen comedians. There simply is not enough there. Perhaps he was on his way to developing his style but sabotaged himself by taking his first big successes too seriously. In any event, all of his tricks are reminiscent of the greater funny men, but he lacks the acrobatic skills of Keaton and the prodigious ingenuity of Lloyd. He also undermines his own persona by dressing and walking like Chaplin's tramp character. His trademarks are childlike innocence, timidity of approach and a tendency to under-react to calamity by looking perplexed, batting his eyes or touching his pursed lips with the tip of his forefinger. The comedy in Langdon's films results from fate throwing various obstacles in his path which he tries to overcome in wimpy or naïve ways or with a minimum of physicality, such as throwing rocks at an approaching tornado to drive it away, propping up a collapsing building with a two-by-four or dodging boulders by lifting a leg so that they roll under him. In this story, about the son of a shoemaker who joins a cross-country walking race to publicize a rival company's footwear, he manages to win by sheer luck. There is nothing here that hasn't been done far better by the Big Three.\n",
      "* * * * * * * * * \n",
      "16469\n",
      "If you like to see animals being skinned alive, their heads smashed, dogs throats being crushed my men stomping on them, then this one is for you! But if you are somewhat normal, and don't need to see real footage of animal cruelty, pass this one up. This movie tries to shock the viewer, and it sure does.With the animal snuff at the beginning, and the killing of babies in the movie (fake at least)its was enough to make myself turn it off.I've seen movies like this before that show slaughterhouse footage (BTK movie) and this kind of footage should not be allowed in a horror movie.We watch gore and horror because we know its just make-up, and special effects, so we shouldn't sit down to watch a movie and see the real killing of animals, its not what we rented the movie for.If anything, there should be a large warning label put on these types of garbage movies so people won;t be surprised by it. As a very hardcore horror fan, this one turned my stomach. The entire movie cast and crew need their heads checked.\n",
      "* * * * * * * * * \n",
      "16633\n",
      "This movie is one of those I regret having invested 90 minutes of my life that I'll never get back in. The premise is really interesting - essentially it's a zombie flick from the perspective of the undead (let's not split hairs as to whether they're actually dead or not}. Unfortunately, they fail to deliver a compelling story within this framework. The nearly unbearable monotony of the lives of the central characters may add to the realism of the film, but it sucks all the entertainment value right out of it. If they had put a little more effort toward keeping the viewer engaged, it would have been much more likely that they drive home the social commentary.\n",
      "* * * * * * * * * \n",
      "16834\n",
      "This movie was a complete waste of time.<br /><br />I viewed this movie with a group of cinematic enthusiasts, who have varied taste in movies yet always a keen eye for a work of \\genius\\\" (as one of my fellow commenters on this site had the gall to label this steaming pile",
      "); not one of them found a single redeeming quality. We ended the movie with a rousing chorus of expletives I will not reprint here.<br /><br />I can only guess that the positive reviews provided here were written by Sir Anthony Hopkins, himself. Afterall, as one of those reviewers will tell you, he financed the film himself  because no one else in Hollywood or anywhere else in the world, for that matter, would risk a single penny or their good name in association with this film. Don't let the semi-famous actors who appear in the film lure you into its clutches  as Christian Slater admits in the special features \\\"making of\\\" he signed on to the film without reading the script or knowing any details (a folly I am sure he will never repeat).<br /><br />I pity the hapless individual who stumbles into this quagmire of self-indulgence written, directed, produced, and financed by a man who is too famous to admit to himself that not everything he creates is a masterpiece (and if you don't believe me please google \\\"Anthony Hopkins\\\" AND art).\"\n",
      "* * * * * * * * * \n",
      "16885\n",
      "Although the casting for this film was admirable, particularly Dianne Keaton and Tom Everett Scott, the quality of the writing was so poor that it would be impossible for any actor or director to make this film worth watching.<br /><br />My wife and I decided that the reason we watched the entire film was that it was like a train wreck, and it was almost impossible to turn away. It may have been that we \\hoped\\\" that the message would eventually make itself apparent, and that we would be able to glean some meaning from this effort. Unfortunately, this did not happen.<br /><br />Of course the audience may have been able to \\\"make sense\\\" of this convoluted tale, a credit to the ingenuity of the human brain to make sense of the absurd. The writers, however, did NOTHING to facilitate this innate need we seem to have for finding meaning.<br /><br />It was apparent that those involved were simply going through the motions of their respective crafts, and that any intrinsic passion for the characters or the story was either secondary or non-existent.<br /><br />Unfortunately, made-for-TV movies have seemed to devolve over the years. Whereas communicating a message to the audience may to have been the primary interest of the writers in the past, present-day writers and producers seem condescending to their audience, concentrating primarily on manipulating us to \\\"stay-tuned\\\" through the incessant advertising which seems to be the only reason movies such as Surrender, Dorothy are made.\"\n",
      "* * * * * * * * * \n",
      "16888\n",
      "I found this film embarrassing to watch. I felt like it was shoving the storyline down my throat as if I couldn't pick up the subtleties I needed a voice over to spell them all out for me constantly.<br /><br />Having a father who IS still an alcoholic, I didn't really feel it was a film about alcoholism as such. Alcoholics, true alcoholics are very lonely people inside, in my opinion of course. They find it hard to communicate, something that the main character had no problem with really, except he DID have a problem saying I love you at one point- which was a bit of a feeble effort at establishing his cold character. He was constantly surrounded with people too!? <br /><br />I felt cheated that at no point were we really alone with the character to really get a sense of his inner loneliness and turmoil. I couldn't connect with the character and felt no link at all considering my father. I felt nothing at all when it had finished, just relief it was over.<br /><br />Kevin McKidd is an okay actor but not a tough guy feature lead! The clockwork orange thing was as subtle as a brick. McKidd was too old for the teen, they should have got three different characters or avoided the teen stage and concentrated more on the adult McKidd.<br /><br />On a good note, I felt the little boy actor was really good at the start of the film!!\n",
      "* * * * * * * * * \n",
      "17053\n",
      "I do admit that my review is from a 2006 point of view, nearly 30 years after the making of this movie and at the time of its conception, it may have been a brilliant horror/thriller movie.<br /><br />Beginning on Halloween night 1968, 6 year old Michael commits the brutal murder of his 18 year old sister. Michael is committed to a mental institution and 15 years later escapes and returns to his home town to murder again.<br /><br />From this point it is clear that the movie will follow a basic and rudimentary path that is highly predictable. The beginning of every scene is easily predictable in the way it will end whilst the music for each scene containing Michael (the murderer) is exactly the same throughout the movie, thus alerting the viewer to the likely events to follow.<br /><br />For the horror/thriller enthusiast, there is a severe lack of blood/gore compared to modern day films although I am not akin to the amount that is displayed in this day and age. A happier medium could have been found.<br /><br />From a half hour into the movie, not one scene is unexpected. The acting for a horror/thriller film is fairly typical of the era and thus lacks any punch for the modern day enthusiast.<br /><br />A positive for the film is its lingering camera shots and dark lighting which creates a frightening atmosphere. A second positive would be the character of Michael's doctor, who provides clues to the probability of where the story may lead.<br /><br />However, it is clear that the star, in Jamie-Lee Curtis, is in the infancy stages of her acting career and thus fails to provide a truly frightened central victim.<br /><br />It is hard for me to rate this film as it was in its day, but from other horror/thriller films of indeed the 80s and to a lesser extent, the 90s, it falls far short of a truly great horror/thriller film.<br /><br />I suggest you move on and find a classic from the 80s. Cheers!\n",
      "* * * * * * * * * \n",
      "17084\n",
      "Flame in, flame out. That seems to be Gammera in a nutshell, a prehistoric creature who can take it and dish it out with equal abandon. I'm not a fan of Japanese monster films, but wound up committed to viewing all the flicks on the fifty film DVD sci-fi collection put out by Mill Creek/Treeline Films. It's a great value at about twenty five bucks, so at fifty cents per movie, it really boils down to an investment in time to watch some of the goofy offerings.<br /><br />Gammera is riled from a centuries long slumber by a nuclear blast, and he's not happy. Like Godzilla, he takes it out on Tokyo, setting the United Nations into motion to try and come up with a plan to save the planet. They arrive at 'Plan Z', the hope of the world, and wouldn't you know it, there's a scene where a huge shed is shown that's called the 'Z Plan' building; that was a nice touch.<br /><br />By the mid 1960's, this country still wasn't quite politically correct. One of the American military scenes at the Alaskan Air Defense Sector has General Arnold asking a female sergeant to make coffee. I guess there weren't any privates around.<br /><br />Good old Gammera was quite the sight though, walking around on two legs and going for the flame throwing routine when challenged. That's why it surprised me how Plan Z managed to capture turtle man in the nose cone of a hidden space ship, whisking him off to Mars to save the world. High fives all around for the American and Russian team that made the save, now let's get back to the Cold War.<br /><br />Like Godzilla, Gammera spawned at least a good dozen films, but having seen this one pretty much satisfies my interest in flying, flaming turtles. Especially since that DVD pack I mentioned earlier has \\Attack of the Monsters\\\" with a featured guest appearance by the Big G. It took all I had to make it through to the end of both films; it was such a relief to get to the final frame in this one that said 'Gammera, Sayonara!\\\"\"\n",
      "* * * * * * * * * \n",
      "17090\n",
      "This movie is one of the most awful movies ever made.How can Jon Bon Jovi play in a movie? He is a singer not an actor, What?Is he killing vampires with his guitar? And what about the dreadful plot? O my God this movie really sucks. In the end is the Queen of vampires played by the eternal vampire Arly Jover (Blade) surrounded by an army of vampires, but when the \\fantastic\\\" slayers arrive only 4 vampires are left!! What happened with the other 10-15 vampires? They run out in the sun??? And what about the \\\"Grand Finally\\\" when Bon Jovi blows her head with a shotgun??? That's really a \\\"NOT\\\" . In \\\"Buffy the vampire Slayer\\\" in 100 episodes not a single vampire is killed with A SHOTGUN??? This really is a lack of originality!\"\n",
      "* * * * * * * * * \n",
      "17102\n",
      "I went to see \\Evening\\\" because of the cast. I'd gone to see \\\"Norman's Room\\\" for that reason -- that movie offering Diane Keaton, Leonardo De Caprio and, also, Meryl Streep -- and had loved every minute of it. Same for \\\"The Notebook\\\" even though it was chick-flit lite. And my feeling was, anything offering performances by Vanessa Redgrave, Meryl Streep, Patrick Wilson and Glenn Close would be at least as good. Instead, I found sometimes even the greatest actors cannot overcome trite, simplistic and -- on one occasion -- truly offensive material.<br /><br />Now I had no problem with the way the film was structured. I actually enjoy movies that cut back and forth in time to tell a story...so long as one era illuminates the other and vise verse. But while Vanessa's character being on her deathbed and recalling a past event she felt \\\"was a mistake\\\" was riveting, at times, the part actually showing what that \\\"past mistake\\\" was does nothing to clarify the matter. In fact, it makes it seem meaningless in the silliest \\\"girl meets boy, girl gets boy, girl loses boy\\\" fashion, and in the most unbelievable, clichéd, wrong-headed way possible.<br /><br />And from here be spoilers, so bear that in mind should you continue reading.<br /><br />First of all, Claire Danes was brutally miscast. Not only does she not even begin to resemble Vanessa Redgrave as a young woman, she has nowhere near the chops when it comes to acting. Don't get me wrong, she can be good in the right role -- just not this one. And Patrick Wilson was miscast, though he has the acting chops to almost pull it off. He'd have been better suited to the part Hugh Dancy played -- the rich confused WASP -- and not the object of sexual attraction to one and all; he's a bit too WASP-y for that. Hugh Dancy? One note -- \\\"I'm a tortured drunk and wait till you find out why.\\\" And the \\\"why\\\" (I'm a closet case in a sexually repressed world, so I have to drink to excess and make a fool of myself in front of everyone I know) was so offensive to me and the manner in which he died (as you knew he would because that's the only thing that can happen to a faggot in the Fifties) so ludicrous, wrong-headed and mishandled, I nearly threw my candy at the screen.<br /><br />As for the modern part between Toni Collette and her sister, her fear of commitment, her jealousy of her sister's \\\"perfect life,\\\" her sister wondering if she's made the right choices, her pregnancy and her too-perfect boyfriend (which actually might have been more interesting and meaningful if played by Patrick Wilson, and Ebon Moss-Bachrach might have been a more interesting Harris, given his dreamy eyes) -- anyway, all this was hashed over in the 70's and 80's. And in much greater depth. Do we REALLY have to present it, again, and all as if it was fresh and momentous?<br /><br />And to top it off, Meryl Streep doesn't even appear until the last ten minutes of the movie, all in old lady makeup that hides many of her facial expressions. She's still good, but only because she's Meryl, and Meryl can find a way to pull off even the silliest dialog under the heaviest of makeup.<br /><br />So to put it simply, this movie has every cliché in the \\\"really meaningful message\\\" movie book, and it adds a few that really had no business being trotted out, again. At two hours long and laced with \\\"Lifetime Movie-of-the-week\\\" music that is guaranteed to rub you raw, it's a complete failure in both the \\\"meaningful\\\" and \\\"moviemaking\\\" aspects. I give it \\\"3\\\" only because of Meryl and Vanessa.<br /><br />Now, if all you require from your films is twadd le, then please set my comments about \\\"Evening\\\" aside and have the time of your life. But if you want a truly meaningful experience being served up by great actors and filmmakers who know what to do with a simple story about life and death and all the nonsense it brings, rent \\\"Norman's Room\\\" and find out what truly great acting is.\"\n",
      "* * * * * * * * * \n",
      "17494\n",
      "Being a fan of Billy Bob Thornton, and the diversity of his skills, I noticed this movie listed, and was surprised I hadn't heard of it.<br /><br />I'd traveled more than usual during both the period it was being filmed in 2000, and when it hit theaters more than 2-1/2 years later (that passage of time is the first clue all was not well with the production).<br /><br />Now Patrick Swayze can't act for sour apples, but Thornton has more than enough ability to make-up for the difference between them. And Charlize Theron is someone whom it would be a pleasure to see, even if it showed her watching paint dry.<br /><br />Being curious, I checked this site's production info. It made a whopping < $600 per screen its opening weekend, and just over $400 each, after its month's theater run in latter 2002. Overall gross was $261K, which I'd doubt could cover cast and crew's hotel and food for a week on location.<br /><br />The story is pretty benign, and even the use of the usually interesting locale of Reno is as dull as the rest of the goings-on.<br /><br />It's something like several SNL bits all pieced together, none individually too great at all, and the overall presentation even worse.<br /><br />Whatever, the expenses for this production had to be considerable - even if all worked for less than their usual fees - so the one thing which made it a barely tolerable opus was the quality of the filming and Billy Bob's present (albeit understandably somewhat laconic here , compared with his usual work.<br /><br />Think of the three superb, totally diverse characters he portrayed in \\Sling Blade,\\\" \\\"Bandits\\\" and \\\"Bad Santa,\\\" and you know he realized this work was below standard, long before the viewers had the opportunity to confirm this. One star for him, even here, and one because production was better than, say, the typical \\\"Lifetime\\\" flick.\"\n",
      "* * * * * * * * * \n",
      "18266\n",
      "After seeing the credits with only one name that I recognize and that was the preacher in this film (Russ Conway), I did not expect much from this film and I was not disappointed. A man is planning on killing his new wife by convincing other people that she is insane and will take her own life. Unbeknown to the husband is that the plastic looking skull that he uses, in contrast, a ghost of a woman apparently his first dead wife has revenge on her mind and uses a real skull. A simple plot with a twist of irony at the end. If you are tired late one night and in need of sleep, this will help you to sleep that sleep.\n",
      "* * * * * * * * * \n",
      "18275\n",
      "You'd think the first landing on the Moon would be dramatic enough without needing to make up stuff about it. However, this documentary seems to need to cast everything in the scariest possible light. It talks about the risks associated with the lunar module and mentions Armstrong's nearly fatal accident with the training vehicle, as if the trainer and the spacecraft had anything to do with each other. It makes the computer overload problem (the 1202 and 1201 alarms) encountered during the final landing sequence sound like a near-catastrophe when it was just an annoyance and not a risk to the crew at all. And it takes the \\thirty seconds\\\" call to mean thirty seconds of fuel left before running out, when it's actually thirty seconds before an abort is mandatory.<br /><br />If you want to see a documentary or dramatization of Apollo 11, go for \\\"From the Earth to the Moon\\\" or one of the PBS documentaries, but skip this one.\"\n",
      "* * * * * * * * * \n",
      "18732\n",
      "To say that Thunderbirds is a horrid, forced, in-your-face, ugly looking, nasty to listen to and painful to watch film wouldn't be saying enough. There are only two reasons I can think of why you'd watch this film: 1; you've seen Thunderbirds when you were young (like I did) and are curious as to what it is like but you will really only be watching to find out how badly they screwed things up. Or, 2; you're seeing it with someone under ten years old.<br /><br />Thunderbirds manages to cock up everything it attempts. The list goes on and on but there are other more subtle, humiliating things that are painfully obvious when you think about it. From the off, Thunderbirds is wrong, wrong, wrong. The whole moral message and 'goal' is set up in an excruciating way: Jeff Tracy (A new low for Bill Paxton) tells his youngest son Alan he's not yet proved himself to be a Thunderbird after Alan randomly and stupidly decided to go down into Tracy Island's bowels to fire up Thunderbird One. The whole film is then a series of events and miss-fires consisting of Alan trying to prove himself whilst his father and other brothers are trapped in space aboard Thunderbird five.<br /><br />The film relies on kid actors to carry the film: A 16 year old Alan Tracy (Corbet), a 16 year old Tin Tin (Hudgens) and a 14 year old Fermat (Fulton) who is Brains' son. To say that watching the 'adventures' they get up to is painful is an understatement. Frequently trying to act and utilise the script whilst combating the evil 'Hood' (Kingsley) in ridiculously unfunny and hammy ways acts as the entertainment for the duration of the film; it only differs when everyone's in a different location. Also, the whole 'mind control' thing was very tiresome and basically dragged the film down as it was overused and offered a way for our heroes to see a weakness in The Hood  forced and incidental.<br /><br />I know that most 'film's for kids' these days try to integrate some sort of material for adults but in Thunderbirds it's done in a way that fetishises Lady Penelope. Sophia Myles plays Penelope and I think it's no coincidence she's a little older than the rest of the kids  at 24 years old, it's almost too good to be true. Her scenes are often highly charged and carry an erotic push. We see her in the bath, bubbles up to her neck watching TV; in comes her butler and sneaks a peek as she seductively changes channels with her wet, bare and bubble covered foot. Frequent shots of her massive, bright pink high heeled shoes filling the screen during various scenes: This first happens when she is actually tied up with the second happening during a fist fight with another woman! Twinned with this, her bright pink costumes that reveal just enough yet cover just enough are particularly outstanding as is the way she moves and talks with that posh, dominant, English accent; sounding like a commanding mistress (Well, she is LADY Penelope after all  and you'd better make sure call her that) The whole thing is laughable but the editing is so quick that the kids won't notice but it sure as hell is there.<br /><br />The actual plot of The Hood doing all that he does just to rob a few banks is very bizarre, the characters that are his bodyguards: a geeky looking woman and hard bodied black man who gets agitated a lot. Are we supposed to be laughing at this? What about the fight scenes? Poorly choreographed stunts and what the hell was with the silly noises? It's utterly, utterly laughable.<br /><br />The list goes on. The way Bill Paxton plays it all so seriously, like he was told they were doing it one way but it was made another, the way Ford motor company have their logo slapped all over the place. News bulletin: sponsored by Ford, the camera even moves to endorse Ford several times when cars are in shot, the way the CGI looks like something out of a computer game video clip  it's infuriating. The fact we are told to believe that a 16 year old girl can swim in the freezing Thames, against the current, rescue a downed monorail (monorail over the Thames!?), get back to the hatch and thus; save the day all the time holding her breath. It is absolute bull and the makers know it  I don't even know if a 10 year old would swallow it.<br /><br />In short: avoid, avoid, avoid. Thunderbirds is infuriating, unfunny, poorly scripted and even the Rolls Royce was taken out and replaced by a flying car  everything that could go wrong, did go wrong.\n",
      "* * * * * * * * * \n",
      "18812\n",
      "I'm getting a little tired of people misusing God's name to perpetuate their own bigoted view on the world. Well I don't dismiss the idea of Armageddon, or the coming of the anti-Christ, I do dismiss the idea that only certain people who live truly good lives(They seem to be mostly white Christian children) will go to Heaven, while the rest of us must suffer through a millenia of Hell on Earth, just because we weren't good enough. God may be a judge, but I don't think He is going to measure every level of goodness. Give the Creator some credit.\n",
      "* * * * * * * * * \n",
      "18928\n",
      "There are so many incorrect statements in this so-called \\documentary\\\" that I found myself shouting at the television.<br /><br />Bart Sibrel might be able to produce a flashy looking DVD, but he is sadly lacking at looking at the science behind his claims.<br /><br />He relies on either being inaccurate, not telling the full story, or the old favourite \\\"government always lies to us\\\" innuendos, and people believing what is told to them and not checking on the accuracy or details behind the claims.<br /><br />What's more, his \\\"exclusive\\\" or \\\"unreleased\\\" footage is freely available over the internet from various sites.<br /><br />Further reading about the circumstances regarding the filming of this production shows that he used false pretenses to gain interviews, and has used creative editing of the responses in order to promote his own opinions.<br /><br />All of the claims made by Mr Sibrel about \\\"inaccuracies\\\", \\\"mistakes\\\", or \\\"whistleblowing\\\" in the Apollo programme have been thoroughly disproven.<br /><br />How do I get that 40-odd minutes of my life back?\"\n",
      "* * * * * * * * * \n"
     ]
    },
    {
     "name": "stdout",
     "output_type": "stream",
     "text": [
      "19152\n",
      "Does this film suck!! Horrible acting, horrible script, horrible effects, horrible horrible horrible!! Nothing redeeming here for even the most die-hard of horror fans! A crazy killer stalks students at a college. People are showing up dead in the hallways, but still, class carries on as normal??? After about the 4th body, I would think that they could allow the students a few days break! LOL. This about as bad as it gets folks. This film should be shown as a means of torture to criminals. You have been warned!\n",
      "* * * * * * * * * \n",
      "19406\n",
      "After a fairly lengthy partially pixelated nude shower scene, we're off to the races for this \\Blair Witch Project\\\"-esquire horror film about three girlfriends venturing to a desolate cabin deep in the woods to get away from their hectic lives for a girls' weekend out and smoke pot. They meet two guys who seem friendly enough, so they drink and tell ghost stories, until late in the movie some of them get picked off.<br /><br />This is a fairly slow movie, with needlessly drawn out 'suspense' scenes, the bad acting can't carry the myriad of scenes where nothing happens but mindless banter, and the movie as a whole is a dud, a deathly-boring dud at that. Nothing at all happens until the last half hour and when it did I was to numb to really care.<br /><br />Eye Candy: Ashley Totin shows T&A; Evy Lutzky gets topless briefly; and Jennifer Hart shows her right tit <br /><br />My Grade: D\"\n",
      "* * * * * * * * * \n",
      "19521\n",
      "You've got to admire director Todd Sheets for his dedication, drive and enthusiasm when it comes to movie-making: between 1985 and 2000, he made a whopping 34 films. Unfortunately, if his Zombie Bloodbath trilogy is anything to go by, they're probably all crap (and a quick look at their IMDb ratings seems to verify my hunch).<br /><br />Part 3 sees a group of obnoxious students finding detention a little more eventful than usual after they are attacked by hordes of the living dead, who have escaped from a top-secret army base located directly beneath their school. Working from a dreadful script by Brian Eklund (which relies heavily on liberal use of the f-bomb) director Sheets delivers yet another embarrassingly amateurish effort featuring some mind-numbingly awful performances from his talent-free cast, dreadful visual effects (some crap CGI and what looks like the front of a giant cardboard space-shuttle) and his trademark shoddy gore (handfuls of offal pulled from beneath his victims' clothing).<br /><br />Finally, after what seems like an eternity watching irritating characters running for their lives, and unconvincing undead people fondling animal innards, Zombie Armageddon finishes with a time-travel/paradox twist ending which forces viewers to re-watch several torturous minutes from the beginning of the film. Honestly... once was enough, Mr. Sheetswhat have we done to deserve having to watch it again?\n",
      "* * * * * * * * * \n",
      "19589\n",
      "A painfully protracted, maudlin and predictable drama, my twenty-fifth Sidney Lumet film, Garbo Talks, gets filed precipitously on the low quality end of my quest.<br /><br />The film documents a harried young working man named Gilbert (Ron Silver), who is son to Estelle Rolle (Anne Bancroft), eccentric, feisty and above all, an obsessive fan of Greta Garbo. When Estelle becomes afflicted with a brain tumor, her son decides to go on an obsessive quest of his own: track down Greta Garbo, and bring her to his mother.<br /><br />Anne Bancroft is in full-on, chew-the-scenery Auntie-Mame mode here, that kind of feisty ol' gal that film loves, where she mouths off to people, and stands up for her ideals, and ends up in jail all the time. She stands outside of the film as an obvious artificial construct, and every scene with her is yuk-yuk lame; every note striking false. The rest of the characters are equally as one-dimensional, but tremendously less-interesting. Ron Silver is flat as can be, and his attempted love triangle is as telegraphed as anything else in the film: He is dating affluent Lisa Rolfe (Carrie Fisher), but becomes smitten with oddball co-worker Jane Mortimer (Catherine Hicks), and I called every scene three scenes before they happen.<br /><br />That's the other problem. One-dimensional characters can survive if they are posited in an intriguing and captivating story, but there's simply nothing here. The film's pace is glacial, resplendent with extraneous material that strengthens absolutely nothing, and when the film does begin to follow a linear plot, it's both plodding and uninteresting. There are plenty of guest stars, so to speak, including Harvey Fierstein as a gay New Yorker (imagine that) in yet another highly inessential scene.<br /><br />Late in the film, it attempts to make a halfway-decent statement on the nature of idolatry and its role in our lives, but by that time, none of the characters exist as real people, and the film had bored me into submission, so it functions as a case of far-too-little, far-too-late. The film is my twenty-fifth Lumet-directed film, making him easily my most-viewed director, but outside of a couple egregious misses (A Stranger Among Us, anyone?), he hasn't plumbed the painfully uninteresting depths of Garbo Talks.<br /><br />{Grade: 4.5/10 (C/C-) / #21 (of 24) of 1984 / #23 of 25 Lumet films}\n",
      "* * * * * * * * * \n",
      "19646\n",
      "Nothing can prepare you for another lousy bimbo outing! This time, it's being brought to you by the never-inevitable Fred Olen Ray! As far as exploitation movies go, this one doesn't click! As science fiction, it's plain unoriginal! All that we see is an an ugly feminine android wearing a bikini out to destroy the Earth, and showing off all that's nearly bare to resist! Give me a f---ing break!!! If this kind of entertainment is your thing, then why not dust off those old SI swimsuit mags from the attic for a change?! This would have been much better if it didn't set the sleaze factor on very high, but that still wouldn't make this one great. I'd like to point out another film called THE ASSAULT (1996) by Jim Wynorski, which resembles the identity of ALIENATOR. It illustrates why top-notch 1st-person \\femme fatale\\\" action movies don't translate well in America. Sorry, fellas!\"\n",
      "* * * * * * * * * \n",
      "19776\n",
      "While some scenes of training were realistic, too many of them depicted military instructors as ex-Nazi types. Obviously, the people who wrote the screen play were either anti-military types or writing a film for that audience.<br /><br />I am a Viet Nam vet and, even during this period, military instructors who behaved in the manner some of these did would probably still be serving time in military prison.<br /><br />And I really loved the scene where the \\hero\\\" and his buddy (both privates) are sitting down in the Captain's office, smoking cigarettes and talking and cussing with the Captain as if he were their buddy. This sort of thing never happened in training or in a formal situation, as was the purpose for the scene.<br /><br />At the end I asked myself, \\\"What was this film about?\\\" as it seemed to wander around all over the place with no focus except \\\"I hate all authority.\\\" Thank God I got it from the library and did not pay to rent it.\"\n",
      "* * * * * * * * * \n",
      "19816\n",
      "This has got to go down as almost one of the worst movies of all time. Awful acting, awful script... and they were the good points! One to Definitely miss! The jokes, if you could call them that, were so predictable as to be pathetic. Pamela Anderson is still relying on her body to detract from the fact that her acting is just as plastic! I sat willing to give it a chance, hoping that it was going to improve which, alas, it didn't! If it was a choice between this and a book, I suggest you settle down for a good read! I like Denise Richards, which is why I gave this movie a go, but why she has let her self be cast in this movie is beyond me!\n",
      "* * * * * * * * * \n",
      "19844\n",
      "Kol, space prisoner on space death row, manages to hijack a space shuttle and escape to the woods of America where he, along with some new found friend try to escape from the 'Alienator\\ a female cyborg killing machine. Made one year after the best movie of Fred Olen Ray's career, \\\"Hollywood Chainsaw Hookers\\\", this one can't help but feel like a bit of a letdown. Just as low-budget as that earlier film, but not nearly as fun as I had with it. None of the actors really stood out at me. The film is alright for the undiscriminating viewer during a rainy Saturday afternoon, but that's pretty much all it's good for.<br /><br />My Grade: D+ <br /><br />Where i saw it: Showtime Thriller\"\n",
      "* * * * * * * * * \n",
      "19950\n",
      "This film is awful. Give me the dentist anytime! Can you believe that one of the main TV stations here in Arabia had this as their Christmas film! I can only assume they expected to entertain the crowds with Dudley Moore rather than this. The last time I looked at my hot water bottle it had more acting, better plot, more drama and a lot more interest than this waste of celluloid. Don't even watch it if you're drunk!\n",
      "* * * * * * * * * \n"
     ]
    }
   ],
   "source": [
    "# false positives\n",
    "\n",
    "print(\"Examples of false positives:\")\n",
    "\n",
    "import random, time\n",
    "\n",
    "for i in range(0, len(ols_predictions)):\n",
    "    if (ols_predictions[i] == 1):\n",
    "        if (X_raw_train.iloc[i]['sentiment'] == 0):\n",
    "            if (random.uniform(0, 1) < 0.05): # to print only 5% of the false positives\n",
    "                print(i)\n",
    "                print(X_raw_train.iloc[i]['review'])\n",
    "                print('* * * * * * * * * ')\n"
   ]
  },
  {
   "cell_type": "markdown",
   "metadata": {},
   "source": [
    "---\n",
    "\n",
    "# <span style=\"color:red\">WARNING: Don't look at test set performance too much!</span>\n",
    "\n",
    "---\n",
    "\n",
    "The following cells show performance on your test set. Do not look at this too often! "
   ]
  },
  {
   "cell_type": "markdown",
   "metadata": {},
   "source": [
    "# Look at performance on the test set"
   ]
  },
  {
   "cell_type": "markdown",
   "metadata": {},
   "source": [
    "### MODEL: ordinary least squares"
   ]
  },
  {
   "cell_type": "code",
   "execution_count": 72,
   "metadata": {},
   "outputs": [
    {
     "name": "stdout",
     "output_type": "stream",
     "text": [
      "{'Pos': 2536, 'Neg': 2464, 'TP': 713, 'TN': 1827, 'FP': 637, 'FN': 1823, 'Accuracy': 0.508, 'Precision': 0.5281481481481481, 'Recall': 0.2811514195583596, 'desc': 'ols_test'}\n"
     ]
    }
   ],
   "source": [
    "ols_performance_test = BinaryClassificationPerformance(ols.predict(X_test), y_test, 'ols_test')\n",
    "ols_performance_test.compute_measures()\n",
    "print(ols_performance_test.performance_measures)"
   ]
  },
  {
   "cell_type": "markdown",
   "metadata": {},
   "source": [
    "### MODEL: SVM, linear"
   ]
  },
  {
   "cell_type": "code",
   "execution_count": 73,
   "metadata": {},
   "outputs": [
    {
     "name": "stdout",
     "output_type": "stream",
     "text": [
      "{'Pos': 2536, 'Neg': 2464, 'TP': 1957, 'TN': 703, 'FP': 1761, 'FN': 579, 'Accuracy': 0.532, 'Precision': 0.5263582571274878, 'Recall': 0.7716876971608833, 'desc': 'svm_test'}\n"
     ]
    }
   ],
   "source": [
    "svm_performance_test = BinaryClassificationPerformance(svm.predict(X_test), y_test, 'svm_test')\n",
    "svm_performance_test.compute_measures()\n",
    "print(svm_performance_test.performance_measures)"
   ]
  },
  {
   "cell_type": "markdown",
   "metadata": {},
   "source": [
    "### MODEL: logistic regression"
   ]
  },
  {
   "cell_type": "code",
   "execution_count": 74,
   "metadata": {},
   "outputs": [
    {
     "name": "stdout",
     "output_type": "stream",
     "text": [
      "{'Pos': 2536, 'Neg': 2464, 'TP': 1810, 'TN': 828, 'FP': 1636, 'FN': 726, 'Accuracy': 0.5276, 'Precision': 0.5252466627974464, 'Recall': 0.7137223974763407, 'desc': 'lgs_test'}\n"
     ]
    }
   ],
   "source": [
    "lgs_performance_test = BinaryClassificationPerformance(lgs.predict(X_test), y_test, 'lgs_test')\n",
    "lgs_performance_test.compute_measures()\n",
    "print(lgs_performance_test.performance_measures)"
   ]
  },
  {
   "cell_type": "markdown",
   "metadata": {},
   "source": [
    "### MODEL: Naive Bayes"
   ]
  },
  {
   "cell_type": "code",
   "execution_count": 75,
   "metadata": {},
   "outputs": [
    {
     "name": "stdout",
     "output_type": "stream",
     "text": [
      "{'Pos': 2536, 'Neg': 2464, 'TP': 847, 'TN': 1726, 'FP': 738, 'FN': 1689, 'Accuracy': 0.5146, 'Precision': 0.534384858044164, 'Recall': 0.3339905362776025, 'desc': 'nbs_test'}\n"
     ]
    }
   ],
   "source": [
    "nbs_performance_test = BinaryClassificationPerformance(nbs.predict(X_test), y_test, 'nbs_test')\n",
    "nbs_performance_test.compute_measures()\n",
    "print(nbs_performance_test.performance_measures)"
   ]
  },
  {
   "cell_type": "markdown",
   "metadata": {},
   "source": [
    "### MODEL: Perceptron"
   ]
  },
  {
   "cell_type": "code",
   "execution_count": 76,
   "metadata": {},
   "outputs": [
    {
     "name": "stdout",
     "output_type": "stream",
     "text": [
      "{'Pos': 2536, 'Neg': 2464, 'TP': 2536, 'TN': 1, 'FP': 2463, 'FN': 0, 'Accuracy': 0.5074, 'Precision': 0.5073014602920584, 'Recall': 1.0, 'desc': 'prc_test'}\n"
     ]
    }
   ],
   "source": [
    "prc_performance_test = BinaryClassificationPerformance(prc.predict(X_test), y_test, 'prc_test')\n",
    "prc_performance_test.compute_measures()\n",
    "print(prc_performance_test.performance_measures)"
   ]
  },
  {
   "cell_type": "markdown",
   "metadata": {},
   "source": [
    "### MODEL: Ridge Regression Classifier"
   ]
  },
  {
   "cell_type": "code",
   "execution_count": 77,
   "metadata": {},
   "outputs": [
    {
     "name": "stdout",
     "output_type": "stream",
     "text": [
      "{'Pos': 2536, 'Neg': 2464, 'TP': 1380, 'TN': 1251, 'FP': 1213, 'FN': 1156, 'Accuracy': 0.5262, 'Precision': 0.5322020825298882, 'Recall': 0.5441640378548895, 'desc': 'rdg_test'}\n"
     ]
    }
   ],
   "source": [
    "rdg_performance_test = BinaryClassificationPerformance(rdg.predict(X_test), y_test, 'rdg_test')\n",
    "rdg_performance_test.compute_measures()\n",
    "print(rdg_performance_test.performance_measures)"
   ]
  },
  {
   "cell_type": "markdown",
   "metadata": {},
   "source": [
    "### MODEL: Random Forest Classifier"
   ]
  },
  {
   "cell_type": "code",
   "execution_count": 78,
   "metadata": {},
   "outputs": [
    {
     "name": "stdout",
     "output_type": "stream",
     "text": [
      "{'Pos': 2536, 'Neg': 2464, 'TP': 1019, 'TN': 1579, 'FP': 885, 'FN': 1517, 'Accuracy': 0.5196, 'Precision': 0.5351890756302521, 'Recall': 0.40181388012618297, 'desc': 'rdf_test'}\n"
     ]
    }
   ],
   "source": [
    "rdf_performance_test = BinaryClassificationPerformance(rdf.predict(X_test), y_test, 'rdf_test')\n",
    "rdf_performance_test.compute_measures()\n",
    "print(rdf_performance_test.performance_measures)"
   ]
  },
  {
   "cell_type": "markdown",
   "metadata": {},
   "source": [
    "### ROC plot to compare performance of various models and fits"
   ]
  },
  {
   "cell_type": "code",
   "execution_count": 79,
   "metadata": {},
   "outputs": [
    {
     "data": {
      "image/png": "[encoded data removed]",
      "text/plain": [
       "<Figure size 640x480 with 1 Axes>"
      ]
     },
     "metadata": {},
     "output_type": "display_data"
    }
   ],
   "source": [
    "fits = [ols_performance_test, svm_performance_test, lgs_performance_test, nbs_performance_test, prc_performance_test, rdg_performance_test, rdf_performance_test]\n",
    "\n",
    "for fit in fits:\n",
    "    plt.plot(fit.performance_measures['FP'] / fit.performance_measures['Neg'], \n",
    "             fit.performance_measures['TP'] / fit.performance_measures['Pos'], 'bo')\n",
    "    plt.text(fit.performance_measures['FP'] / fit.performance_measures['Neg'], \n",
    "             fit.performance_measures['TP'] / fit.performance_measures['Pos'], fit.desc)\n",
    "plt.axis([0, 1, 0, 1])\n",
    "plt.title('ROC plot: test set')\n",
    "plt.xlabel('False positive rate')\n",
    "plt.ylabel('True positive rate')\n",
    "plt.show()"
   ]
  },
  {
   "cell_type": "markdown",
   "metadata": {},
   "source": [
    "---\n",
    "\n",
    "# <span style=\"color:red\">SUBMISSION</span>\n",
    "\n",
    "---"
   ]
  },
  {
   "cell_type": "code",
   "execution_count": 23,
   "metadata": {},
   "outputs": [
    {
     "name": "stdout",
     "output_type": "stream",
     "text": [
      "movie_data is: <class 'pandas.core.frame.DataFrame'>\n",
      "movie_data has 25000 rows and 2 columns \n",
      "\n",
      "the data types for each of the columns in movie_data:\n",
      "id        object\n",
      "review    object\n",
      "dtype: object \n",
      "\n",
      "the first 10 rows in movie_data:\n",
      "         id                                             review\n",
      "0  12311_10  Naturally in a film who's main themes are of m...\n",
      "1    8348_2  This movie is a disaster within a disaster fil...\n",
      "2    5828_4  All in all, this is a movie for kids. We saw i...\n",
      "3    7186_2  Afraid of the Dark left me with the impression...\n",
      "4   12128_7  A very accurate depiction of small time mob li...\n",
      "Shape of HashingVectorizer X:\n",
      "(25000, 131072)\n",
      "Look at a few rows of the new quantitative features: \n",
      "   word_count  punc_count\n",
      "0         131           5\n",
      "1         169          15\n",
      "2         176          18\n",
      "3         112           5\n",
      "4         133           8\n",
      "5         331          20\n",
      "6         121          18\n",
      "7         230          22\n",
      "8          59           3\n",
      "9         224          14\n",
      "Size of combined bag of words and new quantitative variables matrix:\n",
      "(25000, 131074)\n",
      "(25000, 131074)\n",
      "Shape of X_test for submission:\n",
      "(25000, 131074)\n",
      "SUCCESS!\n",
      "Number of rows in the submission test set (should be 25,000): \n"
     ]
    }
   ],
   "source": [
    "# read in test data for submission\n",
    "# CHANGE FILE PATH and my_random_seed number (any integer other than 74 will do): \n",
    "raw_data, X_test_submission = process_raw_data(fn='/home/ec2-user/data/moviereviews_test.tsv', my_random_seed=74, test=True)\n",
    "print(\"Number of rows in the submission test set (should be 25,000): \")"
   ]
  },
  {
   "cell_type": "markdown",
   "metadata": {},
   "source": [
    "---\n",
    "\n",
    "Choose a <span style=\"color:red\">*single*</span> model for your submission. In this code, I am choosing the Ordinary Least Squares model fit, which is in the `ols` object. But you should choose the model that is performing the best for you! "
   ]
  },
  {
   "cell_type": "code",
   "execution_count": 24,
   "metadata": {},
   "outputs": [
    {
     "name": "stdout",
     "output_type": "stream",
     "text": [
      "0.5596\n"
     ]
    }
   ],
   "source": [
    "# store the id from the raw data\n",
    "my_submission = pd.DataFrame(raw_data[\"id\"])\n",
    "# concatenate predictions to the id\n",
    "my_submission[\"prediction\"] = ols.predict(X_test_submission)\n",
    "# look at the proportion of positive predictions\n",
    "print(my_submission['prediction'].mean())"
   ]
  },
  {
   "cell_type": "code",
   "execution_count": 25,
   "metadata": {},
   "outputs": [
    {
     "data": {
      "text/html": [
       "<div>\n",
       "<style scoped>\n",
       "    .dataframe tbody tr th:only-of-type {\n",
       "        vertical-align: middle;\n",
       "    }\n",
       "\n",
       "    .dataframe tbody tr th {\n",
       "        vertical-align: top;\n",
       "    }\n",
       "\n",
       "    .dataframe thead th {\n",
       "        text-align: right;\n",
       "    }\n",
       "</style>\n",
       "<table border=\"1\" class=\"dataframe\">\n",
       "  <thead>\n",
       "    <tr style=\"text-align: right;\">\n",
       "      <th></th>\n",
       "      <th>id</th>\n",
       "      <th>review</th>\n",
       "      <th>word_count</th>\n",
       "      <th>punc_count</th>\n",
       "    </tr>\n",
       "  </thead>\n",
       "  <tbody>\n",
       "    <tr>\n",
       "      <td>0</td>\n",
       "      <td>12311_10</td>\n",
       "      <td>Naturally in a film who's main themes are of m...</td>\n",
       "      <td>131</td>\n",
       "      <td>5</td>\n",
       "    </tr>\n",
       "    <tr>\n",
       "      <td>1</td>\n",
       "      <td>8348_2</td>\n",
       "      <td>This movie is a disaster within a disaster fil...</td>\n",
       "      <td>169</td>\n",
       "      <td>15</td>\n",
       "    </tr>\n",
       "    <tr>\n",
       "      <td>2</td>\n",
       "      <td>5828_4</td>\n",
       "      <td>All in all, this is a movie for kids. We saw i...</td>\n",
       "      <td>176</td>\n",
       "      <td>18</td>\n",
       "    </tr>\n",
       "    <tr>\n",
       "      <td>3</td>\n",
       "      <td>7186_2</td>\n",
       "      <td>Afraid of the Dark left me with the impression...</td>\n",
       "      <td>112</td>\n",
       "      <td>5</td>\n",
       "    </tr>\n",
       "    <tr>\n",
       "      <td>4</td>\n",
       "      <td>12128_7</td>\n",
       "      <td>A very accurate depiction of small time mob li...</td>\n",
       "      <td>133</td>\n",
       "      <td>8</td>\n",
       "    </tr>\n",
       "  </tbody>\n",
       "</table>\n",
       "</div>"
      ],
      "text/plain": [
       "         id                                             review  word_count  \\\n",
       "0  12311_10  Naturally in a film who's main themes are of m...         131   \n",
       "1    8348_2  This movie is a disaster within a disaster fil...         169   \n",
       "2    5828_4  All in all, this is a movie for kids. We saw i...         176   \n",
       "3    7186_2  Afraid of the Dark left me with the impression...         112   \n",
       "4   12128_7  A very accurate depiction of small time mob li...         133   \n",
       "\n",
       "   punc_count  \n",
       "0           5  \n",
       "1          15  \n",
       "2          18  \n",
       "3           5  \n",
       "4           8  "
      ]
     },
     "execution_count": 25,
     "metadata": {},
     "output_type": "execute_result"
    }
   ],
   "source": [
    "raw_data.head()"
   ]
  },
  {
   "cell_type": "code",
   "execution_count": 26,
   "metadata": {},
   "outputs": [
    {
     "data": {
      "text/html": [
       "<div>\n",
       "<style scoped>\n",
       "    .dataframe tbody tr th:only-of-type {\n",
       "        vertical-align: middle;\n",
       "    }\n",
       "\n",
       "    .dataframe tbody tr th {\n",
       "        vertical-align: top;\n",
       "    }\n",
       "\n",
       "    .dataframe thead th {\n",
       "        text-align: right;\n",
       "    }\n",
       "</style>\n",
       "<table border=\"1\" class=\"dataframe\">\n",
       "  <thead>\n",
       "    <tr style=\"text-align: right;\">\n",
       "      <th></th>\n",
       "      <th>id</th>\n",
       "      <th>prediction</th>\n",
       "    </tr>\n",
       "  </thead>\n",
       "  <tbody>\n",
       "    <tr>\n",
       "      <td>0</td>\n",
       "      <td>12311_10</td>\n",
       "      <td>1</td>\n",
       "    </tr>\n",
       "    <tr>\n",
       "      <td>1</td>\n",
       "      <td>8348_2</td>\n",
       "      <td>1</td>\n",
       "    </tr>\n",
       "    <tr>\n",
       "      <td>2</td>\n",
       "      <td>5828_4</td>\n",
       "      <td>1</td>\n",
       "    </tr>\n",
       "    <tr>\n",
       "      <td>3</td>\n",
       "      <td>7186_2</td>\n",
       "      <td>1</td>\n",
       "    </tr>\n",
       "    <tr>\n",
       "      <td>4</td>\n",
       "      <td>12128_7</td>\n",
       "      <td>0</td>\n",
       "    </tr>\n",
       "  </tbody>\n",
       "</table>\n",
       "</div>"
      ],
      "text/plain": [
       "         id  prediction\n",
       "0  12311_10           1\n",
       "1    8348_2           1\n",
       "2    5828_4           1\n",
       "3    7186_2           1\n",
       "4   12128_7           0"
      ]
     },
     "execution_count": 26,
     "metadata": {},
     "output_type": "execute_result"
    }
   ],
   "source": [
    "my_submission.head()"
   ]
  },
  {
   "cell_type": "code",
   "execution_count": 27,
   "metadata": {},
   "outputs": [
    {
     "data": {
      "text/plain": [
       "(25000, 2)"
      ]
     },
     "execution_count": 27,
     "metadata": {},
     "output_type": "execute_result"
    }
   ],
   "source": [
    "my_submission.shape"
   ]
  },
  {
   "cell_type": "code",
   "execution_count": 28,
   "metadata": {},
   "outputs": [],
   "source": [
    "# export submission file as pdf\n",
    "# CHANGE FILE PATH: \n",
    "my_submission.to_csv('/home/ec2-user/data/moviereviews_submission.csv', index=False)"
   ]
  },
  {
   "cell_type": "markdown",
   "metadata": {},
   "source": [
    "# Submit to Canvas: 1) the CSV file that was written in the previous cell and 2) the url to the repository (GitHub or other) that contains your code and documentation"
   ]
  }
 ],
 "metadata": {
  "kernelspec": {
   "display_name": "Python 3 (ipykernel)",
   "language": "python",
   "name": "python3"
  },
  "language_info": {
   "codemirror_mode": {
    "name": "ipython",
    "version": 3
   },
   "file_extension": ".py",
   "mimetype": "text/x-python",
   "name": "python",
   "nbconvert_exporter": "python",
   "pygments_lexer": "ipython3",
   "version": "3.9.13"
  }
 },
 "nbformat": 4,
 "nbformat_minor": 2
}
