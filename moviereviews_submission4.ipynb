{
 "cells": [
  {
   "cell_type": "markdown",
   "metadata": {},
   "source": [
    "# Movie reviews\n",
    "\n",
    "This notebook takes you though a complete iteration of Machine Learning Assignment 1 - Movie reviews. The assignment details (including links to download the data) can be found [here](https://docs.google.com/document/d/1WGYw99e5q6j5V0Zrf2HveagU6URt_kVvdR8B9HYQ99E/edit?usp=sharing). "
   ]
  },
  {
   "cell_type": "code",
   "execution_count": 1,
   "metadata": {},
   "outputs": [],
   "source": [
    "# all imports and magic commands\n",
    "import numpy as np\n",
    "import pandas as pd\n",
    "import matplotlib.pyplot as plt\n",
    "from my_measures import BinaryClassificationPerformance\n",
    "from sklearn.feature_extraction.text import HashingVectorizer\n",
    "from sklearn.feature_extraction.text import TfidfTransformer\n",
    "from scipy.sparse import csr_matrix, hstack\n",
    "from sklearn.preprocessing import StandardScaler\n",
    "from sklearn.model_selection import train_test_split\n",
    "%matplotlib inline"
   ]
  },
  {
   "cell_type": "markdown",
   "metadata": {},
   "source": [
    "### IMPORTANT!!! Make sure you are using `BinaryClassificationPerformance` v1.02"
   ]
  },
  {
   "cell_type": "code",
   "execution_count": 2,
   "metadata": {},
   "outputs": [
    {
     "name": "stdout",
     "output_type": "stream",
     "text": [
      "Help on class BinaryClassificationPerformance in module my_measures:\n",
      "\n",
      "class BinaryClassificationPerformance(builtins.object)\n",
      " |  BinaryClassificationPerformance(predictions, labels, desc, probabilities=None)\n",
      " |  \n",
      " |  Performance measures to evaluate the fit of a binary classification model, v1.02\n",
      " |  \n",
      " |  Methods defined here:\n",
      " |  \n",
      " |  __init__(self, predictions, labels, desc, probabilities=None)\n",
      " |      Initialize attributes: predictions-vector of predicted values for Y, labels-vector of labels for Y\n",
      " |  \n",
      " |  compute_measures(self)\n",
      " |      Compute performance measures defined by Flach p. 57\n",
      " |  \n",
      " |  img_indices(self)\n",
      " |      Get the indices of true and false positives to be able to locate the corresponding images in a list of image names\n",
      " |  \n",
      " |  ----------------------------------------------------------------------\n",
      " |  Data descriptors defined here:\n",
      " |  \n",
      " |  __dict__\n",
      " |      dictionary for instance variables (if defined)\n",
      " |  \n",
      " |  __weakref__\n",
      " |      list of weak references to the object (if defined)\n",
      "\n"
     ]
    }
   ],
   "source": [
    "help(BinaryClassificationPerformance)"
   ]
  },
  {
   "cell_type": "markdown",
   "metadata": {},
   "source": [
    "# Function for feature building and extraction on natural language data"
   ]
  },
  {
   "cell_type": "code",
   "execution_count": 27,
   "metadata": {},
   "outputs": [],
   "source": [
    "# function that takes raw data and completes all preprocessing required before model fits\n",
    "def process_raw_data(fn, my_random_seed, test=False):\n",
    "    # read and summarize data\n",
    "    movie_data = pd.read_csv(fn, sep='\\t')\n",
    "    print(\"movie_data is:\", type(movie_data))\n",
    "    print(\"movie_data has\", movie_data.shape[0], \"rows and\", movie_data.shape[1], \"columns\", \"\\n\")\n",
    "    print(\"the data types for each of the columns in movie_data:\")\n",
    "    print(movie_data.dtypes, \"\\n\")\n",
    "    print(\"the first 10 rows in movie_data:\")\n",
    "    print(movie_data.head(5))\n",
    "    if (not test):\n",
    "        print(\"The rate of 'good' movie reviews in the dataset: \")\n",
    "        print(movie_data['sentiment'].mean())\n",
    "\n",
    "    # vectorize Bag of Words from review text; as sparse matrix\n",
    "    if (not test): # fit_transform()\n",
    "        hv = HashingVectorizer(n_features=2 ** 17, alternate_sign=False)\n",
    "        X_hv = hv.fit_transform(movie_data.review)\n",
    "        fitted_transformations.append(hv)\n",
    "        print(\"Shape of HashingVectorizer X:\")\n",
    "        print(X_hv.shape)\n",
    "    else: # transform() \n",
    "        X_hv = fitted_transformations[0].transform(movie_data.review)\n",
    "        print(\"Shape of HashingVectorizer X:\")\n",
    "        print(X_hv.shape)\n",
    "    \n",
    "    # http://scikit-learn.org/stable/modules/generated/sklearn.feature_extraction.text.TfidfTransformer.html\n",
    "    if (not test):\n",
    "        transformer = TfidfTransformer()\n",
    "        X_tfidf = transformer.fit_transform(X_hv)\n",
    "        fitted_transformations.append(transformer)\n",
    "    else:\n",
    "        X_tfidf = fitted_transformations[1].transform(X_hv)\n",
    "    \n",
    "    # create additional quantitative features\n",
    "    # features from Amazon.csv to add to feature set\n",
    "    movie_data['word_count'] = movie_data['review'].str.split(' ').str.len()\n",
    "    movie_data['punc_count'] = movie_data['review'].str.count(\"\\.\")\n",
    "    \n",
    "    # additional features added by me (?, All caps)\n",
    "    movie_data['quest_count'] = movie_data['review'].str.count(\"\\?\")\n",
    "    movie_data['all_caps'] = movie_data['review'].str.isupper().astype(int)\n",
    "    movie_data['excl_count'] = movie_data['review'].str.count(\"\\!\")\n",
    "    movie_data['heart_count'] = movie_data['review'].str.count(\"\\<3\")\n",
    "    \n",
    "\n",
    "    X_quant_features = movie_data[[\"word_count\", \"punc_count\", \"quest_count\", \"all_caps\", \"excl_count\"]]\n",
    "    print(\"Look at a few rows of the new quantitative features: \")\n",
    "    print(X_quant_features.head(10))\n",
    "    \n",
    "    # Combine all quantitative features into a single sparse matrix\n",
    "    X_quant_features_csr = csr_matrix(X_quant_features)\n",
    "    X_combined = hstack([X_tfidf, X_quant_features_csr])\n",
    "    X_matrix = csr_matrix(X_combined) # convert to sparse matrix\n",
    "    print(\"Size of combined bag of words and new quantitative variables matrix:\")\n",
    "    print(X_matrix.shape)\n",
    "    \n",
    "    # Create `X`, scaled matrix of features\n",
    "    # feature scaling\n",
    "    if (not test):\n",
    "        sc = StandardScaler(with_mean=False)\n",
    "        X = sc.fit_transform(X_matrix)\n",
    "        fitted_transformations.append(sc)\n",
    "        print(X.shape)\n",
    "        y = movie_data['sentiment']\n",
    "    else:\n",
    "        X = fitted_transformations[2].transform(X_matrix)\n",
    "        print(X.shape)\n",
    "    \n",
    "    # Create Training and Test Sets\n",
    "    # enter an integer for the random_state parameter; any integer will work\n",
    "    if (test):\n",
    "        X_submission_test = X\n",
    "        print(\"Shape of X_test for submission:\")\n",
    "        print(X_submission_test.shape)\n",
    "        print('SUCCESS!')\n",
    "        return(movie_data, X_submission_test)\n",
    "    else: \n",
    "        X_train, X_test, y_train, y_test, X_raw_train, X_raw_test = train_test_split(X, y, movie_data, test_size=0.2, random_state=my_random_seed)\n",
    "        print(\"Shape of X_train and X_test:\")\n",
    "        print(X_train.shape)\n",
    "        print(X_test.shape)\n",
    "        print(\"Shape of y_train and y_test:\")\n",
    "        print(y_train.shape)\n",
    "        print(y_test.shape)\n",
    "        print(\"Shape of X_raw_train and X_raw_test:\")\n",
    "        print(X_raw_train.shape)\n",
    "        print(X_raw_test.shape)\n",
    "        print('SUCCESS!')\n",
    "        return(X_train, X_test, y_train, y_test, X_raw_train, X_raw_test)"
   ]
  },
  {
   "cell_type": "markdown",
   "metadata": {},
   "source": [
    "# Create training and test sets from function"
   ]
  },
  {
   "cell_type": "code",
   "execution_count": 21,
   "metadata": {},
   "outputs": [
    {
     "name": "stdout",
     "output_type": "stream",
     "text": [
      "movie_data is: <class 'pandas.core.frame.DataFrame'>\n",
      "movie_data has 25000 rows and 3 columns \n",
      "\n",
      "the data types for each of the columns in movie_data:\n",
      "id           object\n",
      "sentiment     int64\n",
      "review       object\n",
      "dtype: object \n",
      "\n",
      "the first 10 rows in movie_data:\n",
      "       id  sentiment                                             review\n",
      "0  5814_8          1  With all this stuff going down at the moment w...\n",
      "1  2381_9          1  \\The Classic War of the Worlds\\\" by Timothy Hi...\n",
      "2  7759_3          0  The film starts with a manager (Nicholas Bell)...\n",
      "3  3630_4          0  It must be assumed that those who praised this...\n",
      "4  9495_8          1  Superbly trashy and wondrously unpretentious 8...\n",
      "The rate of 'good' movie reviews in the dataset: \n",
      "0.5\n",
      "Shape of HashingVectorizer X:\n",
      "(25000, 131072)\n",
      "Look at a few rows of the new quantitative features: \n",
      "   word_count  punc_count  quest_count  all_caps  excl_count\n",
      "0         433          20            2         0           1\n",
      "1         158          16            0         0           0\n",
      "2         378          20            0         0           0\n",
      "3         379           8            1         0           0\n",
      "4         367           9            1         0           6\n",
      "5          89           5            0         0           0\n",
      "6         112           9            0         0           0\n",
      "7         132           9            0         0           0\n",
      "8         163           7            0         0           0\n",
      "9          43           5            0         0           0\n",
      "Size of combined bag of words and new quantitative variables matrix:\n",
      "(25000, 131077)\n",
      "(25000, 131077)\n",
      "Shape of X_train and X_test:\n",
      "(20000, 131077)\n",
      "(5000, 131077)\n",
      "Shape of y_train and y_test:\n",
      "(20000,)\n",
      "(5000,)\n",
      "Shape of X_raw_train and X_raw_test:\n",
      "(20000, 13)\n",
      "(5000, 13)\n",
      "SUCCESS!\n",
      "Number of fits stored in `fitted_transformations` list: \n",
      "3\n"
     ]
    }
   ],
   "source": [
    "# create an empty list to store any use of fit_transform() to transform() later\n",
    "# it is a global list to store model and feature extraction fits\n",
    "fitted_transformations = []\n",
    "\n",
    "# CHANGE FILE PATH and my_random_seed number (any integer other than 74 will do): \n",
    "X_train, X_test, y_train, y_test, X_raw_train, X_raw_test = process_raw_data(fn='/Users/johanna/Documents/Parsons/ML/ml-master/moviereviews_train.tsv', my_random_seed=19)\n",
    "\n",
    "print(\"Number of fits stored in `fitted_transformations` list: \")\n",
    "print(len(fitted_transformations))"
   ]
  },
  {
   "cell_type": "markdown",
   "metadata": {},
   "source": [
    "# Fit (and tune) Various Models"
   ]
  },
  {
   "cell_type": "markdown",
   "metadata": {},
   "source": [
    "### MODEL: ordinary least squares"
   ]
  },
  {
   "cell_type": "code",
   "execution_count": 22,
   "metadata": {},
   "outputs": [
    {
     "name": "stdout",
     "output_type": "stream",
     "text": [
      "{'Pos': 9964, 'Neg': 10036, 'TP': 9964, 'TN': 10036, 'FP': 0, 'FN': 0, 'Accuracy': 1.0, 'Precision': 1.0, 'Recall': 1.0, 'desc': 'ols_train'}\n"
     ]
    }
   ],
   "source": [
    "from sklearn import linear_model\n",
    "ols = linear_model.SGDClassifier()\n",
    "ols.fit(X_train, y_train)\n",
    "\n",
    "ols_performance_train = BinaryClassificationPerformance(ols.predict(X_train), y_train, 'ols_train')\n",
    "ols_performance_train.compute_measures()\n",
    "print(ols_performance_train.performance_measures)"
   ]
  },
  {
   "cell_type": "markdown",
   "metadata": {},
   "source": [
    "### MODEL: SVM, linear"
   ]
  },
  {
   "cell_type": "markdown",
   "metadata": {},
   "source": [
    "Discussion Assignment 3 showed that the accuracy of the test set could be improved by changing the SGD Classifier's alpha value. My initial experiments showed that 1 is close to an ideal value for this alpha. After testing the outcomes of several values between 1 and 10, I settled with 4.1 as the best option. "
   ]
  },
  {
   "cell_type": "code",
   "execution_count": 23,
   "metadata": {},
   "outputs": [
    {
     "name": "stdout",
     "output_type": "stream",
     "text": [
      "{'Pos': 9964, 'Neg': 10036, 'TP': 9756, 'TN': 9902, 'FP': 134, 'FN': 208, 'Accuracy': 0.9829, 'Precision': 0.9864509605662285, 'Recall': 0.979124849458049, 'desc': 'svm_train'}\n",
      "{'Pos': 2536, 'Neg': 2464, 'TP': 2241, 'TN': 2174, 'FP': 290, 'FN': 295, 'Accuracy': 0.883, 'Precision': 0.8854207822994864, 'Recall': 0.8836750788643533, 'desc': 'svm_test'}\n"
     ]
    }
   ],
   "source": [
    "from sklearn import linear_model\n",
    "#svm = linear_model.SGDClassifier(alpha=1)\n",
    "#svm = linear_model.SGDClassifier(alpha=5)\n",
    "#svm = linear_model.SGDClassifier(alpha=3)\n",
    "#svm = linear_model.SGDClassifier(alpha=4)\n",
    "svm = linear_model.SGDClassifier(alpha=4.02)\n",
    "svm.fit(X_train, y_train)\n",
    "\n",
    "svm_performance_train = BinaryClassificationPerformance(svm.predict(X_train), y_train, 'svm_train')\n",
    "svm_performance_train.compute_measures()\n",
    "print(svm_performance_train.performance_measures)\n",
    "\n",
    "svm_performance_test = BinaryClassificationPerformance(svm.predict(X_test), y_test, 'svm_test')\n",
    "svm_performance_test.compute_measures()\n",
    "print(svm_performance_test.performance_measures)"
   ]
  },
  {
   "cell_type": "markdown",
   "metadata": {},
   "source": [
    "I did some research to find the most valuable parameters of the SDG Classifier and picked alpha, learning_rate"
   ]
  },
  {
   "cell_type": "markdown",
   "metadata": {},
   "source": [
    "To make it easier to see and compare the impact of several parameters on my model, I created for loops"
   ]
  },
  {
   "cell_type": "code",
   "execution_count": 34,
   "metadata": {},
   "outputs": [
    {
     "name": "stdout",
     "output_type": "stream",
     "text": [
      "\n",
      "Res for learning_rate=constant, eta0=0.1:  {'Pos': 9964, 'Neg': 10036, 'TP': 9769, 'TN': 9768, 'FP': 268, 'FN': 195, 'Accuracy': 0.97685, 'Precision': 0.9732987944604962, 'Recall': 0.9804295463669209, 'desc': 'svm_train'}\n",
      "Test set : Res for learning_rate=constant, eta0=0.1:  {'Pos': 2536, 'Neg': 2464, 'TP': 2112, 'TN': 2007, 'FP': 457, 'FN': 424, 'Accuracy': 0.8238, 'Precision': 0.8221097703386532, 'Recall': 0.832807570977918, 'desc': 'svm_test'}\n",
      "\n",
      "\n",
      "Res for learning_rate=constant, eta0=10:  {'Pos': 9964, 'Neg': 10036, 'TP': 7531, 'TN': 7110, 'FP': 2926, 'FN': 2433, 'Accuracy': 0.73205, 'Precision': 0.7201874342545663, 'Recall': 0.7558209554395825, 'desc': 'svm_train'}\n",
      "Test set : Res for learning_rate=constant, eta0=10:  {'Pos': 2536, 'Neg': 2464, 'TP': 1861, 'TN': 1677, 'FP': 787, 'FN': 675, 'Accuracy': 0.7076, 'Precision': 0.7027945619335347, 'Recall': 0.7338328075709779, 'desc': 'svm_test'}\n",
      "\n",
      "\n",
      "Res for learning_rate=constant, eta0=100:  {'Pos': 9964, 'Neg': 10036, 'TP': 6638, 'TN': 5978, 'FP': 4058, 'FN': 3326, 'Accuracy': 0.6308, 'Precision': 0.6206058339566193, 'Recall': 0.6661983139301485, 'desc': 'svm_train'}\n",
      "Test set : Res for learning_rate=constant, eta0=100:  {'Pos': 2536, 'Neg': 2464, 'TP': 1706, 'TN': 1509, 'FP': 955, 'FN': 830, 'Accuracy': 0.643, 'Precision': 0.6411123637730176, 'Recall': 0.6727129337539433, 'desc': 'svm_test'}\n",
      "\n",
      "\n",
      "Res for learning_rate=invscaling, eta0=0.1:  {'Pos': 9964, 'Neg': 10036, 'TP': 9961, 'TN': 10033, 'FP': 3, 'FN': 3, 'Accuracy': 0.9997, 'Precision': 0.9996989160979526, 'Recall': 0.9996989160979526, 'desc': 'svm_train'}\n",
      "Test set : Res for learning_rate=invscaling, eta0=0.1:  {'Pos': 2536, 'Neg': 2464, 'TP': 2014, 'TN': 2000, 'FP': 464, 'FN': 522, 'Accuracy': 0.8028, 'Precision': 0.8127522195318806, 'Recall': 0.7941640378548895, 'desc': 'svm_test'}\n",
      "\n",
      "\n",
      "Res for learning_rate=invscaling, eta0=10:  {'Pos': 9964, 'Neg': 10036, 'TP': 9964, 'TN': 10036, 'FP': 0, 'FN': 0, 'Accuracy': 1.0, 'Precision': 1.0, 'Recall': 1.0, 'desc': 'svm_train'}\n",
      "Test set : Res for learning_rate=invscaling, eta0=10:  {'Pos': 2536, 'Neg': 2464, 'TP': 2027, 'TN': 1994, 'FP': 470, 'FN': 509, 'Accuracy': 0.8042, 'Precision': 0.8117741289547457, 'Recall': 0.7992902208201893, 'desc': 'svm_test'}\n",
      "\n",
      "\n",
      "Res for learning_rate=invscaling, eta0=100:  {'Pos': 9964, 'Neg': 10036, 'TP': 9829, 'TN': 9809, 'FP': 227, 'FN': 135, 'Accuracy': 0.9819, 'Precision': 0.9774264120922832, 'Recall': 0.9864512244078684, 'desc': 'svm_train'}\n",
      "Test set : Res for learning_rate=invscaling, eta0=100:  {'Pos': 2536, 'Neg': 2464, 'TP': 2088, 'TN': 2001, 'FP': 463, 'FN': 448, 'Accuracy': 0.8178, 'Precision': 0.8185025480203841, 'Recall': 0.8233438485804416, 'desc': 'svm_test'}\n",
      "\n",
      "\n",
      "Res for learning_rate=adaptive, eta0=0.1:  {'Pos': 9964, 'Neg': 10036, 'TP': 9964, 'TN': 10036, 'FP': 0, 'FN': 0, 'Accuracy': 1.0, 'Precision': 1.0, 'Recall': 1.0, 'desc': 'svm_train'}\n",
      "Test set : Res for learning_rate=adaptive, eta0=0.1:  {'Pos': 2536, 'Neg': 2464, 'TP': 2091, 'TN': 2030, 'FP': 434, 'FN': 445, 'Accuracy': 0.8242, 'Precision': 0.8281188118811881, 'Recall': 0.8245268138801262, 'desc': 'svm_test'}\n",
      "\n",
      "\n",
      "Res for learning_rate=adaptive, eta0=10:  {'Pos': 9964, 'Neg': 10036, 'TP': 9964, 'TN': 10036, 'FP': 0, 'FN': 0, 'Accuracy': 1.0, 'Precision': 1.0, 'Recall': 1.0, 'desc': 'svm_train'}\n",
      "Test set : Res for learning_rate=adaptive, eta0=10:  {'Pos': 2536, 'Neg': 2464, 'TP': 2086, 'TN': 1989, 'FP': 475, 'FN': 450, 'Accuracy': 0.815, 'Precision': 0.8145255759468958, 'Recall': 0.8225552050473186, 'desc': 'svm_test'}\n",
      "\n",
      "\n",
      "Res for learning_rate=adaptive, eta0=100:  {'Pos': 9964, 'Neg': 10036, 'TP': 9964, 'TN': 10036, 'FP': 0, 'FN': 0, 'Accuracy': 1.0, 'Precision': 1.0, 'Recall': 1.0, 'desc': 'svm_train'}\n",
      "Test set : Res for learning_rate=adaptive, eta0=100:  {'Pos': 2536, 'Neg': 2464, 'TP': 2171, 'TN': 1880, 'FP': 584, 'FN': 365, 'Accuracy': 0.8102, 'Precision': 0.788021778584392, 'Recall': 0.8560725552050473, 'desc': 'svm_test'}\n",
      "\n"
     ]
    }
   ],
   "source": [
    "#Testing aplha & eta0\n",
    "\n",
    "from sklearn import linear_model\n",
    "#alphas = [4.02]\n",
    "learning_rates = ['constant','invscaling','adaptive']\n",
    "eta0s = [0.1,10,100]\n",
    "#losses = ['hinge','modified_huber','squared_hinge']\n",
    "\n",
    "\n",
    "\n",
    "for learning_rate in learning_rates:\n",
    "    #for loss in losses:\n",
    "        for eta0 in eta0s:\n",
    "        \n",
    "            svm = linear_model.SGDClassifier(learning_rate=learning_rate, eta0=eta0, max_iter=5000)\n",
    "            svm.fit(X_train, y_train)\n",
    "\n",
    "            svm_performance_train = BinaryClassificationPerformance(svm.predict(X_train), y_train, 'svm_train')\n",
    "            svm_performance_train.compute_measures()\n",
    "            print()\n",
    "            print(f'Res for learning_rate={learning_rate}, eta0={eta0}: ', svm_performance_train.performance_measures)\n",
    "            #print(f'Res for alpha={alpha}, learning_rate={learning_rate}, eta0={eta0}: ', svm_performance_train.performance_measures)\n",
    "            #print(f'Res for alpha={alpha}, loss={loss}: ', svm_performance_train.performance_measures)\n",
    "\n",
    "            svm_performance_test = BinaryClassificationPerformance(svm.predict(X_test), y_test, 'svm_test')\n",
    "            svm_performance_test.compute_measures()\n",
    "            print(f'Test set : Res for learning_rate={learning_rate}, eta0={eta0}: ',svm_performance_test.performance_measures)\n",
    "            #print(f'Test set : Res for alpha={alpha}, learning_rate={learning_rate}, eta0={eta0}: ',svm_performance_test.performance_measures)\n",
    "            #print(f'Test set : Res for alpha={alpha}, loss={loss}: ',svm_performance_test.performance_measures)\n",
    "            print()"
   ]
  },
  {
   "cell_type": "code",
   "execution_count": 25,
   "metadata": {},
   "outputs": [
    {
     "name": "stdout",
     "output_type": "stream",
     "text": [
      "\n",
      "Res for alpha=4.02, loss=hinge:  {'Pos': 9964, 'Neg': 10036, 'TP': 9753, 'TN': 9900, 'FP': 136, 'FN': 211, 'Accuracy': 0.98265, 'Precision': 0.9862473455354435, 'Recall': 0.9788237655560016, 'desc': 'svm_train'}\n",
      "Test set : Res for alpha=4.02, loss=hinge:  {'Pos': 2536, 'Neg': 2464, 'TP': 2238, 'TN': 2181, 'FP': 283, 'FN': 298, 'Accuracy': 0.8838, 'Precision': 0.8877429591431971, 'Recall': 0.8824921135646687, 'desc': 'svm_test'}\n",
      "\n",
      "\n",
      "Res for alpha=4.02, loss=modified_huber:  {'Pos': 9964, 'Neg': 10036, 'TP': 9919, 'TN': 10007, 'FP': 29, 'FN': 45, 'Accuracy': 0.9963, 'Precision': 0.9970848411741053, 'Recall': 0.9954837414692894, 'desc': 'svm_train'}\n",
      "Test set : Res for alpha=4.02, loss=modified_huber:  {'Pos': 2536, 'Neg': 2464, 'TP': 2259, 'TN': 2161, 'FP': 303, 'FN': 277, 'Accuracy': 0.884, 'Precision': 0.8817330210772834, 'Recall': 0.8907728706624606, 'desc': 'svm_test'}\n",
      "\n"
     ]
    },
    {
     "name": "stderr",
     "output_type": "stream",
     "text": [
      "/Users/johanna/opt/anaconda3/lib/python3.9/site-packages/sklearn/linear_model/_stochastic_gradient.py:696: ConvergenceWarning: Maximum number of iteration reached before convergence. Consider increasing max_iter to improve the fit.\n",
      "  warnings.warn(\n"
     ]
    },
    {
     "name": "stdout",
     "output_type": "stream",
     "text": [
      "\n",
      "Res for alpha=4.02, loss=squared_hinge:  {'Pos': 9964, 'Neg': 10036, 'TP': 8489, 'TN': 10023, 'FP': 13, 'FN': 1475, 'Accuracy': 0.9256, 'Precision': 0.9984709480122325, 'Recall': 0.8519670814933762, 'desc': 'svm_train'}\n",
      "Test set : Res for alpha=4.02, loss=squared_hinge:  {'Pos': 2536, 'Neg': 2464, 'TP': 1768, 'TN': 2051, 'FP': 413, 'FN': 768, 'Accuracy': 0.7638, 'Precision': 0.8106373223292068, 'Recall': 0.6971608832807571, 'desc': 'svm_test'}\n",
      "\n",
      "\n",
      "Res for alpha=4.02, loss=perceptron:  {'Pos': 9964, 'Neg': 10036, 'TP': 9962, 'TN': 10029, 'FP': 7, 'FN': 2, 'Accuracy': 0.99955, 'Precision': 0.9992978232520815, 'Recall': 0.9997992773986351, 'desc': 'svm_train'}\n",
      "Test set : Res for alpha=4.02, loss=perceptron:  {'Pos': 2536, 'Neg': 2464, 'TP': 2105, 'TN': 2033, 'FP': 431, 'FN': 431, 'Accuracy': 0.8276, 'Precision': 0.8300473186119873, 'Recall': 0.8300473186119873, 'desc': 'svm_test'}\n",
      "\n"
     ]
    },
    {
     "name": "stderr",
     "output_type": "stream",
     "text": [
      "/Users/johanna/opt/anaconda3/lib/python3.9/site-packages/sklearn/linear_model/_stochastic_gradient.py:696: ConvergenceWarning: Maximum number of iteration reached before convergence. Consider increasing max_iter to improve the fit.\n",
      "  warnings.warn(\n"
     ]
    },
    {
     "name": "stdout",
     "output_type": "stream",
     "text": [
      "\n",
      "Res for alpha=4.02, loss=squared_error:  {'Pos': 9964, 'Neg': 10036, 'TP': 6893, 'TN': 3293, 'FP': 6743, 'FN': 3071, 'Accuracy': 0.5093, 'Precision': 0.5055001466705779, 'Recall': 0.691790445604175, 'desc': 'svm_train'}\n",
      "Test set : Res for alpha=4.02, loss=squared_error:  {'Pos': 2536, 'Neg': 2464, 'TP': 1721, 'TN': 819, 'FP': 1645, 'FN': 815, 'Accuracy': 0.508, 'Precision': 0.5112893642305407, 'Recall': 0.6786277602523659, 'desc': 'svm_test'}\n",
      "\n",
      "\n",
      "Res for alpha=4.02, loss=huber:  {'Pos': 9964, 'Neg': 10036, 'TP': 8333, 'TN': 9872, 'FP': 164, 'FN': 1631, 'Accuracy': 0.91025, 'Precision': 0.9806990702600918, 'Recall': 0.8363107185869129, 'desc': 'svm_train'}\n",
      "Test set : Res for alpha=4.02, loss=huber:  {'Pos': 2536, 'Neg': 2464, 'TP': 1812, 'TN': 2312, 'FP': 152, 'FN': 724, 'Accuracy': 0.8248, 'Precision': 0.9226069246435845, 'Recall': 0.7145110410094637, 'desc': 'svm_test'}\n",
      "\n",
      "\n",
      "Res for alpha=4.02, loss=epsilon_insensitive:  {'Pos': 9964, 'Neg': 10036, 'TP': 9780, 'TN': 9915, 'FP': 121, 'FN': 184, 'Accuracy': 0.98475, 'Precision': 0.9877790122209877, 'Recall': 0.9815335206744279, 'desc': 'svm_train'}\n",
      "Test set : Res for alpha=4.02, loss=epsilon_insensitive:  {'Pos': 2536, 'Neg': 2464, 'TP': 2242, 'TN': 2163, 'FP': 301, 'FN': 294, 'Accuracy': 0.881, 'Precision': 0.8816358631537554, 'Recall': 0.8840694006309149, 'desc': 'svm_test'}\n",
      "\n",
      "\n",
      "Res for alpha=4.02, loss=squared_epsilon_insensitive:  {'Pos': 9964, 'Neg': 10036, 'TP': 3501, 'TN': 6432, 'FP': 3604, 'FN': 6463, 'Accuracy': 0.49665, 'Precision': 0.4927515833919775, 'Recall': 0.3513649136892814, 'desc': 'svm_train'}\n",
      "Test set : Res for alpha=4.02, loss=squared_epsilon_insensitive:  {'Pos': 2536, 'Neg': 2464, 'TP': 898, 'TN': 1550, 'FP': 914, 'FN': 1638, 'Accuracy': 0.4896, 'Precision': 0.4955849889624724, 'Recall': 0.35410094637223977, 'desc': 'svm_test'}\n",
      "\n"
     ]
    },
    {
     "name": "stderr",
     "output_type": "stream",
     "text": [
      "/Users/johanna/opt/anaconda3/lib/python3.9/site-packages/sklearn/linear_model/_stochastic_gradient.py:696: ConvergenceWarning: Maximum number of iteration reached before convergence. Consider increasing max_iter to improve the fit.\n",
      "  warnings.warn(\n"
     ]
    }
   ],
   "source": [
    "#Testing the loss parameter\n",
    "\n",
    "from sklearn import linear_model\n",
    "alphas = [4.02]\n",
    "#learning_rate = ['constant','invscaling','adaptive']\n",
    "#eta0s = [0.1,0.2,0.3]\n",
    "losses = ['hinge','modified_huber','squared_hinge','perceptron', 'squared_error', 'huber', 'epsilon_insensitive', 'squared_epsilon_insensitive']\n",
    "\n",
    "\n",
    "for alpha in alphas:\n",
    "    #for lr in learning_rate:\n",
    "    for loss in losses:\n",
    "        #for eta0 in eta0s:\n",
    "        \n",
    "            svm = linear_model.SGDClassifier(alpha=alpha, loss=loss, max_iter=5000)\n",
    "            svm.fit(X_train, y_train)\n",
    "\n",
    "            svm_performance_train = BinaryClassificationPerformance(svm.predict(X_train), y_train, 'svm_train')\n",
    "            svm_performance_train.compute_measures()\n",
    "            print()\n",
    "            #print(f'Res for alpha={alpha}, lr={lr}, eta0={eta0}: ', svm_performance_train.performance_measures)\n",
    "            print(f'Res for alpha={alpha}, loss={loss}: ', svm_performance_train.performance_measures)\n",
    "\n",
    "            svm_performance_test = BinaryClassificationPerformance(svm.predict(X_test), y_test, 'svm_test')\n",
    "            svm_performance_test.compute_measures()\n",
    "            #print(f'Test set : Res for alpha={alpha}, lr={lr}, eta0={eta0}: ',svm_performance_test.performance_measures)\n",
    "            print(f'Test set : Res for alpha={alpha}, loss={loss}: ',svm_performance_test.performance_measures)\n",
    "            print()"
   ]
  },
  {
   "cell_type": "code",
   "execution_count": 35,
   "metadata": {},
   "outputs": [
    {
     "name": "stdout",
     "output_type": "stream",
     "text": [
      "\n",
      "Res for alpha=4.02, learning_rate=optimal, loss=modified_huber, eta0=0.1:  {'Pos': 9964, 'Neg': 10036, 'TP': 9918, 'TN': 10006, 'FP': 30, 'FN': 46, 'Accuracy': 0.9962, 'Precision': 0.996984318455971, 'Recall': 0.995383380168607, 'desc': 'svm_train'}\n",
      "Test set : Res for alpha=4.02, learning_rate=optimal, loss=modified_huber, eta0=0.1:  {'Pos': 2536, 'Neg': 2464, 'TP': 2263, 'TN': 2155, 'FP': 309, 'FN': 273, 'Accuracy': 0.8836, 'Precision': 0.8798600311041991, 'Recall': 0.8923501577287066, 'desc': 'svm_test'}\n",
      "\n",
      "\n",
      "Res for alpha=4.02, learning_rate=optimal, loss=modified_huber, eta0=10:  {'Pos': 9964, 'Neg': 10036, 'TP': 9918, 'TN': 10005, 'FP': 31, 'FN': 46, 'Accuracy': 0.99615, 'Precision': 0.9968841089556739, 'Recall': 0.995383380168607, 'desc': 'svm_train'}\n",
      "Test set : Res for alpha=4.02, learning_rate=optimal, loss=modified_huber, eta0=10:  {'Pos': 2536, 'Neg': 2464, 'TP': 2247, 'TN': 2164, 'FP': 300, 'FN': 289, 'Accuracy': 0.8822, 'Precision': 0.8822143698468787, 'Recall': 0.8860410094637224, 'desc': 'svm_test'}\n",
      "\n",
      "\n",
      "Res for alpha=4.02, learning_rate=optimal, loss=modified_huber, eta0=100:  {'Pos': 9964, 'Neg': 10036, 'TP': 9918, 'TN': 10006, 'FP': 30, 'FN': 46, 'Accuracy': 0.9962, 'Precision': 0.996984318455971, 'Recall': 0.995383380168607, 'desc': 'svm_train'}\n",
      "Test set : Res for alpha=4.02, learning_rate=optimal, loss=modified_huber, eta0=100:  {'Pos': 2536, 'Neg': 2464, 'TP': 2255, 'TN': 2160, 'FP': 304, 'FN': 281, 'Accuracy': 0.883, 'Precision': 0.8812035951543572, 'Recall': 0.8891955835962145, 'desc': 'svm_test'}\n",
      "\n",
      "\n",
      "Res for alpha=4.02, learning_rate=optimal, loss=epsilon_insensitive, eta0=0.1:  {'Pos': 9964, 'Neg': 10036, 'TP': 9780, 'TN': 9911, 'FP': 125, 'FN': 184, 'Accuracy': 0.98455, 'Precision': 0.9873801110550228, 'Recall': 0.9815335206744279, 'desc': 'svm_train'}\n",
      "Test set : Res for alpha=4.02, learning_rate=optimal, loss=epsilon_insensitive, eta0=0.1:  {'Pos': 2536, 'Neg': 2464, 'TP': 2243, 'TN': 2166, 'FP': 298, 'FN': 293, 'Accuracy': 0.8818, 'Precision': 0.8827233372687918, 'Recall': 0.8844637223974764, 'desc': 'svm_test'}\n",
      "\n",
      "\n",
      "Res for alpha=4.02, learning_rate=optimal, loss=epsilon_insensitive, eta0=10:  {'Pos': 9964, 'Neg': 10036, 'TP': 9780, 'TN': 9913, 'FP': 123, 'FN': 184, 'Accuracy': 0.98465, 'Precision': 0.9875795213571645, 'Recall': 0.9815335206744279, 'desc': 'svm_train'}\n",
      "Test set : Res for alpha=4.02, learning_rate=optimal, loss=epsilon_insensitive, eta0=10:  {'Pos': 2536, 'Neg': 2464, 'TP': 2244, 'TN': 2158, 'FP': 306, 'FN': 292, 'Accuracy': 0.8804, 'Precision': 0.88, 'Recall': 0.8848580441640379, 'desc': 'svm_test'}\n",
      "\n",
      "\n",
      "Res for alpha=4.02, learning_rate=optimal, loss=epsilon_insensitive, eta0=100:  {'Pos': 9964, 'Neg': 10036, 'TP': 9781, 'TN': 9913, 'FP': 123, 'FN': 183, 'Accuracy': 0.9847, 'Precision': 0.9875807754442649, 'Recall': 0.9816338819751104, 'desc': 'svm_train'}\n",
      "Test set : Res for alpha=4.02, learning_rate=optimal, loss=epsilon_insensitive, eta0=100:  {'Pos': 2536, 'Neg': 2464, 'TP': 2247, 'TN': 2157, 'FP': 307, 'FN': 289, 'Accuracy': 0.8808, 'Precision': 0.879796397807361, 'Recall': 0.8860410094637224, 'desc': 'svm_test'}\n",
      "\n",
      "\n",
      "Res for alpha=4.02, learning_rate=constant, loss=modified_huber, eta0=0.1:  {'Pos': 9964, 'Neg': 10036, 'TP': 9891, 'TN': 134, 'FP': 9902, 'FN': 73, 'Accuracy': 0.50125, 'Precision': 0.4997221239832264, 'Recall': 0.9926736250501806, 'desc': 'svm_train'}\n",
      "Test set : Res for alpha=4.02, learning_rate=constant, loss=modified_huber, eta0=0.1:  {'Pos': 2536, 'Neg': 2464, 'TP': 2522, 'TN': 23, 'FP': 2441, 'FN': 14, 'Accuracy': 0.509, 'Precision': 0.5081603868627846, 'Recall': 0.9944794952681388, 'desc': 'svm_test'}\n",
      "\n"
     ]
    },
    {
     "name": "stderr",
     "output_type": "stream",
     "text": [
      "/Users/johanna/Documents/Parsons/ML/ml-master/final_assignment_1/my_measures.py:25: RuntimeWarning: invalid value encountered in long_scalars\n",
      "  self.performance_measures['Precision'] = self.performance_measures['TP'] / (self.performance_measures['TP'] + self.performance_measures['FP'])\n",
      "/Users/johanna/Documents/Parsons/ML/ml-master/final_assignment_1/my_measures.py:25: RuntimeWarning: invalid value encountered in long_scalars\n",
      "  self.performance_measures['Precision'] = self.performance_measures['TP'] / (self.performance_measures['TP'] + self.performance_measures['FP'])\n"
     ]
    },
    {
     "name": "stdout",
     "output_type": "stream",
     "text": [
      "\n",
      "Res for alpha=4.02, learning_rate=constant, loss=modified_huber, eta0=10:  {'Pos': 9964, 'Neg': 10036, 'TP': 0, 'TN': 10036, 'FP': 0, 'FN': 9964, 'Accuracy': 0.5018, 'Precision': nan, 'Recall': 0.0, 'desc': 'svm_train'}\n",
      "Test set : Res for alpha=4.02, learning_rate=constant, loss=modified_huber, eta0=10:  {'Pos': 2536, 'Neg': 2464, 'TP': 0, 'TN': 2464, 'FP': 0, 'FN': 2536, 'Accuracy': 0.4928, 'Precision': nan, 'Recall': 0.0, 'desc': 'svm_test'}\n",
      "\n"
     ]
    },
    {
     "name": "stderr",
     "output_type": "stream",
     "text": [
      "/Users/johanna/Documents/Parsons/ML/ml-master/final_assignment_1/my_measures.py:25: RuntimeWarning: invalid value encountered in long_scalars\n",
      "  self.performance_measures['Precision'] = self.performance_measures['TP'] / (self.performance_measures['TP'] + self.performance_measures['FP'])\n",
      "/Users/johanna/Documents/Parsons/ML/ml-master/final_assignment_1/my_measures.py:25: RuntimeWarning: invalid value encountered in long_scalars\n",
      "  self.performance_measures['Precision'] = self.performance_measures['TP'] / (self.performance_measures['TP'] + self.performance_measures['FP'])\n"
     ]
    },
    {
     "name": "stdout",
     "output_type": "stream",
     "text": [
      "\n",
      "Res for alpha=4.02, learning_rate=constant, loss=modified_huber, eta0=100:  {'Pos': 9964, 'Neg': 10036, 'TP': 0, 'TN': 10036, 'FP': 0, 'FN': 9964, 'Accuracy': 0.5018, 'Precision': nan, 'Recall': 0.0, 'desc': 'svm_train'}\n",
      "Test set : Res for alpha=4.02, learning_rate=constant, loss=modified_huber, eta0=100:  {'Pos': 2536, 'Neg': 2464, 'TP': 0, 'TN': 2464, 'FP': 0, 'FN': 2536, 'Accuracy': 0.4928, 'Precision': nan, 'Recall': 0.0, 'desc': 'svm_test'}\n",
      "\n",
      "\n",
      "Res for alpha=4.02, learning_rate=constant, loss=epsilon_insensitive, eta0=0.1:  {'Pos': 9964, 'Neg': 10036, 'TP': 610, 'TN': 9242, 'FP': 794, 'FN': 9354, 'Accuracy': 0.4926, 'Precision': 0.43447293447293445, 'Recall': 0.061220393416298674, 'desc': 'svm_train'}\n",
      "Test set : Res for alpha=4.02, learning_rate=constant, loss=epsilon_insensitive, eta0=0.1:  {'Pos': 2536, 'Neg': 2464, 'TP': 151, 'TN': 2239, 'FP': 225, 'FN': 2385, 'Accuracy': 0.478, 'Precision': 0.4015957446808511, 'Recall': 0.05954258675078864, 'desc': 'svm_test'}\n",
      "\n",
      "\n",
      "Res for alpha=4.02, learning_rate=constant, loss=epsilon_insensitive, eta0=10:  {'Pos': 9964, 'Neg': 10036, 'TP': 9964, 'TN': 0, 'FP': 10036, 'FN': 0, 'Accuracy': 0.4982, 'Precision': 0.4982, 'Recall': 1.0, 'desc': 'svm_train'}\n",
      "Test set : Res for alpha=4.02, learning_rate=constant, loss=epsilon_insensitive, eta0=10:  {'Pos': 2536, 'Neg': 2464, 'TP': 2536, 'TN': 0, 'FP': 2464, 'FN': 0, 'Accuracy': 0.5072, 'Precision': 0.5072, 'Recall': 1.0, 'desc': 'svm_test'}\n",
      "\n",
      "\n",
      "Res for alpha=4.02, learning_rate=constant, loss=epsilon_insensitive, eta0=100:  {'Pos': 9964, 'Neg': 10036, 'TP': 9964, 'TN': 0, 'FP': 10036, 'FN': 0, 'Accuracy': 0.4982, 'Precision': 0.4982, 'Recall': 1.0, 'desc': 'svm_train'}\n",
      "Test set : Res for alpha=4.02, learning_rate=constant, loss=epsilon_insensitive, eta0=100:  {'Pos': 2536, 'Neg': 2464, 'TP': 2536, 'TN': 0, 'FP': 2464, 'FN': 0, 'Accuracy': 0.5072, 'Precision': 0.5072, 'Recall': 1.0, 'desc': 'svm_test'}\n",
      "\n",
      "\n",
      "Res for alpha=4.02, learning_rate=invscaling, loss=modified_huber, eta0=0.1:  {'Pos': 9964, 'Neg': 10036, 'TP': 8219, 'TN': 8629, 'FP': 1407, 'FN': 1745, 'Accuracy': 0.8424, 'Precision': 0.8538333679617702, 'Recall': 0.8248695303091128, 'desc': 'svm_train'}\n",
      "Test set : Res for alpha=4.02, learning_rate=invscaling, loss=modified_huber, eta0=0.1:  {'Pos': 2536, 'Neg': 2464, 'TP': 1911, 'TN': 2000, 'FP': 464, 'FN': 625, 'Accuracy': 0.7822, 'Precision': 0.8046315789473685, 'Recall': 0.7535488958990536, 'desc': 'svm_test'}\n",
      "\n",
      "\n",
      "Res for alpha=4.02, learning_rate=invscaling, loss=modified_huber, eta0=10:  {'Pos': 9964, 'Neg': 10036, 'TP': 7160, 'TN': 4856, 'FP': 5180, 'FN': 2804, 'Accuracy': 0.6008, 'Precision': 0.580226904376013, 'Recall': 0.718586912886391, 'desc': 'svm_train'}\n",
      "Test set : Res for alpha=4.02, learning_rate=invscaling, loss=modified_huber, eta0=10:  {'Pos': 2536, 'Neg': 2464, 'TP': 1812, 'TN': 1186, 'FP': 1278, 'FN': 724, 'Accuracy': 0.5996, 'Precision': 0.5864077669902913, 'Recall': 0.7145110410094637, 'desc': 'svm_test'}\n",
      "\n",
      "\n",
      "Res for alpha=4.02, learning_rate=invscaling, loss=modified_huber, eta0=100:  {'Pos': 9964, 'Neg': 10036, 'TP': 387, 'TN': 9772, 'FP': 264, 'FN': 9577, 'Accuracy': 0.50795, 'Precision': 0.5944700460829493, 'Recall': 0.0388398233641108, 'desc': 'svm_train'}\n",
      "Test set : Res for alpha=4.02, learning_rate=invscaling, loss=modified_huber, eta0=100:  {'Pos': 2536, 'Neg': 2464, 'TP': 80, 'TN': 2387, 'FP': 77, 'FN': 2456, 'Accuracy': 0.4934, 'Precision': 0.5095541401273885, 'Recall': 0.031545741324921134, 'desc': 'svm_test'}\n",
      "\n",
      "\n",
      "Res for alpha=4.02, learning_rate=invscaling, loss=epsilon_insensitive, eta0=0.1:  {'Pos': 9964, 'Neg': 10036, 'TP': 8430, 'TN': 8308, 'FP': 1728, 'FN': 1534, 'Accuracy': 0.8369, 'Precision': 0.8298877731836976, 'Recall': 0.8460457647531112, 'desc': 'svm_train'}\n",
      "Test set : Res for alpha=4.02, learning_rate=invscaling, loss=epsilon_insensitive, eta0=0.1:  {'Pos': 2536, 'Neg': 2464, 'TP': 2028, 'TN': 1922, 'FP': 542, 'FN': 508, 'Accuracy': 0.79, 'Precision': 0.7891050583657587, 'Recall': 0.7996845425867508, 'desc': 'svm_test'}\n",
      "\n",
      "\n",
      "Res for alpha=4.02, learning_rate=invscaling, loss=epsilon_insensitive, eta0=10:  {'Pos': 9964, 'Neg': 10036, 'TP': 5914, 'TN': 3803, 'FP': 6233, 'FN': 4050, 'Accuracy': 0.48585, 'Precision': 0.4868691858071952, 'Recall': 0.5935367322360497, 'desc': 'svm_train'}\n",
      "Test set : Res for alpha=4.02, learning_rate=invscaling, loss=epsilon_insensitive, eta0=10:  {'Pos': 2536, 'Neg': 2464, 'TP': 1518, 'TN': 919, 'FP': 1545, 'FN': 1018, 'Accuracy': 0.4874, 'Precision': 0.49559255631733595, 'Recall': 0.5985804416403786, 'desc': 'svm_test'}\n",
      "\n",
      "\n",
      "Res for alpha=4.02, learning_rate=invscaling, loss=epsilon_insensitive, eta0=100:  {'Pos': 9964, 'Neg': 10036, 'TP': 5865, 'TN': 4397, 'FP': 5639, 'FN': 4099, 'Accuracy': 0.5131, 'Precision': 0.5098226703755215, 'Recall': 0.5886190285026094, 'desc': 'svm_train'}\n",
      "Test set : Res for alpha=4.02, learning_rate=invscaling, loss=epsilon_insensitive, eta0=100:  {'Pos': 2536, 'Neg': 2464, 'TP': 1488, 'TN': 1101, 'FP': 1363, 'FN': 1048, 'Accuracy': 0.5178, 'Precision': 0.5219221325850579, 'Recall': 0.5867507886435331, 'desc': 'svm_test'}\n",
      "\n",
      "\n",
      "Res for alpha=4.02, learning_rate=adaptive, loss=modified_huber, eta0=0.1:  {'Pos': 9964, 'Neg': 10036, 'TP': 9922, 'TN': 9982, 'FP': 54, 'FN': 42, 'Accuracy': 0.9952, 'Precision': 0.9945870088211708, 'Recall': 0.9957848253713368, 'desc': 'svm_train'}\n",
      "Test set : Res for alpha=4.02, learning_rate=adaptive, loss=modified_huber, eta0=0.1:  {'Pos': 2536, 'Neg': 2464, 'TP': 2282, 'TN': 2091, 'FP': 373, 'FN': 254, 'Accuracy': 0.8746, 'Precision': 0.8595103578154426, 'Recall': 0.8998422712933754, 'desc': 'svm_test'}\n",
      "\n",
      "\n",
      "Res for alpha=4.02, learning_rate=adaptive, loss=modified_huber, eta0=10:  {'Pos': 9964, 'Neg': 10036, 'TP': 9921, 'TN': 9986, 'FP': 50, 'FN': 43, 'Accuracy': 0.99535, 'Precision': 0.9949854578277003, 'Recall': 0.9956844640706544, 'desc': 'svm_train'}\n",
      "Test set : Res for alpha=4.02, learning_rate=adaptive, loss=modified_huber, eta0=10:  {'Pos': 2536, 'Neg': 2464, 'TP': 2280, 'TN': 2104, 'FP': 360, 'FN': 256, 'Accuracy': 0.8768, 'Precision': 0.8636363636363636, 'Recall': 0.8990536277602523, 'desc': 'svm_test'}\n",
      "\n",
      "\n",
      "Res for alpha=4.02, learning_rate=adaptive, loss=modified_huber, eta0=100:  {'Pos': 9964, 'Neg': 10036, 'TP': 9924, 'TN': 9984, 'FP': 52, 'FN': 40, 'Accuracy': 0.9954, 'Precision': 0.9947874899759422, 'Recall': 0.9959855479727018, 'desc': 'svm_train'}\n",
      "Test set : Res for alpha=4.02, learning_rate=adaptive, loss=modified_huber, eta0=100:  {'Pos': 2536, 'Neg': 2464, 'TP': 2279, 'TN': 2106, 'FP': 358, 'FN': 257, 'Accuracy': 0.877, 'Precision': 0.8642396662874479, 'Recall': 0.8986593059936908, 'desc': 'svm_test'}\n",
      "\n",
      "\n",
      "Res for alpha=4.02, learning_rate=adaptive, loss=epsilon_insensitive, eta0=0.1:  {'Pos': 9964, 'Neg': 10036, 'TP': 9790, 'TN': 9904, 'FP': 132, 'FN': 174, 'Accuracy': 0.9847, 'Precision': 0.9866962305986696, 'Recall': 0.9825371336812525, 'desc': 'svm_train'}\n",
      "Test set : Res for alpha=4.02, learning_rate=adaptive, loss=epsilon_insensitive, eta0=0.1:  {'Pos': 2536, 'Neg': 2464, 'TP': 2252, 'TN': 2152, 'FP': 312, 'FN': 284, 'Accuracy': 0.8808, 'Precision': 0.8783151326053042, 'Recall': 0.88801261829653, 'desc': 'svm_test'}\n",
      "\n",
      "\n",
      "Res for alpha=4.02, learning_rate=adaptive, loss=epsilon_insensitive, eta0=10:  {'Pos': 9964, 'Neg': 10036, 'TP': 9792, 'TN': 9902, 'FP': 134, 'FN': 172, 'Accuracy': 0.9847, 'Precision': 0.9865001007455169, 'Recall': 0.9827378562826175, 'desc': 'svm_train'}\n",
      "Test set : Res for alpha=4.02, learning_rate=adaptive, loss=epsilon_insensitive, eta0=10:  {'Pos': 2536, 'Neg': 2464, 'TP': 2252, 'TN': 2153, 'FP': 311, 'FN': 284, 'Accuracy': 0.881, 'Precision': 0.8786578228638314, 'Recall': 0.88801261829653, 'desc': 'svm_test'}\n",
      "\n",
      "\n",
      "Res for alpha=4.02, learning_rate=adaptive, loss=epsilon_insensitive, eta0=100:  {'Pos': 9964, 'Neg': 10036, 'TP': 9791, 'TN': 9900, 'FP': 136, 'FN': 173, 'Accuracy': 0.98455, 'Precision': 0.9862999899264632, 'Recall': 0.982637494981935, 'desc': 'svm_train'}\n",
      "Test set : Res for alpha=4.02, learning_rate=adaptive, loss=epsilon_insensitive, eta0=100:  {'Pos': 2536, 'Neg': 2464, 'TP': 2251, 'TN': 2148, 'FP': 316, 'FN': 285, 'Accuracy': 0.8798, 'Precision': 0.876899104012466, 'Recall': 0.8876182965299685, 'desc': 'svm_test'}\n",
      "\n"
     ]
    }
   ],
   "source": [
    "#Testing learning rate & loss\n",
    "\n",
    "from sklearn import linear_model\n",
    "alphas = [4.02]\n",
    "learning_rates = ['optimal','constant','invscaling','adaptive']\n",
    "eta0s = [0.1,10,100]\n",
    "losses = ['modified_huber', 'epsilon_insensitive']\n",
    "\n",
    "\n",
    "for learning_rate in learning_rates:\n",
    "    for loss in losses:\n",
    "        for eta0 in eta0s:\n",
    "            for alpha in alphas:\n",
    "        \n",
    "                svm = linear_model.SGDClassifier(alpha=alpha, learning_rate=learning_rate, loss=loss, eta0=eta0, max_iter=5000)\n",
    "                svm.fit(X_train, y_train)\n",
    "\n",
    "                svm_performance_train = BinaryClassificationPerformance(svm.predict(X_train), y_train, 'svm_train')\n",
    "                svm_performance_train.compute_measures()\n",
    "                print()\n",
    "\n",
    "                print(f'Res for alpha={alpha}, learning_rate={learning_rate}, loss={loss}, eta0={eta0}: ', svm_performance_train.performance_measures)\n",
    "\n",
    "                svm_performance_test = BinaryClassificationPerformance(svm.predict(X_test), y_test, 'svm_test')\n",
    "                svm_performance_test.compute_measures()\n",
    "\n",
    "                print(f'Test set : Res for alpha={alpha}, learning_rate={learning_rate}, loss={loss}, eta0={eta0}: ',svm_performance_test.performance_measures)\n",
    "                print()"
   ]
  },
  {
   "cell_type": "markdown",
   "metadata": {},
   "source": [
    "### Submission MODEL: SVM, linear"
   ]
  },
  {
   "cell_type": "code",
   "execution_count": 37,
   "metadata": {},
   "outputs": [
    {
     "name": "stdout",
     "output_type": "stream",
     "text": [
      "{'Pos': 9964, 'Neg': 10036, 'TP': 9918, 'TN': 10008, 'FP': 28, 'FN': 46, 'Accuracy': 0.9963, 'Precision': 0.9971847979087071, 'Recall': 0.995383380168607, 'desc': 'svm_train'}\n",
      "{'Pos': 2536, 'Neg': 2464, 'TP': 2253, 'TN': 2164, 'FP': 300, 'FN': 283, 'Accuracy': 0.8834, 'Precision': 0.882491186839013, 'Recall': 0.8884069400630915, 'desc': 'svm_test'}\n"
     ]
    }
   ],
   "source": [
    "from sklearn import linear_model\n",
    "svm = linear_model.SGDClassifier(alpha=4.02, loss='modified_huber', max_iter=10000)\n",
    "svm.fit(X_train, y_train)\n",
    "\n",
    "svm_performance_train = BinaryClassificationPerformance(svm.predict(X_train), y_train, 'svm_train')\n",
    "svm_performance_train.compute_measures()\n",
    "print(svm_performance_train.performance_measures)\n",
    "\n",
    "svm_performance_test = BinaryClassificationPerformance(svm.predict(X_test), y_test, 'svm_test')\n",
    "svm_performance_test.compute_measures()\n",
    "print(svm_performance_test.performance_measures)"
   ]
  },
  {
   "cell_type": "markdown",
   "metadata": {},
   "source": [
    "### MODEL: logistic regression"
   ]
  },
  {
   "cell_type": "code",
   "execution_count": 38,
   "metadata": {},
   "outputs": [
    {
     "name": "stdout",
     "output_type": "stream",
     "text": [
      "{'Pos': 9964, 'Neg': 10036, 'TP': 9964, 'TN': 10036, 'FP': 0, 'FN': 0, 'Accuracy': 1.0, 'Precision': 1.0, 'Recall': 1.0, 'desc': 'lgs_train'}\n"
     ]
    }
   ],
   "source": [
    "from sklearn import linear_model\n",
    "lgs = linear_model.SGDClassifier(loss='log')\n",
    "lgs.fit(X_train, y_train)\n",
    "\n",
    "lgs_performance_train = BinaryClassificationPerformance(lgs.predict(X_train), y_train, 'lgs_train')\n",
    "lgs_performance_train.compute_measures()\n",
    "print(lgs_performance_train.performance_measures)"
   ]
  },
  {
   "cell_type": "markdown",
   "metadata": {},
   "source": [
    "### MODEL: Naive Bayes"
   ]
  },
  {
   "cell_type": "code",
   "execution_count": 39,
   "metadata": {},
   "outputs": [
    {
     "name": "stdout",
     "output_type": "stream",
     "text": [
      "{'Pos': 9964, 'Neg': 10036, 'TP': 9549, 'TN': 9873, 'FP': 163, 'FN': 415, 'Accuracy': 0.9711, 'Precision': 0.9832166392092258, 'Recall': 0.9583500602167804, 'desc': 'nbs_train'}\n"
     ]
    }
   ],
   "source": [
    "from sklearn.naive_bayes import MultinomialNB\n",
    "nbs = MultinomialNB()\n",
    "nbs.fit(X_train, y_train)\n",
    "\n",
    "nbs_performance_train = BinaryClassificationPerformance(nbs.predict(X_train), y_train, 'nbs_train')\n",
    "nbs_performance_train.compute_measures()\n",
    "print(nbs_performance_train.performance_measures)"
   ]
  },
  {
   "cell_type": "markdown",
   "metadata": {},
   "source": [
    "### MODEL: Perceptron"
   ]
  },
  {
   "cell_type": "code",
   "execution_count": 40,
   "metadata": {},
   "outputs": [
    {
     "name": "stdout",
     "output_type": "stream",
     "text": [
      "{'Pos': 9964, 'Neg': 10036, 'TP': 9964, 'TN': 10036, 'FP': 0, 'FN': 0, 'Accuracy': 1.0, 'Precision': 1.0, 'Recall': 1.0, 'desc': 'prc_train'}\n"
     ]
    }
   ],
   "source": [
    "from sklearn import linear_model\n",
    "prc = linear_model.SGDClassifier(loss='perceptron')\n",
    "prc.fit(X_train, y_train)\n",
    "\n",
    "prc_performance_train = BinaryClassificationPerformance(prc.predict(X_train), y_train, 'prc_train')\n",
    "prc_performance_train.compute_measures()\n",
    "print(prc_performance_train.performance_measures)"
   ]
  },
  {
   "cell_type": "markdown",
   "metadata": {},
   "source": [
    "### MODEL: Ridge Regression Classifier"
   ]
  },
  {
   "cell_type": "code",
   "execution_count": 41,
   "metadata": {},
   "outputs": [
    {
     "name": "stdout",
     "output_type": "stream",
     "text": [
      "{'Pos': 9964, 'Neg': 10036, 'TP': 9964, 'TN': 10036, 'FP': 0, 'FN': 0, 'Accuracy': 1.0, 'Precision': 1.0, 'Recall': 1.0, 'desc': 'rdg_train'}\n"
     ]
    }
   ],
   "source": [
    "from sklearn import linear_model\n",
    "rdg = linear_model.RidgeClassifier()\n",
    "rdg.fit(X_train, y_train)\n",
    "\n",
    "rdg_performance_train = BinaryClassificationPerformance(rdg.predict(X_train), y_train, 'rdg_train')\n",
    "rdg_performance_train.compute_measures()\n",
    "print(rdg_performance_train.performance_measures)"
   ]
  },
  {
   "cell_type": "markdown",
   "metadata": {},
   "source": [
    "### MODEL: Random Forest Classifier"
   ]
  },
  {
   "cell_type": "code",
   "execution_count": 42,
   "metadata": {},
   "outputs": [
    {
     "name": "stdout",
     "output_type": "stream",
     "text": [
      "{'Pos': 9964, 'Neg': 10036, 'TP': 7123, 'TN': 8212, 'FP': 1824, 'FN': 2841, 'Accuracy': 0.76675, 'Precision': 0.7961327819380798, 'Recall': 0.7148735447611401, 'desc': 'rdf_train'}\n"
     ]
    }
   ],
   "source": [
    "from sklearn.ensemble import RandomForestClassifier\n",
    "rdf = RandomForestClassifier(max_depth=2, random_state=0)\n",
    "rdf.fit(X_train, y_train)\n",
    "\n",
    "rdf_performance_train = BinaryClassificationPerformance(rdf.predict(X_train), y_train, 'rdf_train')\n",
    "rdf_performance_train.compute_measures()\n",
    "print(rdf_performance_train.performance_measures)"
   ]
  },
  {
   "cell_type": "markdown",
   "metadata": {},
   "source": [
    "### ROC plot to compare performance of various models and fits"
   ]
  },
  {
   "cell_type": "code",
   "execution_count": 44,
   "metadata": {
    "scrolled": false
   },
   "outputs": [
    {
     "data": {
      "image/png": "[encoded data removed]",
      "text/plain": [
       "<Figure size 640x480 with 1 Axes>"
      ]
     },
     "metadata": {},
     "output_type": "display_data"
    }
   ],
   "source": [
    "#fits = [ols_performance_train, svm_performance_train, lgs_performance_train, nbs_performance_train, prc_performance_train, rdg_performance_train, rdf_performance_train]\n",
    "fits = [svm_performance_train, svm_performance_test]\n",
    "\n",
    "for fit in fits:\n",
    "    plt.plot(fit.performance_measures['FP'] / fit.performance_measures['Neg'], \n",
    "             fit.performance_measures['TP'] / fit.performance_measures['Pos'], 'bo')\n",
    "    plt.text(fit.performance_measures['FP'] / fit.performance_measures['Neg'], \n",
    "             fit.performance_measures['TP'] / fit.performance_measures['Pos'], fit.desc)\n",
    "plt.axis([0, 1, 0, 1])\n",
    "plt.title('ROC plot: test set')\n",
    "plt.xlabel('False positive rate')\n",
    "plt.ylabel('True positive rate')\n",
    "plt.show()"
   ]
  },
  {
   "cell_type": "markdown",
   "metadata": {},
   "source": [
    "### looking at reviews based on their classification\n",
    "\n",
    "Let's say we decide that Ordinary Least Squares (OLS) Regression is the best model for generalization. Let's take a look at some of the reviews and try to make a (subjective) determination of whether it's generalizing well. "
   ]
  },
  {
   "cell_type": "code",
   "execution_count": 39,
   "metadata": {},
   "outputs": [],
   "source": [
    "ols_predictions = ols.predict(X_train)"
   ]
  },
  {
   "cell_type": "markdown",
   "metadata": {},
   "source": [
    "### let's look at some false positives:"
   ]
  },
  {
   "cell_type": "code",
   "execution_count": 40,
   "metadata": {},
   "outputs": [
    {
     "name": "stdout",
     "output_type": "stream",
     "text": [
      "Examples of false positives:\n"
     ]
    }
   ],
   "source": [
    "# false positives\n",
    "\n",
    "print(\"Examples of false positives:\")\n",
    "\n",
    "import random, time\n",
    "\n",
    "for i in range(0, len(ols_predictions)):\n",
    "    if (ols_predictions[i] == 1):\n",
    "        if (X_raw_train.iloc[i]['sentiment'] == 0):\n",
    "            if (random.uniform(0, 1) < 0.05): # to print only 5% of the false positives\n",
    "                print(i)\n",
    "                print(X_raw_train.iloc[i]['review'])\n",
    "                print('* * * * * * * * * ')\n"
   ]
  },
  {
   "cell_type": "markdown",
   "metadata": {},
   "source": [
    "---\n",
    "\n",
    "# <span style=\"color:red\">WARNING: Don't look at test set performance too much!</span>\n",
    "\n",
    "---\n",
    "\n",
    "The following cells show performance on your test set. Do not look at this too often! "
   ]
  },
  {
   "cell_type": "markdown",
   "metadata": {},
   "source": [
    "# Look at performance on the test set"
   ]
  },
  {
   "cell_type": "markdown",
   "metadata": {},
   "source": [
    "### MODEL: ordinary least squares"
   ]
  },
  {
   "cell_type": "code",
   "execution_count": 59,
   "metadata": {},
   "outputs": [
    {
     "name": "stdout",
     "output_type": "stream",
     "text": [
      "{'Pos': 2536, 'Neg': 2464, 'TP': 2122, 'TN': 2011, 'FP': 453, 'FN': 414, 'Accuracy': 0.8266, 'Precision': 0.8240776699029126, 'Recall': 0.8367507886435331, 'desc': 'ols_test'}\n"
     ]
    }
   ],
   "source": [
    "ols_performance_test = BinaryClassificationPerformance(ols.predict(X_test), y_test, 'ols_test')\n",
    "ols_performance_test.compute_measures()\n",
    "print(ols_performance_test.performance_measures)"
   ]
  },
  {
   "cell_type": "markdown",
   "metadata": {},
   "source": [
    "### MODEL: SVM, linear"
   ]
  },
  {
   "cell_type": "code",
   "execution_count": 60,
   "metadata": {},
   "outputs": [
    {
     "name": "stdout",
     "output_type": "stream",
     "text": [
      "{'Pos': 2536, 'Neg': 2464, 'TP': 2155, 'TN': 1688, 'FP': 776, 'FN': 381, 'Accuracy': 0.7686, 'Precision': 0.7352439440464006, 'Recall': 0.8497634069400631, 'desc': 'svm_test'}\n"
     ]
    }
   ],
   "source": [
    "svm_performance_test = BinaryClassificationPerformance(svm.predict(X_test), y_test, 'svm_test')\n",
    "svm_performance_test.compute_measures()\n",
    "print(svm_performance_test.performance_measures)"
   ]
  },
  {
   "cell_type": "markdown",
   "metadata": {},
   "source": [
    "### MODEL: logistic regression"
   ]
  },
  {
   "cell_type": "code",
   "execution_count": 61,
   "metadata": {},
   "outputs": [
    {
     "name": "stdout",
     "output_type": "stream",
     "text": [
      "{'Pos': 2536, 'Neg': 2464, 'TP': 2121, 'TN': 2042, 'FP': 422, 'FN': 415, 'Accuracy': 0.8326, 'Precision': 0.8340542666142352, 'Recall': 0.8363564668769716, 'desc': 'lgs_test'}\n"
     ]
    }
   ],
   "source": [
    "lgs_performance_test = BinaryClassificationPerformance(lgs.predict(X_test), y_test, 'lgs_test')\n",
    "lgs_performance_test.compute_measures()\n",
    "print(lgs_performance_test.performance_measures)"
   ]
  },
  {
   "cell_type": "markdown",
   "metadata": {},
   "source": [
    "### MODEL: Naive Bayes"
   ]
  },
  {
   "cell_type": "code",
   "execution_count": 62,
   "metadata": {},
   "outputs": [
    {
     "name": "stdout",
     "output_type": "stream",
     "text": [
      "{'Pos': 2536, 'Neg': 2464, 'TP': 1869, 'TN': 1863, 'FP': 601, 'FN': 667, 'Accuracy': 0.7464, 'Precision': 0.7566801619433199, 'Recall': 0.73698738170347, 'desc': 'nbs_test'}\n"
     ]
    }
   ],
   "source": [
    "nbs_performance_test = BinaryClassificationPerformance(nbs.predict(X_test), y_test, 'nbs_test')\n",
    "nbs_performance_test.compute_measures()\n",
    "print(nbs_performance_test.performance_measures)"
   ]
  },
  {
   "cell_type": "markdown",
   "metadata": {},
   "source": [
    "### MODEL: Perceptron"
   ]
  },
  {
   "cell_type": "code",
   "execution_count": 63,
   "metadata": {},
   "outputs": [
    {
     "name": "stdout",
     "output_type": "stream",
     "text": [
      "{'Pos': 2536, 'Neg': 2464, 'TP': 2080, 'TN': 2037, 'FP': 427, 'FN': 456, 'Accuracy': 0.8234, 'Precision': 0.8296769046669326, 'Recall': 0.8201892744479495, 'desc': 'prc_test'}\n"
     ]
    }
   ],
   "source": [
    "prc_performance_test = BinaryClassificationPerformance(prc.predict(X_test), y_test, 'prc_test')\n",
    "prc_performance_test.compute_measures()\n",
    "print(prc_performance_test.performance_measures)"
   ]
  },
  {
   "cell_type": "markdown",
   "metadata": {},
   "source": [
    "### MODEL: Ridge Regression Classifier"
   ]
  },
  {
   "cell_type": "code",
   "execution_count": 42,
   "metadata": {},
   "outputs": [
    {
     "name": "stdout",
     "output_type": "stream",
     "text": [
      "{'Pos': 2536, 'Neg': 2464, 'TP': 2100, 'TN': 1966, 'FP': 498, 'FN': 436, 'Accuracy': 0.8132, 'Precision': 0.8083140877598153, 'Recall': 0.8280757097791798, 'desc': 'rdg_test'}\n"
     ]
    }
   ],
   "source": [
    "rdg_performance_test = BinaryClassificationPerformance(rdg.predict(X_test), y_test, 'rdg_test')\n",
    "rdg_performance_test.compute_measures()\n",
    "print(rdg_performance_test.performance_measures)"
   ]
  },
  {
   "cell_type": "markdown",
   "metadata": {},
   "source": [
    "### MODEL: Random Forest Classifier"
   ]
  },
  {
   "cell_type": "code",
   "execution_count": 65,
   "metadata": {},
   "outputs": [
    {
     "name": "stdout",
     "output_type": "stream",
     "text": [
      "{'Pos': 2536, 'Neg': 2464, 'TP': 1832, 'TN': 1973, 'FP': 491, 'FN': 704, 'Accuracy': 0.761, 'Precision': 0.7886353852776582, 'Recall': 0.722397476340694, 'desc': 'rdf_test'}\n"
     ]
    }
   ],
   "source": [
    "rdf_performance_test = BinaryClassificationPerformance(rdf.predict(X_test), y_test, 'rdf_test')\n",
    "rdf_performance_test.compute_measures()\n",
    "print(rdf_performance_test.performance_measures)"
   ]
  },
  {
   "cell_type": "markdown",
   "metadata": {},
   "source": [
    "### ROC plot to compare performance of various models and fits"
   ]
  },
  {
   "cell_type": "code",
   "execution_count": 66,
   "metadata": {},
   "outputs": [
    {
     "data": {
      "image/png": "[encoded data removed]",
      "text/plain": [
       "<Figure size 640x480 with 1 Axes>"
      ]
     },
     "metadata": {},
     "output_type": "display_data"
    }
   ],
   "source": [
    "fits = [ols_performance_test, svm_performance_test, lgs_performance_test, nbs_performance_test, prc_performance_test, rdg_performance_test, rdf_performance_test]\n",
    "\n",
    "for fit in fits:\n",
    "    plt.plot(fit.performance_measures['FP'] / fit.performance_measures['Neg'], \n",
    "             fit.performance_measures['TP'] / fit.performance_measures['Pos'], 'bo')\n",
    "    plt.text(fit.performance_measures['FP'] / fit.performance_measures['Neg'], \n",
    "             fit.performance_measures['TP'] / fit.performance_measures['Pos'], fit.desc)\n",
    "plt.axis([0, 1, 0, 1])\n",
    "plt.title('ROC plot: test set')\n",
    "plt.xlabel('False positive rate')\n",
    "plt.ylabel('True positive rate')\n",
    "plt.show()"
   ]
  },
  {
   "cell_type": "markdown",
   "metadata": {},
   "source": [
    "---\n",
    "\n",
    "# <span style=\"color:red\">SUBMISSION</span>\n",
    "\n",
    "---"
   ]
  },
  {
   "cell_type": "code",
   "execution_count": 46,
   "metadata": {},
   "outputs": [
    {
     "name": "stdout",
     "output_type": "stream",
     "text": [
      "movie_data is: <class 'pandas.core.frame.DataFrame'>\n",
      "movie_data has 25000 rows and 2 columns \n",
      "\n",
      "the data types for each of the columns in movie_data:\n",
      "id        object\n",
      "review    object\n",
      "dtype: object \n",
      "\n",
      "the first 10 rows in movie_data:\n",
      "         id                                             review\n",
      "0  12311_10  Naturally in a film who's main themes are of m...\n",
      "1    8348_2  This movie is a disaster within a disaster fil...\n",
      "2    5828_4  All in all, this is a movie for kids. We saw i...\n",
      "3    7186_2  Afraid of the Dark left me with the impression...\n",
      "4   12128_7  A very accurate depiction of small time mob li...\n",
      "Shape of HashingVectorizer X:\n",
      "(25000, 131072)\n",
      "Look at a few rows of the new quantitative features: \n",
      "   word_count  punc_count  quest_count  all_caps  excl_count\n",
      "0         131           5            0         0           0\n",
      "1         169          15            0         0           1\n",
      "2         176          18            0         0           0\n",
      "3         112           5            0         0           0\n",
      "4         133           8            0         0           0\n",
      "5         331          20            5         0           1\n",
      "6         121          18            0         0           4\n",
      "7         230          22            4         0           0\n",
      "8          59           3            0         0           3\n",
      "9         224          14            1         0           0\n",
      "Size of combined bag of words and new quantitative variables matrix:\n",
      "(25000, 131077)\n",
      "(25000, 131077)\n",
      "Shape of X_test for submission:\n",
      "(25000, 131077)\n",
      "SUCCESS!\n",
      "Number of rows in the submission test set (should be 25,000): \n"
     ]
    }
   ],
   "source": [
    "# read in test data for submission\n",
    "# CHANGE FILE PATH and my_random_seed number (any integer other than 74 will do): \n",
    "raw_data, X_test_submission = process_raw_data(fn='/Users/johanna/Documents/Parsons/ML/ml-master/moviereviews_test.tsv', my_random_seed=19, test=True)\n",
    "print(\"Number of rows in the submission test set (should be 25,000): \")"
   ]
  },
  {
   "cell_type": "markdown",
   "metadata": {},
   "source": [
    "---\n",
    "\n",
    "Choose a <span style=\"color:red\">*single*</span> model for your submission. In this code, I am choosing the Ordinary Least Squares model fit, which is in the `ols` object. But you should choose the model that is performing the best for you! "
   ]
  },
  {
   "cell_type": "code",
   "execution_count": 47,
   "metadata": {},
   "outputs": [
    {
     "name": "stdout",
     "output_type": "stream",
     "text": [
      "0.47576\n"
     ]
    }
   ],
   "source": [
    "# store the id from the raw data\n",
    "my_submission = pd.DataFrame(raw_data[\"id\"])\n",
    "\n",
    "# concatenate predictions to the id\n",
    "my_submission[\"prediction\"] = svm.predict(X_test_submission)\n",
    "\n",
    "# look at the proportion of positive predictions\n",
    "print(my_submission['prediction'].mean())"
   ]
  },
  {
   "cell_type": "code",
   "execution_count": 48,
   "metadata": {},
   "outputs": [
    {
     "data": {
      "text/html": [
       "<div>\n",
       "<style scoped>\n",
       "    .dataframe tbody tr th:only-of-type {\n",
       "        vertical-align: middle;\n",
       "    }\n",
       "\n",
       "    .dataframe tbody tr th {\n",
       "        vertical-align: top;\n",
       "    }\n",
       "\n",
       "    .dataframe thead th {\n",
       "        text-align: right;\n",
       "    }\n",
       "</style>\n",
       "<table border=\"1\" class=\"dataframe\">\n",
       "  <thead>\n",
       "    <tr style=\"text-align: right;\">\n",
       "      <th></th>\n",
       "      <th>id</th>\n",
       "      <th>review</th>\n",
       "      <th>word_count</th>\n",
       "      <th>punc_count</th>\n",
       "      <th>quest_count</th>\n",
       "      <th>all_caps</th>\n",
       "      <th>excl_count</th>\n",
       "      <th>heart_count</th>\n",
       "    </tr>\n",
       "  </thead>\n",
       "  <tbody>\n",
       "    <tr>\n",
       "      <th>0</th>\n",
       "      <td>12311_10</td>\n",
       "      <td>Naturally in a film who's main themes are of m...</td>\n",
       "      <td>131</td>\n",
       "      <td>5</td>\n",
       "      <td>0</td>\n",
       "      <td>0</td>\n",
       "      <td>0</td>\n",
       "      <td>0</td>\n",
       "    </tr>\n",
       "    <tr>\n",
       "      <th>1</th>\n",
       "      <td>8348_2</td>\n",
       "      <td>This movie is a disaster within a disaster fil...</td>\n",
       "      <td>169</td>\n",
       "      <td>15</td>\n",
       "      <td>0</td>\n",
       "      <td>0</td>\n",
       "      <td>1</td>\n",
       "      <td>0</td>\n",
       "    </tr>\n",
       "    <tr>\n",
       "      <th>2</th>\n",
       "      <td>5828_4</td>\n",
       "      <td>All in all, this is a movie for kids. We saw i...</td>\n",
       "      <td>176</td>\n",
       "      <td>18</td>\n",
       "      <td>0</td>\n",
       "      <td>0</td>\n",
       "      <td>0</td>\n",
       "      <td>0</td>\n",
       "    </tr>\n",
       "    <tr>\n",
       "      <th>3</th>\n",
       "      <td>7186_2</td>\n",
       "      <td>Afraid of the Dark left me with the impression...</td>\n",
       "      <td>112</td>\n",
       "      <td>5</td>\n",
       "      <td>0</td>\n",
       "      <td>0</td>\n",
       "      <td>0</td>\n",
       "      <td>0</td>\n",
       "    </tr>\n",
       "    <tr>\n",
       "      <th>4</th>\n",
       "      <td>12128_7</td>\n",
       "      <td>A very accurate depiction of small time mob li...</td>\n",
       "      <td>133</td>\n",
       "      <td>8</td>\n",
       "      <td>0</td>\n",
       "      <td>0</td>\n",
       "      <td>0</td>\n",
       "      <td>0</td>\n",
       "    </tr>\n",
       "  </tbody>\n",
       "</table>\n",
       "</div>"
      ],
      "text/plain": [
       "         id                                             review  word_count  \\\n",
       "0  12311_10  Naturally in a film who's main themes are of m...         131   \n",
       "1    8348_2  This movie is a disaster within a disaster fil...         169   \n",
       "2    5828_4  All in all, this is a movie for kids. We saw i...         176   \n",
       "3    7186_2  Afraid of the Dark left me with the impression...         112   \n",
       "4   12128_7  A very accurate depiction of small time mob li...         133   \n",
       "\n",
       "   punc_count  quest_count  all_caps  excl_count  heart_count  \n",
       "0           5            0         0           0            0  \n",
       "1          15            0         0           1            0  \n",
       "2          18            0         0           0            0  \n",
       "3           5            0         0           0            0  \n",
       "4           8            0         0           0            0  "
      ]
     },
     "execution_count": 48,
     "metadata": {},
     "output_type": "execute_result"
    }
   ],
   "source": [
    "raw_data.head()"
   ]
  },
  {
   "cell_type": "code",
   "execution_count": 49,
   "metadata": {},
   "outputs": [
    {
     "data": {
      "text/html": [
       "<div>\n",
       "<style scoped>\n",
       "    .dataframe tbody tr th:only-of-type {\n",
       "        vertical-align: middle;\n",
       "    }\n",
       "\n",
       "    .dataframe tbody tr th {\n",
       "        vertical-align: top;\n",
       "    }\n",
       "\n",
       "    .dataframe thead th {\n",
       "        text-align: right;\n",
       "    }\n",
       "</style>\n",
       "<table border=\"1\" class=\"dataframe\">\n",
       "  <thead>\n",
       "    <tr style=\"text-align: right;\">\n",
       "      <th></th>\n",
       "      <th>id</th>\n",
       "      <th>prediction</th>\n",
       "    </tr>\n",
       "  </thead>\n",
       "  <tbody>\n",
       "    <tr>\n",
       "      <th>0</th>\n",
       "      <td>12311_10</td>\n",
       "      <td>1</td>\n",
       "    </tr>\n",
       "    <tr>\n",
       "      <th>1</th>\n",
       "      <td>8348_2</td>\n",
       "      <td>0</td>\n",
       "    </tr>\n",
       "    <tr>\n",
       "      <th>2</th>\n",
       "      <td>5828_4</td>\n",
       "      <td>0</td>\n",
       "    </tr>\n",
       "    <tr>\n",
       "      <th>3</th>\n",
       "      <td>7186_2</td>\n",
       "      <td>0</td>\n",
       "    </tr>\n",
       "    <tr>\n",
       "      <th>4</th>\n",
       "      <td>12128_7</td>\n",
       "      <td>1</td>\n",
       "    </tr>\n",
       "  </tbody>\n",
       "</table>\n",
       "</div>"
      ],
      "text/plain": [
       "         id  prediction\n",
       "0  12311_10           1\n",
       "1    8348_2           0\n",
       "2    5828_4           0\n",
       "3    7186_2           0\n",
       "4   12128_7           1"
      ]
     },
     "execution_count": 49,
     "metadata": {},
     "output_type": "execute_result"
    }
   ],
   "source": [
    "my_submission.head()"
   ]
  },
  {
   "cell_type": "code",
   "execution_count": 50,
   "metadata": {},
   "outputs": [
    {
     "data": {
      "text/plain": [
       "(25000, 2)"
      ]
     },
     "execution_count": 50,
     "metadata": {},
     "output_type": "execute_result"
    }
   ],
   "source": [
    "my_submission.shape"
   ]
  },
  {
   "cell_type": "code",
   "execution_count": 51,
   "metadata": {},
   "outputs": [],
   "source": [
    "# export submission file as pdf\n",
    "# CHANGE FILE PATH: \n",
    "my_submission.to_csv('/Users/johanna/Documents/Parsons/ML/ml-master/submission_4.csv', index=False)"
   ]
  },
  {
   "cell_type": "markdown",
   "metadata": {},
   "source": [
    "# Submit to Canvas: 1) the CSV file that was written in the previous cell and 2) the url to the repository (GitHub or other) that contains your code and documentation"
   ]
  }
 ],
 "metadata": {
  "kernelspec": {
   "display_name": "Python 3 (ipykernel)",
   "language": "python",
   "name": "python3"
  },
  "language_info": {
   "codemirror_mode": {
    "name": "ipython",
    "version": 3
   },
   "file_extension": ".py",
   "mimetype": "text/x-python",
   "name": "python",
   "nbconvert_exporter": "python",
   "pygments_lexer": "ipython3",
   "version": "3.9.13"
  }
 },
 "nbformat": 4,
 "nbformat_minor": 2
}
