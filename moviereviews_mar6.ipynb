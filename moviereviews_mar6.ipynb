{
 "cells": [
  {
   "cell_type": "markdown",
   "metadata": {},
   "source": [
    "# Movie reviews\n",
    "\n",
    "This notebook takes you though a complete iteration of Machine Learning Assignment 1 - Movie reviews. The assignment details (including links to download the data) can be found [here](https://docs.google.com/document/d/1WGYw99e5q6j5V0Zrf2HveagU6URt_kVvdR8B9HYQ99E/edit?usp=sharing). "
   ]
  },
  {
   "cell_type": "code",
   "execution_count": 1,
   "metadata": {},
   "outputs": [],
   "source": [
    "# all imports and magic commands\n",
    "import numpy as np\n",
    "import pandas as pd\n",
    "import matplotlib.pyplot as plt\n",
    "from my_measures import BinaryClassificationPerformance\n",
    "from sklearn.feature_extraction.text import HashingVectorizer\n",
    "from sklearn.feature_extraction.text import TfidfTransformer\n",
    "from scipy.sparse import csr_matrix, hstack\n",
    "from sklearn.preprocessing import StandardScaler\n",
    "from sklearn.model_selection import train_test_split\n",
    "%matplotlib inline"
   ]
  },
  {
   "cell_type": "markdown",
   "metadata": {},
   "source": [
    "### IMPORTANT!!! Make sure you are using `BinaryClassificationPerformance` v1.02"
   ]
  },
  {
   "cell_type": "code",
   "execution_count": 2,
   "metadata": {},
   "outputs": [
    {
     "name": "stdout",
     "output_type": "stream",
     "text": [
      "Help on class BinaryClassificationPerformance in module my_measures:\n",
      "\n",
      "class BinaryClassificationPerformance(builtins.object)\n",
      " |  BinaryClassificationPerformance(predictions, labels, desc, probabilities=None)\n",
      " |  \n",
      " |  Performance measures to evaluate the fit of a binary classification model, v1.02\n",
      " |  \n",
      " |  Methods defined here:\n",
      " |  \n",
      " |  __init__(self, predictions, labels, desc, probabilities=None)\n",
      " |      Initialize attributes: predictions-vector of predicted values for Y, labels-vector of labels for Y\n",
      " |  \n",
      " |  compute_measures(self)\n",
      " |      Compute performance measures defined by Flach p. 57\n",
      " |  \n",
      " |  img_indices(self)\n",
      " |      Get the indices of true and false positives to be able to locate the corresponding images in a list of image names\n",
      " |  \n",
      " |  ----------------------------------------------------------------------\n",
      " |  Data descriptors defined here:\n",
      " |  \n",
      " |  __dict__\n",
      " |      dictionary for instance variables (if defined)\n",
      " |  \n",
      " |  __weakref__\n",
      " |      list of weak references to the object (if defined)\n",
      "\n"
     ]
    }
   ],
   "source": [
    "help(BinaryClassificationPerformance)"
   ]
  },
  {
   "cell_type": "markdown",
   "metadata": {},
   "source": [
    "# Function for feature building and extraction on natural language data"
   ]
  },
  {
   "cell_type": "code",
   "execution_count": 3,
   "metadata": {},
   "outputs": [],
   "source": [
    "# function that takes raw data and completes all preprocessing required before model fits\n",
    "def process_raw_data(fn, my_random_seed, test=False):\n",
    "    # read and summarize data\n",
    "    movie_data = pd.read_csv(fn, sep='\\t')\n",
    "    print(\"movie_data is:\", type(movie_data))\n",
    "    print(\"movie_data has\", movie_data.shape[0], \"rows and\", movie_data.shape[1], \"columns\", \"\\n\")\n",
    "    print(\"the data types for each of the columns in movie_data:\")\n",
    "    print(movie_data.dtypes, \"\\n\")\n",
    "    print(\"the first 10 rows in movie_data:\")\n",
    "    print(movie_data.head(5))\n",
    "    if (not test):\n",
    "        print(\"The rate of 'good' movie reviews in the dataset: \")\n",
    "        print(movie_data['sentiment'].mean())\n",
    "\n",
    "    # vectorize Bag of Words from review text; as sparse matrix\n",
    "    if (not test): # fit_transform()\n",
    "        hv = HashingVectorizer(n_features=2 ** 17, alternate_sign=False) \n",
    "        X_hv = hv.fit_transform(movie_data.review)\n",
    "        fitted_transformations.append(hv)\n",
    "        print(\"Shape of HashingVectorizer X:\")\n",
    "        print(X_hv.shape)\n",
    "    else: # transform() \n",
    "        X_hv = fitted_transformations[0].transform(movie_data.review)\n",
    "        print(\"Shape of HashingVectorizer X:\")\n",
    "        print(X_hv.shape)\n",
    "    \n",
    "    # http://scikit-learn.org/stable/modules/generated/sklearn.feature_extraction.text.TfidfTransformer.html\n",
    "    if (not test):\n",
    "        transformer = TfidfTransformer()\n",
    "        X_tfidf = transformer.fit_transform(X_hv)\n",
    "        fitted_transformations.append(transformer)\n",
    "    else:\n",
    "        X_tfidf = fitted_transformations[1].transform(X_hv)\n",
    "    \n",
    "    # create additional quantitative features\n",
    "    # features from Amazon.csv to add to feature set\n",
    "    movie_data['word_count'] = movie_data['review'].str.split(' ').str.len()\n",
    "    movie_data['punc_count'] = movie_data['review'].str.count(\"\\.\")\n",
    "\n",
    "    X_quant_features = movie_data[[\"word_count\", \"punc_count\"]]\n",
    "    print(\"Look at a few rows of the new quantitative features: \")\n",
    "    print(X_quant_features.head(10))\n",
    "    \n",
    "    # Combine all quantitative features into a single sparse matrix\n",
    "    X_quant_features_csr = csr_matrix(X_quant_features)\n",
    "    X_combined = hstack([X_quant_features_csr])\n",
    "    #X_combined = hstack([X_tfidf, X_quant_features_csr])\n",
    "    X_matrix = csr_matrix(X_combined) # convert to sparse matrix\n",
    "    print(\"Size of combined bag of words and new quantitative variables matrix:\")\n",
    "    print(X_matrix.shape)\n",
    "    \n",
    "    # Create `X`, scaled matrix of features\n",
    "    # feature scaling\n",
    "    if (not test):\n",
    "        sc = StandardScaler(with_mean=False)\n",
    "        X = sc.fit_transform(X_matrix)\n",
    "        fitted_transformations.append(sc)\n",
    "        print(X.shape)\n",
    "        y = movie_data['sentiment']\n",
    "    else:\n",
    "        X = fitted_transformations[2].transform(X_matrix)\n",
    "        print(X.shape)\n",
    "    \n",
    "    # Create Training and Test Sets\n",
    "    # enter an integer for the random_state parameter; any integer will work\n",
    "    if (test):\n",
    "        X_submission_test = X\n",
    "        print(\"Shape of X_test for submission:\")\n",
    "        print(X_submission_test.shape)\n",
    "        print('SUCCESS!')\n",
    "        return(movie_data, X_submission_test)\n",
    "    else: \n",
    "        X_train, X_test, y_train, y_test, X_raw_train, X_raw_test = train_test_split(X, y, movie_data, test_size=0.2, random_state=my_random_seed)\n",
    "        print(\"Shape of X_train and X_test:\")\n",
    "        print(X_train.shape)\n",
    "        print(X_test.shape)\n",
    "        print(\"Shape of y_train and y_test:\")\n",
    "        print(y_train.shape)\n",
    "        print(y_test.shape)\n",
    "        print(\"Shape of X_raw_train and X_raw_test:\")\n",
    "        print(X_raw_train.shape)\n",
    "        print(X_raw_test.shape)\n",
    "        print('SUCCESS!')\n",
    "        return(X_train, X_test, y_train, y_test, X_raw_train, X_raw_test)"
   ]
  },
  {
   "cell_type": "markdown",
   "metadata": {},
   "source": [
    "# Create training and test sets from function"
   ]
  },
  {
   "cell_type": "code",
   "execution_count": 4,
   "metadata": {},
   "outputs": [
    {
     "name": "stdout",
     "output_type": "stream",
     "text": [
      "movie_data is: <class 'pandas.core.frame.DataFrame'>\n",
      "movie_data has 25000 rows and 3 columns \n",
      "\n",
      "the data types for each of the columns in movie_data:\n",
      "id           object\n",
      "sentiment     int64\n",
      "review       object\n",
      "dtype: object \n",
      "\n",
      "the first 10 rows in movie_data:\n",
      "       id  sentiment                                             review\n",
      "0  5814_8          1  With all this stuff going down at the moment w...\n",
      "1  2381_9          1  \\The Classic War of the Worlds\\\" by Timothy Hi...\n",
      "2  7759_3          0  The film starts with a manager (Nicholas Bell)...\n",
      "3  3630_4          0  It must be assumed that those who praised this...\n",
      "4  9495_8          1  Superbly trashy and wondrously unpretentious 8...\n",
      "The rate of 'good' movie reviews in the dataset: \n",
      "0.5\n",
      "Shape of HashingVectorizer X:\n",
      "(25000, 131072)\n",
      "Look at a few rows of the new quantitative features: \n",
      "   word_count  punc_count\n",
      "0         433          20\n",
      "1         158          16\n",
      "2         378          20\n",
      "3         379           8\n",
      "4         367           9\n",
      "5          89           5\n",
      "6         112           9\n",
      "7         132           9\n",
      "8         163           7\n",
      "9          43           5\n",
      "Size of combined bag of words and new quantitative variables matrix:\n",
      "(25000, 2)\n",
      "(25000, 2)\n",
      "Shape of X_train and X_test:\n",
      "(20000, 2)\n",
      "(5000, 2)\n",
      "Shape of y_train and y_test:\n",
      "(20000,)\n",
      "(5000,)\n",
      "Shape of X_raw_train and X_raw_test:\n",
      "(20000, 5)\n",
      "(5000, 5)\n",
      "SUCCESS!\n",
      "Number of fits stored in `fitted_transformations` list: \n",
      "3\n"
     ]
    }
   ],
   "source": [
    "# create an empty list to store any use of fit_transform() to transform() later\n",
    "# it is a global list to store model and feature extraction fits\n",
    "fitted_transformations = []\n",
    "\n",
    "# CHANGE FILE PATH and my_random_seed number (any integer other than 74 will do): \n",
    "X_train, X_test, y_train, y_test, X_raw_train, X_raw_test = process_raw_data(fn='/Users/johanna/Documents/Parsons/ML/ml-master/moviereviews_train.tsv', my_random_seed=19)\n",
    "\n",
    "print(\"Number of fits stored in `fitted_transformations` list: \")\n",
    "print(len(fitted_transformations))"
   ]
  },
  {
   "cell_type": "markdown",
   "metadata": {},
   "source": [
    "# Fit (and tune) Various Models"
   ]
  },
  {
   "cell_type": "markdown",
   "metadata": {},
   "source": [
    "### MODEL: ordinary least squares"
   ]
  },
  {
   "cell_type": "code",
   "execution_count": 5,
   "metadata": {
    "scrolled": true
   },
   "outputs": [
    {
     "name": "stdout",
     "output_type": "stream",
     "text": [
      "{'Pos': 9964, 'Neg': 10036, 'TP': 1242, 'TN': 8998, 'FP': 1038, 'FN': 8722, 'Accuracy': 0.512, 'Precision': 0.5447368421052632, 'Recall': 0.1246487354476114, 'desc': 'ols_train'}\n"
     ]
    },
    {
     "name": "stderr",
     "output_type": "stream",
     "text": [
      "/Users/johanna/opt/anaconda3/lib/python3.9/site-packages/sklearn/linear_model/_stochastic_gradient.py:165: FutureWarning: The loss 'squared_loss' was deprecated in v1.0 and will be removed in version 1.2. Use `loss='squared_error'` which is equivalent.\n",
      "  warnings.warn(\n"
     ]
    }
   ],
   "source": [
    "from sklearn import linear_model\n",
    "ols = linear_model.SGDClassifier(loss=\"squared_loss\")\n",
    "ols.fit(X_train, y_train)\n",
    "\n",
    "ols_performance_train = BinaryClassificationPerformance(ols.predict(X_train), y_train, 'ols_train')\n",
    "ols_performance_train.compute_measures()\n",
    "print(ols_performance_train.performance_measures)"
   ]
  },
  {
   "cell_type": "markdown",
   "metadata": {},
   "source": [
    "### MODEL: SVM, linear"
   ]
  },
  {
   "cell_type": "code",
   "execution_count": 6,
   "metadata": {},
   "outputs": [
    {
     "name": "stdout",
     "output_type": "stream",
     "text": [
      "{'Pos': 9964, 'Neg': 10036, 'TP': 9111, 'TN': 1243, 'FP': 8793, 'FN': 853, 'Accuracy': 0.5177, 'Precision': 0.5088806970509383, 'Recall': 0.9143918105178643, 'desc': 'svm_train'}\n"
     ]
    }
   ],
   "source": [
    "from sklearn import linear_model\n",
    "svm = linear_model.SGDClassifier()\n",
    "svm.fit(X_train, y_train)\n",
    "\n",
    "svm_performance_train = BinaryClassificationPerformance(svm.predict(X_train), y_train, 'svm_train')\n",
    "svm_performance_train.compute_measures()\n",
    "print(svm_performance_train.performance_measures)"
   ]
  },
  {
   "cell_type": "markdown",
   "metadata": {},
   "source": [
    "### MODEL: logistic regression"
   ]
  },
  {
   "cell_type": "code",
   "execution_count": 7,
   "metadata": {},
   "outputs": [
    {
     "name": "stdout",
     "output_type": "stream",
     "text": [
      "{'Pos': 9964, 'Neg': 10036, 'TP': 9581, 'TN': 594, 'FP': 9442, 'FN': 383, 'Accuracy': 0.50875, 'Precision': 0.5036534721127057, 'Recall': 0.961561621838619, 'desc': 'lgs_train'}\n"
     ]
    }
   ],
   "source": [
    "from sklearn import linear_model\n",
    "lgs = linear_model.SGDClassifier(loss='log')\n",
    "lgs.fit(X_train, y_train)\n",
    "\n",
    "lgs_performance_train = BinaryClassificationPerformance(lgs.predict(X_train), y_train, 'lgs_train')\n",
    "lgs_performance_train.compute_measures()\n",
    "print(lgs_performance_train.performance_measures)"
   ]
  },
  {
   "cell_type": "markdown",
   "metadata": {},
   "source": [
    "### MODEL: Naive Bayes"
   ]
  },
  {
   "cell_type": "code",
   "execution_count": 8,
   "metadata": {},
   "outputs": [
    {
     "name": "stdout",
     "output_type": "stream",
     "text": [
      "{'Pos': 9964, 'Neg': 10036, 'TP': 3430, 'TN': 7098, 'FP': 2938, 'FN': 6534, 'Accuracy': 0.5264, 'Precision': 0.5386306532663316, 'Recall': 0.344239261340827, 'desc': 'nbs_train'}\n"
     ]
    }
   ],
   "source": [
    "from sklearn.naive_bayes import MultinomialNB\n",
    "nbs = MultinomialNB()\n",
    "nbs.fit(X_train, y_train)\n",
    "\n",
    "nbs_performance_train = BinaryClassificationPerformance(nbs.predict(X_train), y_train, 'nbs_train')\n",
    "nbs_performance_train.compute_measures()\n",
    "print(nbs_performance_train.performance_measures)"
   ]
  },
  {
   "cell_type": "markdown",
   "metadata": {},
   "source": [
    "### MODEL: Perceptron"
   ]
  },
  {
   "cell_type": "code",
   "execution_count": 9,
   "metadata": {},
   "outputs": [
    {
     "name": "stdout",
     "output_type": "stream",
     "text": [
      "{'Pos': 9964, 'Neg': 10036, 'TP': 9964, 'TN': 0, 'FP': 10036, 'FN': 0, 'Accuracy': 0.4982, 'Precision': 0.4982, 'Recall': 1.0, 'desc': 'prc_train'}\n"
     ]
    }
   ],
   "source": [
    "from sklearn import linear_model\n",
    "prc = linear_model.SGDClassifier(loss='perceptron')\n",
    "prc.fit(X_train, y_train)\n",
    "\n",
    "prc_performance_train = BinaryClassificationPerformance(prc.predict(X_train), y_train, 'prc_train')\n",
    "prc_performance_train.compute_measures()\n",
    "print(prc_performance_train.performance_measures)"
   ]
  },
  {
   "cell_type": "markdown",
   "metadata": {},
   "source": [
    "### MODEL: Ridge Regression Classifier"
   ]
  },
  {
   "cell_type": "code",
   "execution_count": 144,
   "metadata": {},
   "outputs": [
    {
     "name": "stdout",
     "output_type": "stream",
     "text": [
      "{'Pos': 9964, 'Neg': 10036, 'TP': 5482, 'TN': 5177, 'FP': 4859, 'FN': 4482, 'Accuracy': 0.53295, 'Precision': 0.5301228121071463, 'Recall': 0.5501806503412284, 'desc': 'rdg_train'}\n",
      "F1 scorers  0.5399655257325782\n"
     ]
    }
   ],
   "source": [
    "from sklearn import linear_model\n",
    "rdg = linear_model.RidgeClassifier(alpha=1)\n",
    "#rdg = linear_model.RidgeClassifier(alpha=0.01)\n",
    "#rdg = linear_model.RidgeClassifier(alpha=10)\n",
    "#rdg = linear_model.RidgeClassifier(alpha=1000)\n",
    "#rdg = linear_model.RidgeClassifier(alpha=10000)\n",
    "#rdg = linear_model.RidgeClassifier(alpha=100000)\n",
    "#rdg = linear_model.RidgeClassifier(alpha=50000)\n",
    "#rdg = linear_model.RidgeClassifier(alpha=30000)\n",
    "#rdg = linear_model.RidgeClassifier(alpha=20000)\n",
    "rdg.fit(X_train, y_train)\n",
    "\n",
    "rdg_performance_train = BinaryClassificationPerformance(rdg.predict(X_train), y_train, 'rdg_train')\n",
    "rdg_performance_train.compute_measures()\n",
    "scorers = rdg_performance_train.performance_measures\n",
    "print(scorers)\n",
    "\n",
    "F1 = 2 * (scorers[\"Precision\"] * scorers[\"Recall\"]) / (scorers[\"Precision\"] + scorers[\"Recall\"])\n",
    "print(\"F1 scorers \",F1)"
   ]
  },
  {
   "cell_type": "markdown",
   "metadata": {},
   "source": [
    "### MODEL: Random Forest Classifier"
   ]
  },
  {
   "cell_type": "code",
   "execution_count": 145,
   "metadata": {},
   "outputs": [
    {
     "name": "stdout",
     "output_type": "stream",
     "text": [
      "{'Pos': 9964, 'Neg': 10036, 'TP': 4164, 'TN': 6522, 'FP': 3514, 'FN': 5800, 'Accuracy': 0.5343, 'Precision': 0.5423287314404793, 'Recall': 0.4179044560417503, 'desc': 'rdf_train'}\n"
     ]
    }
   ],
   "source": [
    "from sklearn.ensemble import RandomForestClassifier\n",
    "rdf = RandomForestClassifier(max_depth=2, random_state=0)\n",
    "rdf.fit(X_train, y_train)\n",
    "\n",
    "rdf_performance_train = BinaryClassificationPerformance(rdf.predict(X_train), y_train, 'rdf_train')\n",
    "rdf_performance_train.compute_measures()\n",
    "print(rdf_performance_train.performance_measures)"
   ]
  },
  {
   "cell_type": "markdown",
   "metadata": {},
   "source": [
    "### ROC plot to compare performance of various models and fits"
   ]
  },
  {
   "cell_type": "code",
   "execution_count": 146,
   "metadata": {
    "scrolled": false
   },
   "outputs": [
    {
     "data": {
      "image/png": "[encoded data removed]",
      "text/plain": [
       "<Figure size 640x480 with 1 Axes>"
      ]
     },
     "metadata": {},
     "output_type": "display_data"
    }
   ],
   "source": [
    "fits = [ols_performance_train, svm_performance_train, lgs_performance_train, nbs_performance_train, prc_performance_train, rdg_performance_train, rdf_performance_train]\n",
    "\n",
    "for fit in fits:\n",
    "    plt.plot(fit.performance_measures['FP'] / fit.performance_measures['Neg'], \n",
    "             fit.performance_measures['TP'] / fit.performance_measures['Pos'], 'bo')\n",
    "    plt.text(fit.performance_measures['FP'] / fit.performance_measures['Neg'], \n",
    "             fit.performance_measures['TP'] / fit.performance_measures['Pos'], fit.desc)\n",
    "plt.axis([0, 1, 0, 1])\n",
    "plt.title('ROC plot: train set')\n",
    "plt.xlabel('False positive rate')\n",
    "plt.ylabel('True positive rate')\n",
    "plt.show()"
   ]
  },
  {
   "cell_type": "markdown",
   "metadata": {},
   "source": [
    "### looking at reviews based on their classification\n",
    "\n",
    "Let's say we decide that Ordinary Least Squares (OLS) Regression is the best model for generalization. Let's take a look at some of the reviews and try to make a (subjective) determination of whether it's generalizing well. "
   ]
  },
  {
   "cell_type": "code",
   "execution_count": 147,
   "metadata": {},
   "outputs": [],
   "source": [
    "ols_predictions = ols.predict(X_train)"
   ]
  },
  {
   "cell_type": "markdown",
   "metadata": {},
   "source": [
    "### let's look at some false positives:"
   ]
  },
  {
   "cell_type": "code",
   "execution_count": 148,
   "metadata": {},
   "outputs": [
    {
     "name": "stdout",
     "output_type": "stream",
     "text": [
      "Examples of false positives:\n",
      "254\n",
      "Terrible story, poor acting and no humour at all (apart from the final joke at the end)<br /><br />Some sort of ugly angel is sent to earth to save a boy and his mum from being thrown out of their home. Supposed to be a kiddies movie, but even they will not be amused by this terrible film\n",
      "* * * * * * * * * \n",
      "642\n",
      "For years Madonna has tried to prove not only herself, but the public eye, that she can act. Unfortunately, trying too hard while failing to shed her own persona doesn't mix well.<br /><br />She seems to fare better when she's NOT the star of any movie: if you watch her in supporting performances in DESPERATELY SEEKING SUSAN (1985) or A LEAGUE OF THEIR OWN (1992), she actually comes off looking good. Since the story revolves on other actors, the weight of the expectation is taken off her shoulders by default.<br /><br />The trouble starts when she is asked to be the star of a movie, regardless the genre. Being the focus of a plot that needs to be told in a visual way, whether it be good, mediocre or plain awful, she has to emote in ways that are akin to an actual movie performance as opposed to a video performance. This is the crucial difference between Madonna and, let's say, Bette Davis, or Meryl Streep. The latter two, even if the movie were to fail (because the visual storytelling lacked some effectiveness in having us relate to it, or because the script fell short, or because the actress per se was just not at her moment), there would be an extra something in their performances that would elevate the movie from being a complete bomb. Both Davis and Streep have had their share: Bette, having a longer career than Streep, in such fare as BUNNY O'HARE (1971) and WICKED STEPMOTHER (1989); Streep in SHE-DEVIL (1989). But at least there's been that naturalism in the way both attacked their roles that made us forget the banality of the movie and watch the performance.<br /><br />Madonna, on the other hand, not being an especially gifted actress capable of really letting us in on her ability to convey a persona other than herself, fares much worse, and even in the hands of someone as Woody Allen in SHADOWS AND FOG (1992), an inferior classic, she in her pat screen time seems stilted and a little stiff, maybe even nervous, as if she were aware of the cameras and crew and just couldn't let go.<br /><br />So here she tries yet once again to prove she can act in what is essentially a two-character movie. Guy Ritchie, more known for action movies filled in masculine energy, seems as adrift telling a story closer to someone of the likes of Michaelangelo Antonioni or Ingmar Bergman, who could tell a tale of two people with incredible ease. And at 89 minutes, the events which take place happen in such an unconvincing way that when the final half hour comes along and the story takes a dramatic turn, it doesn't feel sincere. From being an absolute witch with no redeeming values to suddenly being in love, this has to be the most unconvincing 180 degree turn since Fay Dunaway's Laura suddenly discovered her passion for Tommy Lee Jones in THE EYES OF LAURA MARS (1978). Equally unconvincing is Adriano Giannini's nasty turn around the middle of the movie -- it lacks any humor and feels genuinely psychopathic -- and when he gives in to Madonna's love, it's too quick to be believed. Filming this in slow music and a visual montage of lovemaking and beautiful scenery doesn't enhance or add upon this \\transformation\\\" from what would have been a story of survival between to unlikeable characters to a love story where both discover each other.<br /><br />Trying to have an unsatisfying ending works against the movie as well -- it only makes it drag, bog it down, and when Madonna has to be filmed going from hope to devastation in a tight close-up, it feels she's trying too hard. Many an actress have done better in conveying so much doing so little. Hers is a performance more suited to acting styles of the late 20s, early 30s where posturing compensated as acting a part or an emotion.<br /><br />Could the movie have been better? Of course. There are a myriad of ways to have filmed it in a way that would leave the viewer feeling that these people could at least hope to see each other again -- it's been done before, in OVERBOARD (1987), for example. It could have had an existential undertone in which two very different people have to rely on each other but not necessarily change (to ensure a moral tone). Much dialog and unnecessary erotic scenes could have been spared for a more \\\"silent\\\" film look -- as in PERSONA (1966). It could have even been something of a thriller, providing that the Giannini character have a mean streak as Billy Zane had in DEAD CALM (1989). Even if it would have been done as a sex farce it would have worked better for Madonna as the over the top, uber-control freak getting her comeuppance. But with its mean streaked humor, without at least a glimpse of her character having a softer side that hides behind a mask of bitchdom, and without really defining Giannini's own character, this becomes another misfire trying to look like a battle of the sexes.\"\n",
      "* * * * * * * * * \n",
      "679\n",
      "Detective Tony Rome (Frank Sinatra) returns to the screen after his self titled debut, this time it's a film that's played for erm",
      "laughs. While on a diving trip, Rome finds the body of a blonde beauty at the bottom of the sea, her feet as you might expect, encased in cement. Rome immediately on the case after being hired by man mountain Waldo Gronsky. Rome finds himself immediately at risk as he has to investigate some mafia types, who turn the tables on him and he is himself found to be the main suspect, he must now go on the run and hope to solve the case alone. The portly Sinatra tries hard to sell us the lame jokes and make us believe he is a good detective, oh and not to mention being sexually attractive to the foxy Raquel Welch, but he fails miserably, in this ham fisted vanity project. The frankly laughable denouement that surrounds every female is quite astounding, every woman in the film is a dither head, who likes bending over is front of the camera, Director Douglas of course obliges in zooming in on the cracks of their asses each time as they flex their posterior muscles. There's even a ridiculously campy gay character that beggars belief, this was a film made by \\real men\\\" for \\\"real men\\\" to reaffirm their own flagging sexuality, it's a shameful shambles.\"\n",
      "* * * * * * * * * \n",
      "1110\n",
      "At the beginning of the film, you might double-check the DVD cover and re-read the synopsis a couple of times, but no worries. It's NOT \\Memoirs of a Geisha\\\" that you purchased; just a movie with an intro that is much more classy and stylish than it has any right to be. Still, the opening is by far the best thing about the entire movie, as it shows how in the year 1840 a Samurai sword master catches his wife committing adultery. He decapitates the two lovers before doing some hara-kiri (ritual suicide through disembowelment). Cut to present day, when the American Ambassador in Japan welcomes a befriended family and drives them up to the same house where the aforementioned slaughter took place nearly one and a half century ago. From then onwards, this becomes a seemingly routine haunted house flick yet the utterly retarded and implausible script still makes it somewhat exceptional. Let's start with the good aspects, namely the original Japanese setting and the presence of the delicious Susan George who is my all-time favorite British horror wench (well, together with Britt Eckland, Linda Hayden and Ingrid Pitt). The bad aspects simply include that the screenplay is incoherent, imbecilic beyond repair and full of supposedly unsettling twists that only evoke laughter. The restless spirits of the house soon begin to entertain themselves by perpetrating into the bodies of the new tenants and causing them to do and say all sorts of crazy stuff. The spirit of the massacred adulterous woman particularly enjoys squeezing into Susan's ravishing booty and transforming her into a lewd seductress! In this \\\"possessed\\\" state, she even lures the American ambassador outside to have sex in the garden of a high society diner party full of prominent guests. So, strictly spoken, it's not really \\\"evil\\\" that dwells in the house; just a trio of sleazy ghosts with dirty minds and far too much free time on their long-dead hands! Obviously these scenes are more comical than frightening, especially since the light-blue and transparent shapes remind you of the cute ghost effects that were later popularized in \\\"Ghostbusters\\\". \\\"The House Where Evil Dwells\\\" is probably the least scary ghost movie ever. Throughout most of the running time, you'll be wondering whether director Kevin Connor (who nevertheless made the excellent horror films \\\"Motel Hell\\\" and \\\"From Beyond the Grave\\\") intentionally wanted to make his movie funny and over-the-top, like \\\"Motel Hell\\\" maybe. But then again, everyone in the cast continues to speak his/her lines with a straight and sincere face, so I guess we are nevertheless supposed to take everything seriously and feel disturbed. \\\"The House Where Evil Dwells\\\" is never suspenseful or even remotely exciting and it doesn't even contain any grisly images apart from the massacre at the beginning. I am fully aware of how shallow it sounds, but the two scenes in which Susan George goes topless are the only true highlights. Well, those and maybe also the invasion of cheesy and ridiculously over-sized spiders (or are they crabs?) in the daughter's bedroom. How totally random and irrelevant was that? If you ever decide to give this movie a chance notwithstanding its bad reputation, make sure you leave your common sense and reasoning at the doorstep.<br /><br />Trivia note for horror buffs: keep an eye open for the demon-mask that was also a pivot piece of scenery in the brilliant Japanese horror classic Onibaba.\"\n",
      "* * * * * * * * * \n",
      "1274\n",
      "SPOILERS!!!!!!!!!!!!!!!!!!!!!!!!!!!!!!!!<br /><br />I watched half of this movie and I didn't like it. <br /><br />First reason: Boring. Barely anything happens, the women sit around and discuss how terrible their lives are and how they have no hope, they smoke weed, read magazines, care for their sick friend, and cut up the occasional dead body. BORING!!!!<br /><br />Second reason: There are too many things left unexplained. Many scenes are dedicated to a zombie hunter who kidnaps random men, restrains them in a chair and interrogates them. Who are these men? How do they know anything about illegal activity concerning the diseased flesh eaters? Why does he kill one and let another one go?<br /><br />Also there is this dude who at first I thought also had the flesh eating disease but he puts his fist through a wall with superhuman strength suggesting he's not quite what we originally thought-never explained! How frustrating is that? <br /><br />Conclusion: I found the women annoying, the story uninteresting, the duologue tedious, and the action non-existent. Also the cover art is misleading since it makes you believe this movie is going to be cool when it clearly isn't. I rented this movie based on some of the reviews made by other people on this website, and although I respect the fact that some people might have enjoyed this flick, I will from now on make sure I read more than two reviews deep into a movie so as to avoid renting another movie I regret seeing.\n",
      "* * * * * * * * * \n",
      "1333\n",
      "Freddy's Dead: The Final Nightmare starts as dream demon Freddy Krueger (Robert Englund) leaves a teenager (Shon Greenblatt) on the outskirt's of Springwood with no memory of himself, who he is or why he is there. The local police pick him up & take him to a youth centre where child psychiatrist Maggie Burroughs (Lisa Zane) interviews him, she finds a newspaper cutting in his pocket which leads the two to Elm Street in Springwood where they discover that no children live there & therefore no victims for Freddy kill anyone. It all turns out that it's an elaborate plan by Freddy to find his daughter & use her to escape Springwood. When Maggie realises what Freddy is up to her & some kids decide they have to kill Freddy once & for all...<br /><br />Directed by Rachel Talalay this was made with the intention of being the final A Nightmare on Elm Street film which by this time had reached five, of course as any horror film fan know's if there's still money to be made from a franchise or a character then there's no way in hell Freddy's Dead: The Final Nightmare was going to be the last one which, of course, it wasn't. The A Nightmare on Elm Street series has been a franchise of diminishing returns as the films dropped in quality as the series progressed until we got here & Freddy's Dead: The Final Nightmare which for my money is probably the worst out of the lot of them. The film moves at a reasonable pace & it's rarely boring but it's so silly, childish & feels like some sort of live-action cartoon with some awful set-piece horror scenes that seem a million miles from Wes Craven's suspenseful & effective early 80's original. The sequence where stoner Spencer is trapped inside a video game being played by Freddy is terrible on it's own but then we are treated to shots of his body back in reality bouncing around the house from wall to wall & floor to ceiling which is quite the most ridiculous thing I've seen in a while, or maybe the early scenes when the John Doe kid falls from a plane down to the ground just like the Coyote cartoon character in the Road Runner cartoons or the absurd sight of Freddy threatening the deaf Carlos with pins that he intends to drop to the floor to make a loud noise or when he eventually kills him by scraping his knives across a blackboard. You can't take this seriously & I was just sitting there not quite believing what I was seeing. When they do finally try to kill Freddy the hero is given a secret powerful special weapon, yeah that's right a pair of cardboard 3-D glasses! The character's are poor, the dialogue is poor & the plot is confusing, it doesn't really stick to the Elm Street continuity & overall the film is a bit of a mess, the best thing I can say about it is that it has quite a bit of unintentional humour & you can certainly laugh at it.<br /><br />The film has major tonal problems as it tries to be dark, scary & sinister yet it's so silly & simply looks ridiculous at times that any attempt at being serious falls completely flat. There's not much gore in this one, there's some cut off fingers, some stabbings, someone falls on a bed of nails & that's about it. The body count is extremely low here with only three death's. The final twenty or so minutes of Freddy's Dead: The Final Nightmare was in fact shot in 3-D although the version I saw presented this part as normal so I can't comment on how well this does or doesn't work but you can definitely see shots which are meant to be seen in 3-D which take advantage of the process. The special effects vary, some are quite good actually while other's are terrible & Freddy's burnt make-up this time looks quite poor.<br /><br />This apparently had a budget of about $5,000,000 (it had an opening weekend box-office take of $12,000,000) & the film has a few nice visual touches & gags which makes the thing feel even more cartoony than it already is. The acting is really poor from the main leads although there are a few odd cameos including Tom Arnold & Roseanne, Johnny Depp & rocker Alice Cooper.<br /><br />Freddy's Dead: The Final Nightmare is probably the worst of the entire series & apart from some unintentional laugh value there's not much here to recommend or enjoy. Fans of the series will probably like it & defend it but for me this is about as far from Wes Craven's original classic shocker as it gets. Followed by New Nightmare (1994) which tried to take Freddy Krueger & the series in a new & different direction.\n",
      "* * * * * * * * * \n",
      "1348\n",
      "When converting a book to film, it is generally a good idea to keep at least some of the author's intended tone or conveyed concepts, rather than ignoring the author altogether. While it is clear that the director had access to and went on the advice of Elinore Stewart's children, it is key to note that the children believed their mother to be a complete liar in regards to the good, enriching, strengthening experiences of homesteading her land. The book details her life on her and her husband's adjoining homesteads in the vast Wyoming frontier; she chronicles daily adventures with her numerous friends and acquaintances, though they lived dozens of miles apart. The film, however, takes a standard stance for the time it was made, portraying this woman's experience as harsh, unforgiving, and nearly pointless. Perhaps the director was bringing some of his Vietnam War experiences with him to this movie (as some film aficionados have said), but it seems to be a lousy excuse for taking all the joy and beauty of the book and twisting it into a bleak, odious landscape devoid of friends or hope. Don't waste your time with this movie; read the book instead.\n",
      "* * * * * * * * * \n",
      "1821\n",
      "Actress Patty Duke wrote an insightful, funny, rough-hewn book about her career as an actress, her crazy-quilt love-life, and her manic depressive episodes and suicide attempts which almost put her away for good. With this rich material to draw from (and Patty playing herself in the final act), one would think a crack TV-director like Gilbert Cates could bring it all together on film, but \\Call Me Anna\\\" is a pale shadow of Duke's autobiography. For those who haven't read the book, the sketchy narrative (leaping forward in time) isn't absorbing, we are never allowed to get our bearings with what's happening, and the production seems stunted by a low budget. The actors are miscast, and the value of having Duke herself finally appear does not pay off--the film's phony reality is so thick at this point that Patty can't bring stability to the scenario. It appears as if the producers were sincere enough (and consciousness-minded) to anxiously steer the film towards Duke's ultimate diagnosis and mental freedom, but they left out many dramatic opportunities in the process.\"\n",
      "* * * * * * * * * \n",
      "2449\n",
      "I can't believe the likes of Guillermo del Toro and Kim Bassinger got involved ins this piece of garbage! The script is so poorly written and the directing so weak (both by the same person) that its hard to find more one-dimension characters in a film. The dialogs are so lame that this so called thriller got laughs out of the few fools that got into the theatre. The setup it's tricky, inviting you to believe you are going to watch a chilling thriller and suddenly it turns out into the most stupid persecution film. Bassinger's character is so dumb, that she actually stops to scream to God \\Where are you!\\\" so the people after her can follow, and then takes a leak!!!! And then she apparently got into the smallest wood in the world, I mean, she runs all over the place and the killers never loose track of her, and this happens in the middle of the night. It really makes me wonder, is that really the best writing people in Hollywood can find that they spend millions producing it.\"\n",
      "* * * * * * * * * \n",
      "2932\n",
      "60 minutes in the beautiful Christina Galbo tries to escape the isolated boarding school she's brought to at the beginning of the movie. Is she running from some kind of fate too horrible to contemplate, a monster, black-gloved killer, or supernatural evil? No, she's running from a bunch of bullies. For the OTHER 40 minutes that follow, various figures walk around the school in the dark holding candelabras and looking alarmed or distraught, which doesn't say much in itself perhaps because great movies have been made about just that but if you're going to have characters walking around corridors and staircases you better be Alain Resnais or you better know how to light that staircase in bright apple reds and purples like Mario Bava. We know a killer stalks the perimeters of the school but his body count is pitiful and sparse and in the absence of the visceral horrors one expects to find in the giallo, we get no sense of sinister mysteries/unspeakable secrets festering behind a facade of order and piety and rightness which is the kind of movie La Residencia wants to be but doesn't quite know how to do it. We know something is off because girls are reported missing but we never get the foreboding mysterious atmosphere that says \\something is seriously f-cking wrong here, man\\\". When Serrador tries to comment on the sexual repression of the female students, he does so with quick-cutting hysterics and detail closeups of eyes and parted lips while high pitched \\\"this-is-shocking\\\" music blares in the background. None of the aetherial beauty and longing of PICNIC AT HANGING ROCK to be found here. It's all a bit clumsy and aimless, with no real sense of urgency or direction. A number of people are presented as suspects but there's little reason to care for the identity of a killer that goes unnoticed by the characters inside the movie. I like the first kill, the image of a knife hitting target superimposed over the anguished face of the victim as a lullaby chimes in the background, but the rest is too inconsequential for my taste. I have to say Serrador did much better with the killing children and paranoia du soleil of WHO CAN KILL A CHILD?\"\n",
      "* * * * * * * * * \n",
      "3287\n",
      "Did anybody succeed in getting in this movie?<br /><br />It's a total mess to me: a vague historical/sentimental context instead of a plot, a pretentious imagery as mise en scene and it lasts two hours!<br /><br />Shame on those who wasted money here.\n",
      "* * * * * * * * * \n",
      "3595\n",
      "Hm. While an enjoyable movie to poke plot holes, point out atrocious acting, primitive (at best) special effects (all of which have caused me to view this movie three times over the past six years), Severed ranks among the worst I've ever seen. I'm never sure who the protagonists are, all I know is that the killer uses a portable guillotine, as seen in the dance floor murder scene. All in all, I don't really like the movie, because only the first 30 minutes are enjoyable, the rest is a mishmash of confusing dialog and imagery that fail to progress the story to a logical conclusion (which I can't remember anyway).\n",
      "* * * * * * * * * \n",
      "3598\n",
      "This movie is lame and not funny at all. The plot doesn't even make sense. Some scientist who works on the fringes of science opens a doorway to another dimension (maybe hell???) and his daughter gets sucked through it or something, then one day for no apparent reason she comes back and now she has big breasts and wears a skimpy outfit (I guess the demons in the other dimension made it for her?) The main character is a guy who wants to marry his girlfriend but she is gay so obviously she's more interested in her new girlfriend, and they stumble upon this witch spell book (they want to be witches or something???) and the evil spell ends up getting read again which is how the evil demon comes to earth which only the bikini top girl and the spurned guy in love can stop apparently. There is topless scenes for no reason and a guy in it who my boyfriend says is a well known wrestler but his part is completely unnecessary, obviously they made something up just to put him in it because then maybe wrestling fans will actually watch this pointless movie. I'm sure the topless girls doesn't hurt there either. The extra features on the DVD were even more confusing than the rest of the movie, I thought it might help explain what was going on but it actually just made things more confusing. Who are these people and what are they doing? Basically this is a go-camping-to-make-out-then-fight-a-monster movie but there are a bunch of things (like the other dimension and book seller) than make it confusing. I didn't like the movie but it was only like five bucks so big deal. I don't recommend watching it though it was just too stupid, I can't think of any part of the movie that was good.\n",
      "* * * * * * * * * \n",
      "4119\n",
      "Saw this movie when it first came out in the 1970's and hated, hated, hated it! Easily the most booooring movie I have ever seen in my life. Don't know where Leigh got his inspiration but this is one of those movies where you want to shake the characters to get them to open their mouths and communicate. The title says it all because there are no saving moments in this movie, just long, long silences with people unable to articulate what they are (presumably) feeling. If you want to watch something that will drive you to drink then this is the one for you. If you have nothing better to do for two hours then stick a fork in a toaster: the experience will be infinitely more pleasurable than anything you will get from this! Yes, Leigh came up with a lot of really worthwhile stuff much later in his career but give this one a miss.\n",
      "* * * * * * * * * \n",
      "4414\n",
      "Worst film ever, this is a statement that people here on IMDb often throw around. Whether it's an Uwe Boll movie, bad classics like Manos The Hands Of Fate or the latest no brains summer action fest from Michael Bay, people are often quick to jump to the sudden conclusion that on the board they're posting that there is nothing worse in the movie world.<br /><br />I envy these people, because they're blissfully ignorant and unaware of how deep the rabbit hole of crap movie making really goes. There are films out there so bad, so hideous, so unintentionally hilarious and so ridiculous that cults form around them to celebrate their awfulness and their discussion boards are the kindest places on the internet due to everyone agreeing unanimously that said film is really that bad.<br /><br />Ladies and Gentlemen, i present to you Ben and Arthur, an 85 minute gay epic that is so utterly bad that it's a lot like a violent car crash, you know it's awful but you can't stop looking at it. The brainchild of self proclaimed \\hollywood actor, director\\\" and may i add beached whale Sam Mraovich, this film is legendarily terrible. Let me give you a hint of how ego driven this project was. Mr Mraovich not only directed this film, he wrote it, produced it, executive produced it, scored it, edited it and then finally starred in it. This is a man so blinded by his own ego and so believing of his non existent genius that like someone with an ugly child he fails to recognise just how catastrophic his bastard creation really is.<br /><br />Everything in this film fails on an epic level, the acting is the worst you will ever witness, the plot is the most ridiculous, the editing and cinematography is the most amateur and even the music is like nails on a chalkboard. I'm aware i've gone on a bit of a tangent here, but please believe me that this film is really as bad as i describe it, i would say this film is horse crap squished into a film reel, but the truth is it wasn't even shot on film, it was shot on a digital camcorder not much better than the one sitting in your closet right now gathering dust. Don't get me wrong, i forgive low budgets for films provided the concept is interesting, for example as much as i disliked it The Blair Witch Project proved that low budgets can still lead to an atmospheric interesting film. Ben and Arthur does not have a good concept to fall back on, even if this film was shot on a budget of 20 million with Hollywoods finest actors it would still suck, the plot is that atrocious, and the characters are even worse. One of the main characters Arthur who is portrayed by non other than Sam Mraovich is one of the most whiny loathsome little turds ever put in a film. You'll dislike him within 5 minutes of the start of the film and by the end of the film that hate will have turned into outright loathing. Apparently Mr Mraovich forgot that we're supposed to root for the hero.<br /><br />I don't want to spoil all the gut busting hilarity you'll experience watching this film (which i urge you not to pay for) so i will give you two tame mild examples of how stupid this film is, tame and mild as in amongst the least offending mistakes in the movie. In one cut we hear one of the main characters say how \\\"they know a good lawyer and will give HIM a call\\\" the shot fades out then fades back in and this HIM they spoke of earlier is actually a woman, quite a spectacular mistake to make in post production i think. The second is simple, seconds after seeing this transsexual lawyer the characters are told to fly to Vermont, we then cut to a shot of a plane landing amongst palm trees in a sunny area. I've never been to Vermont personally but i'm certain you won't find any palm trees there.<br /><br />Imagine this kind of stupid amateur inconsistency stretched to nearly an hour and a half combined with ridiculous dialogue and plot and then multiply it by 10 and it still won't fully prepare you for Ben and Arthur. Imagine the absolute worst film you've seen in your life and imagine it being even worse and you still won't be on the same level as Ben and Arthur, this film is really that bad.<br /><br />However we should be glad in a way, films like this are a true rarity. They give us hope that one day we can become film makers ourselves or that we can be screenwriters. Simply because we'll have a new found sense of confidence due to the fact that we'll know that nothing we produce no matter how amateur could be as much of a suck fest as this.<br /><br />The real worst movie of all time has finally been discovered, and it is called Ben and Arthur.\"\n",
      "* * * * * * * * * \n",
      "4492\n",
      "there are three kinds of bad films - the cheap, the boring, and the tasteless. the only really bad movies are boring and tasteless. <br /><br />boring films are just, well, boring - if you don't leave quickly enough, you fall asleep.<br /><br />tasteless films actually have their defenders; but the fact remains that they are masturbatory aids for very sick people.<br /><br />only the cheap bad films are really funny, because the filmmakers wanted to make their films so desperately, they way-over-reached beyond their abilities and available resources.<br /><br />Bo Derek is just naturally boring and tasteless; fortunately, fate and a lack of funds and skill redeem her by making her seem cheap as well. this film is hilarious and it may well be the last really funny-bad film ever made.<br /><br />i first saw this in a theater, may god forgive me; i was laughing so hard i was rolling off my seat, and so too with most of the rest of the audience.<br /><br />it's clear that Derek and her husband-promoter, conceived of this film as, partly, a satire; unfortunately, the dereks clearly lacked any of the necessary resources to pull that off; consequently, the 'satirical' element comes off as some school-girl's impression of some gay young man's impression of frank gorshin's impression of the riddler in batman trying to pretend he's robin - it doesn't fly over our heads, it has no clue where any human head might be.<br /><br />on the other hand, there are some supposedly serious moments in this film - it is supposed to be an action film, remember - that are so astoundingly cheesy, one wonders if someone squirted spoiled milk in one's eye.<br /><br />as for Derek's infamous tendency to reveal her breasts - i can't imagine a less erotic nudity photographic display, she is so weird looking with those broad shoulders, i can't imagine what any one ever saw in her.<br /><br />as for the plot - such as it is - well, it isn't; Derek chases around Africa, and god alone knows why. then her father - Harris - pretends to act in some maniacal puppet-show, and then of course there's the hunk'o'Tarzan that seems to have wondered in from advertisement without knowing that the subject's changed - probably because he hasn't seen a script - apparently no one has.<br /><br />negligible camera work, shoddy editing - if it weren't for the 3-way with the chimp, the film would be unbearable -<br /><br />as it is, it's a real hoot.\n",
      "* * * * * * * * * \n",
      "4611\n",
      "There is one great moment in *Surviving Christmas* that almost makes it worth the pain: James Gandolfini cracks a shovel over Ben Affleck's stupid head.<br /><br />This movie serves as yet another unfortunate example of James Gandolfini proving what a great actor he is whilst simultaneously besmirching his career by acting in this film.<br /><br />Young and wealthy ad exec, Drew Latham (Ben Affleck) has been inculcated into believing that one must never be alone on Christmas. (And there, from the outset, is the underlying problem with our suspension of disbelief in this idiotic movie: how many people of Drew's social standing, in 2004, truly care one way or another whether Christmas is spent alone or with half the family or with a fifty-dollar prostitute?) Storyline finds Drew buying off a family to spend Christmas with, on the condition that they pretend to be his own, insensately ignoring all the indications to the contrary that his money has not bought the emotions he was seeking.<br /><br />For $250,000, a surly suburban truck driver, Tom Valco (James Gandolfini), and his disheveled wife, Christine (Catherine O'Hara), agree to be Drew's ad hoc family, against protests from their son, Brian (a very one-dimensional Josh Zuckerman) and daughter, Alicia (a very soft-focused Christina Applegate). Drew then spends the rest of the movie supposedly recapturing his youth or - something. The messages in this movie are as twisted and illogical as its dry-mouthed storyline. Fraught with overt psychoses, Drew plasters a fake smile on his face and blindly remains in denial against every denigration that he was supposedly buying the Valco family to avoid.<br /><br />Which begs the question: If Drew is paying these people to recapture some semblance of joyous familial emotion, how psychotic must he be to pretend happiness amongst their barbs and mental anguish over his presence? It is not a case of the Valco family hiding their true feelings and pretending to be happy while around Drew - three of the four members make it patently clear they despise him. Is he so incognizant that he cannot see that his money is not buying him the \\family\\\" atmosphere he was inculcated into believing was a truth in the first place? As with all movies this opprobrious, one wonders how *four* screenwriters could possibly get so tangled in their own narcissistic dreams of appearing in a credits sequence that they will overlook any semblance of plausibility, or intelligence.<br /><br />Director Mike Mitchell, who was responsible for *Deuce Bigalow: Male Gigolo* - stop right there. 'Nuff said.<br /><br />Gandolfini and O'Hara somehow manage to shine, proving their mettle amongst this mess. Christina Applegate is willowy and cutesy and blond and fiery in all the right places, scathingly cutting Drew into little strips of carcass for most of the movie, then doing an about-face and falling in love with him because the script tells her to.<br /><br />And I wouldn't go so far as to say that Affleck is a bad actor, but John Schneider better look over his shoulder. There's a whole new level of Desperately Seeking Talent in town.\"\n",
      "* * * * * * * * * \n",
      "4859\n",
      "My favorite quote from Crow was, when the car was going off the cliff, \\The movie is so bad, even the car wants to get out of it!\\\"<br /><br />This had to be the funniest movie I have ever seen. It was seriously out there to scare you, which makes it even funnier! If it weren't for Mystery Science Theater I wouldn't be here today! :-P\"\n",
      "* * * * * * * * * \n",
      "5522\n",
      "To be fair they did as well as they could with a budget of five shillings and sixpence, but the dialogue was more cheesy than 9lbs of emmental and the CGI was a little old hat now. maybe if some of the actors were not so perfectly chiselled out of granite it would have made the film a little better too.. To say this was awful is to do this film a mis-service, if you want to see something that is totally execrable, you gotta sit and waste a couple of hours of your life watching 'sickle', that is soo mind numbingly awful, its actually good,(several large alcoholic beverages are deriguer though. Any road up, I enjoyed this film and its gotta be worth a look if you have not seen it yet, just don't expect anything along the lines of 'jurassic park,the lost world' or 'apocalypto'.\n",
      "* * * * * * * * * \n",
      "5609\n",
      "This movie is truly brilliant. It ducks through banality to crap at such speed you don't even see good sense and common decency to mankind go whizzing past. But it doesn't stop there! This movie hits the bottom of the barrel so hard it bounces back to the point of ludicrous comedy: behold as Kor the Beergutted Conan wannabe with the over-abundance of neck hair struts his stuff swinging his sword like there's no tomorrow (and the way he swung it, I really am amazed there *was* a tomorrow for him, or at least, for his beer gut). Don't miss this movie, it's a fantastic romp through idiocy, and sheer bloody mindedness! And once you have finished watching this one, dry the tears of joy (or tears of frustration at such an inept attempt at storytelling) from your eyes because some stupid f00l gave these people another $5 to make a sequel!\n",
      "* * * * * * * * * \n",
      "5749\n",
      "Here we go with other slasher movie, Good looking people and Acting from everyone was really good!<br /><br />Few kids playing pranks phones calls and there parents are killed by the killer in front of the kids! 20 Years after they are still friends, They go to huge house, have fun, Drugs and Sex (no nudity) for least half a hour of the movie! Again they start making pranks phone call all over again! and then killer comes back kills them off one by one and killer is in BIG BLACK COAT with axe just like Urban Legend movie,<br /><br />Deaths scene really weird, really odd times too.<br /><br />Nice slasher movie at this part would gave 7/10 but the twist at the end of the movie made the whole movie kinda of pointless<br /><br />The twist killed the movie for me so I going to give it 4/10\n",
      "* * * * * * * * * \n",
      "5770\n",
      "A stupid rich guy circa about 1800 wants to visit a nearby mental asylum to see how a famous doctor cares for his patients. Despite an initially hostile response, he is soon cordially invited in and given a tour by the good doctor. And, as the doctor shows him about, he talks and talks and talks!!! And as he talks, loonies run amok here and there doing nothing especially productive. While there is SOME action here and there (and some of it quite disturbing), it's amazing how dull and cerebral the whole thing is--lacking life and energy, which is odd for a horror flick. Even a guy who thinks he's a chicken and dresses like one becomes rather tiresome. The further this tour takes the guest, the more disturbing it becomes until ultimately you realize that the inmates have taken over the hospital and are torturing their keepers. Yet again, despite this twist, the film is amazingly lifeless in many places--particularly when it moves very slowly as a bizarre ceremony is taking place or people are just wandering about the set. Only when the workers from the asylum found in a prison cell, starving, does the film have any real impact. Considering this plot, it sure is hard to imagine making it boring, but the people who made this cheap exploitational film have! Now with the same plot and competent writing, acting and direction, this COULD have been an interesting and worthwhile film.<br /><br />You know, now that I think about it, this was the plot of one of the episodes of the original \\Star Trek\\\" TV show! You know, the one with \\\"Lord Garth--Master of the Universe\\\" and Kirk and Spock are held prisoner by this madman and his crazed followers.<br /><br />A final note: The film has quite a bit of nudity here and there and includes a rape scene, so be forewarned--it's not for kids. In fact, considering how worthless the film is, it isn't for anyone! However, with the version included in the \\\"50 Movie Pack--Chilling Classics\\\", the print is so incredibly bad that it's hard to see all this flesh due to the print being so very dark.\"\n",
      "* * * * * * * * * \n",
      "6154\n",
      "In fact, Marc Blitzstein's off-Broadway adaptation of \\Threepenny\\\" was not so \\\"bowdlerised\\\" as is generally believed.<br /><br />(I have a special interest in \\\"Threepenny\\\"; my dad was part of the first full production in the US; U of Illlinois Theatre Guild did it around the end of WW2. HJitler had been so nearly successful in suppressing the play that they had to reconstruct the script and score from recordings in two different languages {neither English}, a German prompter's script and similar sources.) Blitzstein's adaptation -- not a \\\"translation\\\" -- which had the full approval of Lotte Lenya -- was a lot closer to the original than generally believed.<br /><br />The problem is that the version thereof that most people know is the MGM cast recording (recently available on Polygram on CD)(which includes Beatrice Arthur {as Lucy, the \\\"big complete girl\\\", and can't i see her hands on hips and shoulders thrown back on that line -- Bea was a major babe in the 50's}, Paul Dooley and John Astin) was heavily censored by Mike Curb, head of MGM Records -- i mean, 17 (i think it was) \\\"Goddamn\\\"s got cut to just \\\"damn\\\".<br /><br />(At one time, MGM also offered a 2-LP set of the *entire* play, doubtless as heavily censored.)\"\n",
      "* * * * * * * * * \n",
      "7086\n",
      "I want so badly to give this piece of GARBAGE a zero, unfortunately, there isn't, so, I had to give it a 1 just to warn you about how stupidly terrible this imposter of a familiar cartoon really is! The characters look like they were drawn by pre-schoolers, no, wait, I've seen pre-schoolers do better! I prefer \\Misadventures of Flapjack\\\" to this terrible excuse for a cartoon! I'm probably saying what others have said, two words: RIP OFF!! Remember that episode of Dexter's Lab when they raced go-karts down that volcano? yeah, Mister Fellows even cashed in on that idea and failed! They even ripped off Shadow Lugia in that one episode that parodied Pokemon!(he even cashed in on that franchise!) That one character is a cheap rip off of Mandark from Dexter's Lab! Mister Fellows needs to be sued for statutory infringement for this piece of crap!! Everyone has their own opinion, but those of you who like Johnny (RIP-OFF) Test, your'e just lying to yourselves. Do yourself a favor, change the channel when this rip off tries to disgrace your screen!\"\n",
      "* * * * * * * * * \n",
      "8387\n",
      "You loose 100 IQ points just for tuning in. This show has to be awful, I refuse to tune in from just what I've seen in commercials. Where did they dig this guy up at anyway? Also, what do they intend to do next season? The secret is out. Everyone already knows the set up? Are they going to look for people who has been living under a rock to star in next season? Where are they going to dig up more stupid women? No wonder America is a big joke to outsider's,look what you are watching!!\n",
      "* * * * * * * * * \n",
      "8427\n",
      "<br /><br />Upon concluding my viewing of \\Trance,\\\" or \\\"The Eternal,\\\" or whatever the producers are calling this film, I wondered to myself, \\\"Out of all of the bad movies I could have seen, couldn't I have at least seen one that was entertaining?\\\" Even if a film is not well made in terms of acting, directing, writing, or what have you, it can at least be fun, and therefore worthwhile. But not only is this film bad in artistic value, it's incredibly boring. For a plot of such thinness, it moves awfully slowly, with little dramatic tension. At the very least, in a low-brow attempt at entertainment, the deaths of the characters could have been cool and/or gory, but the creators of this dreck failed in that department as well.<br /><br />What does this movie have going for it? Pretty much nothing, unless you get entertainment out of watching Christopher Walken, who is capable of being brilliant, put so little effort into his acting that he falls into self-parody mode (WHY did he decide to do this film anyway?).<br /><br />I give this film 3/10, because, God help us, there actually have been worse movies made before.\"\n",
      "* * * * * * * * * \n",
      "8449\n",
      "Oh, how we have a misfire here; a film so bad that your mind will wonder and drift away onto other things as it wastes your time with brain numbingly poor production values; character stereotypes of the worst and racist kind since D.W. Griffith referred to the Chinese character in Broken Blossoms as 'the yellow man'; characters so unimaginative and un-engaging that it's difficult to watch as well as a narrative that plods along at such a slow, stupid and pointless pace that you will question the very people who say they like this film.<br /><br />Prizzi's Honor is a film that ends up being an absolute post-modern disaster in every which way possible. The film is a messy and senseless disaster that has John Huston directing; Kathleen Turner and Jack Nicholson staring and everybody else filling in the gaps as either dumb stereotypes or supporting characters that weep on a phone now and again or bicker with a main character. Prizzi's Honor is a film that falls into a genre of neo-noir, comedy, romance, action, gangster and overall crime  this twinned with its director and cast should be enough to propel it through some sort of a story; some sort of a sequence of good scenes; some sort of intelligence in the form of a screenplay or something else but no  what we get is a nasty and ugly film revolving around nothing at all.<br /><br />I'll give a couple of examples of how shoddy this horror show of a film actually is. Firstly, the film thinks it's a love story and it thinks this for about an hour of its time: of MY time. Charley Partanna (Nicholson) is an assassin who kills people for a family that he works for in New York and yet he resembles his character out of One Flew Over the Cuckoo's Nest more than an international hit-man. He meets and falls in love with Irene Walker (Turner) who is another assassin and they hit it off but as the poor excuse for a plot plays out, it appears all is not right. I read that the plot for this film is: \\A professional hit man and hit woman fall in love, only to discover that they have each been hired to kill the other.\\\" Well, yes that's true but that actual revelation doesn't happen until about twenty minutes to the end! Nicholson plays Partanna like someone with an IQ of 60: he walks around; seemingly making observations and talking out loud about things he sees; he talks like he is either drunk or has a more serious problem from within and worse of all we never get the feeling he is an assassin  one really poorly shot assassination early on (that actually happens off screen) is not enough to suggest this guy is a hard-bodied, best of the best, international hit-man.<br /><br />So with a main character who is un-likable and un-realistic, we move to the script. The first hour and a half is just a cinematic dead zone with what ever there is to suggest traces of life merely poor conventions: Partanna slouches around on the phone or in person asking the same things over and over again: \\\"Do I marry her?; Do I love her? What is love? What do I do?\\\" and it gets so repetitive, it's not even able to act as good humour. This twinned with the way he always seemed to be on the phone to someone: a girl called Maerose Prizzi (Huston) played by director John's daughter; which served absolutely no purpose to the plot whatsoever and seemed to be there for laughs as was the scene in which she tells her father about how she slept with Partanna and loved it  that got me thinking, was this supposed to be funny? Should I be laughing? The film felt like a smart mafia picture what with its opening scene of a wedding (alá The Godfather) and consequential scenes with a touch of noir as gangsters, police men and assassins were introduced into the film. But what we get is something very, very different.<br /><br />The second hour revolves around some sort of a kidnap plot; right, the love and romance is dealt with  maybe the film will kick-start. I was so very wrong: with more characters continuously talking very slowly and very deliberately in a monotone way, we have a kidnap scene involving some guy coming out of his office: this scene sums the film up. Everything is briefly planned and then executed in a heavy handed and dumb way that just makes it look cheesy. We do not get to see them arrive to some dramatic music; perhaps they have to get through security to get to the elevators; maybe they have to be careful of civilians when they hide in their chosen places and when that random woman steps out of the elevator and the gunshot occurs  the scene isn't even edited correctly. Some suspense, some drama: \\\"Do I shoot or don't I?\\\"; maybe some slow motion as the character has to quick draw before it's too late  anything but how it was actually executed. Prizzi's Honor continues its monotonous and uninteresting decent into filmic oblivion as it nears its climax. It's a film where cameras reflect in windows; lights reflect in sides of cars and 'dead' chauffeurs blink when nudged. Prizzi's Honor is a jumbled and messy film that will try the patients of any film-goer and don't say it was a comedy because I didn't laugh with it  AT it is another matter. The film is repetitive, drawn out and colourless in its vision and scope for originality - there is no Honour here.\"\n",
      "* * * * * * * * * \n",
      "9057\n",
      "Though the title includes the word \\zombies\\\", this film is not what you'd expect from a movie made today, though for 1936 the concept is played out about as well as would probably be expected. Dean Jagger portrays Armand Louque, an officer in the French Army of World War I, who has stumbled upon an ancient tale of soldiers turned into automatons, or \\\"zombies\\\", who are impervious in battle and may hold the key to victory in the war, though on whose side is not certain. At first he has trouble convincing his superiors of this phenomenon, but eventually French General Duval (George Cleveland) orders a non military expedition into the ancient Cambodian city of Angkor to find the secret of the zombies and destroy it.<br /><br />The story is played out against the backdrop of a love triangle involving Louque, Duval's daughter Claire (Dorothy Stone), and Clifford Grayson (Robert Noland), all a part of the expedition. When Louque laments over his lack of forcefulness and resolve, Grayson offers him advice to go after what he wants in life with all his power. That advice begins to transform Louque, particularly after he's successful in obtaining a stone tablet resembling a photo from the ancient city. Having followed a temple priest into a swamp, Louque now appears to hold the secret he had been seeking, though it's not made clear how he has instantaneously been able to command the power of \\\"zombiefication\\\". All it takes is placing his right fist to the forehead simulating a third eye, and casting his thoughts out to those he wishes to control. This comes in handy for winning back his girl, and taking Grayson's early advice as he comments to his servant, \\\"Buna, we're learning to be ruthless\\\".<br /><br />Fans of early \\\"B\\\" horror flicks will recognize the use of Bela Lugosi's signature eye stare, plucked from the 1932 film \\\"White Zombie\\\", also from director Victor Halperin. Of the two movies, \\\"White Zombie\\\" is preferably superior, both in story content and in it's depiction of the undead, where the zombies have a more sinister appearance and are more threatening. In \\\"Revolt\\\", the zombies are enemy soldiers with a glazed over look that merely react to their mentor's commands. In fact, the actual revolt of the title occurs only when Louque releases the soldiers from his mental command in deference to his love for Claire; they overrun his compound and kill him in the process.<br /><br />Not to be too harsh on the film, it plays out decently within the parameters of it's story outline, but if you're thinking \\\"zombies!!!\\\" within the traditional context, you'll probably be disappointed. If you want to sample an early treatment of the subject, the aforementioned \\\"White Zombie\\\" with Bela Lugosi is the way to go.\"\n",
      "* * * * * * * * * \n",
      "9292\n",
      "If this movie was about a fictional character, the movie could stand on its own and be judged objectively. Unfortunately for the viewer, the movie is based on \\facts\\\" that are shaded very unfairly toward Ruben Carter. Many of the smaller facts were disregarded (Carter was NOT number one contender at the time of the murders, there is no proof at all that he saved a friend from a child molester in his youth), but some of the larger facts, like apparently being robbed of a decision to Joey Giardello because of \\\"racist\\\" judges, is inexcusable to those of us who have seen the fight on tape, and completely disrespectful to Giardello. Why Hollywood feels the need to make a hero out of someone who, at best, was in trouble and around trouble much more than any normal person should be (was arrested multiple times for beating women) is strange to me. Ruben Carter was never, by viewing his actions in the 60's and even now, when he refuses to speak to his son, a person that people can look up to. Everyone knows that Jewison can direct, and Washington can act, but why they chose this story as their vehicle is beyond me. Is Hollywood so much in need of a black hero that they need to bend the truth in all of their bio pics to make them believable? (Heres a suggestion How about Denzel playing a movie about himself? Now thats inspirational) Based on all of the inaccuracies in the movie, I would suggest passing on this one.\"\n",
      "* * * * * * * * * \n",
      "9487\n",
      "Where to start, this movie started badly and ended badly! It consists of extremely poor acting and unrealistic effects that had me cringing in my seat, seriously, my cat could have acted better than this lot.<br /><br />Some of it was actually laughable because it was so unbelievable, i would of rated this lower but they haven't got anything else! So, heed my warning and unless your so bored your close to suicide and would like a good reason to continue with your suicide mission, don't bother with this one. I'm still in shock that this could actually be released to the public, this should be a crime and all involved should be arrested. I gather you've got the gist by now so i'll leave it up to you to decide.\n",
      "* * * * * * * * * \n",
      "9612\n",
      "That's right! Under 9 on average, but maybe under 12s for some others! I was 11 when I originally saw this on video and at such youth I wasn't able to notice the shoddy cartoon-quality or the fact that those classic characters we have all grown to love are Not the same or as good to see. Just about everything is so 2D here! Belle is, I'll agree, not even beautiful but just a plain-looking woman with tinted skin, she wears the same bright blue dress all the way through with not one glamorous dress on, Wardrobe is to say the Least, annoying - my ears may bleed if I had to listen to her everyday! Lumiere, in both the original and the Christmas edition was suave and elegant, but here he is a womanizing, unfunny twit! Cogsworth, despite being the no-nonsense housekeeper he is famous for, is a complete sh-t and the most insufferable character I'd say! He always seems to find shutting that unbearably grating pie-hole of his very difficult in this one and whose clock face should really have been used for turning back in time to the unforgettable two film in this series! Poor, poor Mrs Potts was not brought to life by Angela Lansbury (one of my favourite classic actresses) but by Anne Rogers who captured none of Mrs Potts' character, no offence to her! Not if she did her best! When the beast roars it sounds so horrifically fake with clearly no additional roars, snarls or growls by a microphone. I am aware that this is only a third feature following two other films so of course it wouldn't be as good but I'm sure that more of a contribution wouldn't have hurt the Disney artists who, indeed, have achieved such remarkable styles of animation over the years. It's alright, I guess, and I do watch it sometimes though only when it suits me. It's quite difficult to make a recommendation for you reading this because it depends on how old you are but remember this will not at all be what you may expect following the earlier spectacular movies! And to think that on my video of it the text on the back cover said \\boasting brilliant animation\\\"! It's a nice little flick but for one thing it's also highly poor and, for another, those 3 words ought to have been saved for the next re-release of the original!\"\n",
      "* * * * * * * * * \n",
      "10032\n",
      "I can't say I'm all that experienced in misty Mundae flicks having seen only a handful, but it's obvious that this was made on a shoestring, and while it might have been respectable that the filmmakers were able to make a Tomb Raider rip-off inside a garage, it isn't because it's completely obvious that this is what they were doing. The film only runs for forty five minutes, and this is definitely a good thing as there isn't nearly enough plot here to stretch it out for any longer. It has something to do with an evil Nazi scientist (who looks about as evil as a porn star playing a Nazi scientist ever could), a mummy, which is clearly a man wrapped up in toilet roll and Misty - this film's version of Tomb Raider, who keeps her top on for much less time than Angelina Jolie did in the big budget version. I have to say that even in spite of its shortcomings, this film could have been better. It's got Misty Mundae for a start, and even better than that if you ask me is the fact that it also stars the even hotter Darian Caine. The pair gets to engage in all the lesbian sex that you would expect from a Seduction Cinema film and this is at the expense of the nonexistent plot, although that isn't really a bad thing. Obviously, this is a rubbish film - but the fact that it's short is to its credit, and if you're after a bit of lesbian sex, you could do worse.\n",
      "* * * * * * * * * \n",
      "11358\n",
      "This is by far THE WORST movie i have ever watched. I've seen some pretty awful movies in my time but this ones takes the cake, no, wait, i mean the the whole damn bakery. It is so bad that i believe a word to describe the way you will feel after watching this atrocity has yet to be created. Please just do yourself a favor, if you ever get the urge to watch this and watch thirty minutes of that annoying purple dinosaur Barney, then multiply that thirty times fold and you would still only get a small fraction of the horror you would be in store for. In summation, i guess you really can call it a horror movie, but only if you're willing to be scared senseless by the worst acting in the business and utterly pointless story.<br /><br />Real Rating, -10 Disgusting\n",
      "* * * * * * * * * \n",
      "11545\n",
      "Surely one of the most ill-advised remakes of a classic in film history – especially since the promise of its tag-line, “The most beautiful woman of our time in the most erotic adventure of all time”, isn’t even properly exploited! Although this film was regularly shown on TV in my neck of the woods since my childhood days, its notoriety (for awfulness not erotic content, mind you) kept me away from it until now – and I only relented because I have recently enjoyed Bo Derek’s previous film, 10 (1979), and have been watching a lot of fantasy stuff as well over the Christmas period.<br /><br />Lead actress/producer Bo Derek is rather ridiculous playing the schoolgirl-ish sexual innocent (witness the inept banana scene) and, as was to be expected, she is made to get her clothes off a few times but, as welcome as these scenes were, she came off as far more sensual in 10 than she does here; Richard Harris, then, chews the scenery incessantly as Jane’s obsessed explorer father, but John Philip Law barely registers as his aide who meekly shows some initial interest in Jane herself; newcomer Miles O’Keeffe has the title role and he only makes his entrance 45 minutes into the movie, is completely silent throughout except for his famous yodel (which is probably lifted from Johnny Weissmuller anyway!) and, furthermore, is as inexpressive as one of the trees he dangles from at regular intervals throughout the film’s second half!; for the record, he later starred in two ATOR movies (or would-be CONAN imitators) for Joe D’Amato and the King Arthur-era set, SWORD OF THE VALIANT (1984).<br /><br />When still an actor, director John Derek (who also serves as his own cinematographer here) had worked with some good film-makers (Cecil B. De Mille, William Dieterle and Robert Rossen) and a few great ones (Otto Preminger, Nicholas Ray and Don Siegel) but he clearly learned zilch from them as his direction of this one is a major liability: appallingly pretentious at times (witness the perfectly horrid python attack sequence) with a senseless overuse of the slow motion technique and cheesy transitions; this was Derek’s seventh film as a director (and his second of four with wife Bo) and, eventually, he would only get to make two more.<br /><br />The film’s utter failure only needs to be gauged by the fact that the Tarzan legend was tackled once more on film – in GREYSTOKE: THE LEGEND OF TARZAN, LORD OF THE APES (which, surprisingly enough, I haven’t watched myself yet) – a mere three years later!! Nominated for six Razzie Awards (including John Derek, Richard Harris and Miles O’Keeffe) and winning one for Bo Derek herself, TARZAN, THE APE MAN was co-written by Gary Goddard, the future director of another highly anticipated but ultimately disappointing transposition to the silver screen of a (this time animated) heroic figure, MASTER OF THE UNIVERSE (1987) which I will be revisiting presently as well (yay)! Despite a charming closing credit sequence showing Tarzan and Jane playing with around with an orang-utan and a music score that is not half bad actually and quite rousing on occasion, any belated good intentions are defeated by an extremely silly climax involving natives painting Bo completely white and, fatally, John Derek’s clear disinterest in the character of Tarzan himself which makes him come off as an unimportant supporting character in his own self-titled movie!!\n",
      "* * * * * * * * * \n",
      "12177\n",
      "I know that the real story of Little Richard is a lot more thrilling than this maudlin and thoroughly average biopic. But then producer Little Richard was probably too reluctant to bring to light any sordid details of his life and just gave us a forgettable facsimile of his career highlights from the 50s and 60s.\n",
      "* * * * * * * * * \n",
      "13102\n",
      "THE CAT O'NINE TAILS (Il Gatto a Nove Code) <br /><br />Aspect ratio: 2.35:1 (Cromoscope)<br /><br />Sound format: Mono<br /><br />(35mm and 70mm release prints)<br /><br />A blind ex-journalist (Karl Malden) overhears a blackmail plot outside a genetics research laboratory and later teams up with a fellow reporter (James Franciscus) to investigate a series of murders at the lab, unwittingly placing their own loved ones at the mercy of a psychopathic killer.<br /><br />Rushed into production following the unexpected worldwide success of his directorial debut THE BIRD WITH THE CRYSTAL PLUMAGE (1969), Dario Argento conceived THE CAT O'NINE TAILS as a giallo-thriller in much the same vein as its forerunner, toplining celebrated Hollywood actor Karl Malden - fresh from his appearance in PATTON (1969) - and rising star Franciscus (THE VALLEY OF GWANGI). Sadly, the resulting film - which the ads claimed was 'nine times more suspenseful' than \\Bird\\\" - is a disappointing follow-up, impeccably photographed and stylishly executed, but too plodding and aimless for general consumption.<br /><br />Malden and Franciscus are eminently watchable in sympathetic roles, and cinematographer Enrico Menczer (THE DEAD ARE ALIVE) uses the wide Cromoscope frame to convey the hi-tech world in which Argento's dark-hearted scenario unfolds, but the subplot involving Euro starlet Catherine Spaak (THE LIBERTINE) as Franciscus' romantic interest amounts to little more than unnecessary padding. Highlights include an unforgettable encounter with the black-gloved assassin in a crowded railway station (edited with sleek assurance by cult movie stalwart Franco Fraticelli), and a nocturnal episode in which Malden and Franciscus seek an important clue inside a mouldering tomb and fall prey to the killer's devious machinations. But despite these flashes of brilliance, the film rambles aimlessly from one scene to the next, simmering gently without ever really coming to the boil. It's no surprise that \\\"Cat\\\" failed to emulate the runaway success of \\\"Bird\\\" when released in 1971.<br /><br />(English version)\"\n",
      "* * * * * * * * * \n",
      "13120\n",
      "Every once in a while, a group of friends, with a minimal budget but bags of enthusiasm and talent, will create a low budget masterpiece that takes the world of horror by storm. Raimi and co. did it with The Evil Dead, Jackson and pals succeeded with Bad Taste; and Myrick and Sanchez made a mint with The Blair Witch Project.<br /><br />Director Todd Sheets and his chums, however, are destined to wallow forever in relative obscurity if Zombie Bloodbath is anything to go by. A lesson in how not to make a cheapo horror, this miserable effort (about a plague of flesh-eating zombiesnatch) serves as a reminder that, whilst many people these days have access to a video camera, most shouldn't take that as their cue to try their hand at making a full-length movie.<br /><br />It's not that Sheets hasn't got an eye for a nicely framed shot (some of his camera angles and movements are actually pretty good), but rather that a) he has a lousy script b) he has a lousy cast, and c) he doesn't realise that he has a lousy script and cast. Which means that the final film is amateurish in the extreme, and unlikely to be watched in its entirety by anyone other than zombie film completists (like me) or members of the cast and crew (like those who have given the film favourable comments).<br /><br />Zombie Bloodbath is obviously aimed at undiscriminating gore-hounds, and Sheets (who currently has an incredible 34 titles under his belt as a director) certainly goes out of his way to please, with buckets of offal and blood thrown about at every opportunity. But whilst these moments are undeniably yucky, they aren't particularly convincing, and soon get rather tedious.<br /><br />So, to summarise, this is a really bad film, with almost no redeeming features. Except for two:<br /><br />Firstly, it features the single greatest mullet in the history of film, as sported by Jerry Angell, who plays Larry (as well as several zombies). The magnificence of his barnet (coupled with a fetching moustache) is reason alone to watch this film.<br /><br />Secondly, it has 'pathetic stealth zombies': flesh-eating corpses that lie in wait for unfortunate victims to wander by, before leaping from their hiding place to launch a feeble attack, which requires almost no effort to escape from. Best known for lurking behind a door for hours waiting for someone to open it, 'pathetic stealth zombies' also occasionally hide behind low walls, or sit in churches posing as members of the congregation.<br /><br />Normally a film this bad would get 1/10 for me, but, in celebration of Jerry Angell's flowing locks, I will generously raise my rating to 2/10.\n",
      "* * * * * * * * * \n",
      "13595\n",
      "I cannot say that Aag is the worst Bollywood film ever made, because I haven't seen every Bollywood film, but my imagination tells me that it could well be.<br /><br />This film seems like an attempt at artistic suicide on behalf of the director, and I for one be believe he has been successful in his mission. No A-list actor outside of this film would risk sharing the same billing as him for all the humiliation this film is bound to carry with it.<br /><br />But lets not just blame the director here, there is the cinematographer, who looks like he's rehearsing for the amateur home movie maker of the year award. There is the over dramatic score, that hopes to carry you to the next scene. The lighting man, who must have been holding a cigarette in one hand and light bulb on pole in the other, and hoping that the flame burning off the cigarette would add to that much needed light in every scene. And, of course the actors! Some of them are by no means newcomers, else all could be forgiven here. The ensemble of actors in Aag were put together to promote a new beginning and dimension to the re-make of India's most loved movie of all time, 'Sholay'. One must not forget that these actors were not forced in to this film, they are A-list and willing participants to something that, let's face it would surely have had high and eager public expectation??? So it begs the question, Amitabh aside (for now), did the other actors really believe their performances even attempted to better the original? Did Amitabh Bachchan read the script and believe that people would remember his dialogue in this farcical abomination of a film? Don't be stupid, of course he didn't, this was a demonstration to the public of how much money talks hence can make actors walk.<br /><br />I truly hope everyone involved is satisfied with what is truly a vulgar attempt to remake a classic film, which only succeeds in polluting everyone's mind when they watch the original.\n",
      "* * * * * * * * * \n",
      "13740\n",
      "Going down as the most expensive film in Finnish history, to date, \\Dark Floors\\\" is a horror film with an extremely Lynchian narrative that recounts an ever increasingly decrepit series of \\\"Floors\\\" (ironically enough) in an abandoned hospital, in which our protagonists are trapped. Lead by an autistic daughter and her father, himself disenchanted with the hospitals apparent lack of medical progress with his daughter, make their way into an elevator debating the issue with one of the hospitals nurses. Accompanied by a security guard, a businessman and a seemingly intoxicated tramp the collective soon find the complex abandoned, but they are not alone. Directed by Finnish- born Pete Riski, more known for his television work, \\\"Dark Floors\\\" is filmed in English, using mainly English actors but has the notable inclusion of Finland's arguably most famous group \\\"Lordi\\\" (2006 Eurovision song contest winners) as themselves, i.e. in their on stage monstrous costumes, as the films antagonists, yet for all this razzmatazz the production fails where it is needed most, in convincing the audience.<br /><br />Any film that has their lead character use the phrase \\\"it's too quiet\\\" is already headed down a dubious path, and this Lordi influenced horror does not break that convention. For all the good ideas that are thrown into the mix there are a handful of ripe clichés alongside and worst of all, anything that is interestingly original isn't fleshed out enough for it to resonate. The concept of the degrading floors is initially highly ominous and does provide a sense of inevitable doom as the audience is aware those trapped in the hospital must progress ever further down in the mire. However, there isn't enough atmosphere created to scare and intimidate the audiences into the unknowing fear, the viewer is aware the journey will become ever more dangerous, as the levels degenerate from shiny white through to hellish black, but I don't think the characters are aware enough of this fact for it to be threatening. Also, the entire film taking place in what is essentially its own time bubble is again a very nice touch, a concept not often used in the horror genre, but the characters don't confront the situation with enough fear and trepidation when they stumble across this fact, they continue about their business far too readily and without enough genuine concern for the idea to mean anything to the audience. These initially good ideas are just left to go to waste, as if the director and/or Mr Lordi (who had many of the ideas used within the film) had these thoughts, but couldn't agree or decide on how to best use them and as such lose their purpose and point. <br /><br />Yet for all the frustration there are large quantities of comedy, yet not for the reasons the creators would have hoped for. Too much is clichéd, too much is recycled and too much is just simply ridiculous. While the lead is amicably acted by Noah Huntley, the characters are mere cardboard cut outs that have been pasted into the story from other films. We have a lead man doing everything possible to protect his daughter alongside a clunkily developed love interest. Accompanying the \\\"couple\\\" we have the traditional token black man as a hard-nosed security guard, with the nigh on infinite clip for his sidearm, and a weasely disbelieving businessman only on the look out for himself. Worst of all though, unfortunately, is the introduction of the cast of Lordi as the creatures of the night that torment our wandering band of misfits, but not for them appearing as themselves. What makes a horror film scary to the viewing audience is contextualising the fear. \\\"The Shining\\\" is scary because it's a member of your own family hounding you, in \\\"Dawn Of The Dead\\\" it's our fear of each other and the primordial cannibalism and irrational thought patterns the zombies possess, in \\\"Alien\\\" the fear is explained, the creature is rationalised and in \\\"Dark Floors\\\" there is none of that. Perhaps it's unfair to compare this production to these monoliths of the genre but when you do it shows it pales significantly and that it's aggressors feel like nothing more than demented Klingons where you can almost see the zip on the costumes they wear, without a build up of any atmosphere \\\"Lordi\\\" just aren't scary.<br /><br />It's infuriating because we all cheer for the underdog and hope they do well, you want the smaller productions to say that they can create the same quality of film as \\\"Hollywood\\\" churns out, much in the similar way that George A Romero started out, but it doesn't always materialise. I enjoyed the film and didn't feel as if I had wasted the ninety minutes I had just sat through, but I felt enjoyment on a completely hollow level as if nothing that had occurred mattered or affected me subconsciously, emotionally or critically. I felt the almost Lynchian narrative was a standout plus point, but it fades out into nothingness. Why did it happen? What does it mean? Will they go through this all again? Without even the slightest insight into what will happen the film is simply puzzling for the sake of trying to be arty. Was the entire sequence of events real or was it merely a dream sequence? Had the autistic girl watched the Eurovision Song Contest of 2006 and simply had a highly bizarre nightmare given the stress she was under? Who knows? And unfortunately I fail to work up the energy to even care. \\\"Dark Floors\\\" is an infuriating experience that while ultimately shallow hallmarks potential and at the very least shows a plethora of creative energies from Mr Lordi, who perhaps should look into working solo to fully develop his ideas. It's one that fans of the group or the genre should perhaps pursue but will leave you feeling left in the lurch for not having enough light shed on the situation.\"\n",
      "* * * * * * * * * \n",
      "13888\n",
      "This tear-teaser, written by Steve Martin himself, is so unbelievably bad, it makes you sick to your stomach!<br /><br />The plot is pathetic, the acting awful, and the dialogue is even more predictable than the ending.<br /><br />Avoid at all costs!\n",
      "* * * * * * * * * \n",
      "13909\n",
      "Joyce Reynolds seems a might grown-up for the role of Janie, a boy-crazy sixteen-year old in small town America who ditches her steady guy for a visiting soldier AND winds up on the cover of Life magazine (smooching at a blanket party) all in the same week! Non-stop barrage of wisecracks, put-downs, bull talk, and unfunny bits of business such as Janie's little sister bribing family members, Hattie McDaniel (as the maid) constantly scuttling after sassy kid sis, Janie's mother involved with the Red Cross, and Janie's father trying to write an editorial on the problems with today's teenagers (as the parents, stuffy, sexless Edward Arnold and pert, chatty Ann Harding make an unlikely couple, even for 1944; he looks incapable of helping to conceive a child much less raising two of them). Nominated for an Academy Award (!) for Owen Marks' editing, Warner Bros. followed this in 1946 with \\Janie Gets Married\\\". Reynolds must have outgrown her co-horts by then--she was replaced by Joan Leslie. *1/2 from ****\"\n",
      "* * * * * * * * * \n",
      "14007\n",
      "I just saw this film tonight and I have to say that it's a mess. I love Vince Vaughn but he ends up more annoying that funny here and the film is more than less a remake of the crappy 80's classic \\ Santa Claus the movie\\\" but with out the camp or the bad Sheena Easton song at the end. .The story is your run of the mill black sheep in the family who comes back to face his family for the holidays kind of thing but with North Pole as its setting. Of course Fred (Vince Vaughn) is the family screw up who comes home after a series of set backs that include his girlfriend (Rachel Weisz in a cameo role) dumping him, so he comes home to face his parents and his more successful brother Santa Claus (Paul Giamatti) and wacky high jinks follow with a bit of sibling rivalry and a bit of anarky as well that threatens all of Christmas. Now if you think you know the ending of this film, I think you would be right because it's predicable to the hill. As for the acting, Vince Vaughn plays the same lovable loser he always plays but this time he ends up more annoying than likable, Miranda Richardson plays Mrs. Claus but the role is more than less one note, Elizabeth Banks plays Santa's assistant but she's not much of a character at all other than a neurotic joke and poor Kevin Spacey ends up basically playing the same person he plays in the film \\\"Glengarry Glen Ross\\\" but a little more anal. The only two actors who come out of this film with their dignity intact is Paul Giamatti, who brings a real sincerity and warmed to his role as Santa Claus but he looks somewhat embarrass to be in the movie and you can't blame him and Rachel Weisz, who manages to do a lot more with a very small role than most of the main actors do with theirs, which is a shame because both Rachel Weisz and Paul Giamatti deserved a lot better than what this script gave them.<br /><br />To put it in a nutshell, a major disappointment.\"\n",
      "* * * * * * * * * \n",
      "14127\n",
      "When the folks at Kino Video assembled their fine \\Slapstick Encyclopedia\\\" collection, a multi-cassette selection of silent comedies, someone decided to kick off the first installment with ONE TOO MANY (1916), an obscure one-reel farce made in Florida starring the very young Oliver Hardy. As enjoyable as the set is over all, this decision was an unfortunate one, for ONE TOO MANY is a very poor film which almost discourages the viewer from watching further. Like any typical farce, this one involves deception inspired by greed, panic when plans go awry, and complications escalating to the point of absurdity, but unlike the good ones, ONE TOO MANY is incoherent, unfunny, and downright annoying. It's hard to tell at this point whether the hopelessly confusing plot is the result of missing footage or inept film-making, but whatever the cause, by the halfway point even the most alert viewer has no idea what the character relationships are or what is happening, and by the end one no longer cares.<br /><br />The only point of interest here is seeing the 24 year-old \\\"Babe\\\" Hardy, who appears considerably heavier than he would a decade later when he teamed with Stan Laurel, but who is nonetheless full of youthful energy. In the opening scene, awakening with a hangover, Babe performs a highly athletic backward roll off a bed. Trust me, that's as funny as this movie gets. If you read this before seeing the first cassette of Kino's \\\"Slapstick Encyclopedia\\\" I suggest you fast-forward past this one and skip to the good stuff.\"\n",
      "* * * * * * * * * \n",
      "14143\n",
      "As soon as it hits a screen, it destroys all intelligent life forms around ! But on behalf of its producers I must say it doesn't fall into any known movie category, it deserves a brand new denomination of its own ! It's a \\Neurological drama\\\" ! It saddens and depresses every single neuron inside a person's brain.<br /><br />It's the closest thing one will ever get to a stroke without actually suffering one. It drives you speechless, all you members go numb, your mouth falls open and remains so, and the most strange symptom of all is that you get yourself wishing to go blind and deaf.<br /><br />No small feat for such a sort of a \\\"movie\\\".<br /><br />The only word that comes to my mind just having finished my ordeal is OUTRAGE !!!!!!\"\n",
      "* * * * * * * * * \n",
      "15075\n",
      "Consider for a moment what it must be like to be Uwe Boll. Somewhere, perhaps in those places that Jack Nicholson said 'you don't talk about at parties', Boll knows that David Lean had head lice as a child that had more talent for film making than him. Gore Whores, metal-heads and the socially dysfunctional may bump into him on the circuit and tell him otherwise but general audiences find the Teutonic helmsman's output so bereft of originality, wit or imagination that he's become the internet's bogeyman  an online discursive synonym for photochemical excrement. Boll does his best to ride over these naysayers, exploiting tax credits available in Germany and Canada to keep working and raising money from a network of dentists as Zero Mostel did with old ladies in The Producers. The difference being that Mostel's character knew he was making bowel fill. Maybe Uwe knows it too.<br /><br />Such is the level of hostility toward each new 'Bollbuster' that IMDb patrons sabotage their ratings by voting 1 before they've seen it. Boll's attempts at silencing his critics by challenging them to a boxing match and knocking them out just made them more determined. Indeed he's probably the only filmmaker that's boosted thesaurus sales as critics search for inventive ways of describing garbage.<br /><br />This onslaught has made Uwe a very thick skinned man, so much so that he must feel like he's wrapped in a carpet, but one who feels as if he's bullied by the entire world. Like most people in that situation he lashes out, determined to upset as many people as possible with the memory of a tearful evening holding Variety's review of House of the Dead, never too far from the surface. This 'I know you are but what am I' strategy for reclaiming the initiative produced the blunt satire of Postal, which attempted to napalm the dissenters with jokes about 9/11, Christian fundamentalism, Jihad, Nazism and paedophilia. Such a litany of invective requires a satirist with the mind of Peter Cook and the visual imagination of Chris Morris but the closest Boll gets to either man is the o in their surname.<br /><br />In Seed, shot back to back with the aforementioned game adaptation, Boll is back with a story about a sadistic serial murderer (is there any other kind?) who gets the chair only for two attempts to fail in permanently curtailing all signs of life. Mindful of the fictional law that says anyone still alive after 3 attempts must go free, though if you'd been fried with that much electricity why would you want to, they pronounce him legally dead and bury him, only for the disgruntled killer to resurface and begin a whirlwind tour of his gaolers.<br /><br />Boll begins his 'exploration of nihilistic rage' with Seed watching footage of animals being tortured for experimental purposes. From there we're treated to the killer's stock in trade  kidnapping dogs, babies and grown women and allowing them to starve to death on camera only to become maggot food. We're invited to reflect on what a depraved race of amoral meat sacks we all are  our inhumanity to each other and our fellow creatures acting as a lighting rod that acts as a catalyst for the most disgusting vestiges of the human condition. Yes, we're worthless, gormless sadists and worse than that, we won't give Uwe a good rating on the IMDb. In short, humanity is bunk.<br /><br />Of course you might think that Uwe relies on our worst excesses for his livelihood and with that in mind it's a bit of a bipolar piece, on one hand hating its audience and positively basting itself in the sour milk of human kindness  the milk that poor old Boll has had to drink for so long, while simultaneously whipping out its member and inviting those with a pornographic lust for on screen depravity to marvel at its sheer arse splitting girth.<br /><br />The result says nothing about society and its discontents, more the corrosive effect bad press is having on its director. Poor Uwe is obviously a very angry man  one scene in which a poor woman gets her brains hammered to a pulp while tied to a chair, no doubt a surrogate for his own fantasy's about dispatching various web critics. That it's there but takes an avant-garde approach by failing to be attached to any kind of narrative thread, shows that Boll is a pornographer whose happy to engage with the blood lust of his audience and knows that plot is surplus to requirements. He's made a film which is competently shot but utterly desolate. \\I wanted to make a horror movie that was no fun\\\" Boll told the audience at the film's world premiere and he has, on that flimsy manifesto, succeeded but if this was supposed to convince the director's detractors that he was a serious genre filmmaker, he'll need something genuine to say as well as a better, more original way of saying it.\"\n",
      "* * * * * * * * * \n",
      "15177\n",
      "This version of \\Moby Dick\\\" insults the audience by claiming it is based on Melville's novel-even going so far as to show a phony first chapter sentence rather than the famous \\\"Call me Ishmael\\\". In addition to having atrocious acting, even from John Barrymore,this is perhaps the greatest example of how far Hollywood (especially early Hollywood) would go to revise and change a famous novel just to beef up its chances at the box office.All of the novel's beautiful,poetic language has been absolutely eradicated, and Ahab has been changed from a brooding,blasphemous,obsessive madman to a dashing,misunderstood hero who only wants to kill Moby Dick after his fiance(!) turns away from him after seeing his wooden leg. To this is added the standard evil brother who wants the fiance for himself, and a different ending!\"\n",
      "* * * * * * * * * \n",
      "15606\n",
      "By 1941 Columbia was a full-fledged major studio and could produce a movie with the same technical polish as MGM, Paramount or Warners. That's the best thing that could be said about \\Adam Had Four Sons,\\\" a leaden soap opera with almost terminally bland performances by Ingrid Bergman (top-billed for the first time in an American film) and Warner Baxter. Bergman plays a Frenchwoman (this was the era in which Hollywood thought one foreign accent was as good as another) hired as governess to Baxter's four sons and staying on (with one interruption caused by the stock-market crash of 1907) until the boys are grown men serving in World War I. Just about everyone in the movie is so goody-good it's a relief when Susan Hayward as the villainess enters midway through  she's about the only watchable person in the movie even though she's clearly channeling Bette Davis and Vivien Leigh; it's also the first in her long succession of alcoholic roles  but the script remains saccharine and the ending is utterly preposterous. No wonder Bergman turned down the similarly plotted \\\"The Valley of Decision\\\" four years later.\"\n",
      "* * * * * * * * * \n",
      "15611\n",
      "I guess I was attracted to this film both because of the sound of the story and the leading actor, so I gave it a chance, from director Gregor Jordan (Buffalo Soldiers). Basically Ned Kelly (Heath Ledger) is set up by the police, especially Superintendent Francis Hare (Geoffrey Rush), he is forced to go on the run forming a gang and go against them to clear his own and his family's names. That's really all I can say about the story, as I wasn't paying the fullest attention to be honest. Also starring Orlando Bloom as Joseph Byrne, Naomi Watts as Julia Cook, Laurence Kinlan as Dan Kelly, Philip Barantini as Steve Hart, Joel Edgerton as Aaron Sherritt, Kiri Paramore as Constable Fitzpatrick, Kerry Condon as Kate Kelly, Emily Browning as Grace Kelly and Rachel Griffiths as Susan Scott. Ledger makes a pretty good performance, for what it's worth, and the film does have it's eye-catching moments, particularly with a gun battle towards the end, but I can't say I enjoyed it as I didn't look at it all. Okay!\n",
      "* * * * * * * * * \n",
      "16282\n",
      "I watched the whole movie, waiting and waiting for something to actually happen. Maybe it's my fault for expecting evil and horror instead of psychology? Is it a weird re-telling of the Oedipal myth: I want to kill my father and mother and marry my uncle and compose musical theater with him? I didn't understand why certain plot elements were even present: why was the construction upstairs, why was there that big stairwell with a perfect spot for someone to fall to their doom if no one was actually going to do so, why have the scenes at all with the father at work, why have such a nice kitchen if you're only going to eat takeout, why would the boy want to be baptized and the parents be the ones to resist instead of the other way around. I see lots of good reviews for this movie...has my taste been corrupted by going up with 70s b-movies and old sci fi flicks?\n",
      "* * * * * * * * * \n",
      "16362\n",
      "This was another obscure Christmas-related title, a low-budget Mexican production from exploitation film-maker Cardona (NIGHT OF THE BLOODY APES [1969], TINTORERA! [1977]), which  like many a genre effort from this country  was acquired for release in the U.S. by K. Gordon Murray. Judging by those two efforts already mentioned, Cardona was no visionary  and, this one having already received its share of flak over here, is certainly no better! The film, in fact, is quite redolent of the weirdness which characterized Mexican horror outings from the era, but given an added dimension by virtue of the garish color (which, in view of the prominence of reds  apart from St. Nick himself, the Devil plays a major role in the proceedings  throughout, was essential). Anyway, in a nutshell, the plot involves Satan's efforts to stall Santa Claus' Christmas Eve rendezvous with the Earth's children; there is, however, plenty more wackiness along the way: to begin with, our portly, white-bearded and chronically merry man-in-red lives in a celestial palace who, apart from accompanying toy-maker kids from all over the world on his piano as they sing (laboriously for the whole first reel!) in their native tongue, visits Merlin  the famed magician at King Arthur's court, here bafflingly but amusingly prone to child-like hopping and mumbling gibberish!  once every year to acquire potions which would bring somnolence to the young and render himself invisible (by the way, the Wizard's anachronistic presence here is no less unlikely than his being a cohort of Dr. Frankenstein in SON OF Dracula [1974]!!); incidentally, by this time, he always seems to have gained some excess weight",
      "so Santa has to work out in order to be able to fit into each proverbial chimney! The Devil's antics (enthusiastically rubbing his hands together at every turn and generally hamming it up) to hold up St. Nick's delivery program, then, is perfectly puerile: indeed, their tit-for-tat shenanigans resemble an old Laurel & Hardy routine more than anything! To pad out the running-time, we focus on three sets of children: one, the lonely son of a rich couple who wants nothing more for Christmas than their company (projected as a wish-fulfillment fantasy where the boy finds his parents wrapped in extra-large packages!), a girl from a poor family who yearns to own a doll of her own (the horned one first tempts her to steal one, then invades the little one's dreams  to no avail) and a trio of brats who, egged on once again by Satan, think of nothing but causing mischief and eventually fall out amongst themselves. There is definitely imagination at work here, but it is applied with little rhyme or reason, while the overall juvenile approach keeps entertainment (unless one counts the film as a guilty pleasure) well at bay!\n",
      "* * * * * * * * * \n",
      "16618\n",
      "In THE FAN Robert De Niro plays Gil Renard . Or is it Travis Bickle ? or Rupert Pupkin ? Or Max Cady ? You see the problem with this type of role is that De Niro has played very very similar characters in TAXI DRIVER , THE KING OF COMEDY and CAPE FEAR and unfortunately the characters were better developed and had better scripts . I found it slightly difficult to believe that Renard would have started out as a frustrated obsessive sports fan into being an out and out psycho<br /><br />The character arc isn't the only problem with this script - It also lacks a character focus ( A problem I had with THE UNTOUCHABLES where De Niro should have been superb but ended up slightly flat ) , for several stretches of the movie I kept thinking that Bobby Rayburn was the main character then the story switches back to Renard . It also seems to have disappointed a lot of sports fans who seem to think this should have concentrated a bit more on baseball . I'm not sure if this was meant to appeal to baseball fans originally but again there are elements which hint it might have if the producers had made up their minds has to who and what the story should focus upon <br /><br />I will admit I was entertained by THE FAN ( Especially by the soundtrack ) but it is a very flawed film and it should be remembered that by the mid 1990s characters being stalked by nutters as in SINGLE WHITE FEMALE , UNLAWFUL ENTRY etc had run out of steam a long time ago\n",
      "* * * * * * * * * \n",
      "16855\n",
      "Pet Sematary , though a nice 80's Horror movie, with a nice Director and atmosphere, IS a copy of the Italian movie ZEDER by Pupi Avati. It's clear that Stephen King has copied almost all the ideas from this director (the movie Zeder was made before King wrote the book)<br /><br />The cat, the ground, everything was copied, this is a case of plagiary , but, being Stephen Kind a famous American writer , it's totally normal that he can get away with this , it's obviously due to the huge difference between this kind of Italians movies with no -budget (and in part, it's crap itself ... ) but the original idea, I repeat it, it's Italian director Avati<br /><br />Let the world know\n",
      "* * * * * * * * * \n",
      "16874\n",
      "This guy has no idea of cinema. Okay, it seems he made a few interestig theater shows in his youth, and about two acceptable movies that had success more of political reasons cause they tricked the communist censorship. This all is very good, but look carefully: HE DOES NOT KNOW HIS JOB! The scenes are unbalanced, without proper start and and, with a disordered content and full of emptiness. He has nothing to say about the subject, so he over-licitates with violence, nakedness and gutter language. How is it possible to keep alive such a rotten corpse who never understood anything of cinematographic profession and art? Why don't they let him succumb in piece?\n",
      "* * * * * * * * * \n",
      "16990\n",
      "Depending entirely on your own personal state of mind when watching this, \\Christmas Evil\\\" can either turn out to become an ambitious and innovative psychological thriller OR one of the most pathetic and infuriatingly lame holiday-themed slashers ever made. Me, personally, I'm tempted to opt for the latter because I didn't bother to do any research at all and simply anticipated a cheesy and undemanding early 80's slasher with a nutcase in a Santa Clause costume butchering people. Wrong! The movie actually handles about a bloke named Harry Stadling; who's obsessed with Christmas, works in a rubbish toy factory and considers it to be his responsibility to determine on Christmas Eve who deserves presents and who deserves punishment. Harry's issues all started when he witnessed Santa  his daddy in a costume obviously  caress his mommy's naked legs at a tenderly young age. After that he just developed into a social outcast, much to the irritation of his younger brother, who's bound to snap one (holi)day. I fully understand why certain fans appreciate this slightly eccentric horror movie, but did it really have to be so boring? There are several overlong and seemingly endless parts of the film in which absolutely nothing happens. I can forgive the shortness of gore and outrageous bloodshed, but this movie doesn't even benefice from an unsettling atmosphere or unexpectedly demented plot twists (with the notable exception of the finale, I must admit). Also, I would have taken the concept more seriously if the crazed protagonist would focus himself on lethally punishing the naughty children! He doesn't and exclusively kills misbehaving adults. How are you supposed to take wannabe controversial and original Christmas thriller serious when Santa doesn't even commit one miserable child murder? THAT would have made \\\"Christmas Evil\\\" a classic, whereas now it's just a forgettable and pitiable piece of junk.\"\n",
      "* * * * * * * * * \n",
      "17909\n",
      "What begins as a fairly clever farce about a somewhat shady security monitoring company turns, almost instantaneously, into an uninteresting and completely inane murder mystery. David Arquette and the great Stanley Tucci try mightily to make this train wreck watchable, but some things are just not humanly possible.<br /><br />What, for instance, causes Gale to turn suddenly from a sweet motherly figure into a drunken shrew at Tommy's parents house? Why would Heinrich, although admittedly a sleezebag, want to destroy the business to which he devotes his life, by robbing and possibly murdering his customers? Why does the seemingly sensible Tommy believe that Heinrich could be a murderer (based almost entirely on a dream), and even if that were believable, why wouldn't he go to the police? And why didn't Gale activate the alarm when she got home, especially after scolding Howie about it being off? Of course, all of these events are necessary for the plot (and I use the term very, very loosely) to unfold. And it might be forgivable if it resulted in even the slightest bit of comedy. But everything, from Howie's description of his date rape, to the coroner's misidentification of Gale, to the final \\joke\\\" about Gale and Howie still being dead, is more tasteless and pathetic than anything else.<br /><br />I checked the box indicating that my comments contained \\\"spoilers\\\", but there's nothing more I or anyone else could do to spoil this thing that already stinks to high heaven.\"\n",
      "* * * * * * * * * \n",
      "18361\n",
      "This may have been made for the hell of it, but it was most probably the worst film i've seen in years, The best thing about the entire DVD would be the case!!! I'm surprised that people took the time to make something so rubbish and yet spend money on it too, I'm glad i only rented. I suppose the real fans of this film would probably have to be sadistic and Gothic to care about it without taking in any CGI or any other effects for that matter, I hope Alex Chandon learnt a lesson about lighting and SFX to make a better film in the future, that is, if he is still in work.<br /><br />Notes to buyers this is extremely disappointing, DON'T BUY IT!!!!!\n",
      "* * * * * * * * * \n",
      "19144\n",
      "Why oh why do people take good material and feel the need to change it some how? Having read the book on which this film is allegedly based a couple of years ago, I can say that there is little if anything from the original book. I went into this film with low expectations - i knew it would have a crappy telemovie feel to it - but it even failed to meet these.<br /><br />This is not a prequel - the only relationship it has with the original is the name. This is not the story of Carlito Brigante, it is the story of a totally different character who's been given the same name. They have just totally spat in the face of every Carlito's Way fan out there; adding insult to injury by casting Luis Guzman, who plays a crucial character in the original movie, in a different role.<br /><br />What's most disappointing is that now that this film has been made no other film will be made addressing the original, untouched material of the book Carlito's Way - something I really would have liked to have seen. I felt the same way about Chopper - they have four books as well as interviews worth of fantastic non-fictional material and could have made a brilliant biography of Australia's most feared underworld figure, instead they made a ho-hum film about a deranged but strangely pathetic small time crook (though Eric Bana's performance was spot-on). Now we will never get to see Carlito's real initial rise and fall.<br /><br />The three stars is because, looking at it purely as a stand-alone flick, it is not so appalling - there are some decent performances (Jay Hernandez is no Carlito but he could be good in other roles) and the story is not too bad. Even Puffy Combs suits his role. But they totally misunderstand the nature of the underworld at that time (I am a bit of a crime-non-fiction buff)- something which the original film and the books got right (having been written by then attorney and now judge Edwin Torres).<br /><br />The fact is though, it's not a stand alone - it's perhaps the most disappointing prequel ever filmed.\n",
      "* * * * * * * * * \n",
      "19738\n",
      "Understand i'm reviewing the film I have seen. I realize virtually all the nudity and gore was cut from this film, thus neutering it completely. When seeing names like Ginger Lynn and Jenna Jameson attached, I knew I wasn't going to get a horror classic, but at the very least I expected gratuitous boobies and bloodshed. But no, this has got to be the most butchered modern horror film, I mean it's easy to tell there is much more to certain scenes', but they suddenly cut away, or the scene just totally ends right as it begins. How does one screw up cannibals' and porn stars? I mean thats a winning formula, it makes me wonder if the director slept with some executive's wife or something, because it is literally amazing how much got cut from this. Reading about it a few years back in Fangoria, I was excited, it looked like a fun film, but unfortunately the true film is locked in a vault somewhere, and we must endure this piece of excrement retitled Evil Breed. Hopefully an unrated cut will be released someday, as I think a good movie exists in this mess, but until then best grab a twelve pack of Bud, cause thats the only way you'll make it through this movie.\n",
      "* * * * * * * * * \n"
     ]
    }
   ],
   "source": [
    "# false positives\n",
    "\n",
    "print(\"Examples of false positives:\")\n",
    "\n",
    "import random, time\n",
    "\n",
    "for i in range(0, len(ols_predictions)):\n",
    "    if (ols_predictions[i] == 1):\n",
    "        if (X_raw_train.iloc[i]['sentiment'] == 0):\n",
    "            if (random.uniform(0, 1) < 0.05): # to print only 5% of the false positives\n",
    "                print(i)\n",
    "                print(X_raw_train.iloc[i]['review'])\n",
    "                print('* * * * * * * * * ')\n"
   ]
  },
  {
   "cell_type": "markdown",
   "metadata": {},
   "source": [
    "---\n",
    "\n",
    "# <span style=\"color:red\">WARNING: Don't look at test set performance too much!</span>\n",
    "\n",
    "---\n",
    "\n",
    "The following cells show performance on your test set. Do not look at this too often! "
   ]
  },
  {
   "cell_type": "markdown",
   "metadata": {},
   "source": [
    "# Look at performance on the test set"
   ]
  },
  {
   "cell_type": "markdown",
   "metadata": {},
   "source": [
    "### MODEL: ordinary least squares"
   ]
  },
  {
   "cell_type": "code",
   "execution_count": 149,
   "metadata": {},
   "outputs": [
    {
     "name": "stdout",
     "output_type": "stream",
     "text": [
      "{'Pos': 2536, 'Neg': 2464, 'TP': 313, 'TN': 2178, 'FP': 286, 'FN': 2223, 'Accuracy': 0.4982, 'Precision': 0.5225375626043406, 'Recall': 0.12342271293375394, 'desc': 'ols_test'}\n"
     ]
    }
   ],
   "source": [
    "ols_performance_test = BinaryClassificationPerformance(ols.predict(X_test), y_test, 'ols_test')\n",
    "ols_performance_test.compute_measures()\n",
    "print(ols_performance_test.performance_measures)"
   ]
  },
  {
   "cell_type": "markdown",
   "metadata": {},
   "source": [
    "### MODEL: SVM, linear"
   ]
  },
  {
   "cell_type": "code",
   "execution_count": 150,
   "metadata": {},
   "outputs": [
    {
     "name": "stdout",
     "output_type": "stream",
     "text": [
      "{'Pos': 2536, 'Neg': 2464, 'TP': 2325, 'TN': 287, 'FP': 2177, 'FN': 211, 'Accuracy': 0.5224, 'Precision': 0.5164371390493114, 'Recall': 0.9167981072555205, 'desc': 'svm_test'}\n"
     ]
    }
   ],
   "source": [
    "svm_performance_test = BinaryClassificationPerformance(svm.predict(X_test), y_test, 'svm_test')\n",
    "svm_performance_test.compute_measures()\n",
    "print(svm_performance_test.performance_measures)"
   ]
  },
  {
   "cell_type": "markdown",
   "metadata": {},
   "source": [
    "### MODEL: logistic regression"
   ]
  },
  {
   "cell_type": "code",
   "execution_count": 151,
   "metadata": {},
   "outputs": [
    {
     "name": "stdout",
     "output_type": "stream",
     "text": [
      "{'Pos': 2536, 'Neg': 2464, 'TP': 2443, 'TN': 137, 'FP': 2327, 'FN': 93, 'Accuracy': 0.516, 'Precision': 0.5121593291404613, 'Recall': 0.9633280757097792, 'desc': 'lgs_test'}\n"
     ]
    }
   ],
   "source": [
    "lgs_performance_test = BinaryClassificationPerformance(lgs.predict(X_test), y_test, 'lgs_test')\n",
    "lgs_performance_test.compute_measures()\n",
    "print(lgs_performance_test.performance_measures)"
   ]
  },
  {
   "cell_type": "markdown",
   "metadata": {},
   "source": [
    "### MODEL: Naive Bayes"
   ]
  },
  {
   "cell_type": "code",
   "execution_count": 152,
   "metadata": {},
   "outputs": [
    {
     "name": "stdout",
     "output_type": "stream",
     "text": [
      "{'Pos': 2536, 'Neg': 2464, 'TP': 847, 'TN': 1726, 'FP': 738, 'FN': 1689, 'Accuracy': 0.5146, 'Precision': 0.534384858044164, 'Recall': 0.3339905362776025, 'desc': 'nbs_test'}\n"
     ]
    }
   ],
   "source": [
    "nbs_performance_test = BinaryClassificationPerformance(nbs.predict(X_test), y_test, 'nbs_test')\n",
    "nbs_performance_test.compute_measures()\n",
    "print(nbs_performance_test.performance_measures)"
   ]
  },
  {
   "cell_type": "markdown",
   "metadata": {},
   "source": [
    "### MODEL: Perceptron"
   ]
  },
  {
   "cell_type": "code",
   "execution_count": 153,
   "metadata": {},
   "outputs": [
    {
     "name": "stdout",
     "output_type": "stream",
     "text": [
      "{'Pos': 2536, 'Neg': 2464, 'TP': 2536, 'TN': 0, 'FP': 2464, 'FN': 0, 'Accuracy': 0.5072, 'Precision': 0.5072, 'Recall': 1.0, 'desc': 'prc_test'}\n"
     ]
    }
   ],
   "source": [
    "prc_performance_test = BinaryClassificationPerformance(prc.predict(X_test), y_test, 'prc_test')\n",
    "prc_performance_test.compute_measures()\n",
    "print(prc_performance_test.performance_measures)"
   ]
  },
  {
   "cell_type": "markdown",
   "metadata": {},
   "source": [
    "### MODEL: Ridge Regression Classifier"
   ]
  },
  {
   "cell_type": "code",
   "execution_count": 154,
   "metadata": {},
   "outputs": [
    {
     "name": "stdout",
     "output_type": "stream",
     "text": [
      "{'Pos': 2536, 'Neg': 2464, 'TP': 1380, 'TN': 1251, 'FP': 1213, 'FN': 1156, 'Accuracy': 0.5262, 'Precision': 0.5322020825298882, 'Recall': 0.5441640378548895, 'desc': 'rdg_test'}\n"
     ]
    }
   ],
   "source": [
    "rdg_performance_test = BinaryClassificationPerformance(rdg.predict(X_test), y_test, 'rdg_test')\n",
    "rdg_performance_test.compute_measures()\n",
    "print(rdg_performance_test.performance_measures)"
   ]
  },
  {
   "cell_type": "markdown",
   "metadata": {},
   "source": [
    "### MODEL: Random Forest Classifier"
   ]
  },
  {
   "cell_type": "code",
   "execution_count": 143,
   "metadata": {},
   "outputs": [
    {
     "name": "stdout",
     "output_type": "stream",
     "text": [
      "{'Pos': 2536, 'Neg': 2464, 'TP': 1019, 'TN': 1579, 'FP': 885, 'FN': 1517, 'Accuracy': 0.5196, 'Precision': 0.5351890756302521, 'Recall': 0.40181388012618297, 'desc': 'rdf_test'}\n"
     ]
    }
   ],
   "source": [
    "rdf_performance_test = BinaryClassificationPerformance(rdf.predict(X_test), y_test, 'rdf_test')\n",
    "rdf_performance_test.compute_measures()\n",
    "print(rdf_performance_test.performance_measures)"
   ]
  },
  {
   "cell_type": "markdown",
   "metadata": {},
   "source": [
    "### ROC plot to compare performance of various models and fits"
   ]
  },
  {
   "cell_type": "code",
   "execution_count": 109,
   "metadata": {},
   "outputs": [
    {
     "data": {
      "image/png": "[encoded data removed]",
      "text/plain": [
       "<Figure size 640x480 with 1 Axes>"
      ]
     },
     "metadata": {},
     "output_type": "display_data"
    }
   ],
   "source": [
    "fits = [ols_performance_test, svm_performance_test, lgs_performance_test, nbs_performance_test, prc_performance_test, rdg_performance_test, rdf_performance_test]\n",
    "\n",
    "for fit in fits:\n",
    "    plt.plot(fit.performance_measures['FP'] / fit.performance_measures['Neg'], \n",
    "             fit.performance_measures['TP'] / fit.performance_measures['Pos'], 'bo')\n",
    "    plt.text(fit.performance_measures['FP'] / fit.performance_measures['Neg'], \n",
    "             fit.performance_measures['TP'] / fit.performance_measures['Pos'], fit.desc)\n",
    "plt.axis([0, 1, 0, 1])\n",
    "plt.title('ROC plot: test set')\n",
    "plt.xlabel('False positive rate')\n",
    "plt.ylabel('True positive rate')\n",
    "plt.show()"
   ]
  },
  {
   "cell_type": "markdown",
   "metadata": {},
   "source": [
    "---\n",
    "\n",
    "# <span style=\"color:red\">SUBMISSION</span>\n",
    "\n",
    "---"
   ]
  },
  {
   "cell_type": "code",
   "execution_count": 80,
   "metadata": {},
   "outputs": [
    {
     "ename": "FileNotFoundError",
     "evalue": "[Errno 2] No such file or directory: '/home/ec2-user/data/moviereviews_test.tsv'",
     "output_type": "error",
     "traceback": [
      "\u001b[0;31m---------------------------------------------------------------------------\u001b[0m",
      "\u001b[0;31mFileNotFoundError\u001b[0m                         Traceback (most recent call last)",
      "\u001b[0;32m/var/folders/zx/tl6k8wy10gdbl69rfr72f_y80000gn/T/ipykernel_98016/564779845.py\u001b[0m in \u001b[0;36m<module>\u001b[0;34m\u001b[0m\n\u001b[1;32m      1\u001b[0m \u001b[0;31m# read in test data for submission\u001b[0m\u001b[0;34m\u001b[0m\u001b[0;34m\u001b[0m\u001b[0m\n\u001b[1;32m      2\u001b[0m \u001b[0;31m# CHANGE FILE PATH and my_random_seed number (any integer other than 74 will do):\u001b[0m\u001b[0;34m\u001b[0m\u001b[0;34m\u001b[0m\u001b[0m\n\u001b[0;32m----> 3\u001b[0;31m \u001b[0mraw_data\u001b[0m\u001b[0;34m,\u001b[0m \u001b[0mX_test_submission\u001b[0m \u001b[0;34m=\u001b[0m \u001b[0mprocess_raw_data\u001b[0m\u001b[0;34m(\u001b[0m\u001b[0mfn\u001b[0m\u001b[0;34m=\u001b[0m\u001b[0;34m'/home/ec2-user/data/moviereviews_test.tsv'\u001b[0m\u001b[0;34m,\u001b[0m \u001b[0mmy_random_seed\u001b[0m\u001b[0;34m=\u001b[0m\u001b[0;36m74\u001b[0m\u001b[0;34m,\u001b[0m \u001b[0mtest\u001b[0m\u001b[0;34m=\u001b[0m\u001b[0;32mTrue\u001b[0m\u001b[0;34m)\u001b[0m\u001b[0;34m\u001b[0m\u001b[0;34m\u001b[0m\u001b[0m\n\u001b[0m\u001b[1;32m      4\u001b[0m \u001b[0mprint\u001b[0m\u001b[0;34m(\u001b[0m\u001b[0;34m\"Number of rows in the submission test set (should be 25,000): \"\u001b[0m\u001b[0;34m)\u001b[0m\u001b[0;34m\u001b[0m\u001b[0;34m\u001b[0m\u001b[0m\n",
      "\u001b[0;32m/var/folders/zx/tl6k8wy10gdbl69rfr72f_y80000gn/T/ipykernel_98016/3786290493.py\u001b[0m in \u001b[0;36mprocess_raw_data\u001b[0;34m(fn, my_random_seed, test)\u001b[0m\n\u001b[1;32m      2\u001b[0m \u001b[0;32mdef\u001b[0m \u001b[0mprocess_raw_data\u001b[0m\u001b[0;34m(\u001b[0m\u001b[0mfn\u001b[0m\u001b[0;34m,\u001b[0m \u001b[0mmy_random_seed\u001b[0m\u001b[0;34m,\u001b[0m \u001b[0mtest\u001b[0m\u001b[0;34m=\u001b[0m\u001b[0;32mFalse\u001b[0m\u001b[0;34m)\u001b[0m\u001b[0;34m:\u001b[0m\u001b[0;34m\u001b[0m\u001b[0;34m\u001b[0m\u001b[0m\n\u001b[1;32m      3\u001b[0m     \u001b[0;31m# read and summarize data\u001b[0m\u001b[0;34m\u001b[0m\u001b[0;34m\u001b[0m\u001b[0m\n\u001b[0;32m----> 4\u001b[0;31m     \u001b[0mmovie_data\u001b[0m \u001b[0;34m=\u001b[0m \u001b[0mpd\u001b[0m\u001b[0;34m.\u001b[0m\u001b[0mread_csv\u001b[0m\u001b[0;34m(\u001b[0m\u001b[0mfn\u001b[0m\u001b[0;34m,\u001b[0m \u001b[0msep\u001b[0m\u001b[0;34m=\u001b[0m\u001b[0;34m'\\t'\u001b[0m\u001b[0;34m)\u001b[0m\u001b[0;34m\u001b[0m\u001b[0;34m\u001b[0m\u001b[0m\n\u001b[0m\u001b[1;32m      5\u001b[0m     \u001b[0mprint\u001b[0m\u001b[0;34m(\u001b[0m\u001b[0;34m\"movie_data is:\"\u001b[0m\u001b[0;34m,\u001b[0m \u001b[0mtype\u001b[0m\u001b[0;34m(\u001b[0m\u001b[0mmovie_data\u001b[0m\u001b[0;34m)\u001b[0m\u001b[0;34m)\u001b[0m\u001b[0;34m\u001b[0m\u001b[0;34m\u001b[0m\u001b[0m\n\u001b[1;32m      6\u001b[0m     \u001b[0mprint\u001b[0m\u001b[0;34m(\u001b[0m\u001b[0;34m\"movie_data has\"\u001b[0m\u001b[0;34m,\u001b[0m \u001b[0mmovie_data\u001b[0m\u001b[0;34m.\u001b[0m\u001b[0mshape\u001b[0m\u001b[0;34m[\u001b[0m\u001b[0;36m0\u001b[0m\u001b[0;34m]\u001b[0m\u001b[0;34m,\u001b[0m \u001b[0;34m\"rows and\"\u001b[0m\u001b[0;34m,\u001b[0m \u001b[0mmovie_data\u001b[0m\u001b[0;34m.\u001b[0m\u001b[0mshape\u001b[0m\u001b[0;34m[\u001b[0m\u001b[0;36m1\u001b[0m\u001b[0;34m]\u001b[0m\u001b[0;34m,\u001b[0m \u001b[0;34m\"columns\"\u001b[0m\u001b[0;34m,\u001b[0m \u001b[0;34m\"\\n\"\u001b[0m\u001b[0;34m)\u001b[0m\u001b[0;34m\u001b[0m\u001b[0;34m\u001b[0m\u001b[0m\n",
      "\u001b[0;32m~/opt/anaconda3/lib/python3.9/site-packages/pandas/util/_decorators.py\u001b[0m in \u001b[0;36mwrapper\u001b[0;34m(*args, **kwargs)\u001b[0m\n\u001b[1;32m    309\u001b[0m                     \u001b[0mstacklevel\u001b[0m\u001b[0;34m=\u001b[0m\u001b[0mstacklevel\u001b[0m\u001b[0;34m,\u001b[0m\u001b[0;34m\u001b[0m\u001b[0;34m\u001b[0m\u001b[0m\n\u001b[1;32m    310\u001b[0m                 )\n\u001b[0;32m--> 311\u001b[0;31m             \u001b[0;32mreturn\u001b[0m \u001b[0mfunc\u001b[0m\u001b[0;34m(\u001b[0m\u001b[0;34m*\u001b[0m\u001b[0margs\u001b[0m\u001b[0;34m,\u001b[0m \u001b[0;34m**\u001b[0m\u001b[0mkwargs\u001b[0m\u001b[0;34m)\u001b[0m\u001b[0;34m\u001b[0m\u001b[0;34m\u001b[0m\u001b[0m\n\u001b[0m\u001b[1;32m    312\u001b[0m \u001b[0;34m\u001b[0m\u001b[0m\n\u001b[1;32m    313\u001b[0m         \u001b[0;32mreturn\u001b[0m \u001b[0mwrapper\u001b[0m\u001b[0;34m\u001b[0m\u001b[0;34m\u001b[0m\u001b[0m\n",
      "\u001b[0;32m~/opt/anaconda3/lib/python3.9/site-packages/pandas/io/parsers/readers.py\u001b[0m in \u001b[0;36mread_csv\u001b[0;34m(filepath_or_buffer, sep, delimiter, header, names, index_col, usecols, squeeze, prefix, mangle_dupe_cols, dtype, engine, converters, true_values, false_values, skipinitialspace, skiprows, skipfooter, nrows, na_values, keep_default_na, na_filter, verbose, skip_blank_lines, parse_dates, infer_datetime_format, keep_date_col, date_parser, dayfirst, cache_dates, iterator, chunksize, compression, thousands, decimal, lineterminator, quotechar, quoting, doublequote, escapechar, comment, encoding, encoding_errors, dialect, error_bad_lines, warn_bad_lines, on_bad_lines, delim_whitespace, low_memory, memory_map, float_precision, storage_options)\u001b[0m\n\u001b[1;32m    676\u001b[0m     \u001b[0mkwds\u001b[0m\u001b[0;34m.\u001b[0m\u001b[0mupdate\u001b[0m\u001b[0;34m(\u001b[0m\u001b[0mkwds_defaults\u001b[0m\u001b[0;34m)\u001b[0m\u001b[0;34m\u001b[0m\u001b[0;34m\u001b[0m\u001b[0m\n\u001b[1;32m    677\u001b[0m \u001b[0;34m\u001b[0m\u001b[0m\n\u001b[0;32m--> 678\u001b[0;31m     \u001b[0;32mreturn\u001b[0m \u001b[0m_read\u001b[0m\u001b[0;34m(\u001b[0m\u001b[0mfilepath_or_buffer\u001b[0m\u001b[0;34m,\u001b[0m \u001b[0mkwds\u001b[0m\u001b[0;34m)\u001b[0m\u001b[0;34m\u001b[0m\u001b[0;34m\u001b[0m\u001b[0m\n\u001b[0m\u001b[1;32m    679\u001b[0m \u001b[0;34m\u001b[0m\u001b[0m\n\u001b[1;32m    680\u001b[0m \u001b[0;34m\u001b[0m\u001b[0m\n",
      "\u001b[0;32m~/opt/anaconda3/lib/python3.9/site-packages/pandas/io/parsers/readers.py\u001b[0m in \u001b[0;36m_read\u001b[0;34m(filepath_or_buffer, kwds)\u001b[0m\n\u001b[1;32m    573\u001b[0m \u001b[0;34m\u001b[0m\u001b[0m\n\u001b[1;32m    574\u001b[0m     \u001b[0;31m# Create the parser.\u001b[0m\u001b[0;34m\u001b[0m\u001b[0;34m\u001b[0m\u001b[0m\n\u001b[0;32m--> 575\u001b[0;31m     \u001b[0mparser\u001b[0m \u001b[0;34m=\u001b[0m \u001b[0mTextFileReader\u001b[0m\u001b[0;34m(\u001b[0m\u001b[0mfilepath_or_buffer\u001b[0m\u001b[0;34m,\u001b[0m \u001b[0;34m**\u001b[0m\u001b[0mkwds\u001b[0m\u001b[0;34m)\u001b[0m\u001b[0;34m\u001b[0m\u001b[0;34m\u001b[0m\u001b[0m\n\u001b[0m\u001b[1;32m    576\u001b[0m \u001b[0;34m\u001b[0m\u001b[0m\n\u001b[1;32m    577\u001b[0m     \u001b[0;32mif\u001b[0m \u001b[0mchunksize\u001b[0m \u001b[0;32mor\u001b[0m \u001b[0miterator\u001b[0m\u001b[0;34m:\u001b[0m\u001b[0;34m\u001b[0m\u001b[0;34m\u001b[0m\u001b[0m\n",
      "\u001b[0;32m~/opt/anaconda3/lib/python3.9/site-packages/pandas/io/parsers/readers.py\u001b[0m in \u001b[0;36m__init__\u001b[0;34m(self, f, engine, **kwds)\u001b[0m\n\u001b[1;32m    930\u001b[0m \u001b[0;34m\u001b[0m\u001b[0m\n\u001b[1;32m    931\u001b[0m         \u001b[0mself\u001b[0m\u001b[0;34m.\u001b[0m\u001b[0mhandles\u001b[0m\u001b[0;34m:\u001b[0m \u001b[0mIOHandles\u001b[0m \u001b[0;34m|\u001b[0m \u001b[0;32mNone\u001b[0m \u001b[0;34m=\u001b[0m \u001b[0;32mNone\u001b[0m\u001b[0;34m\u001b[0m\u001b[0;34m\u001b[0m\u001b[0m\n\u001b[0;32m--> 932\u001b[0;31m         \u001b[0mself\u001b[0m\u001b[0;34m.\u001b[0m\u001b[0m_engine\u001b[0m \u001b[0;34m=\u001b[0m \u001b[0mself\u001b[0m\u001b[0;34m.\u001b[0m\u001b[0m_make_engine\u001b[0m\u001b[0;34m(\u001b[0m\u001b[0mf\u001b[0m\u001b[0;34m,\u001b[0m \u001b[0mself\u001b[0m\u001b[0;34m.\u001b[0m\u001b[0mengine\u001b[0m\u001b[0;34m)\u001b[0m\u001b[0;34m\u001b[0m\u001b[0;34m\u001b[0m\u001b[0m\n\u001b[0m\u001b[1;32m    933\u001b[0m \u001b[0;34m\u001b[0m\u001b[0m\n\u001b[1;32m    934\u001b[0m     \u001b[0;32mdef\u001b[0m \u001b[0mclose\u001b[0m\u001b[0;34m(\u001b[0m\u001b[0mself\u001b[0m\u001b[0;34m)\u001b[0m\u001b[0;34m:\u001b[0m\u001b[0;34m\u001b[0m\u001b[0;34m\u001b[0m\u001b[0m\n",
      "\u001b[0;32m~/opt/anaconda3/lib/python3.9/site-packages/pandas/io/parsers/readers.py\u001b[0m in \u001b[0;36m_make_engine\u001b[0;34m(self, f, engine)\u001b[0m\n\u001b[1;32m   1214\u001b[0m             \u001b[0;31m# \"Union[str, PathLike[str], ReadCsvBuffer[bytes], ReadCsvBuffer[str]]\"\u001b[0m\u001b[0;34m\u001b[0m\u001b[0;34m\u001b[0m\u001b[0m\n\u001b[1;32m   1215\u001b[0m             \u001b[0;31m# , \"str\", \"bool\", \"Any\", \"Any\", \"Any\", \"Any\", \"Any\"\u001b[0m\u001b[0;34m\u001b[0m\u001b[0;34m\u001b[0m\u001b[0m\n\u001b[0;32m-> 1216\u001b[0;31m             self.handles = get_handle(  # type: ignore[call-overload]\n\u001b[0m\u001b[1;32m   1217\u001b[0m                 \u001b[0mf\u001b[0m\u001b[0;34m,\u001b[0m\u001b[0;34m\u001b[0m\u001b[0;34m\u001b[0m\u001b[0m\n\u001b[1;32m   1218\u001b[0m                 \u001b[0mmode\u001b[0m\u001b[0;34m,\u001b[0m\u001b[0;34m\u001b[0m\u001b[0;34m\u001b[0m\u001b[0m\n",
      "\u001b[0;32m~/opt/anaconda3/lib/python3.9/site-packages/pandas/io/common.py\u001b[0m in \u001b[0;36mget_handle\u001b[0;34m(path_or_buf, mode, encoding, compression, memory_map, is_text, errors, storage_options)\u001b[0m\n\u001b[1;32m    784\u001b[0m         \u001b[0;32mif\u001b[0m \u001b[0mioargs\u001b[0m\u001b[0;34m.\u001b[0m\u001b[0mencoding\u001b[0m \u001b[0;32mand\u001b[0m \u001b[0;34m\"b\"\u001b[0m \u001b[0;32mnot\u001b[0m \u001b[0;32min\u001b[0m \u001b[0mioargs\u001b[0m\u001b[0;34m.\u001b[0m\u001b[0mmode\u001b[0m\u001b[0;34m:\u001b[0m\u001b[0;34m\u001b[0m\u001b[0;34m\u001b[0m\u001b[0m\n\u001b[1;32m    785\u001b[0m             \u001b[0;31m# Encoding\u001b[0m\u001b[0;34m\u001b[0m\u001b[0;34m\u001b[0m\u001b[0m\n\u001b[0;32m--> 786\u001b[0;31m             handle = open(\n\u001b[0m\u001b[1;32m    787\u001b[0m                 \u001b[0mhandle\u001b[0m\u001b[0;34m,\u001b[0m\u001b[0;34m\u001b[0m\u001b[0;34m\u001b[0m\u001b[0m\n\u001b[1;32m    788\u001b[0m                 \u001b[0mioargs\u001b[0m\u001b[0;34m.\u001b[0m\u001b[0mmode\u001b[0m\u001b[0;34m,\u001b[0m\u001b[0;34m\u001b[0m\u001b[0;34m\u001b[0m\u001b[0m\n",
      "\u001b[0;31mFileNotFoundError\u001b[0m: [Errno 2] No such file or directory: '/home/ec2-user/data/moviereviews_test.tsv'"
     ]
    }
   ],
   "source": [
    "# read in test data for submission\n",
    "# CHANGE FILE PATH and my_random_seed number (any integer other than 74 will do): \n",
    "raw_data, X_test_submission = process_raw_data(fn='/home/ec2-user/data/moviereviews_test.tsv', my_random_seed=74, test=True)\n",
    "print(\"Number of rows in the submission test set (should be 25,000): \")"
   ]
  },
  {
   "cell_type": "markdown",
   "metadata": {},
   "source": [
    "---\n",
    "\n",
    "Choose a <span style=\"color:red\">*single*</span> model for your submission. In this code, I am choosing the Ordinary Least Squares model fit, which is in the `ols` object. But you should choose the model that is performing the best for you! "
   ]
  },
  {
   "cell_type": "code",
   "execution_count": 24,
   "metadata": {},
   "outputs": [
    {
     "name": "stdout",
     "output_type": "stream",
     "text": [
      "0.5596\n"
     ]
    }
   ],
   "source": [
    "# store the id from the raw data\n",
    "my_submission = pd.DataFrame(raw_data[\"id\"])\n",
    "# concatenate predictions to the id\n",
    "my_submission[\"prediction\"] = ols.predict(X_test_submission)\n",
    "# look at the proportion of positive predictions\n",
    "print(my_submission['prediction'].mean())"
   ]
  },
  {
   "cell_type": "code",
   "execution_count": 25,
   "metadata": {},
   "outputs": [
    {
     "data": {
      "text/html": [
       "<div>\n",
       "<style scoped>\n",
       "    .dataframe tbody tr th:only-of-type {\n",
       "        vertical-align: middle;\n",
       "    }\n",
       "\n",
       "    .dataframe tbody tr th {\n",
       "        vertical-align: top;\n",
       "    }\n",
       "\n",
       "    .dataframe thead th {\n",
       "        text-align: right;\n",
       "    }\n",
       "</style>\n",
       "<table border=\"1\" class=\"dataframe\">\n",
       "  <thead>\n",
       "    <tr style=\"text-align: right;\">\n",
       "      <th></th>\n",
       "      <th>id</th>\n",
       "      <th>review</th>\n",
       "      <th>word_count</th>\n",
       "      <th>punc_count</th>\n",
       "    </tr>\n",
       "  </thead>\n",
       "  <tbody>\n",
       "    <tr>\n",
       "      <td>0</td>\n",
       "      <td>12311_10</td>\n",
       "      <td>Naturally in a film who's main themes are of m...</td>\n",
       "      <td>131</td>\n",
       "      <td>5</td>\n",
       "    </tr>\n",
       "    <tr>\n",
       "      <td>1</td>\n",
       "      <td>8348_2</td>\n",
       "      <td>This movie is a disaster within a disaster fil...</td>\n",
       "      <td>169</td>\n",
       "      <td>15</td>\n",
       "    </tr>\n",
       "    <tr>\n",
       "      <td>2</td>\n",
       "      <td>5828_4</td>\n",
       "      <td>All in all, this is a movie for kids. We saw i...</td>\n",
       "      <td>176</td>\n",
       "      <td>18</td>\n",
       "    </tr>\n",
       "    <tr>\n",
       "      <td>3</td>\n",
       "      <td>7186_2</td>\n",
       "      <td>Afraid of the Dark left me with the impression...</td>\n",
       "      <td>112</td>\n",
       "      <td>5</td>\n",
       "    </tr>\n",
       "    <tr>\n",
       "      <td>4</td>\n",
       "      <td>12128_7</td>\n",
       "      <td>A very accurate depiction of small time mob li...</td>\n",
       "      <td>133</td>\n",
       "      <td>8</td>\n",
       "    </tr>\n",
       "  </tbody>\n",
       "</table>\n",
       "</div>"
      ],
      "text/plain": [
       "         id                                             review  word_count  \\\n",
       "0  12311_10  Naturally in a film who's main themes are of m...         131   \n",
       "1    8348_2  This movie is a disaster within a disaster fil...         169   \n",
       "2    5828_4  All in all, this is a movie for kids. We saw i...         176   \n",
       "3    7186_2  Afraid of the Dark left me with the impression...         112   \n",
       "4   12128_7  A very accurate depiction of small time mob li...         133   \n",
       "\n",
       "   punc_count  \n",
       "0           5  \n",
       "1          15  \n",
       "2          18  \n",
       "3           5  \n",
       "4           8  "
      ]
     },
     "execution_count": 25,
     "metadata": {},
     "output_type": "execute_result"
    }
   ],
   "source": [
    "raw_data.head()"
   ]
  },
  {
   "cell_type": "code",
   "execution_count": 26,
   "metadata": {},
   "outputs": [
    {
     "data": {
      "text/html": [
       "<div>\n",
       "<style scoped>\n",
       "    .dataframe tbody tr th:only-of-type {\n",
       "        vertical-align: middle;\n",
       "    }\n",
       "\n",
       "    .dataframe tbody tr th {\n",
       "        vertical-align: top;\n",
       "    }\n",
       "\n",
       "    .dataframe thead th {\n",
       "        text-align: right;\n",
       "    }\n",
       "</style>\n",
       "<table border=\"1\" class=\"dataframe\">\n",
       "  <thead>\n",
       "    <tr style=\"text-align: right;\">\n",
       "      <th></th>\n",
       "      <th>id</th>\n",
       "      <th>prediction</th>\n",
       "    </tr>\n",
       "  </thead>\n",
       "  <tbody>\n",
       "    <tr>\n",
       "      <td>0</td>\n",
       "      <td>12311_10</td>\n",
       "      <td>1</td>\n",
       "    </tr>\n",
       "    <tr>\n",
       "      <td>1</td>\n",
       "      <td>8348_2</td>\n",
       "      <td>1</td>\n",
       "    </tr>\n",
       "    <tr>\n",
       "      <td>2</td>\n",
       "      <td>5828_4</td>\n",
       "      <td>1</td>\n",
       "    </tr>\n",
       "    <tr>\n",
       "      <td>3</td>\n",
       "      <td>7186_2</td>\n",
       "      <td>1</td>\n",
       "    </tr>\n",
       "    <tr>\n",
       "      <td>4</td>\n",
       "      <td>12128_7</td>\n",
       "      <td>0</td>\n",
       "    </tr>\n",
       "  </tbody>\n",
       "</table>\n",
       "</div>"
      ],
      "text/plain": [
       "         id  prediction\n",
       "0  12311_10           1\n",
       "1    8348_2           1\n",
       "2    5828_4           1\n",
       "3    7186_2           1\n",
       "4   12128_7           0"
      ]
     },
     "execution_count": 26,
     "metadata": {},
     "output_type": "execute_result"
    }
   ],
   "source": [
    "my_submission.head()"
   ]
  },
  {
   "cell_type": "code",
   "execution_count": 27,
   "metadata": {},
   "outputs": [
    {
     "data": {
      "text/plain": [
       "(25000, 2)"
      ]
     },
     "execution_count": 27,
     "metadata": {},
     "output_type": "execute_result"
    }
   ],
   "source": [
    "my_submission.shape"
   ]
  },
  {
   "cell_type": "code",
   "execution_count": 28,
   "metadata": {},
   "outputs": [],
   "source": [
    "# export submission file as pdf\n",
    "# CHANGE FILE PATH: \n",
    "my_submission.to_csv('/home/ec2-user/data/moviereviews_submission.csv', index=False)"
   ]
  },
  {
   "cell_type": "markdown",
   "metadata": {},
   "source": [
    "# Submit to Canvas: 1) the CSV file that was written in the previous cell and 2) the url to the repository (GitHub or other) that contains your code and documentation"
   ]
  }
 ],
 "metadata": {
  "kernelspec": {
   "display_name": "Python 3 (ipykernel)",
   "language": "python",
   "name": "python3"
  },
  "language_info": {
   "codemirror_mode": {
    "name": "ipython",
    "version": 3
   },
   "file_extension": ".py",
   "mimetype": "text/x-python",
   "name": "python",
   "nbconvert_exporter": "python",
   "pygments_lexer": "ipython3",
   "version": "3.9.13"
  }
 },
 "nbformat": 4,
 "nbformat_minor": 2
}
