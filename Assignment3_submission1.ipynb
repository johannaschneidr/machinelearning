{
 "cells": [
  {
   "cell_type": "code",
   "execution_count": 1,
   "metadata": {},
   "outputs": [],
   "source": [
    "import numpy as np\n",
    "import pandas as pd\n",
    "import matplotlib.pyplot as plt\n",
    "%matplotlib inline"
   ]
  },
  {
   "cell_type": "code",
   "execution_count": 2,
   "metadata": {},
   "outputs": [],
   "source": [
    "raw_data = pd.read_json('food_enforcement_US_bacteria.json', orient='records')"
   ]
  },
  {
   "cell_type": "code",
   "execution_count": 8,
   "metadata": {},
   "outputs": [
    {
     "name": "stdout",
     "output_type": "stream",
     "text": [
      "(6104, 26)\n",
      "0     Native Catch Salmon Bacon, Traditional flavor....\n",
      "1     Delish Fruit Burst 10 oz.(283 g)  Enjoy by: 8/...\n",
      "2     Garden Pure Holiday Fruit Bowl 4 lbs (1.81kg) ...\n",
      "3     Fresh Fruit Product is labeled in part:  \"***F...\n",
      "4     Ready Pac¿ Gourmet Fruit Bowl, 64oz , UPC 7774...\n",
      "5     River Ranch brand Diced Grn Cabbage w/Color, 4...\n",
      "6     Sweet and Sour Stir Fry packaged under the fol...\n",
      "7     Onion Slab Cut.  Products are labeled in part:...\n",
      "8     MIX w/yellow onions used as an ingredient.  Pr...\n",
      "9     Fresh n Easy brand Shred Grn Cabbage w/Color, ...\n",
      "10    River Ranch brand Three-Color Cole Slaw Mix, 1...\n",
      "11    MIX w/yellow onions used as an ingredient.  Pr...\n",
      "12    River Ranch brand Spring Mix, 3 lb bag, UPC: n...\n",
      "13    River Ranch brand Shredded Red Cabbage, 4 x 5 ...\n",
      "14    Hy Vee brand Italian Blend, 10 oz bag, UPC:  7...\n",
      "15    Onions Julienne Sliced.  Products are labeled ...\n",
      "16    Fresh n Easy brand Garden with Romaine, 4 x 5 ...\n",
      "17    Cross Valley brand Shredded Icebreg (1/4\"), (1...\n",
      "18    Traditional Gourmet Portabella Mushrooms  Gard...\n",
      "19    Southwest Crimini Mushrooms,  8.0 oz, packaged...\n",
      "20    Hy Vee brand Chopped Romaine, 10 oz bag, UPC: ...\n",
      "21    Yellow Onion.  Product is labeled in part:  \"*...\n",
      "22    MIX w/yellow onions used as an ingredient.  Pr...\n",
      "23    The Farmers Market brand American Salad Blend,...\n",
      "24    Yellow Onion.  Product is labeled in part:  \"*...\n",
      "25    Salsa in 12 oz., 16 oz., and 5 lb. plastic con...\n",
      "26                     1/4\" Diced Red Onions, 5 LB. Bag\n",
      "27    Ready Pac¿ Fruit & Chocolate  Platter, 40oz , ...\n",
      "28    Fruit Mixes: 1) Dining In¿ Super Fruit Medley,...\n",
      "29    MIX w/yellow onions used as an ingredient.  Pr...\n",
      "Name: product_description, dtype: object\n"
     ]
    }
   ],
   "source": [
    "print(raw_data.shape)\n",
    "print(raw_data.head(30).product_description)"
   ]
  },
  {
   "cell_type": "markdown",
   "metadata": {},
   "source": [
    "### Bag of words feature representation for descriptive text"
   ]
  },
  {
   "cell_type": "code",
   "execution_count": 4,
   "metadata": {},
   "outputs": [
    {
     "data": {
      "text/plain": [
       "(6104, 13767)"
      ]
     },
     "execution_count": 4,
     "metadata": {},
     "output_type": "execute_result"
    }
   ],
   "source": [
    "from sklearn.feature_extraction.text import CountVectorizer\n",
    "vectorizer = CountVectorizer()\n",
    "\n",
    "corpus = raw_data['product_description']\n",
    "X = vectorizer.fit_transform(corpus)\n",
    "X.shape"
   ]
  },
  {
   "cell_type": "markdown",
   "metadata": {},
   "source": [
    "### fit Kmeans"
   ]
  },
  {
   "cell_type": "code",
   "execution_count": 103,
   "metadata": {},
   "outputs": [
    {
     "data": {
      "text/plain": [
       "KMeans(n_clusters=13)"
      ]
     },
     "execution_count": 103,
     "metadata": {},
     "output_type": "execute_result"
    }
   ],
   "source": [
    "#fit Kmeans with k clusters\n",
    "from sklearn.cluster import KMeans\n",
    "#km = KMeans(n_clusters=50, n_init=30)\n",
    "#km = KMeans(n_clusters=10, n_init=10)\n",
    "#km = KMeans(n_clusters=20, n_init=100)\n",
    "#km = KMeans(n_clusters=15, n_init=100)\n",
    "#km = KMeans(n_clusters=14, n_init=10)\n",
    "km = KMeans(n_clusters=13, init = 'k-means++', n_init=10)\n",
    "km.fit(X)"
   ]
  },
  {
   "cell_type": "markdown",
   "metadata": {},
   "source": [
    "### labels are named with integers and stored in the `labels_` attribute"
   ]
  },
  {
   "cell_type": "code",
   "execution_count": 104,
   "metadata": {},
   "outputs": [
    {
     "data": {
      "text/plain": [
       "array([11,  3,  3, ...,  3,  7, 11], dtype=int32)"
      ]
     },
     "execution_count": 104,
     "metadata": {},
     "output_type": "execute_result"
    }
   ],
   "source": [
    "km.labels_"
   ]
  },
  {
   "cell_type": "markdown",
   "metadata": {},
   "source": [
    "### take a look at one of the cluster results"
   ]
  },
  {
   "cell_type": "code",
   "execution_count": 106,
   "metadata": {
    "scrolled": false
   },
   "outputs": [
    {
     "name": "stdout",
     "output_type": "stream",
     "text": [
      "BLAIN'S FARM & FLEET SPORTSMAN'S MIX 1.75OZ (50 g), UPC 034952818956, Item # 670554.  10/19/16, 2/21/16, 7/1/16, 8/10/16, 4/16/16.  BLAIN'S FARM & FLEET SPORTSMAN'S MIX  7 -1.75OZ, UPC # 34952850871, Item # 698712 : 2/5/16, 3/8/16, 4/7/16, 4/17/16, 7/6/16, 8/3/16.    BLAIN'S FARM & FLEET SPORTSMAN MIX 12 OZ (340 g), UPC 034952814460, Item # 648212.  9/23/16, 12/1/16, 12/1/16, 12/24/16, 1/25/17, 6/15/16, 7/14/16, 2/7/16, 3/4/16,  8/10/16, 4/17/16, 4/21/16, 5/26/16.    BLAIN'S FARM & FLEET SPORTSMAN MIX JAR 38 OZ, 2 lbs 2 oz (1077 g), UPC 034952820386, Item # 68768.  12/17/16, 12/23/16, 2/9/17, 2/16/17, 4/7/16, 2/5/16, 3/24/16    BULK - SPORTSMAN MIX 25#\t413674    EILLIEN'S SPORTSMAN MIX  22 OZ\t, 1 lb 6 oz ( 624 g), UPC 034952577365, Item # 306753.  10/25/16, 12/7/16, 1/18/17, 1/18/17, 5/18/16, 7/13/16, 7/1/16, 4/23/16, 6/14/16,  2/12/16, 3/26/16, 2/29/16, 5/4/16, 5/25/16, 7/29/16, 7/29/16, 9/3/16, 9/21/16,  Item # 414458: 7/13/16.    EILLIEN'S SPORTSMAN MIX 4 OZ (113 g), UPC  034952575705, Item # 800195.  11/23/16, 11/23/16, 6/21/16, 6/21/16, 3/17/16, 9/8/16.    EILLIEN'S SPORTSMAN MIX TRAY      15 OZ, UPC 034952572926, Item #204560.  6/29/16, 7/21/16, 8/18/16, 9/2/16, 9/18/16, 10/12/16, 10/26/16, 11/11/16, 11/5/15,  12/30/15, 4/14/16, 2/11/16, 4/28/16, 12/4/15, 6/4/16, 2/24/16, 11/14/15, 1/13/16,  1/16/16, 5/25/16.    HOLIDAY SNACKTIME SPORTSMAN MIX  11 OZ (312 g), UPC 041282995318, Item# 130443.  10/27/16, 12/14/16, 12/31/16, 1/19/17, 1/25/17, 5/28/16, 2/12/16, 3/5/16, 3/3/16,  2/29/16, 7/19/16, 4/27/16, 2/6/16, 3/18/16.      MILL'S FLEET FARM SPORTSMAN MIX        24 OZ , 1 lb 8 oz(680 g), UPC 034952362763, Item # 696831.  10/13/16, 11/15/16, 12/21/16, 1/21/17, 7/9/16, 4/1/16, 2/1/16, 4/23/16, 2/12/16,  9/14/16, 3/3/16, 7/29/16, 5/7/16, 4/13/16, 3/2/16, 6/2/16, 6/16/16, 7/12/16, 9/9/16.    MILL'S FLEET FARM SPORTSMAN MIX       32 OZ, 2 lbs  (907 g), UPC 034952361766, Item # 678318.  10/20/16, 10/20/16, 11/17/16, 12/28/16, 1/25/17, 2/13/17, 2/5/16, 3/30/16, 7/14/16,  6/25/16, 3/4/16, 5/13/16, 6/17/16, 2/12/16, 6/28/16, 6/28/16, 4/27/16, 3/29/16,  4/21/16, 3/1/16.    MILL'S FLEET FARM SPORTSMAN MIX      4.25OZ (120 g), UPC 034952363692, Item # 700914.  12/2/16, 1/18/17, 8/18/16, 3/4/16, 6/11/16, 2/1/16, 4/23/16, 6/14/16.    MILL'S FLEET FARM SPORTSMAN'S MIX 1 OZ\t611179, Item # 611179.  4/27/16.    PIGGLY WIGGLY SPORTSMAN MIX         22 OZ. 1 lb 6 oz (624 g), UPC 034952580990, Item #416941.  9/23/16, 1/27/17, 3/9/16.  Item # 686352: 9/23/16, 1/18/17, 1/27/17, 7/1/16, 8/10/16, 2/29/16, 5/4/16,3/9/16,    PIGGLY WIGGLY SPORTSMAN MIX TRAY    15 OZ (425 g), UPC 034952574210, Item # 669846.  8/11/16, 8/24/16, 9/18/16, 9/18/16, 10/18/16, 11/12/16, 1/7/16, 11/28/15, 12/30/15,  5/6/16, 1/28/16, 2/4/16, 2/5/16, 4/5/16, 11/8/15, 6/18/16, 5/25/16, 12/10/15.    ROYAL POUCH BAG SPORTSMAN MIX 11 OZ (312 g), UPC 034952571288, Item # 119362.  11/11/16, 12/17/16, 12/28/16, 2/3/17, 2/17/17, 2/5/16, 8/11/16, 4/1/16, 5/5/16,  2/14/16, 9/9/16, 3/10/16, 3/18/16, 6/18/16.    RUNNINGS 32 OZ, 2 lbs (907 g) SPORTSMAN MIX, UPC 034952581621, Item # 127068.  12/21/16, 2/13/17, 7/14/16, 5/13/16, 3/5/16.    RURAL KING SPORTSMAN MIX 22 OZ, 1 lb 6 oz (624 g), UPC 034952584813, Item # 604403.  11/15/16, 5/18/16, 2/12/16, 7/5/16, 8/5/16.    SHOPPERS VALU SPORTSMAN MIX 2.25OZ (64 g), UPC 041130286704, Item# 134122.  8/16/16, 2/4/17,    SUPER AMERICA SPORTSMAN'S MIX 11 OZ ( 312 ) , UPC 034952585377, Item# 131813.  10/25/16, 12/1/16, 12/8/16, 3/26/16, 8/30/16.    TRIGS 16 oz, 1 lb ( 454 g) SPORTSMAN MIX, UPC 034952583397, Item # 694539.  4/7/16  \n",
      "**********\n",
      "BLAIN'S FARM & FLEET SUNFLOWER KERNEL 2 OZ (57 g), UPC\t034952818949, Item # 670547.  10/5/16, 11/25/16, 3/3/16, 5/6/16, 7/23/16, 3/10/16.    BLAIN'S FARM & FLEET SUNFLOWER KERNELS 16 OZ , 1 lb(454 g), UPC 034952813661, Item # 637413.  10/4/16, 10/18/16, 10/19/16, 11/22/16, 12/1/16, 12/30/16, 1/13/17, 1/18/17, 1/20/17,  2/4/17, 2/22/16, 9/1/16, 2/28/16, 6/15/16, 6/15/16, 8/9/16, 7/6/16, 9/14/16, 5/24/16,  2/20/16, 4/20/16, 5/5/16, 7/19/16, 3/29/16.      EILLIEN'S 10 OZ (284 g) SUNFLOWER KERNELS, UPC 034952131581, Item 202358.  9/29/16, 11/10/16, 12/9/16, 1/4/17, 2/5/17, 6/21/16, 2/15/16, 3/19/16, 4/9/16, 4/15/16,  5/13/16, 5/27/16, 9/2/16.    EILLIEN'S 12 OZ (340 g) SUNFLOWER KERNELS, UPC 034952571103, Item # 128884.  10/28/16, 6/3/16, 9/16/16.  Item # 800323: 9/22/16, 10/4/16, 10/19/16, 10/27/16, 11/22/16, 12/1/16, 12/15/16,  12/30/16, 1/5/17, 1/20/17, 1/25/17, 2/4/17, 5/18/16, 5/18/16, 9/1/16, 2/28/16, 3/24/16,  3/24/16, 3/30/16, 5/20/16, 2/7/16, 8/30/16, 3/3/16, 4/6/16, 6/1/16, 2/20/16, 6/22/16,  6/22/16, 8/3/16, 5/5/16, 6/8/16, 6/29/16, 7/19/16, 8/5/16, 8/21/16, 7/20/16,    EILLIEN'S 14 OZ (397 g), SUNFLOWER KERNELS, UPC 034952563481, Item # 304907.  9/29/16, 10/4/16, 10/4/16, 10/27/16, 12/1/16, 12/15/16, 1/25/17, 2/13/16, 9/1/16,   2/28/16, 3/30/16, 7/14/16, 6/11/16, 4/30/16, 3/3/16, 5/24/16, 2/20/16, 4/20/16, 4/28/16, 6/22/16, 6/22/16, 7/23/16, 8/3/16.  Item #: 1/13/17, 2/15/16.    EILLIEN'S SUNFLOWER KERNEL TRAY   13 OZ (369 g), UPC 034952572711, Item # 204339.  6/29/16, 7/18/16, 8/10/16, 8/23/16, 9/9/16, 9/30/16, 9/30/16,10/19/16,11/9/16,  11/10/16,4/16/16,1/29/16,3/11/16,1/15/16,1/1/16,11/21/15, 6/16/16, 1/20/16,12/9/15,   6/9/16, 11/8/15, 5/17/16, 5/17/16, 4/8/16.    EILLIEN'S SUNFLOWER KERNELS        4 OZ (113 g), UPC\t034952006094, Item # 200188.  10/20/16, 10/26/16, 12/3/16, 12/31/16, 1/27/17, 2/9/17, 2/16/17, 7/16/16, 2/5/16,  5/11/16, 2/7/16, 3/4/16, 3/17/16, 3/23/16, 4/2/16, 4/14/16, 5/19/16, 5/28/16, 6/11/16,  6/24/16, 7/6/16, 7/9/16, 9/4/16.    HOLIDAY SNACKTIME SUNFLOWER KERNEL   12 OZ (340 g), UPC 041282995349.  11/17/16, 11/18/16, 12/10/16, 12/28/16, 12/30/16, 12/31/16, 12/31/16, 1/25/17,  2/22/16, 2/28/16, 3/17/16, 4/15/16, 2/12/16, 9/14/16, 3/26/16, 3/3/16, 5/24/16,   2/20/16, 7/12/16, 2/8/16.    MILL'S FLEET FARM SUNFLOWER KERNELS    16 OZ , 1 lb(454 g), UPC 034952363821, Item # 600346.  10/11/16, 10/11/16, 12/1/16, 12/8/16, 12/15/16, 12/15/16, 12/30/16, 1/6/17, 2/16/17,  5/18/16, 9/1/16, 8/9/16, 8/9/16, 4/2/16, 2/15/16, 3/5/16, 3/26/16, 2/20/16, 5/5/16,  5/7/16, 6/8/16, 6/29/16, 7/19/16.    MILL'S FLEET FARM SUNFLOWER KERNELS 6.75OZ (191 g), UPC 034952365511, Item # 609563.  11/17/16, 1/20/17, 2/16/17, 4/1/16, 4/30/16, 6/17/16, 8/13/16.    URGE SUNFLOWER KERNELS   5 OZ (142 g), UPC 039779010484, Item # 618124.  10/11/16, 10/18/16, 12/2/16, 1/12/17, 2/22/16, 2/22/16, 7/16/16, 3/17/16, 6/17/16,  5/1/16, 6/3/16, 7/7/16, 2/29/16, 7/29/16, 6/8/16, 8/20/16, 2/8/16, 2/6/16, 5/3/16,  7/22/16, 8/25/16.    Item #117739, 760 CT 12 OZ SUNFLOWER KERNEL, UPC 34952136166.  1/20/17, 1/25/17, 1/27/17, 2/4/17.      \n",
      "**********\n"
     ]
    }
   ],
   "source": [
    "# You should look at all the clusters, but let's look at cluster \"15\" (I chose this arbitrarily; you should look at all of them)\n",
    "\n",
    "for i in range(0,len(km.labels_)):\n",
    "    if km.labels_[i] == 1:\n",
    "        print(raw_data['product_description'][i])\n",
    "        print('**********')"
   ]
  },
  {
   "cell_type": "code",
   "execution_count": null,
   "metadata": {},
   "outputs": [],
   "source": []
  },
  {
   "cell_type": "code",
   "execution_count": null,
   "metadata": {},
   "outputs": [],
   "source": []
  },
  {
   "cell_type": "code",
   "execution_count": null,
   "metadata": {},
   "outputs": [],
   "source": []
  }
 ],
 "metadata": {
  "kernelspec": {
   "display_name": "Python 3 (ipykernel)",
   "language": "python",
   "name": "python3"
  },
  "language_info": {
   "codemirror_mode": {
    "name": "ipython",
    "version": 3
   },
   "file_extension": ".py",
   "mimetype": "text/x-python",
   "name": "python",
   "nbconvert_exporter": "python",
   "pygments_lexer": "ipython3",
   "version": "3.9.13"
  }
 },
 "nbformat": 4,
 "nbformat_minor": 2
}
