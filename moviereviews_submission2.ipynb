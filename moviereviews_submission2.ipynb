{
 "cells": [
  {
   "cell_type": "markdown",
   "metadata": {},
   "source": [
    "# Movie reviews\n",
    "\n",
    "This notebook takes you though a complete iteration of Machine Learning Assignment 1 - Movie reviews. The assignment details (including links to download the data) can be found [here](https://docs.google.com/document/d/1WGYw99e5q6j5V0Zrf2HveagU6URt_kVvdR8B9HYQ99E/edit?usp=sharing). "
   ]
  },
  {
   "cell_type": "code",
   "execution_count": 2,
   "metadata": {},
   "outputs": [],
   "source": [
    "# all imports and magic commands\n",
    "import numpy as np\n",
    "import pandas as pd\n",
    "import matplotlib.pyplot as plt\n",
    "from my_measures import BinaryClassificationPerformance\n",
    "from sklearn.feature_extraction.text import HashingVectorizer\n",
    "from sklearn.feature_extraction.text import TfidfTransformer\n",
    "from scipy.sparse import csr_matrix, hstack\n",
    "from sklearn.preprocessing import StandardScaler\n",
    "from sklearn.model_selection import train_test_split\n",
    "%matplotlib inline"
   ]
  },
  {
   "cell_type": "markdown",
   "metadata": {},
   "source": [
    "### IMPORTANT!!! Make sure you are using `BinaryClassificationPerformance` v1.02"
   ]
  },
  {
   "cell_type": "code",
   "execution_count": 3,
   "metadata": {},
   "outputs": [
    {
     "name": "stdout",
     "output_type": "stream",
     "text": [
      "Help on class BinaryClassificationPerformance in module my_measures:\n",
      "\n",
      "class BinaryClassificationPerformance(builtins.object)\n",
      " |  BinaryClassificationPerformance(predictions, labels, desc, probabilities=None)\n",
      " |  \n",
      " |  Performance measures to evaluate the fit of a binary classification model, v1.02\n",
      " |  \n",
      " |  Methods defined here:\n",
      " |  \n",
      " |  __init__(self, predictions, labels, desc, probabilities=None)\n",
      " |      Initialize attributes: predictions-vector of predicted values for Y, labels-vector of labels for Y\n",
      " |  \n",
      " |  compute_measures(self)\n",
      " |      Compute performance measures defined by Flach p. 57\n",
      " |  \n",
      " |  img_indices(self)\n",
      " |      Get the indices of true and false positives to be able to locate the corresponding images in a list of image names\n",
      " |  \n",
      " |  ----------------------------------------------------------------------\n",
      " |  Data descriptors defined here:\n",
      " |  \n",
      " |  __dict__\n",
      " |      dictionary for instance variables (if defined)\n",
      " |  \n",
      " |  __weakref__\n",
      " |      list of weak references to the object (if defined)\n",
      "\n"
     ]
    }
   ],
   "source": [
    "help(BinaryClassificationPerformance)"
   ]
  },
  {
   "cell_type": "markdown",
   "metadata": {},
   "source": [
    "# Function for feature building and extraction on natural language data"
   ]
  },
  {
   "cell_type": "code",
   "execution_count": 4,
   "metadata": {},
   "outputs": [],
   "source": [
    "# function that takes raw data and completes all preprocessing required before model fits\n",
    "def process_raw_data(fn, my_random_seed, test=False):\n",
    "    # read and summarize data\n",
    "    movie_data = pd.read_csv(fn, sep='\\t')\n",
    "    print(\"movie_data is:\", type(movie_data))\n",
    "    print(\"movie_data has\", movie_data.shape[0], \"rows and\", movie_data.shape[1], \"columns\", \"\\n\")\n",
    "    print(\"the data types for each of the columns in movie_data:\")\n",
    "    print(movie_data.dtypes, \"\\n\")\n",
    "    print(\"the first 10 rows in movie_data:\")\n",
    "    print(movie_data.head(5))\n",
    "    if (not test):\n",
    "        print(\"The rate of 'good' movie reviews in the dataset: \")\n",
    "        print(movie_data['sentiment'].mean())\n",
    "\n",
    "    # vectorize Bag of Words from review text; as sparse matrix\n",
    "    if (not test): # fit_transform()\n",
    "        hv = HashingVectorizer(n_features=2 ** 17, alternate_sign=False)\n",
    "        X_hv = hv.fit_transform(movie_data.review)\n",
    "        fitted_transformations.append(hv)\n",
    "        print(\"Shape of HashingVectorizer X:\")\n",
    "        print(X_hv.shape)\n",
    "    else: # transform() \n",
    "        X_hv = fitted_transformations[0].transform(movie_data.review)\n",
    "        print(\"Shape of HashingVectorizer X:\")\n",
    "        print(X_hv.shape)\n",
    "    \n",
    "    # http://scikit-learn.org/stable/modules/generated/sklearn.feature_extraction.text.TfidfTransformer.html\n",
    "    if (not test):\n",
    "        transformer = TfidfTransformer()\n",
    "        X_tfidf = transformer.fit_transform(X_hv)\n",
    "        fitted_transformations.append(transformer)\n",
    "    else:\n",
    "        X_tfidf = fitted_transformations[1].transform(X_hv)\n",
    "    \n",
    "    # create additional quantitative features\n",
    "    # features from Amazon.csv to add to feature set\n",
    "    movie_data['word_count'] = movie_data['review'].str.split(' ').str.len()\n",
    "    movie_data['punc_count'] = movie_data['review'].str.count(\"\\.\")\n",
    "    \n",
    "    # additional features added by me (?, All caps)\n",
    "    movie_data['quest_count'] = movie_data['review'].str.count(\"\\?\")\n",
    "    movie_data['all_caps'] = movie_data['review'].str.isupper().astype(int)\n",
    "\n",
    "    X_quant_features = movie_data[[\"word_count\", \"punc_count\", \"quest_count\", \"all_caps\"]]\n",
    "    print(\"Look at a few rows of the new quantitative features: \")\n",
    "    print(X_quant_features.head(10))\n",
    "    \n",
    "    # Combine all quantitative features into a single sparse matrix\n",
    "    X_quant_features_csr = csr_matrix(X_quant_features)\n",
    "    X_combined = hstack([X_tfidf, X_quant_features_csr])\n",
    "    X_matrix = csr_matrix(X_combined) # convert to sparse matrix\n",
    "    print(\"Size of combined bag of words and new quantitative variables matrix:\")\n",
    "    print(X_matrix.shape)\n",
    "    \n",
    "    # Create `X`, scaled matrix of features\n",
    "    # feature scaling\n",
    "    if (not test):\n",
    "        sc = StandardScaler(with_mean=False)\n",
    "        X = sc.fit_transform(X_matrix)\n",
    "        fitted_transformations.append(sc)\n",
    "        print(X.shape)\n",
    "        y = movie_data['sentiment']\n",
    "    else:\n",
    "        X = fitted_transformations[2].transform(X_matrix)\n",
    "        print(X.shape)\n",
    "    \n",
    "    # Create Training and Test Sets\n",
    "    # enter an integer for the random_state parameter; any integer will work\n",
    "    if (test):\n",
    "        X_submission_test = X\n",
    "        print(\"Shape of X_test for submission:\")\n",
    "        print(X_submission_test.shape)\n",
    "        print('SUCCESS!')\n",
    "        return(movie_data, X_submission_test)\n",
    "    else: \n",
    "        X_train, X_test, y_train, y_test, X_raw_train, X_raw_test = train_test_split(X, y, movie_data, test_size=0.2, random_state=my_random_seed)\n",
    "        print(\"Shape of X_train and X_test:\")\n",
    "        print(X_train.shape)\n",
    "        print(X_test.shape)\n",
    "        print(\"Shape of y_train and y_test:\")\n",
    "        print(y_train.shape)\n",
    "        print(y_test.shape)\n",
    "        print(\"Shape of X_raw_train and X_raw_test:\")\n",
    "        print(X_raw_train.shape)\n",
    "        print(X_raw_test.shape)\n",
    "        print('SUCCESS!')\n",
    "        return(X_train, X_test, y_train, y_test, X_raw_train, X_raw_test)"
   ]
  },
  {
   "cell_type": "markdown",
   "metadata": {},
   "source": [
    "# Create training and test sets from function"
   ]
  },
  {
   "cell_type": "code",
   "execution_count": 5,
   "metadata": {},
   "outputs": [
    {
     "name": "stdout",
     "output_type": "stream",
     "text": [
      "movie_data is: <class 'pandas.core.frame.DataFrame'>\n",
      "movie_data has 25000 rows and 3 columns \n",
      "\n",
      "the data types for each of the columns in movie_data:\n",
      "id           object\n",
      "sentiment     int64\n",
      "review       object\n",
      "dtype: object \n",
      "\n",
      "the first 10 rows in movie_data:\n",
      "       id  sentiment                                             review\n",
      "0  5814_8          1  With all this stuff going down at the moment w...\n",
      "1  2381_9          1  \\The Classic War of the Worlds\\\" by Timothy Hi...\n",
      "2  7759_3          0  The film starts with a manager (Nicholas Bell)...\n",
      "3  3630_4          0  It must be assumed that those who praised this...\n",
      "4  9495_8          1  Superbly trashy and wondrously unpretentious 8...\n",
      "The rate of 'good' movie reviews in the dataset: \n",
      "0.5\n",
      "Shape of HashingVectorizer X:\n",
      "(25000, 131072)\n",
      "Look at a few rows of the new quantitative features: \n",
      "   word_count  punc_count  quest_count  all_caps\n",
      "0         433          20            2         0\n",
      "1         158          16            0         0\n",
      "2         378          20            0         0\n",
      "3         379           8            1         0\n",
      "4         367           9            1         0\n",
      "5          89           5            0         0\n",
      "6         112           9            0         0\n",
      "7         132           9            0         0\n",
      "8         163           7            0         0\n",
      "9          43           5            0         0\n",
      "Size of combined bag of words and new quantitative variables matrix:\n",
      "(25000, 131076)\n",
      "(25000, 131076)\n",
      "Shape of X_train and X_test:\n",
      "(20000, 131076)\n",
      "(5000, 131076)\n",
      "Shape of y_train and y_test:\n",
      "(20000,)\n",
      "(5000,)\n",
      "Shape of X_raw_train and X_raw_test:\n",
      "(20000, 7)\n",
      "(5000, 7)\n",
      "SUCCESS!\n",
      "Number of fits stored in `fitted_transformations` list: \n",
      "3\n"
     ]
    }
   ],
   "source": [
    "# create an empty list to store any use of fit_transform() to transform() later\n",
    "# it is a global list to store model and feature extraction fits\n",
    "fitted_transformations = []\n",
    "\n",
    "# CHANGE FILE PATH and my_random_seed number (any integer other than 74 will do): \n",
    "X_train, X_test, y_train, y_test, X_raw_train, X_raw_test = process_raw_data(fn='/Users/johanna/Documents/Parsons/ML/ml-master/moviereviews_train.tsv', my_random_seed=19)\n",
    "\n",
    "print(\"Number of fits stored in `fitted_transformations` list: \")\n",
    "print(len(fitted_transformations))"
   ]
  },
  {
   "cell_type": "markdown",
   "metadata": {},
   "source": [
    "# Fit (and tune) Various Models"
   ]
  },
  {
   "cell_type": "markdown",
   "metadata": {},
   "source": [
    "### MODEL: ordinary least squares"
   ]
  },
  {
   "cell_type": "code",
   "execution_count": 86,
   "metadata": {},
   "outputs": [
    {
     "name": "stdout",
     "output_type": "stream",
     "text": [
      "{'Pos': 9964, 'Neg': 10036, 'TP': 9964, 'TN': 10036, 'FP': 0, 'FN': 0, 'Accuracy': 1.0, 'Precision': 1.0, 'Recall': 1.0, 'desc': 'ols_train'}\n"
     ]
    }
   ],
   "source": [
    "from sklearn import linear_model\n",
    "ols = linear_model.SGDClassifier()\n",
    "ols.fit(X_train, y_train)\n",
    "\n",
    "ols_performance_train = BinaryClassificationPerformance(ols.predict(X_train), y_train, 'ols_train')\n",
    "ols_performance_train.compute_measures()\n",
    "print(ols_performance_train.performance_measures)"
   ]
  },
  {
   "cell_type": "markdown",
   "metadata": {},
   "source": [
    "### MODEL: SVM, linear"
   ]
  },
  {
   "cell_type": "markdown",
   "metadata": {},
   "source": [
    "Discussion Assignment 3 showed that the accuracy of the test set could be improved by changing the SGD Classifier's alpha value. My initial experiments showed that 1 is close to an ideal value for this alpha. After testing the outcomes of several values between 1 and 10, I settled with 4.1 as the best option. "
   ]
  },
  {
   "cell_type": "code",
   "execution_count": 44,
   "metadata": {},
   "outputs": [
    {
     "name": "stdout",
     "output_type": "stream",
     "text": [
      "{'Pos': 9964, 'Neg': 10036, 'TP': 9750, 'TN': 9900, 'FP': 136, 'FN': 214, 'Accuracy': 0.9825, 'Precision': 0.9862431721626542, 'Recall': 0.9785226816539543, 'desc': 'svm_train'}\n",
      "{'Pos': 2536, 'Neg': 2464, 'TP': 2238, 'TN': 2178, 'FP': 286, 'FN': 298, 'Accuracy': 0.8832, 'Precision': 0.8866877971473851, 'Recall': 0.8824921135646687, 'desc': 'svm_test'}\n"
     ]
    }
   ],
   "source": [
    "from sklearn import linear_model\n",
    "#svm = linear_model.SGDClassifier(alpha=1)\n",
    "#svm = linear_model.SGDClassifier(alpha=5)\n",
    "#svm = linear_model.SGDClassifier(alpha=3)\n",
    "#svm = linear_model.SGDClassifier(alpha=4)\n",
    "svm = linear_model.SGDClassifier(alpha=4.02)\n",
    "svm.fit(X_train, y_train)\n",
    "\n",
    "svm_performance_train = BinaryClassificationPerformance(svm.predict(X_train), y_train, 'svm_train')\n",
    "svm_performance_train.compute_measures()\n",
    "print(svm_performance_train.performance_measures)\n",
    "\n",
    "svm_performance_test = BinaryClassificationPerformance(svm.predict(X_test), y_test, 'svm_test')\n",
    "svm_performance_test.compute_measures()\n",
    "print(svm_performance_test.performance_measures)"
   ]
  },
  {
   "cell_type": "markdown",
   "metadata": {},
   "source": [
    "I did some research to find the most valuable parameters of the SDG Classifier and picked alpha, learning_rate"
   ]
  },
  {
   "cell_type": "markdown",
   "metadata": {},
   "source": [
    "To make it easier to see and compare the impact of several parameters on my model, I created for loops"
   ]
  },
  {
   "cell_type": "code",
   "execution_count": 45,
   "metadata": {},
   "outputs": [
    {
     "name": "stdout",
     "output_type": "stream",
     "text": [
      "\n",
      "Res for alpha=4.02, lr=optimal, eta0=0.1:  {'Pos': 9964, 'Neg': 10036, 'TP': 9752, 'TN': 9903, 'FP': 133, 'FN': 212, 'Accuracy': 0.98275, 'Precision': 0.9865452706120384, 'Recall': 0.9787234042553191, 'desc': 'svm_train'}\n",
      "Test set : Res for alpha=4.02, lr=optimal, eta0=0.1:  {'Pos': 2536, 'Neg': 2464, 'TP': 2235, 'TN': 2181, 'FP': 283, 'FN': 301, 'Accuracy': 0.8832, 'Precision': 0.8876092136616363, 'Recall': 0.8813091482649842, 'desc': 'svm_test'}\n",
      "\n",
      "\n",
      "Res for alpha=4.02, lr=optimal, eta0=10:  {'Pos': 9964, 'Neg': 10036, 'TP': 9750, 'TN': 9907, 'FP': 129, 'FN': 214, 'Accuracy': 0.98285, 'Precision': 0.9869419981779533, 'Recall': 0.9785226816539543, 'desc': 'svm_train'}\n",
      "Test set : Res for alpha=4.02, lr=optimal, eta0=10:  {'Pos': 2536, 'Neg': 2464, 'TP': 2231, 'TN': 2178, 'FP': 286, 'FN': 305, 'Accuracy': 0.8818, 'Precision': 0.88637266587207, 'Recall': 0.8797318611987381, 'desc': 'svm_test'}\n",
      "\n",
      "\n",
      "Res for alpha=4.02, lr=optimal, eta0=100:  {'Pos': 9964, 'Neg': 10036, 'TP': 9752, 'TN': 9901, 'FP': 135, 'FN': 212, 'Accuracy': 0.98265, 'Precision': 0.9863457064832608, 'Recall': 0.9787234042553191, 'desc': 'svm_train'}\n",
      "Test set : Res for alpha=4.02, lr=optimal, eta0=100:  {'Pos': 2536, 'Neg': 2464, 'TP': 2238, 'TN': 2179, 'FP': 285, 'FN': 298, 'Accuracy': 0.8834, 'Precision': 0.8870392390011891, 'Recall': 0.8824921135646687, 'desc': 'svm_test'}\n",
      "\n",
      "\n",
      "Res for alpha=4.02, lr=constant, eta0=0.1:  {'Pos': 9964, 'Neg': 10036, 'TP': 9755, 'TN': 9901, 'FP': 135, 'FN': 209, 'Accuracy': 0.9828, 'Precision': 0.9863498483316482, 'Recall': 0.9790244881573665, 'desc': 'svm_train'}\n",
      "Test set : Res for alpha=4.02, lr=constant, eta0=0.1:  {'Pos': 2536, 'Neg': 2464, 'TP': 2239, 'TN': 2175, 'FP': 289, 'FN': 297, 'Accuracy': 0.8828, 'Precision': 0.8856803797468354, 'Recall': 0.8828864353312302, 'desc': 'svm_test'}\n",
      "\n",
      "\n",
      "Res for alpha=4.02, lr=constant, eta0=10:  {'Pos': 9964, 'Neg': 10036, 'TP': 9748, 'TN': 9903, 'FP': 133, 'FN': 216, 'Accuracy': 0.98255, 'Precision': 0.9865398239044632, 'Recall': 0.9783219590525893, 'desc': 'svm_train'}\n",
      "Test set : Res for alpha=4.02, lr=constant, eta0=10:  {'Pos': 2536, 'Neg': 2464, 'TP': 2231, 'TN': 2184, 'FP': 280, 'FN': 305, 'Accuracy': 0.883, 'Precision': 0.8884906411788133, 'Recall': 0.8797318611987381, 'desc': 'svm_test'}\n",
      "\n",
      "\n",
      "Res for alpha=4.02, lr=constant, eta0=100:  {'Pos': 9964, 'Neg': 10036, 'TP': 9751, 'TN': 9903, 'FP': 133, 'FN': 213, 'Accuracy': 0.9827, 'Precision': 0.9865439093484419, 'Recall': 0.9786230429546366, 'desc': 'svm_train'}\n",
      "Test set : Res for alpha=4.02, lr=constant, eta0=100:  {'Pos': 2536, 'Neg': 2464, 'TP': 2236, 'TN': 2179, 'FP': 285, 'FN': 300, 'Accuracy': 0.883, 'Precision': 0.8869496231654106, 'Recall': 0.8817034700315457, 'desc': 'svm_test'}\n",
      "\n",
      "\n",
      "Res for alpha=4.02, lr=invscaling, eta0=0.1:  {'Pos': 9964, 'Neg': 10036, 'TP': 9749, 'TN': 9904, 'FP': 132, 'FN': 215, 'Accuracy': 0.98265, 'Precision': 0.9866410282360085, 'Recall': 0.9784223203532718, 'desc': 'svm_train'}\n",
      "Test set : Res for alpha=4.02, lr=invscaling, eta0=0.1:  {'Pos': 2536, 'Neg': 2464, 'TP': 2236, 'TN': 2186, 'FP': 278, 'FN': 300, 'Accuracy': 0.8844, 'Precision': 0.8894192521877486, 'Recall': 0.8817034700315457, 'desc': 'svm_test'}\n",
      "\n",
      "\n",
      "Res for alpha=4.02, lr=invscaling, eta0=10:  {'Pos': 9964, 'Neg': 10036, 'TP': 9753, 'TN': 9900, 'FP': 136, 'FN': 211, 'Accuracy': 0.98265, 'Precision': 0.9862473455354435, 'Recall': 0.9788237655560016, 'desc': 'svm_train'}\n",
      "Test set : Res for alpha=4.02, lr=invscaling, eta0=10:  {'Pos': 2536, 'Neg': 2464, 'TP': 2240, 'TN': 2176, 'FP': 288, 'FN': 296, 'Accuracy': 0.8832, 'Precision': 0.8860759493670886, 'Recall': 0.8832807570977917, 'desc': 'svm_test'}\n",
      "\n",
      "\n",
      "Res for alpha=4.02, lr=invscaling, eta0=100:  {'Pos': 9964, 'Neg': 10036, 'TP': 9754, 'TN': 9902, 'FP': 134, 'FN': 210, 'Accuracy': 0.9828, 'Precision': 0.9864482200647249, 'Recall': 0.9789241268566841, 'desc': 'svm_train'}\n",
      "Test set : Res for alpha=4.02, lr=invscaling, eta0=100:  {'Pos': 2536, 'Neg': 2464, 'TP': 2236, 'TN': 2182, 'FP': 282, 'FN': 300, 'Accuracy': 0.8836, 'Precision': 0.8880063542494043, 'Recall': 0.8817034700315457, 'desc': 'svm_test'}\n",
      "\n",
      "\n",
      "Res for alpha=4.02, lr=adaptive, eta0=0.1:  {'Pos': 9964, 'Neg': 10036, 'TP': 9759, 'TN': 9899, 'FP': 137, 'FN': 205, 'Accuracy': 0.9829, 'Precision': 0.9861560226354082, 'Recall': 0.9794259333600963, 'desc': 'svm_train'}\n",
      "Test set : Res for alpha=4.02, lr=adaptive, eta0=0.1:  {'Pos': 2536, 'Neg': 2464, 'TP': 2241, 'TN': 2174, 'FP': 290, 'FN': 295, 'Accuracy': 0.883, 'Precision': 0.8854207822994864, 'Recall': 0.8836750788643533, 'desc': 'svm_test'}\n",
      "\n",
      "\n",
      "Res for alpha=4.02, lr=adaptive, eta0=10:  {'Pos': 9964, 'Neg': 10036, 'TP': 9756, 'TN': 9899, 'FP': 137, 'FN': 208, 'Accuracy': 0.98275, 'Precision': 0.9861518245223896, 'Recall': 0.979124849458049, 'desc': 'svm_train'}\n",
      "Test set : Res for alpha=4.02, lr=adaptive, eta0=10:  {'Pos': 2536, 'Neg': 2464, 'TP': 2240, 'TN': 2175, 'FP': 289, 'FN': 296, 'Accuracy': 0.883, 'Precision': 0.88572558323448, 'Recall': 0.8832807570977917, 'desc': 'svm_test'}\n",
      "\n",
      "\n",
      "Res for alpha=4.02, lr=adaptive, eta0=100:  {'Pos': 9964, 'Neg': 10036, 'TP': 9752, 'TN': 9901, 'FP': 135, 'FN': 212, 'Accuracy': 0.98265, 'Precision': 0.9863457064832608, 'Recall': 0.9787234042553191, 'desc': 'svm_train'}\n",
      "Test set : Res for alpha=4.02, lr=adaptive, eta0=100:  {'Pos': 2536, 'Neg': 2464, 'TP': 2240, 'TN': 2176, 'FP': 288, 'FN': 296, 'Accuracy': 0.8832, 'Precision': 0.8860759493670886, 'Recall': 0.8832807570977917, 'desc': 'svm_test'}\n",
      "\n"
     ]
    }
   ],
   "source": [
    "#Testing the learning rate parameter\n",
    "\n",
    "from sklearn import linear_model\n",
    "alphas = [4.02]\n",
    "learning_rate = ['optimal','constant','invscaling','adaptive']\n",
    "eta0s = [0.1,10,100]\n",
    "#losses = ['hinge','modified_huber','squared_hinge']\n",
    "\n",
    "\n",
    "for alpha in alphas:\n",
    "    for lr in learning_rate:\n",
    "    #for loss in losses:\n",
    "        for eta0 in eta0s:\n",
    "        \n",
    "            svm = linear_model.SGDClassifier(alpha=alpha, eta0=eta0, max_iter=5000)\n",
    "            svm.fit(X_train, y_train)\n",
    "\n",
    "            svm_performance_train = BinaryClassificationPerformance(svm.predict(X_train), y_train, 'svm_train')\n",
    "            svm_performance_train.compute_measures()\n",
    "            print()\n",
    "            print(f'Res for alpha={alpha}, lr={lr}, eta0={eta0}: ', svm_performance_train.performance_measures)\n",
    "            #print(f'Res for alpha={alpha}, loss={loss}: ', svm_performance_train.performance_measures)\n",
    "\n",
    "            svm_performance_test = BinaryClassificationPerformance(svm.predict(X_test), y_test, 'svm_test')\n",
    "            svm_performance_test.compute_measures()\n",
    "            print(f'Test set : Res for alpha={alpha}, lr={lr}, eta0={eta0}: ',svm_performance_test.performance_measures)\n",
    "            #print(f'Test set : Res for alpha={alpha}, loss={loss}: ',svm_performance_test.performance_measures)\n",
    "            print()"
   ]
  },
  {
   "cell_type": "code",
   "execution_count": 46,
   "metadata": {},
   "outputs": [
    {
     "name": "stdout",
     "output_type": "stream",
     "text": [
      "\n",
      "Res for alpha=4.02, loss=hinge:  {'Pos': 9964, 'Neg': 10036, 'TP': 9760, 'TN': 9900, 'FP': 136, 'FN': 204, 'Accuracy': 0.983, 'Precision': 0.9862570735650767, 'Recall': 0.9795262946607788, 'desc': 'svm_train'}\n",
      "Test set : Res for alpha=4.02, loss=hinge:  {'Pos': 2536, 'Neg': 2464, 'TP': 2241, 'TN': 2173, 'FP': 291, 'FN': 295, 'Accuracy': 0.8828, 'Precision': 0.8850710900473934, 'Recall': 0.8836750788643533, 'desc': 'svm_test'}\n",
      "\n",
      "\n",
      "Res for alpha=4.02, loss=modified_huber:  {'Pos': 9964, 'Neg': 10036, 'TP': 9919, 'TN': 10005, 'FP': 31, 'FN': 45, 'Accuracy': 0.9962, 'Precision': 0.9968844221105527, 'Recall': 0.9954837414692894, 'desc': 'svm_train'}\n",
      "Test set : Res for alpha=4.02, loss=modified_huber:  {'Pos': 2536, 'Neg': 2464, 'TP': 2266, 'TN': 2153, 'FP': 311, 'FN': 270, 'Accuracy': 0.8838, 'Precision': 0.8793170353123787, 'Recall': 0.8935331230283912, 'desc': 'svm_test'}\n",
      "\n",
      "\n",
      "Res for alpha=4.02, loss=squared_hinge:  {'Pos': 9964, 'Neg': 10036, 'TP': 9945, 'TN': 8392, 'FP': 1644, 'FN': 19, 'Accuracy': 0.91685, 'Precision': 0.8581413409267409, 'Recall': 0.9980931352870334, 'desc': 'svm_train'}\n",
      "Test set : Res for alpha=4.02, loss=squared_hinge:  {'Pos': 2536, 'Neg': 2464, 'TP': 2157, 'TN': 1702, 'FP': 762, 'FN': 379, 'Accuracy': 0.7718, 'Precision': 0.7389516957862282, 'Recall': 0.8505520504731862, 'desc': 'svm_test'}\n",
      "\n",
      "\n",
      "Res for alpha=4.02, loss=perceptron:  {'Pos': 9964, 'Neg': 10036, 'TP': 9956, 'TN': 10034, 'FP': 2, 'FN': 8, 'Accuracy': 0.9995, 'Precision': 0.9997991564571199, 'Recall': 0.9991971095945403, 'desc': 'svm_train'}\n",
      "Test set : Res for alpha=4.02, loss=perceptron:  {'Pos': 2536, 'Neg': 2464, 'TP': 2090, 'TN': 2079, 'FP': 385, 'FN': 446, 'Accuracy': 0.8338, 'Precision': 0.8444444444444444, 'Recall': 0.8241324921135647, 'desc': 'svm_test'}\n",
      "\n"
     ]
    },
    {
     "name": "stderr",
     "output_type": "stream",
     "text": [
      "/Users/johanna/opt/anaconda3/lib/python3.9/site-packages/sklearn/linear_model/_stochastic_gradient.py:696: ConvergenceWarning: Maximum number of iteration reached before convergence. Consider increasing max_iter to improve the fit.\n",
      "  warnings.warn(\n"
     ]
    },
    {
     "name": "stdout",
     "output_type": "stream",
     "text": [
      "\n",
      "Res for alpha=4.02, loss=squared_error:  {'Pos': 9964, 'Neg': 10036, 'TP': 3281, 'TN': 6628, 'FP': 3408, 'FN': 6683, 'Accuracy': 0.49545, 'Precision': 0.49050680221258786, 'Recall': 0.3292854275391409, 'desc': 'svm_train'}\n",
      "Test set : Res for alpha=4.02, loss=squared_error:  {'Pos': 2536, 'Neg': 2464, 'TP': 865, 'TN': 1633, 'FP': 831, 'FN': 1671, 'Accuracy': 0.4996, 'Precision': 0.5100235849056604, 'Recall': 0.34108832807570977, 'desc': 'svm_test'}\n",
      "\n",
      "\n",
      "Res for alpha=4.02, loss=huber:  {'Pos': 9964, 'Neg': 10036, 'TP': 8350, 'TN': 9867, 'FP': 169, 'FN': 1614, 'Accuracy': 0.91085, 'Precision': 0.9801619908439958, 'Recall': 0.8380168606985147, 'desc': 'svm_train'}\n",
      "Test set : Res for alpha=4.02, loss=huber:  {'Pos': 2536, 'Neg': 2464, 'TP': 1819, 'TN': 2309, 'FP': 155, 'FN': 717, 'Accuracy': 0.8256, 'Precision': 0.9214792299898683, 'Recall': 0.7172712933753943, 'desc': 'svm_test'}\n",
      "\n",
      "\n",
      "Res for alpha=4.02, loss=epsilon_insensitive:  {'Pos': 9964, 'Neg': 10036, 'TP': 9782, 'TN': 9914, 'FP': 122, 'FN': 182, 'Accuracy': 0.9848, 'Precision': 0.9876817447495961, 'Recall': 0.9817342432757928, 'desc': 'svm_train'}\n",
      "Test set : Res for alpha=4.02, loss=epsilon_insensitive:  {'Pos': 2536, 'Neg': 2464, 'TP': 2240, 'TN': 2160, 'FP': 304, 'FN': 296, 'Accuracy': 0.88, 'Precision': 0.8805031446540881, 'Recall': 0.8832807570977917, 'desc': 'svm_test'}\n",
      "\n",
      "\n",
      "Res for alpha=4.02, loss=squared_epsilon_insensitive:  {'Pos': 9964, 'Neg': 10036, 'TP': 3461, 'TN': 6452, 'FP': 3584, 'FN': 6503, 'Accuracy': 0.49565, 'Precision': 0.49127040454222853, 'Recall': 0.34735046166198313, 'desc': 'svm_train'}\n",
      "Test set : Res for alpha=4.02, loss=squared_epsilon_insensitive:  {'Pos': 2536, 'Neg': 2464, 'TP': 899, 'TN': 1572, 'FP': 892, 'FN': 1637, 'Accuracy': 0.4942, 'Precision': 0.5019542155220548, 'Recall': 0.3544952681388013, 'desc': 'svm_test'}\n",
      "\n"
     ]
    }
   ],
   "source": [
    "#Testing the loss parameter\n",
    "\n",
    "from sklearn import linear_model\n",
    "alphas = [4.02]\n",
    "#learning_rate = ['constant','invscaling','adaptive']\n",
    "#eta0s = [0.1,0.2,0.3]\n",
    "losses = ['hinge','modified_huber','squared_hinge','perceptron', 'squared_error', 'huber', 'epsilon_insensitive', 'squared_epsilon_insensitive']\n",
    "\n",
    "\n",
    "for alpha in alphas:\n",
    "    #for lr in learning_rate:\n",
    "    for loss in losses:\n",
    "        #for eta0 in eta0s:\n",
    "        \n",
    "            svm = linear_model.SGDClassifier(alpha=alpha, loss=loss, max_iter=5000)\n",
    "            svm.fit(X_train, y_train)\n",
    "\n",
    "            svm_performance_train = BinaryClassificationPerformance(svm.predict(X_train), y_train, 'svm_train')\n",
    "            svm_performance_train.compute_measures()\n",
    "            print()\n",
    "            #print(f'Res for alpha={alpha}, lr={lr}, eta0={eta0}: ', svm_performance_train.performance_measures)\n",
    "            print(f'Res for alpha={alpha}, loss={loss}: ', svm_performance_train.performance_measures)\n",
    "\n",
    "            svm_performance_test = BinaryClassificationPerformance(svm.predict(X_test), y_test, 'svm_test')\n",
    "            svm_performance_test.compute_measures()\n",
    "            #print(f'Test set : Res for alpha={alpha}, lr={lr}, eta0={eta0}: ',svm_performance_test.performance_measures)\n",
    "            print(f'Test set : Res for alpha={alpha}, loss={loss}: ',svm_performance_test.performance_measures)\n",
    "            print()"
   ]
  },
  {
   "cell_type": "markdown",
   "metadata": {},
   "source": [
    "Most Interesting Result: \n",
    "\n",
    "Res for alpha=4.02, loss=squared_hinge:  {'Pos': 9964, 'Neg': 10036, 'TP': 9931, 'TN': 8348, 'FP': 1688, 'FN': 33, 'Accuracy': 0.91395, 'Precision': 0.8547207160685085, 'Recall': 0.996688077077479, 'desc': 'svm_train'}\n",
    "Test set : Res for alpha=4.02, loss=squared_hinge:  {'Pos': 2536, 'Neg': 2464, 'TP': 2155, 'TN': 1727, 'FP': 737, 'FN': 381, 'Accuracy': 0.7764, 'Precision': 0.7451590594744122, 'Recall': 0.8497634069400631, 'desc': 'svm_test'}"
   ]
  },
  {
   "cell_type": "markdown",
   "metadata": {},
   "source": [
    "### Submission MODEL: SVM, linear"
   ]
  },
  {
   "cell_type": "code",
   "execution_count": 6,
   "metadata": {},
   "outputs": [
    {
     "name": "stdout",
     "output_type": "stream",
     "text": [
      "{'Pos': 9964, 'Neg': 10036, 'TP': 9914, 'TN': 10006, 'FP': 30, 'FN': 50, 'Accuracy': 0.996, 'Precision': 0.9969831053901851, 'Recall': 0.9949819349658772, 'desc': 'svm_train'}\n",
      "{'Pos': 2536, 'Neg': 2464, 'TP': 2245, 'TN': 2169, 'FP': 295, 'FN': 291, 'Accuracy': 0.8828, 'Precision': 0.8838582677165354, 'Recall': 0.8852523659305994, 'desc': 'svm_test'}\n"
     ]
    }
   ],
   "source": [
    "from sklearn import linear_model\n",
    "svm = linear_model.SGDClassifier(alpha=4.02, loss='modified_huber', max_iter=10000)\n",
    "svm.fit(X_train, y_train)\n",
    "\n",
    "svm_performance_train = BinaryClassificationPerformance(svm.predict(X_train), y_train, 'svm_train')\n",
    "svm_performance_train.compute_measures()\n",
    "print(svm_performance_train.performance_measures)\n",
    "\n",
    "svm_performance_test = BinaryClassificationPerformance(svm.predict(X_test), y_test, 'svm_test')\n",
    "svm_performance_test.compute_measures()\n",
    "print(svm_performance_test.performance_measures)"
   ]
  },
  {
   "cell_type": "markdown",
   "metadata": {},
   "source": [
    "### MODEL: logistic regression"
   ]
  },
  {
   "cell_type": "code",
   "execution_count": 88,
   "metadata": {},
   "outputs": [
    {
     "name": "stdout",
     "output_type": "stream",
     "text": [
      "{'Pos': 9964, 'Neg': 10036, 'TP': 9964, 'TN': 10036, 'FP': 0, 'FN': 0, 'Accuracy': 1.0, 'Precision': 1.0, 'Recall': 1.0, 'desc': 'lgs_train'}\n"
     ]
    }
   ],
   "source": [
    "from sklearn import linear_model\n",
    "lgs = linear_model.SGDClassifier(loss='log')\n",
    "lgs.fit(X_train, y_train)\n",
    "\n",
    "lgs_performance_train = BinaryClassificationPerformance(lgs.predict(X_train), y_train, 'lgs_train')\n",
    "lgs_performance_train.compute_measures()\n",
    "print(lgs_performance_train.performance_measures)"
   ]
  },
  {
   "cell_type": "markdown",
   "metadata": {},
   "source": [
    "### MODEL: Naive Bayes"
   ]
  },
  {
   "cell_type": "code",
   "execution_count": 89,
   "metadata": {},
   "outputs": [
    {
     "name": "stdout",
     "output_type": "stream",
     "text": [
      "{'Pos': 9964, 'Neg': 10036, 'TP': 9549, 'TN': 9873, 'FP': 163, 'FN': 415, 'Accuracy': 0.9711, 'Precision': 0.9832166392092258, 'Recall': 0.9583500602167804, 'desc': 'nbs_train'}\n"
     ]
    }
   ],
   "source": [
    "from sklearn.naive_bayes import MultinomialNB\n",
    "nbs = MultinomialNB()\n",
    "nbs.fit(X_train, y_train)\n",
    "\n",
    "nbs_performance_train = BinaryClassificationPerformance(nbs.predict(X_train), y_train, 'nbs_train')\n",
    "nbs_performance_train.compute_measures()\n",
    "print(nbs_performance_train.performance_measures)"
   ]
  },
  {
   "cell_type": "markdown",
   "metadata": {},
   "source": [
    "### MODEL: Perceptron"
   ]
  },
  {
   "cell_type": "code",
   "execution_count": 90,
   "metadata": {},
   "outputs": [
    {
     "name": "stdout",
     "output_type": "stream",
     "text": [
      "{'Pos': 9964, 'Neg': 10036, 'TP': 9964, 'TN': 10036, 'FP': 0, 'FN': 0, 'Accuracy': 1.0, 'Precision': 1.0, 'Recall': 1.0, 'desc': 'prc_train'}\n"
     ]
    }
   ],
   "source": [
    "from sklearn import linear_model\n",
    "prc = linear_model.SGDClassifier(loss='perceptron')\n",
    "prc.fit(X_train, y_train)\n",
    "\n",
    "prc_performance_train = BinaryClassificationPerformance(prc.predict(X_train), y_train, 'prc_train')\n",
    "prc_performance_train.compute_measures()\n",
    "print(prc_performance_train.performance_measures)"
   ]
  },
  {
   "cell_type": "markdown",
   "metadata": {},
   "source": [
    "### MODEL: Ridge Regression Classifier"
   ]
  },
  {
   "cell_type": "code",
   "execution_count": 91,
   "metadata": {},
   "outputs": [
    {
     "name": "stdout",
     "output_type": "stream",
     "text": [
      "{'Pos': 9964, 'Neg': 10036, 'TP': 9964, 'TN': 10036, 'FP': 0, 'FN': 0, 'Accuracy': 1.0, 'Precision': 1.0, 'Recall': 1.0, 'desc': 'rdg_train'}\n"
     ]
    }
   ],
   "source": [
    "from sklearn import linear_model\n",
    "rdg = linear_model.RidgeClassifier()\n",
    "rdg.fit(X_train, y_train)\n",
    "\n",
    "rdg_performance_train = BinaryClassificationPerformance(rdg.predict(X_train), y_train, 'rdg_train')\n",
    "rdg_performance_train.compute_measures()\n",
    "print(rdg_performance_train.performance_measures)"
   ]
  },
  {
   "cell_type": "markdown",
   "metadata": {},
   "source": [
    "### MODEL: Random Forest Classifier"
   ]
  },
  {
   "cell_type": "code",
   "execution_count": 92,
   "metadata": {},
   "outputs": [
    {
     "name": "stdout",
     "output_type": "stream",
     "text": [
      "{'Pos': 9964, 'Neg': 10036, 'TP': 7398, 'TN': 8078, 'FP': 1958, 'FN': 2566, 'Accuracy': 0.7738, 'Precision': 0.7907225309961522, 'Recall': 0.7424729024488157, 'desc': 'rdf_train'}\n"
     ]
    }
   ],
   "source": [
    "from sklearn.ensemble import RandomForestClassifier\n",
    "rdf = RandomForestClassifier(max_depth=2, random_state=0)\n",
    "rdf.fit(X_train, y_train)\n",
    "\n",
    "rdf_performance_train = BinaryClassificationPerformance(rdf.predict(X_train), y_train, 'rdf_train')\n",
    "rdf_performance_train.compute_measures()\n",
    "print(rdf_performance_train.performance_measures)"
   ]
  },
  {
   "cell_type": "markdown",
   "metadata": {},
   "source": [
    "### ROC plot to compare performance of various models and fits"
   ]
  },
  {
   "cell_type": "code",
   "execution_count": 93,
   "metadata": {
    "scrolled": false
   },
   "outputs": [
    {
     "data": {
      "image/png": "[encoded data removed]",
      "text/plain": [
       "<Figure size 640x480 with 1 Axes>"
      ]
     },
     "metadata": {},
     "output_type": "display_data"
    }
   ],
   "source": [
    "fits = [ols_performance_train, svm_performance_train, lgs_performance_train, nbs_performance_train, prc_performance_train, rdg_performance_train, rdf_performance_train]\n",
    "\n",
    "for fit in fits:\n",
    "    plt.plot(fit.performance_measures['FP'] / fit.performance_measures['Neg'], \n",
    "             fit.performance_measures['TP'] / fit.performance_measures['Pos'], 'bo')\n",
    "    plt.text(fit.performance_measures['FP'] / fit.performance_measures['Neg'], \n",
    "             fit.performance_measures['TP'] / fit.performance_measures['Pos'], fit.desc)\n",
    "plt.axis([0, 1, 0, 1])\n",
    "plt.title('ROC plot: test set')\n",
    "plt.xlabel('False positive rate')\n",
    "plt.ylabel('True positive rate')\n",
    "plt.show()"
   ]
  },
  {
   "cell_type": "markdown",
   "metadata": {},
   "source": [
    "### looking at reviews based on their classification\n",
    "\n",
    "Let's say we decide that Ordinary Least Squares (OLS) Regression is the best model for generalization. Let's take a look at some of the reviews and try to make a (subjective) determination of whether it's generalizing well. "
   ]
  },
  {
   "cell_type": "code",
   "execution_count": 94,
   "metadata": {},
   "outputs": [],
   "source": [
    "ols_predictions = ols.predict(X_train)"
   ]
  },
  {
   "cell_type": "markdown",
   "metadata": {},
   "source": [
    "### let's look at some false positives:"
   ]
  },
  {
   "cell_type": "code",
   "execution_count": 95,
   "metadata": {},
   "outputs": [
    {
     "name": "stdout",
     "output_type": "stream",
     "text": [
      "Examples of false positives:\n"
     ]
    }
   ],
   "source": [
    "# false positives\n",
    "\n",
    "print(\"Examples of false positives:\")\n",
    "\n",
    "import random, time\n",
    "\n",
    "for i in range(0, len(ols_predictions)):\n",
    "    if (ols_predictions[i] == 1):\n",
    "        if (X_raw_train.iloc[i]['sentiment'] == 0):\n",
    "            if (random.uniform(0, 1) < 0.05): # to print only 5% of the false positives\n",
    "                print(i)\n",
    "                print(X_raw_train.iloc[i]['review'])\n",
    "                print('* * * * * * * * * ')\n"
   ]
  },
  {
   "cell_type": "markdown",
   "metadata": {},
   "source": [
    "---\n",
    "\n",
    "# <span style=\"color:red\">WARNING: Don't look at test set performance too much!</span>\n",
    "\n",
    "---\n",
    "\n",
    "The following cells show performance on your test set. Do not look at this too often! "
   ]
  },
  {
   "cell_type": "markdown",
   "metadata": {},
   "source": [
    "# Look at performance on the test set"
   ]
  },
  {
   "cell_type": "markdown",
   "metadata": {},
   "source": [
    "### MODEL: ordinary least squares"
   ]
  },
  {
   "cell_type": "code",
   "execution_count": 59,
   "metadata": {},
   "outputs": [
    {
     "name": "stdout",
     "output_type": "stream",
     "text": [
      "{'Pos': 2536, 'Neg': 2464, 'TP': 2122, 'TN': 2011, 'FP': 453, 'FN': 414, 'Accuracy': 0.8266, 'Precision': 0.8240776699029126, 'Recall': 0.8367507886435331, 'desc': 'ols_test'}\n"
     ]
    }
   ],
   "source": [
    "ols_performance_test = BinaryClassificationPerformance(ols.predict(X_test), y_test, 'ols_test')\n",
    "ols_performance_test.compute_measures()\n",
    "print(ols_performance_test.performance_measures)"
   ]
  },
  {
   "cell_type": "markdown",
   "metadata": {},
   "source": [
    "### MODEL: SVM, linear"
   ]
  },
  {
   "cell_type": "code",
   "execution_count": 60,
   "metadata": {},
   "outputs": [
    {
     "name": "stdout",
     "output_type": "stream",
     "text": [
      "{'Pos': 2536, 'Neg': 2464, 'TP': 2155, 'TN': 1688, 'FP': 776, 'FN': 381, 'Accuracy': 0.7686, 'Precision': 0.7352439440464006, 'Recall': 0.8497634069400631, 'desc': 'svm_test'}\n"
     ]
    }
   ],
   "source": [
    "svm_performance_test = BinaryClassificationPerformance(svm.predict(X_test), y_test, 'svm_test')\n",
    "svm_performance_test.compute_measures()\n",
    "print(svm_performance_test.performance_measures)"
   ]
  },
  {
   "cell_type": "markdown",
   "metadata": {},
   "source": [
    "### MODEL: logistic regression"
   ]
  },
  {
   "cell_type": "code",
   "execution_count": 61,
   "metadata": {},
   "outputs": [
    {
     "name": "stdout",
     "output_type": "stream",
     "text": [
      "{'Pos': 2536, 'Neg': 2464, 'TP': 2121, 'TN': 2042, 'FP': 422, 'FN': 415, 'Accuracy': 0.8326, 'Precision': 0.8340542666142352, 'Recall': 0.8363564668769716, 'desc': 'lgs_test'}\n"
     ]
    }
   ],
   "source": [
    "lgs_performance_test = BinaryClassificationPerformance(lgs.predict(X_test), y_test, 'lgs_test')\n",
    "lgs_performance_test.compute_measures()\n",
    "print(lgs_performance_test.performance_measures)"
   ]
  },
  {
   "cell_type": "markdown",
   "metadata": {},
   "source": [
    "### MODEL: Naive Bayes"
   ]
  },
  {
   "cell_type": "code",
   "execution_count": 62,
   "metadata": {},
   "outputs": [
    {
     "name": "stdout",
     "output_type": "stream",
     "text": [
      "{'Pos': 2536, 'Neg': 2464, 'TP': 1869, 'TN': 1863, 'FP': 601, 'FN': 667, 'Accuracy': 0.7464, 'Precision': 0.7566801619433199, 'Recall': 0.73698738170347, 'desc': 'nbs_test'}\n"
     ]
    }
   ],
   "source": [
    "nbs_performance_test = BinaryClassificationPerformance(nbs.predict(X_test), y_test, 'nbs_test')\n",
    "nbs_performance_test.compute_measures()\n",
    "print(nbs_performance_test.performance_measures)"
   ]
  },
  {
   "cell_type": "markdown",
   "metadata": {},
   "source": [
    "### MODEL: Perceptron"
   ]
  },
  {
   "cell_type": "code",
   "execution_count": 63,
   "metadata": {},
   "outputs": [
    {
     "name": "stdout",
     "output_type": "stream",
     "text": [
      "{'Pos': 2536, 'Neg': 2464, 'TP': 2080, 'TN': 2037, 'FP': 427, 'FN': 456, 'Accuracy': 0.8234, 'Precision': 0.8296769046669326, 'Recall': 0.8201892744479495, 'desc': 'prc_test'}\n"
     ]
    }
   ],
   "source": [
    "prc_performance_test = BinaryClassificationPerformance(prc.predict(X_test), y_test, 'prc_test')\n",
    "prc_performance_test.compute_measures()\n",
    "print(prc_performance_test.performance_measures)"
   ]
  },
  {
   "cell_type": "markdown",
   "metadata": {},
   "source": [
    "### MODEL: Ridge Regression Classifier"
   ]
  },
  {
   "cell_type": "code",
   "execution_count": 64,
   "metadata": {},
   "outputs": [
    {
     "name": "stdout",
     "output_type": "stream",
     "text": [
      "{'Pos': 2536, 'Neg': 2464, 'TP': 2098, 'TN': 1962, 'FP': 502, 'FN': 438, 'Accuracy': 0.812, 'Precision': 0.806923076923077, 'Recall': 0.8272870662460567, 'desc': 'rdg_test'}\n"
     ]
    }
   ],
   "source": [
    "rdg_performance_test = BinaryClassificationPerformance(rdg.predict(X_test), y_test, 'rdg_test')\n",
    "rdg_performance_test.compute_measures()\n",
    "print(rdg_performance_test.performance_measures)"
   ]
  },
  {
   "cell_type": "markdown",
   "metadata": {},
   "source": [
    "### MODEL: Random Forest Classifier"
   ]
  },
  {
   "cell_type": "code",
   "execution_count": 65,
   "metadata": {},
   "outputs": [
    {
     "name": "stdout",
     "output_type": "stream",
     "text": [
      "{'Pos': 2536, 'Neg': 2464, 'TP': 1832, 'TN': 1973, 'FP': 491, 'FN': 704, 'Accuracy': 0.761, 'Precision': 0.7886353852776582, 'Recall': 0.722397476340694, 'desc': 'rdf_test'}\n"
     ]
    }
   ],
   "source": [
    "rdf_performance_test = BinaryClassificationPerformance(rdf.predict(X_test), y_test, 'rdf_test')\n",
    "rdf_performance_test.compute_measures()\n",
    "print(rdf_performance_test.performance_measures)"
   ]
  },
  {
   "cell_type": "markdown",
   "metadata": {},
   "source": [
    "### ROC plot to compare performance of various models and fits"
   ]
  },
  {
   "cell_type": "code",
   "execution_count": 66,
   "metadata": {},
   "outputs": [
    {
     "data": {
      "image/png": "[encoded data removed]",
      "text/plain": [
       "<Figure size 640x480 with 1 Axes>"
      ]
     },
     "metadata": {},
     "output_type": "display_data"
    }
   ],
   "source": [
    "fits = [ols_performance_test, svm_performance_test, lgs_performance_test, nbs_performance_test, prc_performance_test, rdg_performance_test, rdf_performance_test]\n",
    "\n",
    "for fit in fits:\n",
    "    plt.plot(fit.performance_measures['FP'] / fit.performance_measures['Neg'], \n",
    "             fit.performance_measures['TP'] / fit.performance_measures['Pos'], 'bo')\n",
    "    plt.text(fit.performance_measures['FP'] / fit.performance_measures['Neg'], \n",
    "             fit.performance_measures['TP'] / fit.performance_measures['Pos'], fit.desc)\n",
    "plt.axis([0, 1, 0, 1])\n",
    "plt.title('ROC plot: test set')\n",
    "plt.xlabel('False positive rate')\n",
    "plt.ylabel('True positive rate')\n",
    "plt.show()"
   ]
  },
  {
   "cell_type": "markdown",
   "metadata": {},
   "source": [
    "---\n",
    "\n",
    "# <span style=\"color:red\">SUBMISSION</span>\n",
    "\n",
    "---"
   ]
  },
  {
   "cell_type": "code",
   "execution_count": 7,
   "metadata": {},
   "outputs": [
    {
     "name": "stdout",
     "output_type": "stream",
     "text": [
      "movie_data is: <class 'pandas.core.frame.DataFrame'>\n",
      "movie_data has 25000 rows and 2 columns \n",
      "\n",
      "the data types for each of the columns in movie_data:\n",
      "id        object\n",
      "review    object\n",
      "dtype: object \n",
      "\n",
      "the first 10 rows in movie_data:\n",
      "         id                                             review\n",
      "0  12311_10  Naturally in a film who's main themes are of m...\n",
      "1    8348_2  This movie is a disaster within a disaster fil...\n",
      "2    5828_4  All in all, this is a movie for kids. We saw i...\n",
      "3    7186_2  Afraid of the Dark left me with the impression...\n",
      "4   12128_7  A very accurate depiction of small time mob li...\n",
      "Shape of HashingVectorizer X:\n",
      "(25000, 131072)\n",
      "Look at a few rows of the new quantitative features: \n",
      "   word_count  punc_count  quest_count  all_caps\n",
      "0         131           5            0         0\n",
      "1         169          15            0         0\n",
      "2         176          18            0         0\n",
      "3         112           5            0         0\n",
      "4         133           8            0         0\n",
      "5         331          20            5         0\n",
      "6         121          18            0         0\n",
      "7         230          22            4         0\n",
      "8          59           3            0         0\n",
      "9         224          14            1         0\n",
      "Size of combined bag of words and new quantitative variables matrix:\n",
      "(25000, 131076)\n",
      "(25000, 131076)\n",
      "Shape of X_test for submission:\n",
      "(25000, 131076)\n",
      "SUCCESS!\n",
      "Number of rows in the submission test set (should be 25,000): \n"
     ]
    }
   ],
   "source": [
    "# read in test data for submission\n",
    "# CHANGE FILE PATH and my_random_seed number (any integer other than 74 will do): \n",
    "raw_data, X_test_submission = process_raw_data(fn='/Users/johanna/Documents/Parsons/ML/ml-master/moviereviews_test.tsv', my_random_seed=19, test=True)\n",
    "print(\"Number of rows in the submission test set (should be 25,000): \")"
   ]
  },
  {
   "cell_type": "markdown",
   "metadata": {},
   "source": [
    "---\n",
    "\n",
    "Choose a <span style=\"color:red\">*single*</span> model for your submission. In this code, I am choosing the Ordinary Least Squares model fit, which is in the `ols` object. But you should choose the model that is performing the best for you! "
   ]
  },
  {
   "cell_type": "code",
   "execution_count": 9,
   "metadata": {},
   "outputs": [
    {
     "name": "stdout",
     "output_type": "stream",
     "text": [
      "0.47468\n"
     ]
    }
   ],
   "source": [
    "# store the id from the raw data\n",
    "my_submission = pd.DataFrame(raw_data[\"id\"])\n",
    "\n",
    "# concatenate predictions to the id\n",
    "my_submission[\"prediction\"] = svm.predict(X_test_submission)\n",
    "\n",
    "# look at the proportion of positive predictions\n",
    "print(my_submission['prediction'].mean())"
   ]
  },
  {
   "cell_type": "code",
   "execution_count": 10,
   "metadata": {},
   "outputs": [
    {
     "data": {
      "text/html": [
       "<div>\n",
       "<style scoped>\n",
       "    .dataframe tbody tr th:only-of-type {\n",
       "        vertical-align: middle;\n",
       "    }\n",
       "\n",
       "    .dataframe tbody tr th {\n",
       "        vertical-align: top;\n",
       "    }\n",
       "\n",
       "    .dataframe thead th {\n",
       "        text-align: right;\n",
       "    }\n",
       "</style>\n",
       "<table border=\"1\" class=\"dataframe\">\n",
       "  <thead>\n",
       "    <tr style=\"text-align: right;\">\n",
       "      <th></th>\n",
       "      <th>id</th>\n",
       "      <th>review</th>\n",
       "      <th>word_count</th>\n",
       "      <th>punc_count</th>\n",
       "      <th>quest_count</th>\n",
       "      <th>all_caps</th>\n",
       "    </tr>\n",
       "  </thead>\n",
       "  <tbody>\n",
       "    <tr>\n",
       "      <th>0</th>\n",
       "      <td>12311_10</td>\n",
       "      <td>Naturally in a film who's main themes are of m...</td>\n",
       "      <td>131</td>\n",
       "      <td>5</td>\n",
       "      <td>0</td>\n",
       "      <td>0</td>\n",
       "    </tr>\n",
       "    <tr>\n",
       "      <th>1</th>\n",
       "      <td>8348_2</td>\n",
       "      <td>This movie is a disaster within a disaster fil...</td>\n",
       "      <td>169</td>\n",
       "      <td>15</td>\n",
       "      <td>0</td>\n",
       "      <td>0</td>\n",
       "    </tr>\n",
       "    <tr>\n",
       "      <th>2</th>\n",
       "      <td>5828_4</td>\n",
       "      <td>All in all, this is a movie for kids. We saw i...</td>\n",
       "      <td>176</td>\n",
       "      <td>18</td>\n",
       "      <td>0</td>\n",
       "      <td>0</td>\n",
       "    </tr>\n",
       "    <tr>\n",
       "      <th>3</th>\n",
       "      <td>7186_2</td>\n",
       "      <td>Afraid of the Dark left me with the impression...</td>\n",
       "      <td>112</td>\n",
       "      <td>5</td>\n",
       "      <td>0</td>\n",
       "      <td>0</td>\n",
       "    </tr>\n",
       "    <tr>\n",
       "      <th>4</th>\n",
       "      <td>12128_7</td>\n",
       "      <td>A very accurate depiction of small time mob li...</td>\n",
       "      <td>133</td>\n",
       "      <td>8</td>\n",
       "      <td>0</td>\n",
       "      <td>0</td>\n",
       "    </tr>\n",
       "  </tbody>\n",
       "</table>\n",
       "</div>"
      ],
      "text/plain": [
       "         id                                             review  word_count  \\\n",
       "0  12311_10  Naturally in a film who's main themes are of m...         131   \n",
       "1    8348_2  This movie is a disaster within a disaster fil...         169   \n",
       "2    5828_4  All in all, this is a movie for kids. We saw i...         176   \n",
       "3    7186_2  Afraid of the Dark left me with the impression...         112   \n",
       "4   12128_7  A very accurate depiction of small time mob li...         133   \n",
       "\n",
       "   punc_count  quest_count  all_caps  \n",
       "0           5            0         0  \n",
       "1          15            0         0  \n",
       "2          18            0         0  \n",
       "3           5            0         0  \n",
       "4           8            0         0  "
      ]
     },
     "execution_count": 10,
     "metadata": {},
     "output_type": "execute_result"
    }
   ],
   "source": [
    "raw_data.head()"
   ]
  },
  {
   "cell_type": "code",
   "execution_count": 11,
   "metadata": {},
   "outputs": [
    {
     "data": {
      "text/html": [
       "<div>\n",
       "<style scoped>\n",
       "    .dataframe tbody tr th:only-of-type {\n",
       "        vertical-align: middle;\n",
       "    }\n",
       "\n",
       "    .dataframe tbody tr th {\n",
       "        vertical-align: top;\n",
       "    }\n",
       "\n",
       "    .dataframe thead th {\n",
       "        text-align: right;\n",
       "    }\n",
       "</style>\n",
       "<table border=\"1\" class=\"dataframe\">\n",
       "  <thead>\n",
       "    <tr style=\"text-align: right;\">\n",
       "      <th></th>\n",
       "      <th>id</th>\n",
       "      <th>prediction</th>\n",
       "    </tr>\n",
       "  </thead>\n",
       "  <tbody>\n",
       "    <tr>\n",
       "      <th>0</th>\n",
       "      <td>12311_10</td>\n",
       "      <td>1</td>\n",
       "    </tr>\n",
       "    <tr>\n",
       "      <th>1</th>\n",
       "      <td>8348_2</td>\n",
       "      <td>0</td>\n",
       "    </tr>\n",
       "    <tr>\n",
       "      <th>2</th>\n",
       "      <td>5828_4</td>\n",
       "      <td>0</td>\n",
       "    </tr>\n",
       "    <tr>\n",
       "      <th>3</th>\n",
       "      <td>7186_2</td>\n",
       "      <td>0</td>\n",
       "    </tr>\n",
       "    <tr>\n",
       "      <th>4</th>\n",
       "      <td>12128_7</td>\n",
       "      <td>1</td>\n",
       "    </tr>\n",
       "  </tbody>\n",
       "</table>\n",
       "</div>"
      ],
      "text/plain": [
       "         id  prediction\n",
       "0  12311_10           1\n",
       "1    8348_2           0\n",
       "2    5828_4           0\n",
       "3    7186_2           0\n",
       "4   12128_7           1"
      ]
     },
     "execution_count": 11,
     "metadata": {},
     "output_type": "execute_result"
    }
   ],
   "source": [
    "my_submission.head()"
   ]
  },
  {
   "cell_type": "code",
   "execution_count": 12,
   "metadata": {},
   "outputs": [
    {
     "data": {
      "text/plain": [
       "(25000, 2)"
      ]
     },
     "execution_count": 12,
     "metadata": {},
     "output_type": "execute_result"
    }
   ],
   "source": [
    "my_submission.shape"
   ]
  },
  {
   "cell_type": "code",
   "execution_count": 13,
   "metadata": {},
   "outputs": [],
   "source": [
    "# export submission file as pdf\n",
    "# CHANGE FILE PATH: \n",
    "my_submission.to_csv('/Users/johanna/Documents/Parsons/ML/ml-master/submission_2.csv', index=False)"
   ]
  },
  {
   "cell_type": "markdown",
   "metadata": {},
   "source": [
    "# Submit to Canvas: 1) the CSV file that was written in the previous cell and 2) the url to the repository (GitHub or other) that contains your code and documentation"
   ]
  }
 ],
 "metadata": {
  "kernelspec": {
   "display_name": "Python 3 (ipykernel)",
   "language": "python",
   "name": "python3"
  },
  "language_info": {
   "codemirror_mode": {
    "name": "ipython",
    "version": 3
   },
   "file_extension": ".py",
   "mimetype": "text/x-python",
   "name": "python",
   "nbconvert_exporter": "python",
   "pygments_lexer": "ipython3",
   "version": "3.9.13"
  }
 },
 "nbformat": 4,
 "nbformat_minor": 2
}
